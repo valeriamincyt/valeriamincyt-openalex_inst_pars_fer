{
  "cells": [
    {
      "cell_type": "markdown",
      "metadata": {
        "id": "view-in-github",
        "colab_type": "text"
      },
      "source": [
        "<a href=\"https://colab.research.google.com/github/valeriamincyt/valeriamincyt-openalex_inst_pars_fer/blob/main/001_Institutions_Exploration.ipynb\" target=\"_parent\"><img src=\"https://colab.research.google.com/assets/colab-badge.svg\" alt=\"Open In Colab\"/></a>"
      ]
    },
    {
      "cell_type": "code",
      "execution_count": null,
      "id": "efc67f40",
      "metadata": {
        "colab": {
          "base_uri": "https://localhost:8080/"
        },
        "id": "efc67f40",
        "outputId": "287f1ca2-2a0b-4ca7-de4d-03c85f455105"
      },
      "outputs": [
        {
          "output_type": "stream",
          "name": "stdout",
          "text": [
            "Collecting redshift_connector\n",
            "  Downloading redshift_connector-2.1.4-py3-none-any.whl.metadata (69 kB)\n",
            "\u001b[?25l     \u001b[90m━━━━━━━━━━━━━━━━━━━━━━━━━━━━━━━━━━━━━━━━\u001b[0m \u001b[32m0.0/69.7 kB\u001b[0m \u001b[31m?\u001b[0m eta \u001b[36m-:--:--\u001b[0m\r\u001b[2K     \u001b[90m━━━━━━━━━━━━━━━━━━━━━━━━━━━━━━━━━━━━━━━━\u001b[0m \u001b[32m69.7/69.7 kB\u001b[0m \u001b[31m2.8 MB/s\u001b[0m eta \u001b[36m0:00:00\u001b[0m\n",
            "\u001b[?25hCollecting scramp<1.5.0,>=1.2.0 (from redshift_connector)\n",
            "  Downloading scramp-1.4.5-py3-none-any.whl.metadata (19 kB)\n",
            "Requirement already satisfied: pytz>=2020.1 in /usr/local/lib/python3.10/dist-packages (from redshift_connector) (2024.2)\n",
            "Requirement already satisfied: beautifulsoup4<5.0.0,>=4.7.0 in /usr/local/lib/python3.10/dist-packages (from redshift_connector) (4.12.3)\n",
            "Collecting boto3<2.0.0,>=1.9.201 (from redshift_connector)\n",
            "  Downloading boto3-1.35.76-py3-none-any.whl.metadata (6.7 kB)\n",
            "Requirement already satisfied: requests<3.0.0,>=2.23.0 in /usr/local/lib/python3.10/dist-packages (from redshift_connector) (2.32.3)\n",
            "Requirement already satisfied: lxml>=4.6.5 in /usr/local/lib/python3.10/dist-packages (from redshift_connector) (5.3.0)\n",
            "Collecting botocore<2.0.0,>=1.12.201 (from redshift_connector)\n",
            "  Downloading botocore-1.35.76-py3-none-any.whl.metadata (5.7 kB)\n",
            "Requirement already satisfied: packaging in /usr/local/lib/python3.10/dist-packages (from redshift_connector) (24.2)\n",
            "Requirement already satisfied: setuptools in /usr/local/lib/python3.10/dist-packages (from redshift_connector) (75.1.0)\n",
            "Requirement already satisfied: soupsieve>1.2 in /usr/local/lib/python3.10/dist-packages (from beautifulsoup4<5.0.0,>=4.7.0->redshift_connector) (2.6)\n",
            "Collecting jmespath<2.0.0,>=0.7.1 (from boto3<2.0.0,>=1.9.201->redshift_connector)\n",
            "  Downloading jmespath-1.0.1-py3-none-any.whl.metadata (7.6 kB)\n",
            "Collecting s3transfer<0.11.0,>=0.10.0 (from boto3<2.0.0,>=1.9.201->redshift_connector)\n",
            "  Downloading s3transfer-0.10.4-py3-none-any.whl.metadata (1.7 kB)\n",
            "Requirement already satisfied: python-dateutil<3.0.0,>=2.1 in /usr/local/lib/python3.10/dist-packages (from botocore<2.0.0,>=1.12.201->redshift_connector) (2.8.2)\n",
            "Requirement already satisfied: urllib3!=2.2.0,<3,>=1.25.4 in /usr/local/lib/python3.10/dist-packages (from botocore<2.0.0,>=1.12.201->redshift_connector) (2.2.3)\n",
            "Requirement already satisfied: charset-normalizer<4,>=2 in /usr/local/lib/python3.10/dist-packages (from requests<3.0.0,>=2.23.0->redshift_connector) (3.4.0)\n",
            "Requirement already satisfied: idna<4,>=2.5 in /usr/local/lib/python3.10/dist-packages (from requests<3.0.0,>=2.23.0->redshift_connector) (3.10)\n",
            "Requirement already satisfied: certifi>=2017.4.17 in /usr/local/lib/python3.10/dist-packages (from requests<3.0.0,>=2.23.0->redshift_connector) (2024.8.30)\n",
            "Collecting asn1crypto>=1.5.1 (from scramp<1.5.0,>=1.2.0->redshift_connector)\n",
            "  Downloading asn1crypto-1.5.1-py2.py3-none-any.whl.metadata (13 kB)\n",
            "Requirement already satisfied: six>=1.5 in /usr/local/lib/python3.10/dist-packages (from python-dateutil<3.0.0,>=2.1->botocore<2.0.0,>=1.12.201->redshift_connector) (1.16.0)\n",
            "Downloading redshift_connector-2.1.4-py3-none-any.whl (137 kB)\n",
            "\u001b[2K   \u001b[90m━━━━━━━━━━━━━━━━━━━━━━━━━━━━━━━━━━━━━━━━\u001b[0m \u001b[32m138.0/138.0 kB\u001b[0m \u001b[31m9.5 MB/s\u001b[0m eta \u001b[36m0:00:00\u001b[0m\n",
            "\u001b[?25hDownloading boto3-1.35.76-py3-none-any.whl (139 kB)\n",
            "\u001b[2K   \u001b[90m━━━━━━━━━━━━━━━━━━━━━━━━━━━━━━━━━━━━━━━━\u001b[0m \u001b[32m139.2/139.2 kB\u001b[0m \u001b[31m11.4 MB/s\u001b[0m eta \u001b[36m0:00:00\u001b[0m\n",
            "\u001b[?25hDownloading botocore-1.35.76-py3-none-any.whl (13.2 MB)\n",
            "\u001b[2K   \u001b[90m━━━━━━━━━━━━━━━━━━━━━━━━━━━━━━━━━━━━━━━━\u001b[0m \u001b[32m13.2/13.2 MB\u001b[0m \u001b[31m57.8 MB/s\u001b[0m eta \u001b[36m0:00:00\u001b[0m\n",
            "\u001b[?25hDownloading scramp-1.4.5-py3-none-any.whl (12 kB)\n",
            "Downloading asn1crypto-1.5.1-py2.py3-none-any.whl (105 kB)\n",
            "\u001b[2K   \u001b[90m━━━━━━━━━━━━━━━━━━━━━━━━━━━━━━━━━━━━━━━━\u001b[0m \u001b[32m105.0/105.0 kB\u001b[0m \u001b[31m8.6 MB/s\u001b[0m eta \u001b[36m0:00:00\u001b[0m\n",
            "\u001b[?25hDownloading jmespath-1.0.1-py3-none-any.whl (20 kB)\n",
            "Downloading s3transfer-0.10.4-py3-none-any.whl (83 kB)\n",
            "\u001b[2K   \u001b[90m━━━━━━━━━━━━━━━━━━━━━━━━━━━━━━━━━━━━━━━━\u001b[0m \u001b[32m83.2/83.2 kB\u001b[0m \u001b[31m6.7 MB/s\u001b[0m eta \u001b[36m0:00:00\u001b[0m\n",
            "\u001b[?25hInstalling collected packages: asn1crypto, scramp, jmespath, botocore, s3transfer, boto3, redshift_connector\n",
            "Successfully installed asn1crypto-1.5.1 boto3-1.35.76 botocore-1.35.76 jmespath-1.0.1 redshift_connector-2.1.4 s3transfer-0.10.4 scramp-1.4.5\n",
            "Collecting unidecode\n",
            "  Downloading Unidecode-1.3.8-py3-none-any.whl.metadata (13 kB)\n",
            "Downloading Unidecode-1.3.8-py3-none-any.whl (235 kB)\n",
            "\u001b[2K   \u001b[90m━━━━━━━━━━━━━━━━━━━━━━━━━━━━━━━━━━━━━━━━\u001b[0m \u001b[32m235.5/235.5 kB\u001b[0m \u001b[31m7.4 MB/s\u001b[0m eta \u001b[36m0:00:00\u001b[0m\n",
            "\u001b[?25hInstalling collected packages: unidecode\n",
            "Successfully installed unidecode-1.3.8\n",
            "Collecting langdetect\n",
            "  Downloading langdetect-1.0.9.tar.gz (981 kB)\n",
            "\u001b[2K     \u001b[90m━━━━━━━━━━━━━━━━━━━━━━━━━━━━━━━━━━━━━━━━\u001b[0m \u001b[32m981.5/981.5 kB\u001b[0m \u001b[31m17.2 MB/s\u001b[0m eta \u001b[36m0:00:00\u001b[0m\n",
            "\u001b[?25h  Preparing metadata (setup.py) ... \u001b[?25l\u001b[?25hdone\n",
            "Requirement already satisfied: six in /usr/local/lib/python3.10/dist-packages (from langdetect) (1.16.0)\n",
            "Building wheels for collected packages: langdetect\n",
            "  Building wheel for langdetect (setup.py) ... \u001b[?25l\u001b[?25hdone\n",
            "  Created wheel for langdetect: filename=langdetect-1.0.9-py3-none-any.whl size=993222 sha256=0a20f9a05ed16d09b1f2eed1c7135ae39db7fd622e3d33eda49e678c7e977dc0\n",
            "  Stored in directory: /root/.cache/pip/wheels/95/03/7d/59ea870c70ce4e5a370638b5462a7711ab78fba2f655d05106\n",
            "Successfully built langdetect\n",
            "Installing collected packages: langdetect\n",
            "Successfully installed langdetect-1.0.9\n",
            "Collecting pyalex\n",
            "  Downloading pyalex-0.15.1-py3-none-any.whl.metadata (13 kB)\n",
            "Requirement already satisfied: requests in /usr/local/lib/python3.10/dist-packages (from pyalex) (2.32.3)\n",
            "Requirement already satisfied: urllib3 in /usr/local/lib/python3.10/dist-packages (from pyalex) (2.2.3)\n",
            "Requirement already satisfied: charset-normalizer<4,>=2 in /usr/local/lib/python3.10/dist-packages (from requests->pyalex) (3.4.0)\n",
            "Requirement already satisfied: idna<4,>=2.5 in /usr/local/lib/python3.10/dist-packages (from requests->pyalex) (3.10)\n",
            "Requirement already satisfied: certifi>=2017.4.17 in /usr/local/lib/python3.10/dist-packages (from requests->pyalex) (2024.8.30)\n",
            "Downloading pyalex-0.15.1-py3-none-any.whl (11 kB)\n",
            "Installing collected packages: pyalex\n",
            "Successfully installed pyalex-0.15.1\n",
            "Collecting colab-convert\n",
            "  Downloading colab-convert-2.0.5.tar.gz (18 kB)\n",
            "  Preparing metadata (setup.py) ... \u001b[?25l\u001b[?25hdone\n",
            "Collecting json5 (from colab-convert)\n",
            "  Downloading json5-0.10.0-py3-none-any.whl.metadata (34 kB)\n",
            "Downloading json5-0.10.0-py3-none-any.whl (34 kB)\n",
            "Building wheels for collected packages: colab-convert\n",
            "  Building wheel for colab-convert (setup.py) ... \u001b[?25l\u001b[?25hdone\n",
            "  Created wheel for colab-convert: filename=colab_convert-2.0.5-py3-none-any.whl size=19207 sha256=2b67ecb7278c7e2ae00cd4e0d557d2086b8ab7222311c14214a28e2a609fea67\n",
            "  Stored in directory: /root/.cache/pip/wheels/a7/9f/0a/70f4be5eeba4a3fca9d7bcf68d5a4e97edb9f22be449cc1e8c\n",
            "Successfully built colab-convert\n",
            "Installing collected packages: json5, colab-convert\n",
            "Successfully installed colab-convert-2.0.5 json5-0.10.0\n"
          ]
        }
      ],
      "source": [
        "import pickle\n",
        "import json\n",
        "!pip install redshift_connector\n",
        "import redshift_connector\n",
        "import pandas as pd\n",
        "pd.set_option(\"display.max_colwidth\", None)\n",
        "pd.set_option(\"display.max_columns\", None)\n",
        "pd.set_option(\"display.max_rows\", 200)\n",
        "import numpy as np\n",
        "!pip install unidecode\n",
        "import unidecode\n",
        "import re\n",
        "import os\n",
        "\n",
        "from collections import Counter\n",
        "from math import ceil\n",
        "!pip install langdetect\n",
        "from langdetect import detect\n",
        "from random import sample\n",
        "import json,urllib.request\n",
        "\n",
        "!pip install pyalex\n",
        "import pyalex\n",
        "from pyalex import Works, Authors, Sources, Institutions, Topics, Publishers, Funders\n",
        "from pyalex import config\n",
        "\n",
        "from google.colab import drive ##sacar en script\n",
        "\n",
        "!pip install colab-convert\n",
        "\n"
      ]
    },
    {
      "cell_type": "code",
      "source": [
        "drive.mount('/content/drive') ## sacar en script"
      ],
      "metadata": {
        "colab": {
          "base_uri": "https://localhost:8080/"
        },
        "id": "5Mv4YG9y1FEA",
        "outputId": "9d54c670-3cab-4612-8d01-0e4013b089dd"
      },
      "id": "5Mv4YG9y1FEA",
      "execution_count": null,
      "outputs": [
        {
          "output_type": "stream",
          "name": "stdout",
          "text": [
            "Mounted at /content/drive\n"
          ]
        }
      ]
    },
    {
      "cell_type": "markdown",
      "source": [
        "**Cambiar path para correr desde otro lado**"
      ],
      "metadata": {
        "id": "3gjVHsMnp3BK"
      },
      "id": "3gjVHsMnp3BK"
    },
    {
      "cell_type": "code",
      "source": [
        "base_path = '/content/drive/MyDrive/openalex-institution-parsing/'"
      ],
      "metadata": {
        "id": "D2ICzsn7UR6V"
      },
      "id": "D2ICzsn7UR6V",
      "execution_count": null,
      "outputs": []
    },
    {
      "cell_type": "markdown",
      "id": "5502b0dd",
      "metadata": {
        "id": "5502b0dd"
      },
      "source": [
        "## Exploring the ROR Data to Create Artificial Training Data"
      ]
    },
    {
      "cell_type": "code",
      "execution_count": null,
      "id": "df229664",
      "metadata": {
        "id": "df229664"
      },
      "outputs": [],
      "source": [
        "# Data was downloaded from the ROR website for the date seen in the file string below\n",
        "# https://ror.readme.io/docs/data-dump\n",
        "ror=pd.read_json(f'{base_path}Crudos/v1.53-2024-10-14-ror-data.json')"
      ]
    },
    {
      "cell_type": "code",
      "execution_count": null,
      "id": "c9a524c5",
      "metadata": {
        "id": "c9a524c5"
      },
      "outputs": [],
      "source": [
        "ror['alias_len'] = ror['aliases'].apply(len)\n",
        "ror['acronyms_len'] = ror['acronyms'].apply(len)\n",
        "ror['labels_len'] = ror['labels'].apply(len)\n",
        "ror['address_len'] = ror['addresses'].apply(len)\n",
        "ror['address'] = ror['addresses'].apply(lambda x: x[0])\n",
        "ror['ror_id'] = ror['id'].apply(lambda x: x.split(\"/\")[-1])\n",
        "#ror['types'] = ror['types'].apply(lambda x: x[0])\n",
        "ror['types'] = ror['types'].apply(lambda x: x[0] if len(x)>0 else \"\")\n"
      ]
    },
    {
      "cell_type": "code",
      "execution_count": null,
      "id": "6ee9e0fe",
      "metadata": {
        "colab": {
          "base_uri": "https://localhost:8080/"
        },
        "id": "6ee9e0fe",
        "outputId": "90d6c814-2d37-45a1-c499-d0f4a16cfebb"
      },
      "outputs": [
        {
          "output_type": "stream",
          "name": "stdout",
          "text": [
            "                              id                  name    types links aliases  \\\n",
            "21200  https://ror.org/05kxf7578  Sphinx (Netherlands)  Company    []      []   \n",
            "\n",
            "      acronyms  status wikipedia_url labels email_address ip_addresses  \\\n",
            "21200       []  active                   []          None           []   \n",
            "\n",
            "       established                                                country  \\\n",
            "21200       1834.0  {'country_code': 'NL', 'country_name': 'Netherlands'}   \n",
            "\n",
            "      relationships  \\\n",
            "21200            []   \n",
            "\n",
            "                                                                                                                                                                                                                                                                                                                                                                                                                                                                                                                                                                                                                                                                                                                                                                                            addresses  \\\n",
            "21200  [{'line': None, 'lat': 50.856093, 'lng': 5.689349, 'postcode': None, 'primary': False, 'city': 'Maastricht', 'state': None, 'state_code': None, 'country_geonames_id': 2750405, 'geonames_city': {'id': 2751283, 'city': 'Maastricht', 'nuts_level1': {'code': 'NL4', 'name': 'ZUID-NEDERLAND'}, 'nuts_level2': {'code': 'NL42', 'name': 'Limburg (NL)'}, 'nuts_level3': {'code': 'NL423', 'name': 'Zuid-Limburg'}, 'geonames_admin1': {'id': 2751596, 'name': 'Limburg', 'ascii_name': 'Limburg', 'code': 'NL.05'}, 'geonames_admin2': {'id': 2751282, 'name': 'Gemeente Maastricht', 'ascii_name': 'Gemeente Maastricht', 'code': 'NL.05.0935'}, 'license': {'attribution': 'Data from geonames.org under a CC-BY 3.0 license', 'license': 'http://creativecommons.org/licenses/by/3.0/'}}}]   \n",
            "\n",
            "                                                                                                                 external_ids  \\\n",
            "21200  {'Wikidata': {'preferred': None, 'all': ['Q2738000']}, 'GRID': {'preferred': 'grid.435837.e', 'all': 'grid.435837.e'}}   \n",
            "\n",
            "       alias_len  acronyms_len  labels_len  address_len  \\\n",
            "21200          0             0           0            1   \n",
            "\n",
            "                                                                                                                                                                                                                                                                                                                                                                                                                                                                                                                                                                                                                                                                                                                                                                                            address  \\\n",
            "21200  {'line': None, 'lat': 50.856093, 'lng': 5.689349, 'postcode': None, 'primary': False, 'city': 'Maastricht', 'state': None, 'state_code': None, 'country_geonames_id': 2750405, 'geonames_city': {'id': 2751283, 'city': 'Maastricht', 'nuts_level1': {'code': 'NL4', 'name': 'ZUID-NEDERLAND'}, 'nuts_level2': {'code': 'NL42', 'name': 'Limburg (NL)'}, 'nuts_level3': {'code': 'NL423', 'name': 'Zuid-Limburg'}, 'geonames_admin1': {'id': 2751596, 'name': 'Limburg', 'ascii_name': 'Limburg', 'code': 'NL.05'}, 'geonames_admin2': {'id': 2751282, 'name': 'Gemeente Maastricht', 'ascii_name': 'Gemeente Maastricht', 'code': 'NL.05.0935'}, 'license': {'attribution': 'Data from geonames.org under a CC-BY 3.0 license', 'license': 'http://creativecommons.org/licenses/by/3.0/'}}}   \n",
            "\n",
            "          ror_id  \n",
            "21200  05kxf7578  \n"
          ]
        }
      ],
      "source": [
        "print(ror[ror['ror_id']=='05kxf7578'])"
      ]
    },
    {
      "cell_type": "code",
      "execution_count": null,
      "id": "651ff1b1",
      "metadata": {
        "id": "651ff1b1"
      },
      "outputs": [],
      "source": [
        "# this file is not provided but the needed data is all institutions in OpenAlex\n",
        "# with the following columns: 'ror_id','affiliation_id'\n",
        "#insts = pd.read_parquet(\"OA_static_institutions_single_file.parquet\",\n",
        " #                       columns=['affiliation_id','ror_id'])\n",
        "\n",
        "\n"
      ]
    },
    {
      "cell_type": "code",
      "source": [
        "###Alternativa: utilizando librería pyAlex\n",
        "config.max_retries = 0\n",
        "config.retry_backoff_factor = 0.1\n",
        "config.retry_http_codes = [429, 500, 503]\n",
        "\n",
        "pager = Institutions().filter(country_code=\"AR\").paginate(method=\"page\",per_page=200)\n",
        "\n",
        "listaDeInstituciones = list()\n",
        "for page in pager:\n",
        "    print(len(page))\n",
        "    listaDeInstituciones += page\n",
        "\n",
        "print(len(listaDeInstituciones))\n",
        "\n",
        "insts=pd.DataFrame(listaDeInstituciones)\n",
        "insts.head(n=2)\n",
        "insts['affiliation_id'] = insts['id'].apply(lambda x: x.split(\"/\")[-1])\n",
        "insts['affiliation_id']=insts['affiliation_id'].apply(lambda x: x.split(\"I\")[-1])\n",
        "insts['ror_id'] = insts['ror'].apply(lambda x: x.split(\"/\")[-1])\n",
        "insts=insts[['ror_id','affiliation_id']]\n",
        "print(insts.shape)\n",
        "\n"
      ],
      "metadata": {
        "colab": {
          "base_uri": "https://localhost:8080/"
        },
        "id": "9gkkgs9fTbBS",
        "outputId": "132ba994-ea73-4a1b-cd1c-4d716eeb9861"
      },
      "id": "9gkkgs9fTbBS",
      "execution_count": null,
      "outputs": [
        {
          "output_type": "stream",
          "name": "stdout",
          "text": [
            "200\n",
            "131\n",
            "0\n",
            "331\n",
            "(331, 2)\n"
          ]
        }
      ]
    },
    {
      "cell_type": "code",
      "execution_count": null,
      "id": "2620c598",
      "metadata": {
        "colab": {
          "base_uri": "https://localhost:8080/"
        },
        "id": "2620c598",
        "outputId": "168cf799-e19e-4847-b396-bb58f2a3cc80"
      },
      "outputs": [
        {
          "output_type": "stream",
          "name": "stdout",
          "text": [
            "        ror_id affiliation_id\n",
            "330  02dd4nc12     4210158246\n"
          ]
        }
      ],
      "source": [
        "print(insts.sample())"
      ]
    },
    {
      "cell_type": "code",
      "execution_count": null,
      "id": "e34ffe83",
      "metadata": {
        "id": "e34ffe83"
      },
      "outputs": [],
      "source": [
        "ror_to_join = ror[['ror_id','name','aliases','acronyms','labels','country','types',\n",
        "                   'address','alias_len','acronyms_len','labels_len','address_len']].copy()"
      ]
    },
    {
      "cell_type": "code",
      "execution_count": null,
      "id": "1cb918a9",
      "metadata": {
        "id": "1cb918a9"
      },
      "outputs": [],
      "source": [
        "def get_geoname_admin(address_dict):\n",
        "    try:\n",
        "        geoname_admin = address_dict['geonames_city']['geonames_admin1']['name']\n",
        "    except:\n",
        "        geoname_admin = \"None\"\n",
        "\n",
        "    return geoname_admin"
      ]
    },
    {
      "cell_type": "code",
      "execution_count": null,
      "id": "9b6e7555",
      "metadata": {
        "id": "9b6e7555"
      },
      "outputs": [],
      "source": [
        "ror_to_join['country_code'] = ror_to_join['country'].apply(lambda x: x['country_code'])\n",
        "ror_to_join['country_name'] = ror_to_join['country'].apply(lambda x: x['country_name'])\n",
        "ror_to_join['city'] = ror_to_join['address'].apply(lambda x: x['city'])\n",
        "ror_to_join['state'] = ror_to_join['address'].apply(lambda x: x['state'])\n",
        "ror_to_join['region'] = ror_to_join['address'].apply(get_geoname_admin)\n",
        "ror_to_join['institution'] = ror_to_join['name']"
      ]
    },
    {
      "cell_type": "code",
      "execution_count": null,
      "id": "9c84e085",
      "metadata": {
        "id": "9c84e085"
      },
      "outputs": [],
      "source": [
        "codes_to_ignore = ['ja','fa','hi','ko','bn','zh','ml','ru','el','kn','gu','mk','ne','te','hy',\n",
        "                   'km','ti','kk','th','my','uk','pa','bg','ur','vi','ar','sr','he','ta','ka',\n",
        "                   'am','mr','lo','mn','be','or','ba','si','ky','uz']"
      ]
    },
    {
      "cell_type": "code",
      "execution_count": null,
      "id": "530c77b3",
      "metadata": {
        "id": "530c77b3"
      },
      "outputs": [],
      "source": [
        "labels = ror_to_join['labels'].explode().dropna().reset_index()\n",
        "labels['label'] = labels['labels'].apply(lambda x: x['label'])\n",
        "labels['iso639'] = labels['labels'].apply(lambda x: x['iso639'])"
      ]
    },
    {
      "cell_type": "code",
      "execution_count": null,
      "id": "47bbf00e",
      "metadata": {
        "colab": {
          "base_uri": "https://localhost:8080/"
        },
        "id": "47bbf00e",
        "outputId": "5439211f-1f41-464a-895f-be8eaaac29ac"
      },
      "outputs": [
        {
          "output_type": "stream",
          "name": "stdout",
          "text": [
            "        index  \\\n",
            "18558   82241   \n",
            "8685    38475   \n",
            "4007    20447   \n",
            "5560    27446   \n",
            "8347    34596   \n",
            "30020  109660   \n",
            "13573   61965   \n",
            "6143    28288   \n",
            "21095   88490   \n",
            "21462   89214   \n",
            "10604   47076   \n",
            "27336  103922   \n",
            "13299   60342   \n",
            "9306    42919   \n",
            "18624   82554   \n",
            "27693  104646   \n",
            "22428   91196   \n",
            "10244   45781   \n",
            "8515    35517   \n",
            "8681    38409   \n",
            "\n",
            "                                                                                                           labels  \\\n",
            "18558                                            {'label': 'Ulusal Akademik Ağ ve Bilgi Merkezi', 'iso639': 'tr'}   \n",
            "8685                                                                   {'label': 'Shell i Norge', 'iso639': 'no'}   \n",
            "4007                                                {'label': 'Hochschule für Technik Stuttgart', 'iso639': 'de'}   \n",
            "5560                                                         {'label': 'Universitas Muria Kudus', 'iso639': 'id'}   \n",
            "8347                                             {'label': 'Instituto Nacional de Biodiversidad', 'iso639': 'es'}   \n",
            "30020                                                          {'label': 'Sykehusapotek Nord HF', 'iso639': 'no'}   \n",
            "13573                                     {'label': 'Královská kanonie premonstrátů na Strahově', 'iso639': 'cs'}   \n",
            "6143                                          {'label': 'Universitas Cokroaminoto Ngayogyakarta', 'iso639': 'id'}   \n",
            "21095                                                {'label': 'Instituto Tecnológico de Sonora', 'iso639': 'es'}   \n",
            "21462                                                    {'label': 'Universitas Islam Indonesia', 'iso639': 'id'}   \n",
            "10604  {'label': 'Instituto Nacional de Ciência e Tecnologia Fotônica para Comunicações Ópticas', 'iso639': 'pt'}   \n",
            "27336                             {'label': 'Institute of Language, Literature and Anthropology', 'iso639': 'en'}   \n",
            "13299                                                    {'label': 'Schweizer Bischofskonferenz', 'iso639': 'de'}   \n",
            "9306                                                         {'label': 'Sigmund Freud Institute', 'iso639': 'en'}   \n",
            "18624                                                   {'label': 'Flemish Patiënt Platform vzw', 'iso639': 'en'}   \n",
            "27693                                                       {'label': 'Ministère de l'Éducation', 'iso639': 'fr'}   \n",
            "22428                                                   {'label': 'Fundação Calouste Gulbenkian', 'iso639': 'pt'}   \n",
            "10244                                                              {'label': 'Västerbottens län', 'iso639': 'sv'}   \n",
            "8515                                              {'label': 'Société Canadienne de l'Hémophilie', 'iso639': 'fr'}   \n",
            "8681                                             {'label': 'Institute of Biology and Technology', 'iso639': 'en'}   \n",
            "\n",
            "                                                                               label  \\\n",
            "18558                                            Ulusal Akademik Ağ ve Bilgi Merkezi   \n",
            "8685                                                                   Shell i Norge   \n",
            "4007                                                Hochschule für Technik Stuttgart   \n",
            "5560                                                         Universitas Muria Kudus   \n",
            "8347                                             Instituto Nacional de Biodiversidad   \n",
            "30020                                                          Sykehusapotek Nord HF   \n",
            "13573                                     Královská kanonie premonstrátů na Strahově   \n",
            "6143                                          Universitas Cokroaminoto Ngayogyakarta   \n",
            "21095                                                Instituto Tecnológico de Sonora   \n",
            "21462                                                    Universitas Islam Indonesia   \n",
            "10604  Instituto Nacional de Ciência e Tecnologia Fotônica para Comunicações Ópticas   \n",
            "27336                             Institute of Language, Literature and Anthropology   \n",
            "13299                                                    Schweizer Bischofskonferenz   \n",
            "9306                                                         Sigmund Freud Institute   \n",
            "18624                                                   Flemish Patiënt Platform vzw   \n",
            "27693                                                       Ministère de l'Éducation   \n",
            "22428                                                   Fundação Calouste Gulbenkian   \n",
            "10244                                                              Västerbottens län   \n",
            "8515                                              Société Canadienne de l'Hémophilie   \n",
            "8681                                             Institute of Biology and Technology   \n",
            "\n",
            "      iso639  \n",
            "18558     tr  \n",
            "8685      no  \n",
            "4007      de  \n",
            "5560      id  \n",
            "8347      es  \n",
            "30020     no  \n",
            "13573     cs  \n",
            "6143      id  \n",
            "21095     es  \n",
            "21462     id  \n",
            "10604     pt  \n",
            "27336     en  \n",
            "13299     de  \n",
            "9306      en  \n",
            "18624     en  \n",
            "27693     fr  \n",
            "22428     pt  \n",
            "10244     sv  \n",
            "8515      fr  \n",
            "8681      en  \n"
          ]
        }
      ],
      "source": [
        "print(labels[~labels['iso639'].isin(codes_to_ignore)].sample(20))"
      ]
    },
    {
      "cell_type": "markdown",
      "id": "5235bc76",
      "metadata": {
        "id": "5235bc76"
      },
      "source": [
        "#### Getting string beginnings"
      ]
    },
    {
      "cell_type": "markdown",
      "id": "9719eb96",
      "metadata": {
        "id": "9719eb96"
      },
      "source": [
        "Looking to introduce more variety into the artificial strings so that they include some header information such as \"College of ..\" or \"Department of...\"."
      ]
    },
    {
      "cell_type": "code",
      "execution_count": null,
      "id": "50816e1c",
      "metadata": {
        "id": "50816e1c",
        "colab": {
          "base_uri": "https://localhost:8080/"
        },
        "outputId": "fe0153fb-736b-4fd5-9f53-9074e04029c4"
      },
      "outputs": [
        {
          "output_type": "stream",
          "name": "stdout",
          "text": [
            "['Research Division', 'Research Center', 'Applied Sciences Division', 'Center of Excellence', 'Center of Research']\n"
          ]
        }
      ],
      "source": [
        "file_path = os.path.join(base_path, 'V2/001_Exploration/ror_string_beginnings/Company')\n",
        "with open(file_path, 'r') as f:\n",
        "    company_begs = f.readlines()\n",
        "\n",
        "company_begs = list(set([x.rstrip('\\n') for x in company_begs]))\n",
        "print(company_begs)"
      ]
    },
    {
      "cell_type": "code",
      "execution_count": null,
      "id": "df236ab3",
      "metadata": {
        "id": "df236ab3",
        "colab": {
          "base_uri": "https://localhost:8080/"
        },
        "outputId": "27b91374-8489-43e2-ec83-1a18ac677993"
      },
      "outputs": [
        {
          "output_type": "stream",
          "name": "stdout",
          "text": [
            "['Industrial & Systems Engineering', 'Thoracic and Cardiovascular Surgery', 'Applied Mechanics', 'Computer Science', 'Interdisciplinary Studies', 'Materials Science and Engineering', 'Environmental Engineering', 'Surgery', 'Biochemistry', 'Sociology and Anthropology', 'Agriculture', 'Communication', 'Marine, Earth, and Atmospheric Sciences', 'Nuclear Engineering', 'Psychiatry', 'Biological and Agricultural Engineering', 'Mechanical and Aerospace Engineering', 'Applied Science', 'Foreign Languages and Literatures', 'Philosophy and Religious Studies', 'Mathematics', 'Biomedical Engineering', 'Statistics', 'Electrical Engineering', 'Medicine', 'IT', 'Civil Engineering', 'Political Science', 'English', 'Internal Medicine', 'Biology', 'Aerospace Engineering', 'Physics', 'Biological Sciences', 'Psychology', 'Civil, Construction and Environmental Engineering', 'Electrical and Computer Engineering', 'Information Technology', 'Chemical and Biomolecular Engineering', 'History', 'Social Work', 'Chemistry', 'Public Administration']\n"
          ]
        }
      ],
      "source": [
        "file_path = os.path.join(base_path, 'V2/001_Exploration/ror_string_beginnings/Education_dept')\n",
        "with open(file_path, 'r') as f:\n",
        "    education_dept_begs = f.readlines()\n",
        "\n",
        "education_dept_begs = list(set([x.rstrip('\\n') for x in education_dept_begs]))\n",
        "print(education_dept_begs)"
      ]
    },
    {
      "cell_type": "code",
      "execution_count": null,
      "id": "a72aaf9a",
      "metadata": {
        "id": "a72aaf9a",
        "colab": {
          "base_uri": "https://localhost:8080/"
        },
        "outputId": "fe6d479f-77b2-4688-cc55-747f1986ae4b"
      },
      "outputs": [
        {
          "output_type": "stream",
          "name": "stdout",
          "text": [
            "['Design', 'Natural Resources', 'Veterinary Medicine', 'Information Technology', 'Textiles', 'Agriculture and Life Sciences', 'IT', 'Humanities and Social Sciences', 'Education', 'Sciences', 'Engineering', 'Management']\n"
          ]
        }
      ],
      "source": [
        "file_path = os.path.join(base_path, 'V2/001_Exploration/ror_string_beginnings/Education_college')\n",
        "with open(file_path, 'r') as f:\n",
        "    education_col_begs = f.readlines()\n",
        "\n",
        "education_col_begs = list(set([x.rstrip('\\n') for x in education_col_begs]))\n",
        "print(education_col_begs)"
      ]
    },
    {
      "cell_type": "code",
      "execution_count": null,
      "id": "86ea4260",
      "metadata": {
        "id": "86ea4260",
        "colab": {
          "base_uri": "https://localhost:8080/"
        },
        "outputId": "15215aba-e93d-4d40-f084-3d4d695d5466"
      },
      "outputs": [
        {
          "output_type": "stream",
          "name": "stdout",
          "text": [
            "['Design', 'Natural Resources', 'Business', 'Veterinary Medicine', 'Physics', 'Law', 'Chemical Engineering & Technology', 'Economics', 'Engineering', 'Biochemistry', 'Information Technology', 'Dentistry', 'Textiles', 'Education', 'Medicine']\n"
          ]
        }
      ],
      "source": [
        "file_path = os.path.join(base_path, 'V2/001_Exploration/ror_string_beginnings/Education_school')\n",
        "with open(file_path, 'r') as f:\n",
        "    education_school_begs = f.readlines()\n",
        "\n",
        "education_school_begs = list(set([x.rstrip('\\n') for x in education_school_begs]))\n",
        "print(education_school_begs)"
      ]
    },
    {
      "cell_type": "code",
      "execution_count": null,
      "id": "9cd5fb96",
      "metadata": {
        "id": "9cd5fb96"
      },
      "outputs": [],
      "source": [
        "file_path = os.path.join(base_path, 'V2/001_Exploration/ror_string_beginnings/Healthcare')\n",
        "with open(file_path, 'r') as f:\n",
        "    healthcare_begs = f.readlines()\n",
        "\n",
        "healthcare_begs = list(set([x.rstrip('\\n') for x in healthcare_begs]))"
      ]
    },
    {
      "cell_type": "code",
      "execution_count": null,
      "id": "916341c8",
      "metadata": {
        "colab": {
          "base_uri": "https://localhost:8080/"
        },
        "id": "916341c8",
        "outputId": "dbd7c4da-771e-42ac-c964-f314a61cefe6"
      },
      "outputs": [
        {
          "output_type": "stream",
          "name": "stdout",
          "text": [
            "272\n"
          ]
        }
      ],
      "source": [
        "all_education = []\n",
        "for beg in education_col_begs:\n",
        "    all_education.append(f\"College of {beg}\")\n",
        "\n",
        "for beg in education_dept_begs:\n",
        "    all_education.append(f\"Department of {beg}\")\n",
        "    all_education.append(f\"Dep of {beg}\")\n",
        "    all_education.append(f\"Dept of {beg}\")\n",
        "    all_education.append(f\"Dep. of {beg}\")\n",
        "    all_education.append(f\"Dept. of {beg}\")\n",
        "\n",
        "for beg in education_school_begs:\n",
        "    all_education.append(f\"School of {beg}\")\n",
        "    all_education.append(f\"Sch. of {beg}\")\n",
        "    all_education.append(f\"Sch of {beg}\")\n",
        "print(len(all_education))"
      ]
    },
    {
      "cell_type": "code",
      "execution_count": null,
      "id": "4856f7dc",
      "metadata": {
        "id": "4856f7dc"
      },
      "outputs": [],
      "source": [
        "all_company = company_begs"
      ]
    },
    {
      "cell_type": "code",
      "execution_count": null,
      "id": "ffa4997e",
      "metadata": {
        "id": "ffa4997e"
      },
      "outputs": [],
      "source": [
        "all_healthcare = []\n",
        "for beg in healthcare_begs:\n",
        "    all_healthcare.append(f\"Department of {beg}\")\n",
        "    all_healthcare.append(f\"Dep of {beg}\")\n",
        "    all_healthcare.append(f\"Dept of {beg}\")\n",
        "    all_healthcare.append(f\"Dep. of {beg}\")\n",
        "    all_healthcare.append(f\"Dept. of {beg}\")"
      ]
    },
    {
      "cell_type": "markdown",
      "id": "ea584707",
      "metadata": {
        "id": "ea584707"
      },
      "source": [
        "##### Creating the artificial affiliation strings"
      ]
    },
    {
      "cell_type": "markdown",
      "id": "5dd28354",
      "metadata": {
        "id": "5dd28354"
      },
      "source": [
        "We would like to take advantage of the ROR data and use it to supplement/augment the current affiliation string data in OpenAlex. This could potentially allow for the Institution Tagger model to predict on institutions that have not yet had affiliation strings added to OpenAlex."
      ]
    },
    {
      "cell_type": "code",
      "execution_count": null,
      "id": "42fb9e1a",
      "metadata": {
        "id": "42fb9e1a"
      },
      "outputs": [],
      "source": [
        "type_preinst_dict = {'Company': all_company,\n",
        "                     'Education': all_education,\n",
        "                     'Healthcare': all_healthcare}"
      ]
    },
    {
      "cell_type": "code",
      "execution_count": null,
      "id": "1b3cc139",
      "metadata": {
        "id": "1b3cc139"
      },
      "outputs": [],
      "source": [
        "def create_affiliation_string_from_scratch(institution, city, state, country, region, aliases, labels,\n",
        "                                           acronyms, inst_type):\n",
        "    aff_strings = []\n",
        "    if aliases:\n",
        "        aliases = [institution] + aliases\n",
        "    else:\n",
        "        aliases = [institution]\n",
        "    if labels:\n",
        "        for label in labels:\n",
        "            if label['iso639'] in codes_to_ignore:\n",
        "                pass\n",
        "            else:\n",
        "                aliases.append(label['label'])\n",
        "    if acronyms:\n",
        "        for acronym in acronyms:\n",
        "            aliases.append(acronym)\n",
        "    for alias in aliases:\n",
        "        if \"r&d\" not in alias.lower():\n",
        "            alias = alias.replace(\" & \", \" and \")\n",
        "        match_string = unidecode.unidecode(alias)\n",
        "        match_string = match_string.lower().replace(\" \", \"\")\n",
        "        match_string = \"\".join(re.findall(\"[a-zA-Z0-9]+\", match_string))\n",
        "        alias = unidecode.unidecode(alias)\n",
        "        if ((state is None) & (region != city) & (city is not None) &\n",
        "            (country is not None) & (region is not None)):\n",
        "            region = unidecode.unidecode(region)\n",
        "            country = unidecode.unidecode(country)\n",
        "            city = unidecode.unidecode(city)\n",
        "            aff_strings.append([f\"{alias}, {city}, {region}, {country}\", match_string])\n",
        "            aff_strings.append([f\"{alias}, {city}, {country}\", match_string])\n",
        "            aff_strings.append([f\"{alias}, {city}, {region}\", match_string])\n",
        "            aff_strings.append([f\"{alias}, {country}\", match_string])\n",
        "            aff_strings.append([f\"{alias}, {city}\", match_string])\n",
        "            aff_strings.append([f\"{alias}, {region}\", match_string])\n",
        "            aff_strings.append([f\"{alias} {city} {region} {country}\", match_string])\n",
        "            aff_strings.append([f\"{alias} {city} {country}\", match_string])\n",
        "            aff_strings.append([f\"{alias} {city} {region}\", match_string])\n",
        "            aff_strings.append([f\"{alias} {country}\", match_string])\n",
        "            aff_strings.append([f\"{alias} {city}\", match_string])\n",
        "            aff_strings.append([f\"{alias} {region}\", match_string])\n",
        "            aff_strings.append([f\"{alias}\", match_string])\n",
        "            if inst_type in ['Education','Company','Healthcare']:\n",
        "                list_to_sample = type_preinst_dict[inst_type]\n",
        "                if inst_type == 'Education':\n",
        "                    for i in range(5):\n",
        "                        aff_strings.append([f\"{alias} {sample(list_to_sample, 1)[0]}, {city}, {region}, {country}\", match_string])\n",
        "                        aff_strings.append([f\"{alias} {sample(list_to_sample, 1)[0]}, {city}, {country}\", match_string])\n",
        "                        aff_strings.append([f\"{alias} {sample(list_to_sample, 1)[0]}, {city}, {region}\", match_string])\n",
        "                        aff_strings.append([f\"{alias} {sample(list_to_sample, 1)[0]}, {country}\", match_string])\n",
        "                        aff_strings.append([f\"{alias} {sample(list_to_sample, 1)[0]}, {city}\", match_string])\n",
        "                        aff_strings.append([f\"{alias} {sample(list_to_sample, 1)[0]}, {region}\", match_string])\n",
        "                        aff_strings.append([f\"{alias} {sample(list_to_sample, 1)[0]} {city} {region} {country}\", match_string])\n",
        "                        aff_strings.append([f\"{alias} {sample(list_to_sample, 1)[0]} {city} {country}\", match_string])\n",
        "                        aff_strings.append([f\"{alias} {sample(list_to_sample, 1)[0]} {city} {region}\", match_string])\n",
        "                        aff_strings.append([f\"{alias} {sample(list_to_sample, 1)[0]} {country}\", match_string])\n",
        "                        aff_strings.append([f\"{alias} {sample(list_to_sample, 1)[0]} {city}\", match_string])\n",
        "                        aff_strings.append([f\"{alias} {sample(list_to_sample, 1)[0]} {region}\", match_string])\n",
        "                        aff_strings.append([f\"{alias} {sample(list_to_sample, 1)[0]}\", match_string])\n",
        "\n",
        "                        aff_strings.append([f\"{sample(list_to_sample, 1)[0]} {alias}, {city}, {region}, {country}\", match_string])\n",
        "                        aff_strings.append([f\"{sample(list_to_sample, 1)[0]} {alias}, {city}, {country}\", match_string])\n",
        "                        aff_strings.append([f\"{sample(list_to_sample, 1)[0]} {alias}, {city}, {region}\", match_string])\n",
        "                        aff_strings.append([f\"{sample(list_to_sample, 1)[0]} {alias}, {country}\", match_string])\n",
        "                        aff_strings.append([f\"{sample(list_to_sample, 1)[0]} {alias}, {city}\", match_string])\n",
        "                        aff_strings.append([f\"{sample(list_to_sample, 1)[0]} {alias}, {region}\", match_string])\n",
        "                        aff_strings.append([f\"{sample(list_to_sample, 1)[0]} {alias} {city} {region} {country}\", match_string])\n",
        "                        aff_strings.append([f\"{sample(list_to_sample, 1)[0]} {alias} {city} {country}\", match_string])\n",
        "                        aff_strings.append([f\"{sample(list_to_sample, 1)[0]} {alias} {city} {region}\", match_string])\n",
        "                        aff_strings.append([f\"{sample(list_to_sample, 1)[0]} {alias} {country}\", match_string])\n",
        "                        aff_strings.append([f\"{sample(list_to_sample, 1)[0]} {alias} {city}\", match_string])\n",
        "                        aff_strings.append([f\"{sample(list_to_sample, 1)[0]} {alias} {region}\", match_string])\n",
        "                        aff_strings.append([f\"{sample(list_to_sample, 1)[0]} {alias}\", match_string])\n",
        "                elif inst_type == 'Healthcare':\n",
        "                    for i in range(3):\n",
        "                        aff_strings.append([f\"{alias} {sample(list_to_sample, 1)[0]}, {city}, {region}, {country}\", match_string])\n",
        "                        aff_strings.append([f\"{alias} {sample(list_to_sample, 1)[0]}, {city}, {country}\", match_string])\n",
        "                        aff_strings.append([f\"{alias} {sample(list_to_sample, 1)[0]}, {city}, {region}\", match_string])\n",
        "                        aff_strings.append([f\"{alias} {sample(list_to_sample, 1)[0]}, {country}\", match_string])\n",
        "                        aff_strings.append([f\"{alias} {sample(list_to_sample, 1)[0]}, {city}\", match_string])\n",
        "                        aff_strings.append([f\"{alias} {sample(list_to_sample, 1)[0]}, {region}\", match_string])\n",
        "                        aff_strings.append([f\"{alias} {sample(list_to_sample, 1)[0]} {city} {region} {country}\", match_string])\n",
        "                        aff_strings.append([f\"{alias} {sample(list_to_sample, 1)[0]} {city} {country}\", match_string])\n",
        "                        aff_strings.append([f\"{alias} {sample(list_to_sample, 1)[0]} {city} {region}\", match_string])\n",
        "                        aff_strings.append([f\"{alias} {sample(list_to_sample, 1)[0]} {country}\", match_string])\n",
        "                        aff_strings.append([f\"{alias} {sample(list_to_sample, 1)[0]} {city}\", match_string])\n",
        "                        aff_strings.append([f\"{alias} {sample(list_to_sample, 1)[0]} {region}\", match_string])\n",
        "                        aff_strings.append([f\"{alias} {sample(list_to_sample, 1)[0]}\", match_string])\n",
        "\n",
        "                        aff_strings.append([f\"{sample(list_to_sample, 1)[0]} {alias}, {city}, {region}, {country}\", match_string])\n",
        "                        aff_strings.append([f\"{sample(list_to_sample, 1)[0]} {alias}, {city}, {country}\", match_string])\n",
        "                        aff_strings.append([f\"{sample(list_to_sample, 1)[0]} {alias}, {city}, {region}\", match_string])\n",
        "                        aff_strings.append([f\"{sample(list_to_sample, 1)[0]} {alias}, {country}\", match_string])\n",
        "                        aff_strings.append([f\"{sample(list_to_sample, 1)[0]} {alias}, {city}\", match_string])\n",
        "                        aff_strings.append([f\"{sample(list_to_sample, 1)[0]} {alias}, {region}\", match_string])\n",
        "                        aff_strings.append([f\"{sample(list_to_sample, 1)[0]} {alias} {city} {region} {country}\", match_string])\n",
        "                        aff_strings.append([f\"{sample(list_to_sample, 1)[0]} {alias} {city} {country}\", match_string])\n",
        "                        aff_strings.append([f\"{sample(list_to_sample, 1)[0]} {alias} {city} {region}\", match_string])\n",
        "                        aff_strings.append([f\"{sample(list_to_sample, 1)[0]} {alias} {country}\", match_string])\n",
        "                        aff_strings.append([f\"{sample(list_to_sample, 1)[0]} {alias} {city}\", match_string])\n",
        "                        aff_strings.append([f\"{sample(list_to_sample, 1)[0]} {alias} {region}\", match_string])\n",
        "                        aff_strings.append([f\"{sample(list_to_sample, 1)[0]} {alias}\", match_string])\n",
        "                else:\n",
        "                    for i in range(2):\n",
        "                        aff_strings.append([f\"{alias} {sample(list_to_sample, 1)[0]}, {city}, {region}, {country}\", match_string])\n",
        "                        aff_strings.append([f\"{alias} {sample(list_to_sample, 1)[0]}, {city}, {country}\", match_string])\n",
        "                        aff_strings.append([f\"{alias} {sample(list_to_sample, 1)[0]}, {city}, {region}\", match_string])\n",
        "                        aff_strings.append([f\"{alias} {sample(list_to_sample, 1)[0]}, {country}\", match_string])\n",
        "                        aff_strings.append([f\"{alias} {sample(list_to_sample, 1)[0]}, {city}\", match_string])\n",
        "                        aff_strings.append([f\"{alias} {sample(list_to_sample, 1)[0]}, {region}\", match_string])\n",
        "                        aff_strings.append([f\"{alias} {sample(list_to_sample, 1)[0]} {city} {region} {country}\", match_string])\n",
        "                        aff_strings.append([f\"{alias} {sample(list_to_sample, 1)[0]} {city} {country}\", match_string])\n",
        "                        aff_strings.append([f\"{alias} {sample(list_to_sample, 1)[0]} {city} {region}\", match_string])\n",
        "                        aff_strings.append([f\"{alias} {sample(list_to_sample, 1)[0]} {country}\", match_string])\n",
        "                        aff_strings.append([f\"{alias} {sample(list_to_sample, 1)[0]} {city}\", match_string])\n",
        "                        aff_strings.append([f\"{alias} {sample(list_to_sample, 1)[0]} {region}\", match_string])\n",
        "                        aff_strings.append([f\"{alias} {sample(list_to_sample, 1)[0]}\", match_string])\n",
        "\n",
        "                        aff_strings.append([f\"{sample(list_to_sample, 1)[0]} {alias}, {city}, {region}, {country}\", match_string])\n",
        "                        aff_strings.append([f\"{sample(list_to_sample, 1)[0]} {alias}, {city}, {country}\", match_string])\n",
        "                        aff_strings.append([f\"{sample(list_to_sample, 1)[0]} {alias}, {city}, {region}\", match_string])\n",
        "                        aff_strings.append([f\"{sample(list_to_sample, 1)[0]} {alias}, {country}\", match_string])\n",
        "                        aff_strings.append([f\"{sample(list_to_sample, 1)[0]} {alias}, {city}\", match_string])\n",
        "                        aff_strings.append([f\"{sample(list_to_sample, 1)[0]} {alias}, {region}\", match_string])\n",
        "                        aff_strings.append([f\"{sample(list_to_sample, 1)[0]} {alias} {city} {region} {country}\", match_string])\n",
        "                        aff_strings.append([f\"{sample(list_to_sample, 1)[0]} {alias} {city} {country}\", match_string])\n",
        "                        aff_strings.append([f\"{sample(list_to_sample, 1)[0]} {alias} {city} {region}\", match_string])\n",
        "                        aff_strings.append([f\"{sample(list_to_sample, 1)[0]} {alias} {country}\", match_string])\n",
        "                        aff_strings.append([f\"{sample(list_to_sample, 1)[0]} {alias} {city}\", match_string])\n",
        "                        aff_strings.append([f\"{sample(list_to_sample, 1)[0]} {alias} {region}\", match_string])\n",
        "                        aff_strings.append([f\"{sample(list_to_sample, 1)[0]} {alias}\", match_string])\n",
        "\n",
        "        elif (state is not None) & (city is not None) & (country is not None):\n",
        "            state = unidecode.unidecode(state)\n",
        "            country = unidecode.unidecode(country)\n",
        "            city = unidecode.unidecode(city)\n",
        "            aff_strings.append([f\"{alias}, {city}, {state}, {country}\", match_string])\n",
        "            aff_strings.append([f\"{alias}, {city}, {country}\", match_string])\n",
        "            aff_strings.append([f\"{alias}, {city}, {state}\", match_string])\n",
        "            aff_strings.append([f\"{alias}, {country}\", match_string])\n",
        "            aff_strings.append([f\"{alias}, {city}\", match_string])\n",
        "            aff_strings.append([f\"{alias}, {state}\", match_string])\n",
        "            aff_strings.append([f\"{alias} {city} {state} {country}\", match_string])\n",
        "            aff_strings.append([f\"{alias} {city} {country}\", match_string])\n",
        "            aff_strings.append([f\"{alias} {city} {state}\", match_string])\n",
        "            aff_strings.append([f\"{alias} {country}\", match_string])\n",
        "            aff_strings.append([f\"{alias} {city}\", match_string])\n",
        "            aff_strings.append([f\"{alias} {state}\", match_string])\n",
        "            aff_strings.append([f\"{alias}\", match_string])\n",
        "            if inst_type in ['Education','Company','Healthcare']:\n",
        "                list_to_sample = type_preinst_dict[inst_type]\n",
        "                if inst_type == 'Education':\n",
        "                    for i in range(3):\n",
        "                        aff_strings.append([f\"{alias} {sample(list_to_sample, 1)[0]}, {city}, {state}, {country}\", match_string])\n",
        "                        aff_strings.append([f\"{alias} {sample(list_to_sample, 1)[0]}, {city}, {country}\", match_string])\n",
        "                        aff_strings.append([f\"{alias} {sample(list_to_sample, 1)[0]}, {city}, {state}\", match_string])\n",
        "                        aff_strings.append([f\"{alias} {sample(list_to_sample, 1)[0]}, {country}\", match_string])\n",
        "                        aff_strings.append([f\"{alias} {sample(list_to_sample, 1)[0]}, {city}\", match_string])\n",
        "                        aff_strings.append([f\"{alias} {sample(list_to_sample, 1)[0]}, {state}\", match_string])\n",
        "                        aff_strings.append([f\"{alias} {sample(list_to_sample, 1)[0]} {city} {state} {country}\", match_string])\n",
        "                        aff_strings.append([f\"{alias} {sample(list_to_sample, 1)[0]} {city} {country}\", match_string])\n",
        "                        aff_strings.append([f\"{alias} {sample(list_to_sample, 1)[0]} {city} {state}\", match_string])\n",
        "                        aff_strings.append([f\"{alias} {sample(list_to_sample, 1)[0]} {country}\", match_string])\n",
        "                        aff_strings.append([f\"{alias} {sample(list_to_sample, 1)[0]} {city}\", match_string])\n",
        "                        aff_strings.append([f\"{alias} {sample(list_to_sample, 1)[0]} {state}\", match_string])\n",
        "                        aff_strings.append([f\"{alias} {sample(list_to_sample, 1)[0]}\", match_string])\n",
        "\n",
        "                        aff_strings.append([f\"{sample(list_to_sample, 1)[0]} {alias}, {city}, {state}, {country}\", match_string])\n",
        "                        aff_strings.append([f\"{sample(list_to_sample, 1)[0]} {alias}, {city}, {country}\", match_string])\n",
        "                        aff_strings.append([f\"{sample(list_to_sample, 1)[0]} {alias}, {city}, {state}\", match_string])\n",
        "                        aff_strings.append([f\"{sample(list_to_sample, 1)[0]} {alias}, {country}\", match_string])\n",
        "                        aff_strings.append([f\"{sample(list_to_sample, 1)[0]} {alias}, {city}\", match_string])\n",
        "                        aff_strings.append([f\"{sample(list_to_sample, 1)[0]} {alias}, {state}\", match_string])\n",
        "                        aff_strings.append([f\"{sample(list_to_sample, 1)[0]} {alias} {city} {state} {country}\", match_string])\n",
        "                        aff_strings.append([f\"{sample(list_to_sample, 1)[0]} {alias} {city} {country}\", match_string])\n",
        "                        aff_strings.append([f\"{sample(list_to_sample, 1)[0]} {alias} {city} {state}\", match_string])\n",
        "                        aff_strings.append([f\"{sample(list_to_sample, 1)[0]} {alias} {country}\", match_string])\n",
        "                        aff_strings.append([f\"{sample(list_to_sample, 1)[0]} {alias} {city}\", match_string])\n",
        "                        aff_strings.append([f\"{sample(list_to_sample, 1)[0]} {alias} {state}\", match_string])\n",
        "                        aff_strings.append([f\"{sample(list_to_sample, 1)[0]} {alias}\", match_string])\n",
        "                elif inst_type == 'Healthcare':\n",
        "                    for i in range(3):\n",
        "                        aff_strings.append([f\"{alias} {sample(list_to_sample, 1)[0]}, {city}, {state}, {country}\", match_string])\n",
        "                        aff_strings.append([f\"{alias} {sample(list_to_sample, 1)[0]}, {city}, {country}\", match_string])\n",
        "                        aff_strings.append([f\"{alias} {sample(list_to_sample, 1)[0]}, {city}, {state}\", match_string])\n",
        "                        aff_strings.append([f\"{alias} {sample(list_to_sample, 1)[0]}, {country}\", match_string])\n",
        "                        aff_strings.append([f\"{alias} {sample(list_to_sample, 1)[0]}, {city}\", match_string])\n",
        "                        aff_strings.append([f\"{alias} {sample(list_to_sample, 1)[0]}, {state}\", match_string])\n",
        "                        aff_strings.append([f\"{alias} {sample(list_to_sample, 1)[0]} {city} {state} {country}\", match_string])\n",
        "                        aff_strings.append([f\"{alias} {sample(list_to_sample, 1)[0]} {city} {country}\", match_string])\n",
        "                        aff_strings.append([f\"{alias} {sample(list_to_sample, 1)[0]} {city} {state}\", match_string])\n",
        "                        aff_strings.append([f\"{alias} {sample(list_to_sample, 1)[0]} {country}\", match_string])\n",
        "                        aff_strings.append([f\"{alias} {sample(list_to_sample, 1)[0]} {city}\", match_string])\n",
        "                        aff_strings.append([f\"{alias} {sample(list_to_sample, 1)[0]} {state}\", match_string])\n",
        "                        aff_strings.append([f\"{alias} {sample(list_to_sample, 1)[0]}\", match_string])\n",
        "\n",
        "                        aff_strings.append([f\"{sample(list_to_sample, 1)[0]} {alias}, {city}, {state}, {country}\", match_string])\n",
        "                        aff_strings.append([f\"{sample(list_to_sample, 1)[0]} {alias}, {city}, {country}\", match_string])\n",
        "                        aff_strings.append([f\"{sample(list_to_sample, 1)[0]} {alias}, {city}, {state}\", match_string])\n",
        "                        aff_strings.append([f\"{sample(list_to_sample, 1)[0]} {alias}, {country}\", match_string])\n",
        "                        aff_strings.append([f\"{sample(list_to_sample, 1)[0]} {alias}, {city}\", match_string])\n",
        "                        aff_strings.append([f\"{sample(list_to_sample, 1)[0]} {alias}, {state}\", match_string])\n",
        "                        aff_strings.append([f\"{sample(list_to_sample, 1)[0]} {alias} {city} {state} {country}\", match_string])\n",
        "                        aff_strings.append([f\"{sample(list_to_sample, 1)[0]} {alias} {city} {country}\", match_string])\n",
        "                        aff_strings.append([f\"{sample(list_to_sample, 1)[0]} {alias} {city} {state}\", match_string])\n",
        "                        aff_strings.append([f\"{sample(list_to_sample, 1)[0]} {alias} {country}\", match_string])\n",
        "                        aff_strings.append([f\"{sample(list_to_sample, 1)[0]} {alias} {city}\", match_string])\n",
        "                        aff_strings.append([f\"{sample(list_to_sample, 1)[0]} {alias} {state}\", match_string])\n",
        "                        aff_strings.append([f\"{sample(list_to_sample, 1)[0]} {alias}\", match_string])\n",
        "                else:\n",
        "                    for i in range(1):\n",
        "                        aff_strings.append([f\"{alias} {sample(list_to_sample, 1)[0]}, {city}, {state}, {country}\", match_string])\n",
        "                        aff_strings.append([f\"{alias} {sample(list_to_sample, 1)[0]}, {city}, {country}\", match_string])\n",
        "                        aff_strings.append([f\"{alias} {sample(list_to_sample, 1)[0]}, {city}, {state}\", match_string])\n",
        "                        aff_strings.append([f\"{alias} {sample(list_to_sample, 1)[0]}, {country}\", match_string])\n",
        "                        aff_strings.append([f\"{alias} {sample(list_to_sample, 1)[0]}, {city}\", match_string])\n",
        "                        aff_strings.append([f\"{alias} {sample(list_to_sample, 1)[0]}, {state}\", match_string])\n",
        "                        aff_strings.append([f\"{alias} {sample(list_to_sample, 1)[0]} {city} {state} {country}\", match_string])\n",
        "                        aff_strings.append([f\"{alias} {sample(list_to_sample, 1)[0]} {city} {country}\", match_string])\n",
        "                        aff_strings.append([f\"{alias} {sample(list_to_sample, 1)[0]} {city} {state}\", match_string])\n",
        "                        aff_strings.append([f\"{alias} {sample(list_to_sample, 1)[0]} {country}\", match_string])\n",
        "                        aff_strings.append([f\"{alias} {sample(list_to_sample, 1)[0]} {city}\", match_string])\n",
        "                        aff_strings.append([f\"{alias} {sample(list_to_sample, 1)[0]} {state}\", match_string])\n",
        "                        aff_strings.append([f\"{alias} {sample(list_to_sample, 1)[0]}\", match_string])\n",
        "\n",
        "                        aff_strings.append([f\"{sample(list_to_sample, 1)[0]} {alias}, {city}, {state}, {country}\", match_string])\n",
        "                        aff_strings.append([f\"{sample(list_to_sample, 1)[0]} {alias}, {city}, {country}\", match_string])\n",
        "                        aff_strings.append([f\"{sample(list_to_sample, 1)[0]} {alias}, {city}, {state}\", match_string])\n",
        "                        aff_strings.append([f\"{sample(list_to_sample, 1)[0]} {alias}, {country}\", match_string])\n",
        "                        aff_strings.append([f\"{sample(list_to_sample, 1)[0]} {alias}, {city}\", match_string])\n",
        "                        aff_strings.append([f\"{sample(list_to_sample, 1)[0]} {alias}, {state}\", match_string])\n",
        "                        aff_strings.append([f\"{sample(list_to_sample, 1)[0]} {alias} {city} {state} {country}\", match_string])\n",
        "                        aff_strings.append([f\"{sample(list_to_sample, 1)[0]} {alias} {city} {country}\", match_string])\n",
        "                        aff_strings.append([f\"{sample(list_to_sample, 1)[0]} {alias} {city} {state}\", match_string])\n",
        "                        aff_strings.append([f\"{sample(list_to_sample, 1)[0]} {alias} {country}\", match_string])\n",
        "                        aff_strings.append([f\"{sample(list_to_sample, 1)[0]} {alias} {city}\", match_string])\n",
        "                        aff_strings.append([f\"{sample(list_to_sample, 1)[0]} {alias} {state}\", match_string])\n",
        "                        aff_strings.append([f\"{sample(list_to_sample, 1)[0]} {alias}\", match_string])\n",
        "        elif (city is not None) & (country is not None):\n",
        "            country = unidecode.unidecode(country)\n",
        "            city = unidecode.unidecode(city)\n",
        "            aff_strings.append([f\"{alias}, {city}, {country}\", match_string])\n",
        "            aff_strings.append([f\"{alias}, {country}\", match_string])\n",
        "            aff_strings.append([f\"{alias}, {city}\", match_string])\n",
        "            aff_strings.append([f\"{alias} {city} {country}\", match_string])\n",
        "            aff_strings.append([f\"{alias} {country}\", match_string])\n",
        "            aff_strings.append([f\"{alias} {city}\", match_string])\n",
        "            aff_strings.append([f\"{alias}\", match_string])\n",
        "            if inst_type in ['Education','Company','Healthcare']:\n",
        "                list_to_sample = type_preinst_dict[inst_type]\n",
        "                if inst_type == 'Education':\n",
        "                    for i in range(3):\n",
        "                        aff_strings.append([f\"{alias} {sample(list_to_sample, 1)[0]}, {city}, {country}\", match_string])\n",
        "                        aff_strings.append([f\"{alias} {sample(list_to_sample, 1)[0]}, {country}\", match_string])\n",
        "                        aff_strings.append([f\"{alias} {sample(list_to_sample, 1)[0]}, {city}\", match_string])\n",
        "                        aff_strings.append([f\"{alias} {sample(list_to_sample, 1)[0]} {city} {country}\", match_string])\n",
        "                        aff_strings.append([f\"{alias} {sample(list_to_sample, 1)[0]} {country}\", match_string])\n",
        "                        aff_strings.append([f\"{alias} {sample(list_to_sample, 1)[0]} {city}\", match_string])\n",
        "                        aff_strings.append([f\"{alias} {sample(list_to_sample, 1)[0]}\", match_string])\n",
        "\n",
        "                        aff_strings.append([f\"{sample(list_to_sample, 1)[0]} {alias}, {city}, {country}\", match_string])\n",
        "                        aff_strings.append([f\"{sample(list_to_sample, 1)[0]} {alias}, {country}\", match_string])\n",
        "                        aff_strings.append([f\"{sample(list_to_sample, 1)[0]} {alias}, {city}\", match_string])\n",
        "                        aff_strings.append([f\"{sample(list_to_sample, 1)[0]} {alias} {city} {country}\", match_string])\n",
        "                        aff_strings.append([f\"{sample(list_to_sample, 1)[0]} {alias} {country}\", match_string])\n",
        "                        aff_strings.append([f\"{sample(list_to_sample, 1)[0]} {alias} {city}\", match_string])\n",
        "                        aff_strings.append([f\"{sample(list_to_sample, 1)[0]} {alias}\", match_string])\n",
        "                elif inst_type == 'Healthcare':\n",
        "                    for i in range(3):\n",
        "                        aff_strings.append([f\"{alias} {sample(list_to_sample, 1)[0]}, {city}, {country}\", match_string])\n",
        "                        aff_strings.append([f\"{alias} {sample(list_to_sample, 1)[0]}, {country}\", match_string])\n",
        "                        aff_strings.append([f\"{alias} {sample(list_to_sample, 1)[0]}, {city}\", match_string])\n",
        "                        aff_strings.append([f\"{alias} {sample(list_to_sample, 1)[0]} {city} {country}\", match_string])\n",
        "                        aff_strings.append([f\"{alias} {sample(list_to_sample, 1)[0]} {country}\", match_string])\n",
        "                        aff_strings.append([f\"{alias} {sample(list_to_sample, 1)[0]} {city}\", match_string])\n",
        "                        aff_strings.append([f\"{alias} {sample(list_to_sample, 1)[0]}\", match_string])\n",
        "\n",
        "                        aff_strings.append([f\"{sample(list_to_sample, 1)[0]} {alias}, {city}, {country}\", match_string])\n",
        "                        aff_strings.append([f\"{sample(list_to_sample, 1)[0]} {alias}, {country}\", match_string])\n",
        "                        aff_strings.append([f\"{sample(list_to_sample, 1)[0]} {alias}, {city}\", match_string])\n",
        "                        aff_strings.append([f\"{sample(list_to_sample, 1)[0]} {alias} {city} {country}\", match_string])\n",
        "                        aff_strings.append([f\"{sample(list_to_sample, 1)[0]} {alias} {country}\", match_string])\n",
        "                        aff_strings.append([f\"{sample(list_to_sample, 1)[0]} {alias} {city}\", match_string])\n",
        "                        aff_strings.append([f\"{sample(list_to_sample, 1)[0]} {alias}\", match_string])\n",
        "                else:\n",
        "                    for i in range(1):\n",
        "                        aff_strings.append([f\"{alias} {sample(list_to_sample, 1)[0]}, {city}, {country}\", match_string])\n",
        "                        aff_strings.append([f\"{alias} {sample(list_to_sample, 1)[0]}, {country}\", match_string])\n",
        "                        aff_strings.append([f\"{alias} {sample(list_to_sample, 1)[0]}, {city}\", match_string])\n",
        "                        aff_strings.append([f\"{alias} {sample(list_to_sample, 1)[0]} {city} {country}\", match_string])\n",
        "                        aff_strings.append([f\"{alias} {sample(list_to_sample, 1)[0]} {country}\", match_string])\n",
        "                        aff_strings.append([f\"{alias} {sample(list_to_sample, 1)[0]} {city}\", match_string])\n",
        "                        aff_strings.append([f\"{alias} {sample(list_to_sample, 1)[0]}\", match_string])\n",
        "                        aff_strings.append([f\"{sample(list_to_sample, 1)[0]} {alias}, {city}, {country}\", match_string])\n",
        "                        aff_strings.append([f\"{sample(list_to_sample, 1)[0]} {alias}, {country}\", match_string])\n",
        "                        aff_strings.append([f\"{sample(list_to_sample, 1)[0]} {alias}, {city}\", match_string])\n",
        "                        aff_strings.append([f\"{sample(list_to_sample, 1)[0]} {alias} {city} {country}\", match_string])\n",
        "                        aff_strings.append([f\"{sample(list_to_sample, 1)[0]} {alias} {country}\", match_string])\n",
        "                        aff_strings.append([f\"{sample(list_to_sample, 1)[0]} {alias} {city}\", match_string])\n",
        "                        aff_strings.append([f\"{sample(list_to_sample, 1)[0]} {alias}\", match_string])\n",
        "        elif (country is not None):\n",
        "            country = unidecode.unidecode(country)\n",
        "            aff_strings.append([f\"{alias}, {country}\", match_string])\n",
        "            aff_strings.append([f\"{alias} {country}\", match_string])\n",
        "            aff_strings.append([f\"{alias}\", match_string])\n",
        "            if inst_type in ['Education','Company','Healthcare']:\n",
        "                list_to_sample = type_preinst_dict[inst_type]\n",
        "                if inst_type == 'Education':\n",
        "                    for i in range(4):\n",
        "                        aff_strings.append([f\"{alias} {sample(list_to_sample, 1)[0]}, {country}\", match_string])\n",
        "                        aff_strings.append([f\"{alias} {sample(list_to_sample, 1)[0]} {country}\", match_string])\n",
        "                        aff_strings.append([f\"{alias} {sample(list_to_sample, 1)[0]}\", match_string])\n",
        "\n",
        "                        aff_strings.append([f\"{sample(list_to_sample, 1)[0]} {alias}, {country}\", match_string])\n",
        "                        aff_strings.append([f\"{sample(list_to_sample, 1)[0]} {alias} {country}\", match_string])\n",
        "                        aff_strings.append([f\"{sample(list_to_sample, 1)[0]} {alias}\", match_string])\n",
        "                elif inst_type == 'Healthcare':\n",
        "                    for i in range(3):\n",
        "                        aff_strings.append([f\"{alias} {sample(list_to_sample, 1)[0]}, {country}\", match_string])\n",
        "                        aff_strings.append([f\"{alias} {sample(list_to_sample, 1)[0]} {country}\", match_string])\n",
        "                        aff_strings.append([f\"{alias} {sample(list_to_sample, 1)[0]}\", match_string])\n",
        "\n",
        "                        aff_strings.append([f\"{sample(list_to_sample, 1)[0]} {alias}, {country}\", match_string])\n",
        "                        aff_strings.append([f\"{sample(list_to_sample, 1)[0]} {alias} {country}\", match_string])\n",
        "                        aff_strings.append([f\"{sample(list_to_sample, 1)[0]} {alias}\", match_string])\n",
        "                else:\n",
        "                    for i in range(1):\n",
        "                        aff_strings.append([f\"{alias} {sample(list_to_sample, 1)[0]}, {country}\", match_string])\n",
        "                        aff_strings.append([f\"{alias} {sample(list_to_sample, 1)[0]} {country}\", match_string])\n",
        "                        aff_strings.append([f\"{alias} {sample(list_to_sample, 1)[0]}\", match_string])\n",
        "                        aff_strings.append([f\"{sample(list_to_sample, 1)[0]} {alias}, {country}\", match_string])\n",
        "                        aff_strings.append([f\"{sample(list_to_sample, 1)[0]} {alias} {country}\", match_string])\n",
        "                        aff_strings.append([f\"{sample(list_to_sample, 1)[0]} {alias}\", match_string])\n",
        "\n",
        "        else:\n",
        "            aff_strings.append([f\"{alias}\", match_string])\n",
        "            if inst_type in ['Education','Company','Healthcare']:\n",
        "                list_to_sample = type_preinst_dict[inst_type]\n",
        "                if inst_type == 'Education':\n",
        "                    for i in range(5):\n",
        "                        aff_strings.append([f\"{sample(list_to_sample, 1)[0]} {alias}\", match_string])\n",
        "                        aff_strings.append([f\"{alias} {sample(list_to_sample, 1)[0]}\", match_string])\n",
        "                elif inst_type == 'Healthcare':\n",
        "                    for i in range(3):\n",
        "                        aff_strings.append([f\"{sample(list_to_sample, 1)[0]} {alias}\", match_string])\n",
        "                        aff_strings.append([f\"{alias} {sample(list_to_sample, 1)[0]}\", match_string])\n",
        "                else:\n",
        "                    for i in range(2):\n",
        "                        aff_strings.append([f\"{sample(list_to_sample, 1)[0]} {alias}\", match_string])\n",
        "                        aff_strings.append([f\"{alias} {sample(list_to_sample, 1)[0]}\", match_string])\n",
        "    return aff_strings"
      ]
    },
    {
      "cell_type": "code",
      "execution_count": null,
      "id": "fd247555",
      "metadata": {
        "id": "fd247555"
      },
      "outputs": [],
      "source": [
        "def get_institutions_list(institution, aliases, labels, acronyms):\n",
        "    aff_strings = []\n",
        "    if aliases:\n",
        "        aliases = [institution] + aliases\n",
        "    else:\n",
        "        aliases = [institution]\n",
        "    if labels:\n",
        "        for label in labels:\n",
        "            if label['iso639'] in codes_to_ignore:\n",
        "                pass\n",
        "            else:\n",
        "                aliases.append(label['label'])\n",
        "    return aliases"
      ]
    },
    {
      "cell_type": "code",
      "execution_count": null,
      "id": "67c62ee0",
      "metadata": {
        "id": "67c62ee0",
        "colab": {
          "base_uri": "https://localhost:8080/",
          "height": 241
        },
        "outputId": "77ac3365-2402-48f1-e909-4059bbe51f88"
      },
      "outputs": [
        {
          "output_type": "execute_result",
          "data": {
            "text/plain": [
              "0                      [RMIT University, Royal Melbourne Institute of Technology University]\n",
              "1                                                                      [La Trobe University]\n",
              "2                                                                      [Victoria University]\n",
              "3    [University of New England, New England University College of the University of Sydney]\n",
              "4                                                                      [Griffith University]\n",
              "Name: affs, dtype: object"
            ],
            "text/html": [
              "<div>\n",
              "<style scoped>\n",
              "    .dataframe tbody tr th:only-of-type {\n",
              "        vertical-align: middle;\n",
              "    }\n",
              "\n",
              "    .dataframe tbody tr th {\n",
              "        vertical-align: top;\n",
              "    }\n",
              "\n",
              "    .dataframe thead th {\n",
              "        text-align: right;\n",
              "    }\n",
              "</style>\n",
              "<table border=\"1\" class=\"dataframe\">\n",
              "  <thead>\n",
              "    <tr style=\"text-align: right;\">\n",
              "      <th></th>\n",
              "      <th>affs</th>\n",
              "    </tr>\n",
              "  </thead>\n",
              "  <tbody>\n",
              "    <tr>\n",
              "      <th>0</th>\n",
              "      <td>[RMIT University, Royal Melbourne Institute of Technology University]</td>\n",
              "    </tr>\n",
              "    <tr>\n",
              "      <th>1</th>\n",
              "      <td>[La Trobe University]</td>\n",
              "    </tr>\n",
              "    <tr>\n",
              "      <th>2</th>\n",
              "      <td>[Victoria University]</td>\n",
              "    </tr>\n",
              "    <tr>\n",
              "      <th>3</th>\n",
              "      <td>[University of New England, New England University College of the University of Sydney]</td>\n",
              "    </tr>\n",
              "    <tr>\n",
              "      <th>4</th>\n",
              "      <td>[Griffith University]</td>\n",
              "    </tr>\n",
              "  </tbody>\n",
              "</table>\n",
              "</div><br><label><b>dtype:</b> object</label>"
            ]
          },
          "metadata": {},
          "execution_count": 27
        }
      ],
      "source": [
        "ror_to_join['affs'] = ror_to_join \\\n",
        ".apply(lambda x: get_institutions_list(x.institution, x.aliases,\n",
        "                                       x.labels, x.acronyms), axis=1)\n",
        "ror_to_join['affs'].head()"
      ]
    },
    {
      "cell_type": "code",
      "source": [
        "ror_to_join['aff_string'] = ror_to_join \\\n",
        ".apply(lambda x: create_affiliation_string_from_scratch(x.institution, x.city, x.state,\n",
        "                                                        x.country_name, x.region,\n",
        "                                                        x.aliases, x.labels, x.acronyms, x.types), axis=1)\n",
        "\n",
        "ror_to_join['aff_string'].head()"
      ],
      "metadata": {
        "colab": {
          "base_uri": "https://localhost:8080/",
          "height": 1000
        },
        "id": "IBb0z0uPcSrh",
        "outputId": "b2ed7cd3-9042-41c1-ab46-60f4c45f345a"
      },
      "id": "IBb0z0uPcSrh",
      "execution_count": null,
      "outputs": [
        {
          "output_type": "execute_result",
          "data": {
            "text/plain": [
              "0                                                                                                                                                                                                                                                                                                                                                                                                                                                                                                                                                                                                                                                                                                                                                                                                                                                                                                                                                                                                                                                                                                                                                                                                                                                                                                                                                                                                                                                                                                                                                                                                                                                                                                                                                                                                                                                                                                                                                                                                                                                                                                          [[RMIT University, Melbourne, Victoria, Australia, rmituniversity], [RMIT University, Melbourne, Australia, rmituniversity], [RMIT University, Melbourne, Victoria, rmituniversity], [RMIT University, Australia, rmituniversity], [RMIT University, Melbourne, rmituniversity], [RMIT University, Victoria, rmituniversity], [RMIT University Melbourne Victoria Australia, rmituniversity], [RMIT University Melbourne Australia, rmituniversity], [RMIT University Melbourne Victoria, rmituniversity], [RMIT University Australia, rmituniversity], [RMIT University Melbourne, rmituniversity], [RMIT University Victoria, rmituniversity], [RMIT University, rmituniversity], [RMIT University Dept. of Environmental Engineering, Melbourne, Victoria, Australia, rmituniversity], [RMIT University Dep of IT, Melbourne, Australia, rmituniversity], [RMIT University Dept of Biological and Agricultural Engineering, Melbourne, Victoria, rmituniversity], [RMIT University Dep. of IT, Australia, rmituniversity], [RMIT University Department of English, Melbourne, rmituniversity], [RMIT University Dep of Thoracic and Cardiovascular Surgery, Victoria, rmituniversity], [RMIT University Sch of Law Melbourne Victoria Australia, rmituniversity], [RMIT University Dep of Biological Sciences Melbourne Australia, rmituniversity], [RMIT University Dep. of Communication Melbourne Victoria, rmituniversity], [RMIT University Dept. of Aerospace Engineering Australia, rmituniversity], [RMIT University Dept of Psychiatry Melbourne, rmituniversity], [RMIT University Department of Foreign Languages and Literatures Victoria, rmituniversity], [RMIT University Dep of Statistics, rmituniversity], [Sch. of Engineering RMIT University, Melbourne, Victoria, Australia, rmituniversity], [Dep. of Computer Science RMIT University, Melbourne, Australia, rmituniversity], [Dep. of Electrical and Computer Engineering RMIT University, Melbourne, Victoria, rmituniversity], [Dep of Chemical and Biomolecular Engineering RMIT University, Australia, rmituniversity], [Dep. of Computer Science RMIT University, Melbourne, rmituniversity], [Sch of Chemical Engineering & Technology RMIT University, Victoria, rmituniversity], [Dep. of Applied Science RMIT University Melbourne Victoria Australia, rmituniversity], [Dept. of Political Science RMIT University Melbourne Australia, rmituniversity], [Dep of IT RMIT University Melbourne Victoria, rmituniversity], [Sch of Veterinary Medicine RMIT University Australia, rmituniversity], [Department of Biological and Agricultural Engineering RMIT University Melbourne, rmituniversity], [Dep. of Psychology RMIT University Victoria, rmituniversity], [Dept. of Philosophy and Religious Studies RMIT University, rmituniversity], [RMIT University Dept. of Chemical and Biomolecular Engineering, Melbourne, Victoria, Australia, rmituniversity], [RMIT University Dep of Applied Science, Melbourne, Australia, rmituniversity], [RMIT University Department of Sociology and Anthropology, Melbourne, Victoria, rmituniversity], [RMIT University Sch of Design, Australia, rmituniversity], [RMIT University Dept. of Applied Mechanics, Melbourne, rmituniversity], [RMIT University College of Management, Victoria, rmituniversity], [RMIT University Department of Medicine Melbourne Victoria Australia, rmituniversity], [RMIT University Dep of Communication Melbourne Australia, rmituniversity], [RMIT University Dept. of Biochemistry Melbourne Victoria, rmituniversity], [RMIT University School of Engineering Australia, rmituniversity], [RMIT University Department of Biomedical Engineering Melbourne, rmituniversity], [RMIT University Dept. of Physics Victoria, rmituniversity], [RMIT University Department of Philosophy and Religious Studies, rmituniversity], [Department of Psychiatry RMIT University, Melbourne, Victoria, Australia, rmituniversity], [Dep of Biological Sciences RMIT University, Melbourne, Australia, rmituniversity], [Dep of Computer Science RMIT University, Melbourne, Victoria, rmituniversity], [Dep of Applied Mechanics RMIT University, Australia, rmituniversity], [College of IT RMIT University, Melbourne, rmituniversity], [Dep. of Biological and Agricultural Engineering RMIT University, Victoria, rmituniversity], [School of Information Technology RMIT University Melbourne Victoria Australia, rmituniversity], [School of Education RMIT University Melbourne Australia, rmituniversity], [School of Chemical Engineering & Technology RMIT University Melbourne Victoria, rmituniversity], [Dept of Biological and Agricultural Engineering RMIT University Australia, rmituniversity], [Department of Materials Science and Engineering RMIT University Melbourne, rmituniversity], [Department of Environmental Engineering RMIT University Victoria, rmituniversity], [Dep. of Biomedical Engineering RMIT University, rmituniversity], [RMIT University Dept. of Surgery, Melbourne, Victoria, Australia, rmituniversity], [RMIT University School of Textiles, Melbourne, Australia, rmituniversity], [RMIT University Dept. of Agriculture, Melbourne, Victoria, rmituniversity], [RMIT University Dep. of Marine, Earth, and Atmospheric Sciences, Australia, rmituniversity], [RMIT University Dept. of Surgery, Melbourne, rmituniversity], [RMIT University Sch of Textiles, Victoria, rmituniversity], [RMIT University Department of Electrical Engineering Melbourne Victoria Australia, rmituniversity], [RMIT University Dep of Social Work Melbourne Australia, rmituniversity], [RMIT University Dept. of History Melbourne Victoria, rmituniversity], [RMIT University Dept of Civil Engineering Australia, rmituniversity], [RMIT University Dep. of Applied Science Melbourne, rmituniversity], [RMIT University Dep. of Chemistry Victoria, rmituniversity], [RMIT University Sch. of Physics, rmituniversity], [Dept. of Chemistry RMIT University, Melbourne, Victoria, Australia, rmituniversity], [Dep. of Mathematics RMIT University, Melbourne, Australia, rmituniversity], [Dep of Foreign Languages and Literatures RMIT University, Melbourne, Victoria, rmituniversity], [School of Business RMIT University, Australia, rmituniversity], [College of Veterinary Medicine RMIT University, Melbourne, rmituniversity], [Dept of Marine, Earth, and Atmospheric Sciences RMIT University, Victoria, rmituniversity], [Dept. of Electrical and Computer Engineering RMIT University Melbourne Victoria Australia, rmituniversity], [Sch of Engineering RMIT University Melbourne Australia, rmituniversity], [Dep of Philosophy and Religious Studies RMIT University Melbourne Victoria, rmituniversity], [School of Business RMIT University Australia, rmituniversity], [Dept. of Aerospace Engineering RMIT University Melbourne, rmituniversity], [Sch of Textiles RMIT University Victoria, rmituniversity], [School of Natural Resources RMIT University, rmituniversity], [Royal Melbourne Institute of Technology University, Melbourne, Victoria, Australia, royalmelbourneinstituteoftechnologyuniversity], [Royal Melbourne Institute of Technology University, Melbourne, Australia, royalmelbourneinstituteoftechnologyuniversity], [Royal Melbourne Institute of Technology University, Melbourne, Victoria, royalmelbourneinstituteoftechnologyuniversity], [Royal Melbourne Institute of Technology University, Australia, royalmelbourneinstituteoftechnologyuniversity], [Royal Melbourne Institute of Technology University, Melbourne, royalmelbourneinstituteoftechnologyuniversity], [Royal Melbourne Institute of Technology University, Victoria, royalmelbourneinstituteoftechnologyuniversity], [Royal Melbourne Institute of Technology University Melbourne Victoria Australia, royalmelbourneinstituteoftechnologyuniversity], [Royal Melbourne Institute of Technology University Melbourne Australia, royalmelbourneinstituteoftechnologyuniversity], [Royal Melbourne Institute of Technology University Melbourne Victoria, royalmelbourneinstituteoftechnologyuniversity], ...]\n",
              "1                                                                                                                                                                                                                                                                                                                                                                                                                                                                                                                                                                                                                                                                                                                                                                                                                                                                                                                                                                                                                                                                                                                                                                                                                                                                                                                                                                                                                                                                                                                                                                                                                                                                                                                                                                                                                                                                                                                                                                                                                                                                                                                                                                                                                                                                                                                                                                                                                                                                                                                                                                                                                       [[La Trobe University, Melbourne, Victoria, Australia, latrobeuniversity], [La Trobe University, Melbourne, Australia, latrobeuniversity], [La Trobe University, Melbourne, Victoria, latrobeuniversity], [La Trobe University, Australia, latrobeuniversity], [La Trobe University, Melbourne, latrobeuniversity], [La Trobe University, Victoria, latrobeuniversity], [La Trobe University Melbourne Victoria Australia, latrobeuniversity], [La Trobe University Melbourne Australia, latrobeuniversity], [La Trobe University Melbourne Victoria, latrobeuniversity], [La Trobe University Australia, latrobeuniversity], [La Trobe University Melbourne, latrobeuniversity], [La Trobe University Victoria, latrobeuniversity], [La Trobe University, latrobeuniversity], [La Trobe University School of Veterinary Medicine, Melbourne, Victoria, Australia, latrobeuniversity], [La Trobe University Dep of IT, Melbourne, Australia, latrobeuniversity], [La Trobe University Sch of Design, Melbourne, Victoria, latrobeuniversity], [La Trobe University College of Management, Australia, latrobeuniversity], [La Trobe University Sch of Medicine, Melbourne, latrobeuniversity], [La Trobe University Dept of Chemistry, Victoria, latrobeuniversity], [La Trobe University Dept of Electrical Engineering Melbourne Victoria Australia, latrobeuniversity], [La Trobe University Sch. of Engineering Melbourne Australia, latrobeuniversity], [La Trobe University Department of Psychiatry Melbourne Victoria, latrobeuniversity], [La Trobe University Dept of Mathematics Australia, latrobeuniversity], [La Trobe University Dep of Applied Science Melbourne, latrobeuniversity], [La Trobe University Dep of Psychiatry Victoria, latrobeuniversity], [La Trobe University Department of Thoracic and Cardiovascular Surgery, latrobeuniversity], [Sch of Natural Resources La Trobe University, Melbourne, Victoria, Australia, latrobeuniversity], [Sch. of Physics La Trobe University, Melbourne, Australia, latrobeuniversity], [Dep. of Civil, Construction and Environmental Engineering La Trobe University, Melbourne, Victoria, latrobeuniversity], [Dept. of Biological and Agricultural Engineering La Trobe University, Australia, latrobeuniversity], [Department of Communication La Trobe University, Melbourne, latrobeuniversity], [Dep. of History La Trobe University, Victoria, latrobeuniversity], [Sch. of Education La Trobe University Melbourne Victoria Australia, latrobeuniversity], [College of Veterinary Medicine La Trobe University Melbourne Australia, latrobeuniversity], [Department of Surgery La Trobe University Melbourne Victoria, latrobeuniversity], [Dep of Applied Mechanics La Trobe University Australia, latrobeuniversity], [Dep of Psychology La Trobe University Melbourne, latrobeuniversity], [Dept of Chemistry La Trobe University Victoria, latrobeuniversity], [School of Engineering La Trobe University, latrobeuniversity], [La Trobe University Dept. of Electrical Engineering, Melbourne, Victoria, Australia, latrobeuniversity], [La Trobe University Dep of Political Science, Melbourne, Australia, latrobeuniversity], [La Trobe University Dept. of Social Work, Melbourne, Victoria, latrobeuniversity], [La Trobe University Department of Computer Science, Australia, latrobeuniversity], [La Trobe University Dept. of Civil, Construction and Environmental Engineering, Melbourne, latrobeuniversity], [La Trobe University Dept. of Biomedical Engineering, Victoria, latrobeuniversity], [La Trobe University Dept. of Electrical Engineering Melbourne Victoria Australia, latrobeuniversity], [La Trobe University Dep. of Psychology Melbourne Australia, latrobeuniversity], [La Trobe University Department of Surgery Melbourne Victoria, latrobeuniversity], [La Trobe University Dep. of Applied Science Australia, latrobeuniversity], [La Trobe University Dep of IT Melbourne, latrobeuniversity], [La Trobe University Department of Interdisciplinary Studies Victoria, latrobeuniversity], [La Trobe University Dept of Biomedical Engineering, latrobeuniversity], [Dep. of Biological Sciences La Trobe University, Melbourne, Victoria, Australia, latrobeuniversity], [Dep. of Electrical and Computer Engineering La Trobe University, Melbourne, Australia, latrobeuniversity], [Sch of Natural Resources La Trobe University, Melbourne, Victoria, latrobeuniversity], [Department of Public Administration La Trobe University, Australia, latrobeuniversity], [Dep. of Mathematics La Trobe University, Melbourne, latrobeuniversity], [Department of Biochemistry La Trobe University, Victoria, latrobeuniversity], [Dept. of Biochemistry La Trobe University Melbourne Victoria Australia, latrobeuniversity], [Dep. of Surgery La Trobe University Melbourne Australia, latrobeuniversity], [Dept. of Biochemistry La Trobe University Melbourne Victoria, latrobeuniversity], [Dept of Marine, Earth, and Atmospheric Sciences La Trobe University Australia, latrobeuniversity], [Dept. of Mathematics La Trobe University Melbourne, latrobeuniversity], [Dept. of Applied Science La Trobe University Victoria, latrobeuniversity], [Dep. of Applied Mechanics La Trobe University, latrobeuniversity], [La Trobe University Dept of Psychology, Melbourne, Victoria, Australia, latrobeuniversity], [La Trobe University Dept of Internal Medicine, Melbourne, Australia, latrobeuniversity], [La Trobe University Dep. of Mathematics, Melbourne, Victoria, latrobeuniversity], [La Trobe University Dept of Environmental Engineering, Australia, latrobeuniversity], [La Trobe University Dep. of Nuclear Engineering, Melbourne, latrobeuniversity], [La Trobe University Sch of Veterinary Medicine, Victoria, latrobeuniversity], [La Trobe University Department of Psychology Melbourne Victoria Australia, latrobeuniversity], [La Trobe University Dep of Marine, Earth, and Atmospheric Sciences Melbourne Australia, latrobeuniversity], [La Trobe University Dep. of Civil, Construction and Environmental Engineering Melbourne Victoria, latrobeuniversity], [La Trobe University Dept of Chemical and Biomolecular Engineering Australia, latrobeuniversity], [La Trobe University Dep. of Aerospace Engineering Melbourne, latrobeuniversity], [La Trobe University Dep. of Electrical Engineering Victoria, latrobeuniversity], [La Trobe University College of IT, latrobeuniversity], [Sch. of Economics La Trobe University, Melbourne, Victoria, Australia, latrobeuniversity], [Dept. of Civil Engineering La Trobe University, Melbourne, Australia, latrobeuniversity], [Dept of Aerospace Engineering La Trobe University, Melbourne, Victoria, latrobeuniversity], [Dept of Foreign Languages and Literatures La Trobe University, Australia, latrobeuniversity], [Dep of Information Technology La Trobe University, Melbourne, latrobeuniversity], [Dep. of Biological and Agricultural Engineering La Trobe University, Victoria, latrobeuniversity], [Dep. of Agriculture La Trobe University Melbourne Victoria Australia, latrobeuniversity], [College of Management La Trobe University Melbourne Australia, latrobeuniversity], [Dept of Psychiatry La Trobe University Melbourne Victoria, latrobeuniversity], [Dept. of Environmental Engineering La Trobe University Australia, latrobeuniversity], [Department of Applied Science La Trobe University Melbourne, latrobeuniversity], [Dept of Nuclear Engineering La Trobe University Victoria, latrobeuniversity], [Dep of Environmental Engineering La Trobe University, latrobeuniversity]]\n",
              "2                                                                                                                                                                                                                                                                                                                                                                                                                                                                                                                                                                                                                                                                                                                                                                                                                                                                                                                                                                                                                                                                                                                                                                                                                                                                                                                                                                                                                                                                                                                                                                                                                                                                                                                                                                                                                                                                                                                                                                                                                                                                                                                                                                                                                                                                                [[Victoria University, Melbourne, Victoria, Australia, victoriauniversity], [Victoria University, Melbourne, Australia, victoriauniversity], [Victoria University, Melbourne, Victoria, victoriauniversity], [Victoria University, Australia, victoriauniversity], [Victoria University, Melbourne, victoriauniversity], [Victoria University, Victoria, victoriauniversity], [Victoria University Melbourne Victoria Australia, victoriauniversity], [Victoria University Melbourne Australia, victoriauniversity], [Victoria University Melbourne Victoria, victoriauniversity], [Victoria University Australia, victoriauniversity], [Victoria University Melbourne, victoriauniversity], [Victoria University Victoria, victoriauniversity], [Victoria University, victoriauniversity], [Victoria University Dep of Marine, Earth, and Atmospheric Sciences, Melbourne, Victoria, Australia, victoriauniversity], [Victoria University Dep. of Interdisciplinary Studies, Melbourne, Australia, victoriauniversity], [Victoria University Dept. of English, Melbourne, Victoria, victoriauniversity], [Victoria University College of Textiles, Australia, victoriauniversity], [Victoria University Dept. of Applied Science, Melbourne, victoriauniversity], [Victoria University Department of Computer Science, Victoria, victoriauniversity], [Victoria University Dept of Statistics Melbourne Victoria Australia, victoriauniversity], [Victoria University Dep. of Medicine Melbourne Australia, victoriauniversity], [Victoria University Dep of Electrical Engineering Melbourne Victoria, victoriauniversity], [Victoria University Department of Civil, Construction and Environmental Engineering Australia, victoriauniversity], [Victoria University Dept. of Electrical and Computer Engineering Melbourne, victoriauniversity], [Victoria University Dept of Surgery Victoria, victoriauniversity], [Victoria University Department of Biochemistry, victoriauniversity], [Dep. of IT Victoria University, Melbourne, Victoria, Australia, victoriauniversity], [Dept. of Communication Victoria University, Melbourne, Australia, victoriauniversity], [Dept. of Biomedical Engineering Victoria University, Melbourne, Victoria, victoriauniversity], [Department of Psychiatry Victoria University, Australia, victoriauniversity], [Sch. of Education Victoria University, Melbourne, victoriauniversity], [College of Agriculture and Life Sciences Victoria University, Victoria, victoriauniversity], [Department of Public Administration Victoria University Melbourne Victoria Australia, victoriauniversity], [Dep of Psychiatry Victoria University Melbourne Australia, victoriauniversity], [Sch of Veterinary Medicine Victoria University Melbourne Victoria, victoriauniversity], [Department of Biological and Agricultural Engineering Victoria University Australia, victoriauniversity], [Dept of Materials Science and Engineering Victoria University Melbourne, victoriauniversity], [Sch. of Education Victoria University Victoria, victoriauniversity], [Dep of Statistics Victoria University, victoriauniversity], [Victoria University Dept. of Medicine, Melbourne, Victoria, Australia, victoriauniversity], [Victoria University Sch of Engineering, Melbourne, Australia, victoriauniversity], [Victoria University School of Engineering, Melbourne, Victoria, victoriauniversity], [Victoria University Dept of Social Work, Australia, victoriauniversity], [Victoria University Dept. of Social Work, Melbourne, victoriauniversity], [Victoria University Dep. of Psychology, Victoria, victoriauniversity], [Victoria University School of Engineering Melbourne Victoria Australia, victoriauniversity], [Victoria University Sch of Physics Melbourne Australia, victoriauniversity], [Victoria University Dep of Psychiatry Melbourne Victoria, victoriauniversity], [Victoria University Dept. of Mechanical and Aerospace Engineering Australia, victoriauniversity], [Victoria University Dep. of Political Science Melbourne, victoriauniversity], [Victoria University Dept. of Mechanical and Aerospace Engineering Victoria, victoriauniversity], [Victoria University Dept. of Aerospace Engineering, victoriauniversity], [Dept. of Electrical and Computer Engineering Victoria University, Melbourne, Victoria, Australia, victoriauniversity], [Sch. of Biochemistry Victoria University, Melbourne, Australia, victoriauniversity], [Dep of Agriculture Victoria University, Melbourne, Victoria, victoriauniversity], [Dept. of Psychology Victoria University, Australia, victoriauniversity], [Sch. of Textiles Victoria University, Melbourne, victoriauniversity], [Dep of Mechanical and Aerospace Engineering Victoria University, Victoria, victoriauniversity], [Dept of Computer Science Victoria University Melbourne Victoria Australia, victoriauniversity], [Dept. of Thoracic and Cardiovascular Surgery Victoria University Melbourne Australia, victoriauniversity], [Dept of History Victoria University Melbourne Victoria, victoriauniversity], [Dep. of Sociology and Anthropology Victoria University Australia, victoriauniversity], [Department of Communication Victoria University Melbourne, victoriauniversity], [Dept of Interdisciplinary Studies Victoria University Victoria, victoriauniversity], [Dep of Biology Victoria University, victoriauniversity], [Victoria University Dept of Applied Mechanics, Melbourne, Victoria, Australia, victoriauniversity], [Victoria University Dep. of Biomedical Engineering, Melbourne, Australia, victoriauniversity], [Victoria University College of IT, Melbourne, Victoria, victoriauniversity], [Victoria University Dept of Biological Sciences, Australia, victoriauniversity], [Victoria University Dept of Psychology, Melbourne, victoriauniversity], [Victoria University Dept of English, Victoria, victoriauniversity], [Victoria University Sch of Natural Resources Melbourne Victoria Australia, victoriauniversity], [Victoria University Department of Foreign Languages and Literatures Melbourne Australia, victoriauniversity], [Victoria University Dept of English Melbourne Victoria, victoriauniversity], [Victoria University Dept. of Nuclear Engineering Australia, victoriauniversity], [Victoria University Dep of Materials Science and Engineering Melbourne, victoriauniversity], [Victoria University School of Economics Victoria, victoriauniversity], [Victoria University Dept of Marine, Earth, and Atmospheric Sciences, victoriauniversity], [Department of Biomedical Engineering Victoria University, Melbourne, Victoria, Australia, victoriauniversity], [Dept. of Biochemistry Victoria University, Melbourne, Australia, victoriauniversity], [Dept. of Computer Science Victoria University, Melbourne, Victoria, victoriauniversity], [School of Veterinary Medicine Victoria University, Australia, victoriauniversity], [Department of Psychiatry Victoria University, Melbourne, victoriauniversity], [Dep. of Biochemistry Victoria University, Victoria, victoriauniversity], [Dep of Mathematics Victoria University Melbourne Victoria Australia, victoriauniversity], [Sch. of Economics Victoria University Melbourne Australia, victoriauniversity], [Sch of Veterinary Medicine Victoria University Melbourne Victoria, victoriauniversity], [Dept. of Mechanical and Aerospace Engineering Victoria University Australia, victoriauniversity], [Dep. of History Victoria University Melbourne, victoriauniversity], [Sch. of Design Victoria University Victoria, victoriauniversity], [Dept. of Biological Sciences Victoria University, victoriauniversity], [VU, Melbourne, Victoria, Australia, vu], [VU, Melbourne, Australia, vu], [VU, Melbourne, Victoria, vu], [VU, Australia, vu], [VU, Melbourne, vu], [VU, Victoria, vu], [VU Melbourne Victoria Australia, vu], [VU Melbourne Australia, vu], [VU Melbourne Victoria, vu], ...]\n",
              "3    [[University of New England, Armidale, New South Wales, Australia, universityofnewengland], [University of New England, Armidale, Australia, universityofnewengland], [University of New England, Armidale, New South Wales, universityofnewengland], [University of New England, Australia, universityofnewengland], [University of New England, Armidale, universityofnewengland], [University of New England, New South Wales, universityofnewengland], [University of New England Armidale New South Wales Australia, universityofnewengland], [University of New England Armidale Australia, universityofnewengland], [University of New England Armidale New South Wales, universityofnewengland], [University of New England Australia, universityofnewengland], [University of New England Armidale, universityofnewengland], [University of New England New South Wales, universityofnewengland], [University of New England, universityofnewengland], [University of New England School of Natural Resources, Armidale, New South Wales, Australia, universityofnewengland], [University of New England Department of Physics, Armidale, Australia, universityofnewengland], [University of New England Dept. of IT, Armidale, New South Wales, universityofnewengland], [University of New England Sch of Dentistry, Australia, universityofnewengland], [University of New England Dept of Communication, Armidale, universityofnewengland], [University of New England Sch. of Economics, New South Wales, universityofnewengland], [University of New England Dep of Civil, Construction and Environmental Engineering Armidale New South Wales Australia, universityofnewengland], [University of New England Dep. of Sociology and Anthropology Armidale Australia, universityofnewengland], [University of New England Sch. of Business Armidale New South Wales, universityofnewengland], [University of New England Dep. of Aerospace Engineering Australia, universityofnewengland], [University of New England Department of Internal Medicine Armidale, universityofnewengland], [University of New England Dep of Sociology and Anthropology New South Wales, universityofnewengland], [University of New England Dep. of History, universityofnewengland], [Dep of Computer Science University of New England, Armidale, New South Wales, Australia, universityofnewengland], [Dep. of Information Technology University of New England, Armidale, Australia, universityofnewengland], [Sch. of Biochemistry University of New England, Armidale, New South Wales, universityofnewengland], [Dep of Political Science University of New England, Australia, universityofnewengland], [Department of Medicine University of New England, Armidale, universityofnewengland], [Department of Computer Science University of New England, New South Wales, universityofnewengland], [Dept of Thoracic and Cardiovascular Surgery University of New England Armidale New South Wales Australia, universityofnewengland], [Department of Biomedical Engineering University of New England Armidale Australia, universityofnewengland], [Dep of Computer Science University of New England Armidale New South Wales, universityofnewengland], [Dept of Foreign Languages and Literatures University of New England Australia, universityofnewengland], [School of Textiles University of New England Armidale, universityofnewengland], [Department of Surgery University of New England New South Wales, universityofnewengland], [Department of Thoracic and Cardiovascular Surgery University of New England, universityofnewengland], [University of New England Dept. of Political Science, Armidale, New South Wales, Australia, universityofnewengland], [University of New England Department of Biology, Armidale, Australia, universityofnewengland], [University of New England Sch. of Biochemistry, Armidale, New South Wales, universityofnewengland], [University of New England Dep of Industrial & Systems Engineering, Australia, universityofnewengland], [University of New England Dep of Public Administration, Armidale, universityofnewengland], [University of New England College of Management, New South Wales, universityofnewengland], [University of New England Sch of Law Armidale New South Wales Australia, universityofnewengland], [University of New England Dept. of Interdisciplinary Studies Armidale Australia, universityofnewengland], [University of New England Department of Mechanical and Aerospace Engineering Armidale New South Wales, universityofnewengland], [University of New England School of Textiles Australia, universityofnewengland], [University of New England Dept of Political Science Armidale, universityofnewengland], [University of New England Sch. of Economics New South Wales, universityofnewengland], [University of New England Dep of IT, universityofnewengland], [Department of Electrical and Computer Engineering University of New England, Armidale, New South Wales, Australia, universityofnewengland], [Dept. of Sociology and Anthropology University of New England, Armidale, Australia, universityofnewengland], [Department of Computer Science University of New England, Armidale, New South Wales, universityofnewengland], [Dep of Chemical and Biomolecular Engineering University of New England, Australia, universityofnewengland], [Department of Social Work University of New England, Armidale, universityofnewengland], [Dept of Public Administration University of New England, New South Wales, universityofnewengland], [Dep of Agriculture University of New England Armidale New South Wales Australia, universityofnewengland], [Dept. of Statistics University of New England Armidale Australia, universityofnewengland], [Dept of English University of New England Armidale New South Wales, universityofnewengland], [Department of IT University of New England Australia, universityofnewengland], [Sch. of Information Technology University of New England Armidale, universityofnewengland], [Sch of Biochemistry University of New England New South Wales, universityofnewengland], [Department of Biochemistry University of New England, universityofnewengland], [University of New England Dep of Biological Sciences, Armidale, New South Wales, Australia, universityofnewengland], [University of New England Department of Interdisciplinary Studies, Armidale, Australia, universityofnewengland], [University of New England Department of Mathematics, Armidale, New South Wales, universityofnewengland], [University of New England Department of IT, Australia, universityofnewengland], [University of New England Department of Biological and Agricultural Engineering, Armidale, universityofnewengland], [University of New England Dep. of Civil, Construction and Environmental Engineering, New South Wales, universityofnewengland], [University of New England School of Biochemistry Armidale New South Wales Australia, universityofnewengland], [University of New England Department of IT Armidale Australia, universityofnewengland], [University of New England Dept. of Industrial & Systems Engineering Armidale New South Wales, universityofnewengland], [University of New England Department of Political Science Australia, universityofnewengland], [University of New England School of Chemical Engineering & Technology Armidale, universityofnewengland], [University of New England Dept of Communication New South Wales, universityofnewengland], [University of New England Department of Philosophy and Religious Studies, universityofnewengland], [Sch of Law University of New England, Armidale, New South Wales, Australia, universityofnewengland], [Dept. of Computer Science University of New England, Armidale, Australia, universityofnewengland], [Dep. of Communication University of New England, Armidale, New South Wales, universityofnewengland], [Dep. of Mechanical and Aerospace Engineering University of New England, Australia, universityofnewengland], [Department of Statistics University of New England, Armidale, universityofnewengland], [Dep. of Psychology University of New England, New South Wales, universityofnewengland], [Dept. of Psychiatry University of New England Armidale New South Wales Australia, universityofnewengland], [Dep of Nuclear Engineering University of New England Armidale Australia, universityofnewengland], [Sch of Information Technology University of New England Armidale New South Wales, universityofnewengland], [Department of Public Administration University of New England Australia, universityofnewengland], [Dep. of Medicine University of New England Armidale, universityofnewengland], [Dep. of Political Science University of New England New South Wales, universityofnewengland], [Department of Statistics University of New England, universityofnewengland], [New England University College of the University of Sydney, Armidale, New South Wales, Australia, newenglanduniversitycollegeoftheuniversityofsydney], [New England University College of the University of Sydney, Armidale, Australia, newenglanduniversitycollegeoftheuniversityofsydney], [New England University College of the University of Sydney, Armidale, New South Wales, newenglanduniversitycollegeoftheuniversityofsydney], [New England University College of the University of Sydney, Australia, newenglanduniversitycollegeoftheuniversityofsydney], [New England University College of the University of Sydney, Armidale, newenglanduniversitycollegeoftheuniversityofsydney], [New England University College of the University of Sydney, New South Wales, newenglanduniversitycollegeoftheuniversityofsydney], [New England University College of the University of Sydney Armidale New South Wales Australia, newenglanduniversitycollegeoftheuniversityofsydney], [New England University College of the University of Sydney Armidale Australia, newenglanduniversitycollegeoftheuniversityofsydney], [New England University College of the University of Sydney Armidale New South Wales, newenglanduniversitycollegeoftheuniversityofsydney], ...]\n",
              "4                                                                                                                                                                                                                                                                                                                                                                                                                                                                                                                                                                                                                                                                                                                                                                                                                                                                                                                                                                                                                                                                                                                                                                                                                                                                                                                                                                                                                                                                                                                                                                                                                                                                                                                                                                                                                                                                                                                                                                                                                                                                                                                                                                                                                                                                                                                                                      [[Griffith University, Brisbane, Queensland, Australia, griffithuniversity], [Griffith University, Brisbane, Australia, griffithuniversity], [Griffith University, Brisbane, Queensland, griffithuniversity], [Griffith University, Australia, griffithuniversity], [Griffith University, Brisbane, griffithuniversity], [Griffith University, Queensland, griffithuniversity], [Griffith University Brisbane Queensland Australia, griffithuniversity], [Griffith University Brisbane Australia, griffithuniversity], [Griffith University Brisbane Queensland, griffithuniversity], [Griffith University Australia, griffithuniversity], [Griffith University Brisbane, griffithuniversity], [Griffith University Queensland, griffithuniversity], [Griffith University, griffithuniversity], [Griffith University Dep of Biomedical Engineering, Brisbane, Queensland, Australia, griffithuniversity], [Griffith University Dept of Biology, Brisbane, Australia, griffithuniversity], [Griffith University Dept. of Biological Sciences, Brisbane, Queensland, griffithuniversity], [Griffith University Dep. of Electrical Engineering, Australia, griffithuniversity], [Griffith University Dept of Chemistry, Brisbane, griffithuniversity], [Griffith University Dept. of English, Queensland, griffithuniversity], [Griffith University Dep of Surgery Brisbane Queensland Australia, griffithuniversity], [Griffith University Dep of Information Technology Brisbane Australia, griffithuniversity], [Griffith University Department of History Brisbane Queensland, griffithuniversity], [Griffith University Dep of Communication Australia, griffithuniversity], [Griffith University Department of Industrial & Systems Engineering Brisbane, griffithuniversity], [Griffith University Dep. of Applied Mechanics Queensland, griffithuniversity], [Griffith University College of Education, griffithuniversity], [Sch of Veterinary Medicine Griffith University, Brisbane, Queensland, Australia, griffithuniversity], [Dep. of Applied Mechanics Griffith University, Brisbane, Australia, griffithuniversity], [Department of Biological Sciences Griffith University, Brisbane, Queensland, griffithuniversity], [Sch. of Natural Resources Griffith University, Australia, griffithuniversity], [Dep. of Environmental Engineering Griffith University, Brisbane, griffithuniversity], [School of Economics Griffith University, Queensland, griffithuniversity], [Dept. of Environmental Engineering Griffith University Brisbane Queensland Australia, griffithuniversity], [School of Medicine Griffith University Brisbane Australia, griffithuniversity], [Dept. of Foreign Languages and Literatures Griffith University Brisbane Queensland, griffithuniversity], [Department of Materials Science and Engineering Griffith University Australia, griffithuniversity], [School of Dentistry Griffith University Brisbane, griffithuniversity], [Dep of Interdisciplinary Studies Griffith University Queensland, griffithuniversity], [Dept of Civil, Construction and Environmental Engineering Griffith University, griffithuniversity], [Griffith University Department of Chemical and Biomolecular Engineering, Brisbane, Queensland, Australia, griffithuniversity], [Griffith University Dep. of Biochemistry, Brisbane, Australia, griffithuniversity], [Griffith University Dep of Sociology and Anthropology, Brisbane, Queensland, griffithuniversity], [Griffith University Department of Psychology, Australia, griffithuniversity], [Griffith University Dept of Internal Medicine, Brisbane, griffithuniversity], [Griffith University Sch. of Textiles, Queensland, griffithuniversity], [Griffith University Dep. of Biochemistry Brisbane Queensland Australia, griffithuniversity], [Griffith University Dep. of Applied Science Brisbane Australia, griffithuniversity], [Griffith University Sch. of Information Technology Brisbane Queensland, griffithuniversity], [Griffith University Dep of Applied Science Australia, griffithuniversity], [Griffith University Dep of Industrial & Systems Engineering Brisbane, griffithuniversity], [Griffith University Dep. of History Queensland, griffithuniversity], [Griffith University Dep of Environmental Engineering, griffithuniversity], [Dept of Materials Science and Engineering Griffith University, Brisbane, Queensland, Australia, griffithuniversity], [Dep of Nuclear Engineering Griffith University, Brisbane, Australia, griffithuniversity], [Dep of Electrical and Computer Engineering Griffith University, Brisbane, Queensland, griffithuniversity], [Dept of Medicine Griffith University, Australia, griffithuniversity], [Dept of Medicine Griffith University, Brisbane, griffithuniversity], [College of Textiles Griffith University, Queensland, griffithuniversity], [Dept of Marine, Earth, and Atmospheric Sciences Griffith University Brisbane Queensland Australia, griffithuniversity], [Dep of Surgery Griffith University Brisbane Australia, griffithuniversity], [Dep of Electrical and Computer Engineering Griffith University Brisbane Queensland, griffithuniversity], [Department of Applied Science Griffith University Australia, griffithuniversity], [School of Medicine Griffith University Brisbane, griffithuniversity], [Dept of Environmental Engineering Griffith University Queensland, griffithuniversity], [Dept of Biological and Agricultural Engineering Griffith University, griffithuniversity], [Griffith University Department of Environmental Engineering, Brisbane, Queensland, Australia, griffithuniversity], [Griffith University Dep of Information Technology, Brisbane, Australia, griffithuniversity], [Griffith University Sch. of Medicine, Brisbane, Queensland, griffithuniversity], [Griffith University Dept of Foreign Languages and Literatures, Australia, griffithuniversity], [Griffith University Dep of Marine, Earth, and Atmospheric Sciences, Brisbane, griffithuniversity], [Griffith University Department of Biological Sciences, Queensland, griffithuniversity], [Griffith University Dep of Political Science Brisbane Queensland Australia, griffithuniversity], [Griffith University Dept of Chemical and Biomolecular Engineering Brisbane Australia, griffithuniversity], [Griffith University College of Humanities and Social Sciences Brisbane Queensland, griffithuniversity], [Griffith University Dep of Civil, Construction and Environmental Engineering Australia, griffithuniversity], [Griffith University School of Engineering Brisbane, griffithuniversity], [Griffith University Dep. of Medicine Queensland, griffithuniversity], [Griffith University Dept of History, griffithuniversity], [Dep of Biomedical Engineering Griffith University, Brisbane, Queensland, Australia, griffithuniversity], [Department of History Griffith University, Brisbane, Australia, griffithuniversity], [School of Business Griffith University, Brisbane, Queensland, griffithuniversity], [Dep. of Environmental Engineering Griffith University, Australia, griffithuniversity], [Department of Applied Mechanics Griffith University, Brisbane, griffithuniversity], [Dept. of Interdisciplinary Studies Griffith University, Queensland, griffithuniversity], [Dep of Biological Sciences Griffith University Brisbane Queensland Australia, griffithuniversity], [Dept. of Communication Griffith University Brisbane Australia, griffithuniversity], [School of Economics Griffith University Brisbane Queensland, griffithuniversity], [Sch of Chemical Engineering & Technology Griffith University Australia, griffithuniversity], [Dep. of Sociology and Anthropology Griffith University Brisbane, griffithuniversity], [Sch of Dentistry Griffith University Queensland, griffithuniversity], [Department of Chemistry Griffith University, griffithuniversity]]\n",
              "Name: aff_string, dtype: object"
            ],
            "text/html": [
              "<div>\n",
              "<style scoped>\n",
              "    .dataframe tbody tr th:only-of-type {\n",
              "        vertical-align: middle;\n",
              "    }\n",
              "\n",
              "    .dataframe tbody tr th {\n",
              "        vertical-align: top;\n",
              "    }\n",
              "\n",
              "    .dataframe thead th {\n",
              "        text-align: right;\n",
              "    }\n",
              "</style>\n",
              "<table border=\"1\" class=\"dataframe\">\n",
              "  <thead>\n",
              "    <tr style=\"text-align: right;\">\n",
              "      <th></th>\n",
              "      <th>aff_string</th>\n",
              "    </tr>\n",
              "  </thead>\n",
              "  <tbody>\n",
              "    <tr>\n",
              "      <th>0</th>\n",
              "      <td>[[RMIT University, Melbourne, Victoria, Australia, rmituniversity], [RMIT University, Melbourne, Australia, rmituniversity], [RMIT University, Melbourne, Victoria, rmituniversity], [RMIT University, Australia, rmituniversity], [RMIT University, Melbourne, rmituniversity], [RMIT University, Victoria, rmituniversity], [RMIT University Melbourne Victoria Australia, rmituniversity], [RMIT University Melbourne Australia, rmituniversity], [RMIT University Melbourne Victoria, rmituniversity], [RMIT University Australia, rmituniversity], [RMIT University Melbourne, rmituniversity], [RMIT University Victoria, rmituniversity], [RMIT University, rmituniversity], [RMIT University Dept. of Environmental Engineering, Melbourne, Victoria, Australia, rmituniversity], [RMIT University Dep of IT, Melbourne, Australia, rmituniversity], [RMIT University Dept of Biological and Agricultural Engineering, Melbourne, Victoria, rmituniversity], [RMIT University Dep. of IT, Australia, rmituniversity], [RMIT University Department of English, Melbourne, rmituniversity], [RMIT University Dep of Thoracic and Cardiovascular Surgery, Victoria, rmituniversity], [RMIT University Sch of Law Melbourne Victoria Australia, rmituniversity], [RMIT University Dep of Biological Sciences Melbourne Australia, rmituniversity], [RMIT University Dep. of Communication Melbourne Victoria, rmituniversity], [RMIT University Dept. of Aerospace Engineering Australia, rmituniversity], [RMIT University Dept of Psychiatry Melbourne, rmituniversity], [RMIT University Department of Foreign Languages and Literatures Victoria, rmituniversity], [RMIT University Dep of Statistics, rmituniversity], [Sch. of Engineering RMIT University, Melbourne, Victoria, Australia, rmituniversity], [Dep. of Computer Science RMIT University, Melbourne, Australia, rmituniversity], [Dep. of Electrical and Computer Engineering RMIT University, Melbourne, Victoria, rmituniversity], [Dep of Chemical and Biomolecular Engineering RMIT University, Australia, rmituniversity], [Dep. of Computer Science RMIT University, Melbourne, rmituniversity], [Sch of Chemical Engineering &amp; Technology RMIT University, Victoria, rmituniversity], [Dep. of Applied Science RMIT University Melbourne Victoria Australia, rmituniversity], [Dept. of Political Science RMIT University Melbourne Australia, rmituniversity], [Dep of IT RMIT University Melbourne Victoria, rmituniversity], [Sch of Veterinary Medicine RMIT University Australia, rmituniversity], [Department of Biological and Agricultural Engineering RMIT University Melbourne, rmituniversity], [Dep. of Psychology RMIT University Victoria, rmituniversity], [Dept. of Philosophy and Religious Studies RMIT University, rmituniversity], [RMIT University Dept. of Chemical and Biomolecular Engineering, Melbourne, Victoria, Australia, rmituniversity], [RMIT University Dep of Applied Science, Melbourne, Australia, rmituniversity], [RMIT University Department of Sociology and Anthropology, Melbourne, Victoria, rmituniversity], [RMIT University Sch of Design, Australia, rmituniversity], [RMIT University Dept. of Applied Mechanics, Melbourne, rmituniversity], [RMIT University College of Management, Victoria, rmituniversity], [RMIT University Department of Medicine Melbourne Victoria Australia, rmituniversity], [RMIT University Dep of Communication Melbourne Australia, rmituniversity], [RMIT University Dept. of Biochemistry Melbourne Victoria, rmituniversity], [RMIT University School of Engineering Australia, rmituniversity], [RMIT University Department of Biomedical Engineering Melbourne, rmituniversity], [RMIT University Dept. of Physics Victoria, rmituniversity], [RMIT University Department of Philosophy and Religious Studies, rmituniversity], [Department of Psychiatry RMIT University, Melbourne, Victoria, Australia, rmituniversity], [Dep of Biological Sciences RMIT University, Melbourne, Australia, rmituniversity], [Dep of Computer Science RMIT University, Melbourne, Victoria, rmituniversity], [Dep of Applied Mechanics RMIT University, Australia, rmituniversity], [College of IT RMIT University, Melbourne, rmituniversity], [Dep. of Biological and Agricultural Engineering RMIT University, Victoria, rmituniversity], [School of Information Technology RMIT University Melbourne Victoria Australia, rmituniversity], [School of Education RMIT University Melbourne Australia, rmituniversity], [School of Chemical Engineering &amp; Technology RMIT University Melbourne Victoria, rmituniversity], [Dept of Biological and Agricultural Engineering RMIT University Australia, rmituniversity], [Department of Materials Science and Engineering RMIT University Melbourne, rmituniversity], [Department of Environmental Engineering RMIT University Victoria, rmituniversity], [Dep. of Biomedical Engineering RMIT University, rmituniversity], [RMIT University Dept. of Surgery, Melbourne, Victoria, Australia, rmituniversity], [RMIT University School of Textiles, Melbourne, Australia, rmituniversity], [RMIT University Dept. of Agriculture, Melbourne, Victoria, rmituniversity], [RMIT University Dep. of Marine, Earth, and Atmospheric Sciences, Australia, rmituniversity], [RMIT University Dept. of Surgery, Melbourne, rmituniversity], [RMIT University Sch of Textiles, Victoria, rmituniversity], [RMIT University Department of Electrical Engineering Melbourne Victoria Australia, rmituniversity], [RMIT University Dep of Social Work Melbourne Australia, rmituniversity], [RMIT University Dept. of History Melbourne Victoria, rmituniversity], [RMIT University Dept of Civil Engineering Australia, rmituniversity], [RMIT University Dep. of Applied Science Melbourne, rmituniversity], [RMIT University Dep. of Chemistry Victoria, rmituniversity], [RMIT University Sch. of Physics, rmituniversity], [Dept. of Chemistry RMIT University, Melbourne, Victoria, Australia, rmituniversity], [Dep. of Mathematics RMIT University, Melbourne, Australia, rmituniversity], [Dep of Foreign Languages and Literatures RMIT University, Melbourne, Victoria, rmituniversity], [School of Business RMIT University, Australia, rmituniversity], [College of Veterinary Medicine RMIT University, Melbourne, rmituniversity], [Dept of Marine, Earth, and Atmospheric Sciences RMIT University, Victoria, rmituniversity], [Dept. of Electrical and Computer Engineering RMIT University Melbourne Victoria Australia, rmituniversity], [Sch of Engineering RMIT University Melbourne Australia, rmituniversity], [Dep of Philosophy and Religious Studies RMIT University Melbourne Victoria, rmituniversity], [School of Business RMIT University Australia, rmituniversity], [Dept. of Aerospace Engineering RMIT University Melbourne, rmituniversity], [Sch of Textiles RMIT University Victoria, rmituniversity], [School of Natural Resources RMIT University, rmituniversity], [Royal Melbourne Institute of Technology University, Melbourne, Victoria, Australia, royalmelbourneinstituteoftechnologyuniversity], [Royal Melbourne Institute of Technology University, Melbourne, Australia, royalmelbourneinstituteoftechnologyuniversity], [Royal Melbourne Institute of Technology University, Melbourne, Victoria, royalmelbourneinstituteoftechnologyuniversity], [Royal Melbourne Institute of Technology University, Australia, royalmelbourneinstituteoftechnologyuniversity], [Royal Melbourne Institute of Technology University, Melbourne, royalmelbourneinstituteoftechnologyuniversity], [Royal Melbourne Institute of Technology University, Victoria, royalmelbourneinstituteoftechnologyuniversity], [Royal Melbourne Institute of Technology University Melbourne Victoria Australia, royalmelbourneinstituteoftechnologyuniversity], [Royal Melbourne Institute of Technology University Melbourne Australia, royalmelbourneinstituteoftechnologyuniversity], [Royal Melbourne Institute of Technology University Melbourne Victoria, royalmelbourneinstituteoftechnologyuniversity], ...]</td>\n",
              "    </tr>\n",
              "    <tr>\n",
              "      <th>1</th>\n",
              "      <td>[[La Trobe University, Melbourne, Victoria, Australia, latrobeuniversity], [La Trobe University, Melbourne, Australia, latrobeuniversity], [La Trobe University, Melbourne, Victoria, latrobeuniversity], [La Trobe University, Australia, latrobeuniversity], [La Trobe University, Melbourne, latrobeuniversity], [La Trobe University, Victoria, latrobeuniversity], [La Trobe University Melbourne Victoria Australia, latrobeuniversity], [La Trobe University Melbourne Australia, latrobeuniversity], [La Trobe University Melbourne Victoria, latrobeuniversity], [La Trobe University Australia, latrobeuniversity], [La Trobe University Melbourne, latrobeuniversity], [La Trobe University Victoria, latrobeuniversity], [La Trobe University, latrobeuniversity], [La Trobe University School of Veterinary Medicine, Melbourne, Victoria, Australia, latrobeuniversity], [La Trobe University Dep of IT, Melbourne, Australia, latrobeuniversity], [La Trobe University Sch of Design, Melbourne, Victoria, latrobeuniversity], [La Trobe University College of Management, Australia, latrobeuniversity], [La Trobe University Sch of Medicine, Melbourne, latrobeuniversity], [La Trobe University Dept of Chemistry, Victoria, latrobeuniversity], [La Trobe University Dept of Electrical Engineering Melbourne Victoria Australia, latrobeuniversity], [La Trobe University Sch. of Engineering Melbourne Australia, latrobeuniversity], [La Trobe University Department of Psychiatry Melbourne Victoria, latrobeuniversity], [La Trobe University Dept of Mathematics Australia, latrobeuniversity], [La Trobe University Dep of Applied Science Melbourne, latrobeuniversity], [La Trobe University Dep of Psychiatry Victoria, latrobeuniversity], [La Trobe University Department of Thoracic and Cardiovascular Surgery, latrobeuniversity], [Sch of Natural Resources La Trobe University, Melbourne, Victoria, Australia, latrobeuniversity], [Sch. of Physics La Trobe University, Melbourne, Australia, latrobeuniversity], [Dep. of Civil, Construction and Environmental Engineering La Trobe University, Melbourne, Victoria, latrobeuniversity], [Dept. of Biological and Agricultural Engineering La Trobe University, Australia, latrobeuniversity], [Department of Communication La Trobe University, Melbourne, latrobeuniversity], [Dep. of History La Trobe University, Victoria, latrobeuniversity], [Sch. of Education La Trobe University Melbourne Victoria Australia, latrobeuniversity], [College of Veterinary Medicine La Trobe University Melbourne Australia, latrobeuniversity], [Department of Surgery La Trobe University Melbourne Victoria, latrobeuniversity], [Dep of Applied Mechanics La Trobe University Australia, latrobeuniversity], [Dep of Psychology La Trobe University Melbourne, latrobeuniversity], [Dept of Chemistry La Trobe University Victoria, latrobeuniversity], [School of Engineering La Trobe University, latrobeuniversity], [La Trobe University Dept. of Electrical Engineering, Melbourne, Victoria, Australia, latrobeuniversity], [La Trobe University Dep of Political Science, Melbourne, Australia, latrobeuniversity], [La Trobe University Dept. of Social Work, Melbourne, Victoria, latrobeuniversity], [La Trobe University Department of Computer Science, Australia, latrobeuniversity], [La Trobe University Dept. of Civil, Construction and Environmental Engineering, Melbourne, latrobeuniversity], [La Trobe University Dept. of Biomedical Engineering, Victoria, latrobeuniversity], [La Trobe University Dept. of Electrical Engineering Melbourne Victoria Australia, latrobeuniversity], [La Trobe University Dep. of Psychology Melbourne Australia, latrobeuniversity], [La Trobe University Department of Surgery Melbourne Victoria, latrobeuniversity], [La Trobe University Dep. of Applied Science Australia, latrobeuniversity], [La Trobe University Dep of IT Melbourne, latrobeuniversity], [La Trobe University Department of Interdisciplinary Studies Victoria, latrobeuniversity], [La Trobe University Dept of Biomedical Engineering, latrobeuniversity], [Dep. of Biological Sciences La Trobe University, Melbourne, Victoria, Australia, latrobeuniversity], [Dep. of Electrical and Computer Engineering La Trobe University, Melbourne, Australia, latrobeuniversity], [Sch of Natural Resources La Trobe University, Melbourne, Victoria, latrobeuniversity], [Department of Public Administration La Trobe University, Australia, latrobeuniversity], [Dep. of Mathematics La Trobe University, Melbourne, latrobeuniversity], [Department of Biochemistry La Trobe University, Victoria, latrobeuniversity], [Dept. of Biochemistry La Trobe University Melbourne Victoria Australia, latrobeuniversity], [Dep. of Surgery La Trobe University Melbourne Australia, latrobeuniversity], [Dept. of Biochemistry La Trobe University Melbourne Victoria, latrobeuniversity], [Dept of Marine, Earth, and Atmospheric Sciences La Trobe University Australia, latrobeuniversity], [Dept. of Mathematics La Trobe University Melbourne, latrobeuniversity], [Dept. of Applied Science La Trobe University Victoria, latrobeuniversity], [Dep. of Applied Mechanics La Trobe University, latrobeuniversity], [La Trobe University Dept of Psychology, Melbourne, Victoria, Australia, latrobeuniversity], [La Trobe University Dept of Internal Medicine, Melbourne, Australia, latrobeuniversity], [La Trobe University Dep. of Mathematics, Melbourne, Victoria, latrobeuniversity], [La Trobe University Dept of Environmental Engineering, Australia, latrobeuniversity], [La Trobe University Dep. of Nuclear Engineering, Melbourne, latrobeuniversity], [La Trobe University Sch of Veterinary Medicine, Victoria, latrobeuniversity], [La Trobe University Department of Psychology Melbourne Victoria Australia, latrobeuniversity], [La Trobe University Dep of Marine, Earth, and Atmospheric Sciences Melbourne Australia, latrobeuniversity], [La Trobe University Dep. of Civil, Construction and Environmental Engineering Melbourne Victoria, latrobeuniversity], [La Trobe University Dept of Chemical and Biomolecular Engineering Australia, latrobeuniversity], [La Trobe University Dep. of Aerospace Engineering Melbourne, latrobeuniversity], [La Trobe University Dep. of Electrical Engineering Victoria, latrobeuniversity], [La Trobe University College of IT, latrobeuniversity], [Sch. of Economics La Trobe University, Melbourne, Victoria, Australia, latrobeuniversity], [Dept. of Civil Engineering La Trobe University, Melbourne, Australia, latrobeuniversity], [Dept of Aerospace Engineering La Trobe University, Melbourne, Victoria, latrobeuniversity], [Dept of Foreign Languages and Literatures La Trobe University, Australia, latrobeuniversity], [Dep of Information Technology La Trobe University, Melbourne, latrobeuniversity], [Dep. of Biological and Agricultural Engineering La Trobe University, Victoria, latrobeuniversity], [Dep. of Agriculture La Trobe University Melbourne Victoria Australia, latrobeuniversity], [College of Management La Trobe University Melbourne Australia, latrobeuniversity], [Dept of Psychiatry La Trobe University Melbourne Victoria, latrobeuniversity], [Dept. of Environmental Engineering La Trobe University Australia, latrobeuniversity], [Department of Applied Science La Trobe University Melbourne, latrobeuniversity], [Dept of Nuclear Engineering La Trobe University Victoria, latrobeuniversity], [Dep of Environmental Engineering La Trobe University, latrobeuniversity]]</td>\n",
              "    </tr>\n",
              "    <tr>\n",
              "      <th>2</th>\n",
              "      <td>[[Victoria University, Melbourne, Victoria, Australia, victoriauniversity], [Victoria University, Melbourne, Australia, victoriauniversity], [Victoria University, Melbourne, Victoria, victoriauniversity], [Victoria University, Australia, victoriauniversity], [Victoria University, Melbourne, victoriauniversity], [Victoria University, Victoria, victoriauniversity], [Victoria University Melbourne Victoria Australia, victoriauniversity], [Victoria University Melbourne Australia, victoriauniversity], [Victoria University Melbourne Victoria, victoriauniversity], [Victoria University Australia, victoriauniversity], [Victoria University Melbourne, victoriauniversity], [Victoria University Victoria, victoriauniversity], [Victoria University, victoriauniversity], [Victoria University Dep of Marine, Earth, and Atmospheric Sciences, Melbourne, Victoria, Australia, victoriauniversity], [Victoria University Dep. of Interdisciplinary Studies, Melbourne, Australia, victoriauniversity], [Victoria University Dept. of English, Melbourne, Victoria, victoriauniversity], [Victoria University College of Textiles, Australia, victoriauniversity], [Victoria University Dept. of Applied Science, Melbourne, victoriauniversity], [Victoria University Department of Computer Science, Victoria, victoriauniversity], [Victoria University Dept of Statistics Melbourne Victoria Australia, victoriauniversity], [Victoria University Dep. of Medicine Melbourne Australia, victoriauniversity], [Victoria University Dep of Electrical Engineering Melbourne Victoria, victoriauniversity], [Victoria University Department of Civil, Construction and Environmental Engineering Australia, victoriauniversity], [Victoria University Dept. of Electrical and Computer Engineering Melbourne, victoriauniversity], [Victoria University Dept of Surgery Victoria, victoriauniversity], [Victoria University Department of Biochemistry, victoriauniversity], [Dep. of IT Victoria University, Melbourne, Victoria, Australia, victoriauniversity], [Dept. of Communication Victoria University, Melbourne, Australia, victoriauniversity], [Dept. of Biomedical Engineering Victoria University, Melbourne, Victoria, victoriauniversity], [Department of Psychiatry Victoria University, Australia, victoriauniversity], [Sch. of Education Victoria University, Melbourne, victoriauniversity], [College of Agriculture and Life Sciences Victoria University, Victoria, victoriauniversity], [Department of Public Administration Victoria University Melbourne Victoria Australia, victoriauniversity], [Dep of Psychiatry Victoria University Melbourne Australia, victoriauniversity], [Sch of Veterinary Medicine Victoria University Melbourne Victoria, victoriauniversity], [Department of Biological and Agricultural Engineering Victoria University Australia, victoriauniversity], [Dept of Materials Science and Engineering Victoria University Melbourne, victoriauniversity], [Sch. of Education Victoria University Victoria, victoriauniversity], [Dep of Statistics Victoria University, victoriauniversity], [Victoria University Dept. of Medicine, Melbourne, Victoria, Australia, victoriauniversity], [Victoria University Sch of Engineering, Melbourne, Australia, victoriauniversity], [Victoria University School of Engineering, Melbourne, Victoria, victoriauniversity], [Victoria University Dept of Social Work, Australia, victoriauniversity], [Victoria University Dept. of Social Work, Melbourne, victoriauniversity], [Victoria University Dep. of Psychology, Victoria, victoriauniversity], [Victoria University School of Engineering Melbourne Victoria Australia, victoriauniversity], [Victoria University Sch of Physics Melbourne Australia, victoriauniversity], [Victoria University Dep of Psychiatry Melbourne Victoria, victoriauniversity], [Victoria University Dept. of Mechanical and Aerospace Engineering Australia, victoriauniversity], [Victoria University Dep. of Political Science Melbourne, victoriauniversity], [Victoria University Dept. of Mechanical and Aerospace Engineering Victoria, victoriauniversity], [Victoria University Dept. of Aerospace Engineering, victoriauniversity], [Dept. of Electrical and Computer Engineering Victoria University, Melbourne, Victoria, Australia, victoriauniversity], [Sch. of Biochemistry Victoria University, Melbourne, Australia, victoriauniversity], [Dep of Agriculture Victoria University, Melbourne, Victoria, victoriauniversity], [Dept. of Psychology Victoria University, Australia, victoriauniversity], [Sch. of Textiles Victoria University, Melbourne, victoriauniversity], [Dep of Mechanical and Aerospace Engineering Victoria University, Victoria, victoriauniversity], [Dept of Computer Science Victoria University Melbourne Victoria Australia, victoriauniversity], [Dept. of Thoracic and Cardiovascular Surgery Victoria University Melbourne Australia, victoriauniversity], [Dept of History Victoria University Melbourne Victoria, victoriauniversity], [Dep. of Sociology and Anthropology Victoria University Australia, victoriauniversity], [Department of Communication Victoria University Melbourne, victoriauniversity], [Dept of Interdisciplinary Studies Victoria University Victoria, victoriauniversity], [Dep of Biology Victoria University, victoriauniversity], [Victoria University Dept of Applied Mechanics, Melbourne, Victoria, Australia, victoriauniversity], [Victoria University Dep. of Biomedical Engineering, Melbourne, Australia, victoriauniversity], [Victoria University College of IT, Melbourne, Victoria, victoriauniversity], [Victoria University Dept of Biological Sciences, Australia, victoriauniversity], [Victoria University Dept of Psychology, Melbourne, victoriauniversity], [Victoria University Dept of English, Victoria, victoriauniversity], [Victoria University Sch of Natural Resources Melbourne Victoria Australia, victoriauniversity], [Victoria University Department of Foreign Languages and Literatures Melbourne Australia, victoriauniversity], [Victoria University Dept of English Melbourne Victoria, victoriauniversity], [Victoria University Dept. of Nuclear Engineering Australia, victoriauniversity], [Victoria University Dep of Materials Science and Engineering Melbourne, victoriauniversity], [Victoria University School of Economics Victoria, victoriauniversity], [Victoria University Dept of Marine, Earth, and Atmospheric Sciences, victoriauniversity], [Department of Biomedical Engineering Victoria University, Melbourne, Victoria, Australia, victoriauniversity], [Dept. of Biochemistry Victoria University, Melbourne, Australia, victoriauniversity], [Dept. of Computer Science Victoria University, Melbourne, Victoria, victoriauniversity], [School of Veterinary Medicine Victoria University, Australia, victoriauniversity], [Department of Psychiatry Victoria University, Melbourne, victoriauniversity], [Dep. of Biochemistry Victoria University, Victoria, victoriauniversity], [Dep of Mathematics Victoria University Melbourne Victoria Australia, victoriauniversity], [Sch. of Economics Victoria University Melbourne Australia, victoriauniversity], [Sch of Veterinary Medicine Victoria University Melbourne Victoria, victoriauniversity], [Dept. of Mechanical and Aerospace Engineering Victoria University Australia, victoriauniversity], [Dep. of History Victoria University Melbourne, victoriauniversity], [Sch. of Design Victoria University Victoria, victoriauniversity], [Dept. of Biological Sciences Victoria University, victoriauniversity], [VU, Melbourne, Victoria, Australia, vu], [VU, Melbourne, Australia, vu], [VU, Melbourne, Victoria, vu], [VU, Australia, vu], [VU, Melbourne, vu], [VU, Victoria, vu], [VU Melbourne Victoria Australia, vu], [VU Melbourne Australia, vu], [VU Melbourne Victoria, vu], ...]</td>\n",
              "    </tr>\n",
              "    <tr>\n",
              "      <th>3</th>\n",
              "      <td>[[University of New England, Armidale, New South Wales, Australia, universityofnewengland], [University of New England, Armidale, Australia, universityofnewengland], [University of New England, Armidale, New South Wales, universityofnewengland], [University of New England, Australia, universityofnewengland], [University of New England, Armidale, universityofnewengland], [University of New England, New South Wales, universityofnewengland], [University of New England Armidale New South Wales Australia, universityofnewengland], [University of New England Armidale Australia, universityofnewengland], [University of New England Armidale New South Wales, universityofnewengland], [University of New England Australia, universityofnewengland], [University of New England Armidale, universityofnewengland], [University of New England New South Wales, universityofnewengland], [University of New England, universityofnewengland], [University of New England School of Natural Resources, Armidale, New South Wales, Australia, universityofnewengland], [University of New England Department of Physics, Armidale, Australia, universityofnewengland], [University of New England Dept. of IT, Armidale, New South Wales, universityofnewengland], [University of New England Sch of Dentistry, Australia, universityofnewengland], [University of New England Dept of Communication, Armidale, universityofnewengland], [University of New England Sch. of Economics, New South Wales, universityofnewengland], [University of New England Dep of Civil, Construction and Environmental Engineering Armidale New South Wales Australia, universityofnewengland], [University of New England Dep. of Sociology and Anthropology Armidale Australia, universityofnewengland], [University of New England Sch. of Business Armidale New South Wales, universityofnewengland], [University of New England Dep. of Aerospace Engineering Australia, universityofnewengland], [University of New England Department of Internal Medicine Armidale, universityofnewengland], [University of New England Dep of Sociology and Anthropology New South Wales, universityofnewengland], [University of New England Dep. of History, universityofnewengland], [Dep of Computer Science University of New England, Armidale, New South Wales, Australia, universityofnewengland], [Dep. of Information Technology University of New England, Armidale, Australia, universityofnewengland], [Sch. of Biochemistry University of New England, Armidale, New South Wales, universityofnewengland], [Dep of Political Science University of New England, Australia, universityofnewengland], [Department of Medicine University of New England, Armidale, universityofnewengland], [Department of Computer Science University of New England, New South Wales, universityofnewengland], [Dept of Thoracic and Cardiovascular Surgery University of New England Armidale New South Wales Australia, universityofnewengland], [Department of Biomedical Engineering University of New England Armidale Australia, universityofnewengland], [Dep of Computer Science University of New England Armidale New South Wales, universityofnewengland], [Dept of Foreign Languages and Literatures University of New England Australia, universityofnewengland], [School of Textiles University of New England Armidale, universityofnewengland], [Department of Surgery University of New England New South Wales, universityofnewengland], [Department of Thoracic and Cardiovascular Surgery University of New England, universityofnewengland], [University of New England Dept. of Political Science, Armidale, New South Wales, Australia, universityofnewengland], [University of New England Department of Biology, Armidale, Australia, universityofnewengland], [University of New England Sch. of Biochemistry, Armidale, New South Wales, universityofnewengland], [University of New England Dep of Industrial &amp; Systems Engineering, Australia, universityofnewengland], [University of New England Dep of Public Administration, Armidale, universityofnewengland], [University of New England College of Management, New South Wales, universityofnewengland], [University of New England Sch of Law Armidale New South Wales Australia, universityofnewengland], [University of New England Dept. of Interdisciplinary Studies Armidale Australia, universityofnewengland], [University of New England Department of Mechanical and Aerospace Engineering Armidale New South Wales, universityofnewengland], [University of New England School of Textiles Australia, universityofnewengland], [University of New England Dept of Political Science Armidale, universityofnewengland], [University of New England Sch. of Economics New South Wales, universityofnewengland], [University of New England Dep of IT, universityofnewengland], [Department of Electrical and Computer Engineering University of New England, Armidale, New South Wales, Australia, universityofnewengland], [Dept. of Sociology and Anthropology University of New England, Armidale, Australia, universityofnewengland], [Department of Computer Science University of New England, Armidale, New South Wales, universityofnewengland], [Dep of Chemical and Biomolecular Engineering University of New England, Australia, universityofnewengland], [Department of Social Work University of New England, Armidale, universityofnewengland], [Dept of Public Administration University of New England, New South Wales, universityofnewengland], [Dep of Agriculture University of New England Armidale New South Wales Australia, universityofnewengland], [Dept. of Statistics University of New England Armidale Australia, universityofnewengland], [Dept of English University of New England Armidale New South Wales, universityofnewengland], [Department of IT University of New England Australia, universityofnewengland], [Sch. of Information Technology University of New England Armidale, universityofnewengland], [Sch of Biochemistry University of New England New South Wales, universityofnewengland], [Department of Biochemistry University of New England, universityofnewengland], [University of New England Dep of Biological Sciences, Armidale, New South Wales, Australia, universityofnewengland], [University of New England Department of Interdisciplinary Studies, Armidale, Australia, universityofnewengland], [University of New England Department of Mathematics, Armidale, New South Wales, universityofnewengland], [University of New England Department of IT, Australia, universityofnewengland], [University of New England Department of Biological and Agricultural Engineering, Armidale, universityofnewengland], [University of New England Dep. of Civil, Construction and Environmental Engineering, New South Wales, universityofnewengland], [University of New England School of Biochemistry Armidale New South Wales Australia, universityofnewengland], [University of New England Department of IT Armidale Australia, universityofnewengland], [University of New England Dept. of Industrial &amp; Systems Engineering Armidale New South Wales, universityofnewengland], [University of New England Department of Political Science Australia, universityofnewengland], [University of New England School of Chemical Engineering &amp; Technology Armidale, universityofnewengland], [University of New England Dept of Communication New South Wales, universityofnewengland], [University of New England Department of Philosophy and Religious Studies, universityofnewengland], [Sch of Law University of New England, Armidale, New South Wales, Australia, universityofnewengland], [Dept. of Computer Science University of New England, Armidale, Australia, universityofnewengland], [Dep. of Communication University of New England, Armidale, New South Wales, universityofnewengland], [Dep. of Mechanical and Aerospace Engineering University of New England, Australia, universityofnewengland], [Department of Statistics University of New England, Armidale, universityofnewengland], [Dep. of Psychology University of New England, New South Wales, universityofnewengland], [Dept. of Psychiatry University of New England Armidale New South Wales Australia, universityofnewengland], [Dep of Nuclear Engineering University of New England Armidale Australia, universityofnewengland], [Sch of Information Technology University of New England Armidale New South Wales, universityofnewengland], [Department of Public Administration University of New England Australia, universityofnewengland], [Dep. of Medicine University of New England Armidale, universityofnewengland], [Dep. of Political Science University of New England New South Wales, universityofnewengland], [Department of Statistics University of New England, universityofnewengland], [New England University College of the University of Sydney, Armidale, New South Wales, Australia, newenglanduniversitycollegeoftheuniversityofsydney], [New England University College of the University of Sydney, Armidale, Australia, newenglanduniversitycollegeoftheuniversityofsydney], [New England University College of the University of Sydney, Armidale, New South Wales, newenglanduniversitycollegeoftheuniversityofsydney], [New England University College of the University of Sydney, Australia, newenglanduniversitycollegeoftheuniversityofsydney], [New England University College of the University of Sydney, Armidale, newenglanduniversitycollegeoftheuniversityofsydney], [New England University College of the University of Sydney, New South Wales, newenglanduniversitycollegeoftheuniversityofsydney], [New England University College of the University of Sydney Armidale New South Wales Australia, newenglanduniversitycollegeoftheuniversityofsydney], [New England University College of the University of Sydney Armidale Australia, newenglanduniversitycollegeoftheuniversityofsydney], [New England University College of the University of Sydney Armidale New South Wales, newenglanduniversitycollegeoftheuniversityofsydney], ...]</td>\n",
              "    </tr>\n",
              "    <tr>\n",
              "      <th>4</th>\n",
              "      <td>[[Griffith University, Brisbane, Queensland, Australia, griffithuniversity], [Griffith University, Brisbane, Australia, griffithuniversity], [Griffith University, Brisbane, Queensland, griffithuniversity], [Griffith University, Australia, griffithuniversity], [Griffith University, Brisbane, griffithuniversity], [Griffith University, Queensland, griffithuniversity], [Griffith University Brisbane Queensland Australia, griffithuniversity], [Griffith University Brisbane Australia, griffithuniversity], [Griffith University Brisbane Queensland, griffithuniversity], [Griffith University Australia, griffithuniversity], [Griffith University Brisbane, griffithuniversity], [Griffith University Queensland, griffithuniversity], [Griffith University, griffithuniversity], [Griffith University Dep of Biomedical Engineering, Brisbane, Queensland, Australia, griffithuniversity], [Griffith University Dept of Biology, Brisbane, Australia, griffithuniversity], [Griffith University Dept. of Biological Sciences, Brisbane, Queensland, griffithuniversity], [Griffith University Dep. of Electrical Engineering, Australia, griffithuniversity], [Griffith University Dept of Chemistry, Brisbane, griffithuniversity], [Griffith University Dept. of English, Queensland, griffithuniversity], [Griffith University Dep of Surgery Brisbane Queensland Australia, griffithuniversity], [Griffith University Dep of Information Technology Brisbane Australia, griffithuniversity], [Griffith University Department of History Brisbane Queensland, griffithuniversity], [Griffith University Dep of Communication Australia, griffithuniversity], [Griffith University Department of Industrial &amp; Systems Engineering Brisbane, griffithuniversity], [Griffith University Dep. of Applied Mechanics Queensland, griffithuniversity], [Griffith University College of Education, griffithuniversity], [Sch of Veterinary Medicine Griffith University, Brisbane, Queensland, Australia, griffithuniversity], [Dep. of Applied Mechanics Griffith University, Brisbane, Australia, griffithuniversity], [Department of Biological Sciences Griffith University, Brisbane, Queensland, griffithuniversity], [Sch. of Natural Resources Griffith University, Australia, griffithuniversity], [Dep. of Environmental Engineering Griffith University, Brisbane, griffithuniversity], [School of Economics Griffith University, Queensland, griffithuniversity], [Dept. of Environmental Engineering Griffith University Brisbane Queensland Australia, griffithuniversity], [School of Medicine Griffith University Brisbane Australia, griffithuniversity], [Dept. of Foreign Languages and Literatures Griffith University Brisbane Queensland, griffithuniversity], [Department of Materials Science and Engineering Griffith University Australia, griffithuniversity], [School of Dentistry Griffith University Brisbane, griffithuniversity], [Dep of Interdisciplinary Studies Griffith University Queensland, griffithuniversity], [Dept of Civil, Construction and Environmental Engineering Griffith University, griffithuniversity], [Griffith University Department of Chemical and Biomolecular Engineering, Brisbane, Queensland, Australia, griffithuniversity], [Griffith University Dep. of Biochemistry, Brisbane, Australia, griffithuniversity], [Griffith University Dep of Sociology and Anthropology, Brisbane, Queensland, griffithuniversity], [Griffith University Department of Psychology, Australia, griffithuniversity], [Griffith University Dept of Internal Medicine, Brisbane, griffithuniversity], [Griffith University Sch. of Textiles, Queensland, griffithuniversity], [Griffith University Dep. of Biochemistry Brisbane Queensland Australia, griffithuniversity], [Griffith University Dep. of Applied Science Brisbane Australia, griffithuniversity], [Griffith University Sch. of Information Technology Brisbane Queensland, griffithuniversity], [Griffith University Dep of Applied Science Australia, griffithuniversity], [Griffith University Dep of Industrial &amp; Systems Engineering Brisbane, griffithuniversity], [Griffith University Dep. of History Queensland, griffithuniversity], [Griffith University Dep of Environmental Engineering, griffithuniversity], [Dept of Materials Science and Engineering Griffith University, Brisbane, Queensland, Australia, griffithuniversity], [Dep of Nuclear Engineering Griffith University, Brisbane, Australia, griffithuniversity], [Dep of Electrical and Computer Engineering Griffith University, Brisbane, Queensland, griffithuniversity], [Dept of Medicine Griffith University, Australia, griffithuniversity], [Dept of Medicine Griffith University, Brisbane, griffithuniversity], [College of Textiles Griffith University, Queensland, griffithuniversity], [Dept of Marine, Earth, and Atmospheric Sciences Griffith University Brisbane Queensland Australia, griffithuniversity], [Dep of Surgery Griffith University Brisbane Australia, griffithuniversity], [Dep of Electrical and Computer Engineering Griffith University Brisbane Queensland, griffithuniversity], [Department of Applied Science Griffith University Australia, griffithuniversity], [School of Medicine Griffith University Brisbane, griffithuniversity], [Dept of Environmental Engineering Griffith University Queensland, griffithuniversity], [Dept of Biological and Agricultural Engineering Griffith University, griffithuniversity], [Griffith University Department of Environmental Engineering, Brisbane, Queensland, Australia, griffithuniversity], [Griffith University Dep of Information Technology, Brisbane, Australia, griffithuniversity], [Griffith University Sch. of Medicine, Brisbane, Queensland, griffithuniversity], [Griffith University Dept of Foreign Languages and Literatures, Australia, griffithuniversity], [Griffith University Dep of Marine, Earth, and Atmospheric Sciences, Brisbane, griffithuniversity], [Griffith University Department of Biological Sciences, Queensland, griffithuniversity], [Griffith University Dep of Political Science Brisbane Queensland Australia, griffithuniversity], [Griffith University Dept of Chemical and Biomolecular Engineering Brisbane Australia, griffithuniversity], [Griffith University College of Humanities and Social Sciences Brisbane Queensland, griffithuniversity], [Griffith University Dep of Civil, Construction and Environmental Engineering Australia, griffithuniversity], [Griffith University School of Engineering Brisbane, griffithuniversity], [Griffith University Dep. of Medicine Queensland, griffithuniversity], [Griffith University Dept of History, griffithuniversity], [Dep of Biomedical Engineering Griffith University, Brisbane, Queensland, Australia, griffithuniversity], [Department of History Griffith University, Brisbane, Australia, griffithuniversity], [School of Business Griffith University, Brisbane, Queensland, griffithuniversity], [Dep. of Environmental Engineering Griffith University, Australia, griffithuniversity], [Department of Applied Mechanics Griffith University, Brisbane, griffithuniversity], [Dept. of Interdisciplinary Studies Griffith University, Queensland, griffithuniversity], [Dep of Biological Sciences Griffith University Brisbane Queensland Australia, griffithuniversity], [Dept. of Communication Griffith University Brisbane Australia, griffithuniversity], [School of Economics Griffith University Brisbane Queensland, griffithuniversity], [Sch of Chemical Engineering &amp; Technology Griffith University Australia, griffithuniversity], [Dep. of Sociology and Anthropology Griffith University Brisbane, griffithuniversity], [Sch of Dentistry Griffith University Queensland, griffithuniversity], [Department of Chemistry Griffith University, griffithuniversity]]</td>\n",
              "    </tr>\n",
              "  </tbody>\n",
              "</table>\n",
              "</div><br><label><b>dtype:</b> object</label>"
            ]
          },
          "metadata": {},
          "execution_count": 28
        }
      ]
    },
    {
      "cell_type": "code",
      "source": [
        "ror_to_join['aff_string_len'] = ror_to_join['aff_string'].apply(len)\n",
        "ror_to_join_final = ror_to_join.explode(\"aff_string\").copy()\n",
        "ror_to_join.head(3)"
      ],
      "metadata": {
        "colab": {
          "base_uri": "https://localhost:8080/",
          "height": 1000
        },
        "id": "W6Ln7MrocU8B",
        "outputId": "7cb093c5-6da2-42b1-f7b3-24bc7995a928"
      },
      "id": "W6Ln7MrocU8B",
      "execution_count": null,
      "outputs": [
        {
          "output_type": "execute_result",
          "data": {
            "text/plain": [
              "      ror_id                 name  \\\n",
              "0  04ttjf776      RMIT University   \n",
              "1  01rxfrp27  La Trobe University   \n",
              "2  04j757h98  Victoria University   \n",
              "\n",
              "                                                aliases acronyms labels  \\\n",
              "0  [Royal Melbourne Institute of Technology University]   [RMIT]     []   \n",
              "1                                                    []       []     []   \n",
              "2                                                    []     [VU]     []   \n",
              "\n",
              "                                               country      types  \\\n",
              "0  {'country_code': 'AU', 'country_name': 'Australia'}  Education   \n",
              "1  {'country_code': 'AU', 'country_name': 'Australia'}  Education   \n",
              "2  {'country_code': 'AU', 'country_name': 'Australia'}  Education   \n",
              "\n",
              "                                                                                                                                                                                                                                                                                                                                                                                                                                                                                                                                                                                                                                                                                                                                            address  \\\n",
              "0  {'line': None, 'lat': -37.806748, 'lng': 144.962573, 'postcode': None, 'primary': False, 'city': 'Melbourne', 'state': 'Victoria', 'state_code': 'AU-VIC', 'country_geonames_id': 2077456, 'geonames_city': {'id': 2158177, 'city': 'Melbourne', 'nuts_level1': {'code': None, 'name': None}, 'nuts_level2': {'code': None, 'name': None}, 'nuts_level3': {'code': None, 'name': None}, 'geonames_admin1': {'id': 2145234, 'name': 'Victoria', 'ascii_name': 'Victoria', 'code': 'AU.07'}, 'geonames_admin2': {'id': 7839805, 'name': 'Melbourne', 'ascii_name': 'Melbourne', 'code': 'AU.07.24600'}, 'license': {'attribution': 'Data from geonames.org under a CC-BY 3.0 license', 'license': 'http://creativecommons.org/licenses/by/3.0/'}}}   \n",
              "1   {'line': None, 'lat': -37.72179, 'lng': 145.047909, 'postcode': None, 'primary': False, 'city': 'Melbourne', 'state': 'Victoria', 'state_code': 'AU-VIC', 'country_geonames_id': 2077456, 'geonames_city': {'id': 2158177, 'city': 'Melbourne', 'nuts_level1': {'code': None, 'name': None}, 'nuts_level2': {'code': None, 'name': None}, 'nuts_level3': {'code': None, 'name': None}, 'geonames_admin1': {'id': 2145234, 'name': 'Victoria', 'ascii_name': 'Victoria', 'code': 'AU.07'}, 'geonames_admin2': {'id': 7839805, 'name': 'Melbourne', 'ascii_name': 'Melbourne', 'code': 'AU.07.24600'}, 'license': {'attribution': 'Data from geonames.org under a CC-BY 3.0 license', 'license': 'http://creativecommons.org/licenses/by/3.0/'}}}   \n",
              "2       {'line': None, 'lat': -37.794167, 'lng': 144.9, 'postcode': None, 'primary': False, 'city': 'Melbourne', 'state': 'Victoria', 'state_code': 'AU-VIC', 'country_geonames_id': 2077456, 'geonames_city': {'id': 2158177, 'city': 'Melbourne', 'nuts_level1': {'code': None, 'name': None}, 'nuts_level2': {'code': None, 'name': None}, 'nuts_level3': {'code': None, 'name': None}, 'geonames_admin1': {'id': 2145234, 'name': 'Victoria', 'ascii_name': 'Victoria', 'code': 'AU.07'}, 'geonames_admin2': {'id': 7839805, 'name': 'Melbourne', 'ascii_name': 'Melbourne', 'code': 'AU.07.24600'}, 'license': {'attribution': 'Data from geonames.org under a CC-BY 3.0 license', 'license': 'http://creativecommons.org/licenses/by/3.0/'}}}   \n",
              "\n",
              "   alias_len  acronyms_len  labels_len  address_len country_code country_name  \\\n",
              "0          1             1           0            1           AU    Australia   \n",
              "1          0             0           0            1           AU    Australia   \n",
              "2          0             1           0            1           AU    Australia   \n",
              "\n",
              "        city     state    region          institution  \\\n",
              "0  Melbourne  Victoria  Victoria      RMIT University   \n",
              "1  Melbourne  Victoria  Victoria  La Trobe University   \n",
              "2  Melbourne  Victoria  Victoria  Victoria University   \n",
              "\n",
              "                                                                    affs  \\\n",
              "0  [RMIT University, Royal Melbourne Institute of Technology University]   \n",
              "1                                                  [La Trobe University]   \n",
              "2                                                  [Victoria University]   \n",
              "\n",
              "                                                                                                                                                                                                                                                                                                                                                                                                                                                                                                                                                                                                                                                                                                                                                                                                                                                                                                                                                                                                                                                                                                                                                                                                                                                                                                                                                                                                                                                                                                                                                                                                                                                                                                                                                                                                                                                                                                                                                                                                                                                                                                                                                                                                                                                                                                                                                                                                                                                                                                                                                                                                                                                                                                                                                                                                                                                                                                                                                                                                                                                                                                                                                                                                                                                                                                                                                                                                                                                                                                                                                                                                                                                                                                                                                                                                                                                                                                                                                                                                                                                                                                                                                                                                                                                                                                                                                                                                                                                                                                                                                                                                                                                                                                                                                                                                                                                                                                                                                                                                                                                                                                                                                                                                                                                                                                                                                                                                                                                                                                                                                                                                                                                                                                                                                                                                                                                                                                                                                                                                                                                                                                                                                                                                                                                                                                                                                                                                                                                                                                                                                                                                                                                                                                                                                                                                                                                                                                                                                                                                                                                                                                                                                                                                                                                                                                                                                                                                                                                                                                                                                                                                                                                                                                                                                                                                                                                                                                                                                                                                                                                                                                                                                                                                                                aff_string  \\\n",
              "0  [[RMIT University, Melbourne, Victoria, Australia, rmituniversity], [RMIT University, Melbourne, Australia, rmituniversity], [RMIT University, Melbourne, Victoria, rmituniversity], [RMIT University, Australia, rmituniversity], [RMIT University, Melbourne, rmituniversity], [RMIT University, Victoria, rmituniversity], [RMIT University Melbourne Victoria Australia, rmituniversity], [RMIT University Melbourne Australia, rmituniversity], [RMIT University Melbourne Victoria, rmituniversity], [RMIT University Australia, rmituniversity], [RMIT University Melbourne, rmituniversity], [RMIT University Victoria, rmituniversity], [RMIT University, rmituniversity], [RMIT University Dept. of Environmental Engineering, Melbourne, Victoria, Australia, rmituniversity], [RMIT University Dep of IT, Melbourne, Australia, rmituniversity], [RMIT University Dept of Biological and Agricultural Engineering, Melbourne, Victoria, rmituniversity], [RMIT University Dep. of IT, Australia, rmituniversity], [RMIT University Department of English, Melbourne, rmituniversity], [RMIT University Dep of Thoracic and Cardiovascular Surgery, Victoria, rmituniversity], [RMIT University Sch of Law Melbourne Victoria Australia, rmituniversity], [RMIT University Dep of Biological Sciences Melbourne Australia, rmituniversity], [RMIT University Dep. of Communication Melbourne Victoria, rmituniversity], [RMIT University Dept. of Aerospace Engineering Australia, rmituniversity], [RMIT University Dept of Psychiatry Melbourne, rmituniversity], [RMIT University Department of Foreign Languages and Literatures Victoria, rmituniversity], [RMIT University Dep of Statistics, rmituniversity], [Sch. of Engineering RMIT University, Melbourne, Victoria, Australia, rmituniversity], [Dep. of Computer Science RMIT University, Melbourne, Australia, rmituniversity], [Dep. of Electrical and Computer Engineering RMIT University, Melbourne, Victoria, rmituniversity], [Dep of Chemical and Biomolecular Engineering RMIT University, Australia, rmituniversity], [Dep. of Computer Science RMIT University, Melbourne, rmituniversity], [Sch of Chemical Engineering & Technology RMIT University, Victoria, rmituniversity], [Dep. of Applied Science RMIT University Melbourne Victoria Australia, rmituniversity], [Dept. of Political Science RMIT University Melbourne Australia, rmituniversity], [Dep of IT RMIT University Melbourne Victoria, rmituniversity], [Sch of Veterinary Medicine RMIT University Australia, rmituniversity], [Department of Biological and Agricultural Engineering RMIT University Melbourne, rmituniversity], [Dep. of Psychology RMIT University Victoria, rmituniversity], [Dept. of Philosophy and Religious Studies RMIT University, rmituniversity], [RMIT University Dept. of Chemical and Biomolecular Engineering, Melbourne, Victoria, Australia, rmituniversity], [RMIT University Dep of Applied Science, Melbourne, Australia, rmituniversity], [RMIT University Department of Sociology and Anthropology, Melbourne, Victoria, rmituniversity], [RMIT University Sch of Design, Australia, rmituniversity], [RMIT University Dept. of Applied Mechanics, Melbourne, rmituniversity], [RMIT University College of Management, Victoria, rmituniversity], [RMIT University Department of Medicine Melbourne Victoria Australia, rmituniversity], [RMIT University Dep of Communication Melbourne Australia, rmituniversity], [RMIT University Dept. of Biochemistry Melbourne Victoria, rmituniversity], [RMIT University School of Engineering Australia, rmituniversity], [RMIT University Department of Biomedical Engineering Melbourne, rmituniversity], [RMIT University Dept. of Physics Victoria, rmituniversity], [RMIT University Department of Philosophy and Religious Studies, rmituniversity], [Department of Psychiatry RMIT University, Melbourne, Victoria, Australia, rmituniversity], [Dep of Biological Sciences RMIT University, Melbourne, Australia, rmituniversity], [Dep of Computer Science RMIT University, Melbourne, Victoria, rmituniversity], [Dep of Applied Mechanics RMIT University, Australia, rmituniversity], [College of IT RMIT University, Melbourne, rmituniversity], [Dep. of Biological and Agricultural Engineering RMIT University, Victoria, rmituniversity], [School of Information Technology RMIT University Melbourne Victoria Australia, rmituniversity], [School of Education RMIT University Melbourne Australia, rmituniversity], [School of Chemical Engineering & Technology RMIT University Melbourne Victoria, rmituniversity], [Dept of Biological and Agricultural Engineering RMIT University Australia, rmituniversity], [Department of Materials Science and Engineering RMIT University Melbourne, rmituniversity], [Department of Environmental Engineering RMIT University Victoria, rmituniversity], [Dep. of Biomedical Engineering RMIT University, rmituniversity], [RMIT University Dept. of Surgery, Melbourne, Victoria, Australia, rmituniversity], [RMIT University School of Textiles, Melbourne, Australia, rmituniversity], [RMIT University Dept. of Agriculture, Melbourne, Victoria, rmituniversity], [RMIT University Dep. of Marine, Earth, and Atmospheric Sciences, Australia, rmituniversity], [RMIT University Dept. of Surgery, Melbourne, rmituniversity], [RMIT University Sch of Textiles, Victoria, rmituniversity], [RMIT University Department of Electrical Engineering Melbourne Victoria Australia, rmituniversity], [RMIT University Dep of Social Work Melbourne Australia, rmituniversity], [RMIT University Dept. of History Melbourne Victoria, rmituniversity], [RMIT University Dept of Civil Engineering Australia, rmituniversity], [RMIT University Dep. of Applied Science Melbourne, rmituniversity], [RMIT University Dep. of Chemistry Victoria, rmituniversity], [RMIT University Sch. of Physics, rmituniversity], [Dept. of Chemistry RMIT University, Melbourne, Victoria, Australia, rmituniversity], [Dep. of Mathematics RMIT University, Melbourne, Australia, rmituniversity], [Dep of Foreign Languages and Literatures RMIT University, Melbourne, Victoria, rmituniversity], [School of Business RMIT University, Australia, rmituniversity], [College of Veterinary Medicine RMIT University, Melbourne, rmituniversity], [Dept of Marine, Earth, and Atmospheric Sciences RMIT University, Victoria, rmituniversity], [Dept. of Electrical and Computer Engineering RMIT University Melbourne Victoria Australia, rmituniversity], [Sch of Engineering RMIT University Melbourne Australia, rmituniversity], [Dep of Philosophy and Religious Studies RMIT University Melbourne Victoria, rmituniversity], [School of Business RMIT University Australia, rmituniversity], [Dept. of Aerospace Engineering RMIT University Melbourne, rmituniversity], [Sch of Textiles RMIT University Victoria, rmituniversity], [School of Natural Resources RMIT University, rmituniversity], [Royal Melbourne Institute of Technology University, Melbourne, Victoria, Australia, royalmelbourneinstituteoftechnologyuniversity], [Royal Melbourne Institute of Technology University, Melbourne, Australia, royalmelbourneinstituteoftechnologyuniversity], [Royal Melbourne Institute of Technology University, Melbourne, Victoria, royalmelbourneinstituteoftechnologyuniversity], [Royal Melbourne Institute of Technology University, Australia, royalmelbourneinstituteoftechnologyuniversity], [Royal Melbourne Institute of Technology University, Melbourne, royalmelbourneinstituteoftechnologyuniversity], [Royal Melbourne Institute of Technology University, Victoria, royalmelbourneinstituteoftechnologyuniversity], [Royal Melbourne Institute of Technology University Melbourne Victoria Australia, royalmelbourneinstituteoftechnologyuniversity], [Royal Melbourne Institute of Technology University Melbourne Australia, royalmelbourneinstituteoftechnologyuniversity], [Royal Melbourne Institute of Technology University Melbourne Victoria, royalmelbourneinstituteoftechnologyuniversity], ...]   \n",
              "1                                                                                                                                                                                                                                                                                                                                                                                                                                                                                                               [[La Trobe University, Melbourne, Victoria, Australia, latrobeuniversity], [La Trobe University, Melbourne, Australia, latrobeuniversity], [La Trobe University, Melbourne, Victoria, latrobeuniversity], [La Trobe University, Australia, latrobeuniversity], [La Trobe University, Melbourne, latrobeuniversity], [La Trobe University, Victoria, latrobeuniversity], [La Trobe University Melbourne Victoria Australia, latrobeuniversity], [La Trobe University Melbourne Australia, latrobeuniversity], [La Trobe University Melbourne Victoria, latrobeuniversity], [La Trobe University Australia, latrobeuniversity], [La Trobe University Melbourne, latrobeuniversity], [La Trobe University Victoria, latrobeuniversity], [La Trobe University, latrobeuniversity], [La Trobe University School of Veterinary Medicine, Melbourne, Victoria, Australia, latrobeuniversity], [La Trobe University Dep of IT, Melbourne, Australia, latrobeuniversity], [La Trobe University Sch of Design, Melbourne, Victoria, latrobeuniversity], [La Trobe University College of Management, Australia, latrobeuniversity], [La Trobe University Sch of Medicine, Melbourne, latrobeuniversity], [La Trobe University Dept of Chemistry, Victoria, latrobeuniversity], [La Trobe University Dept of Electrical Engineering Melbourne Victoria Australia, latrobeuniversity], [La Trobe University Sch. of Engineering Melbourne Australia, latrobeuniversity], [La Trobe University Department of Psychiatry Melbourne Victoria, latrobeuniversity], [La Trobe University Dept of Mathematics Australia, latrobeuniversity], [La Trobe University Dep of Applied Science Melbourne, latrobeuniversity], [La Trobe University Dep of Psychiatry Victoria, latrobeuniversity], [La Trobe University Department of Thoracic and Cardiovascular Surgery, latrobeuniversity], [Sch of Natural Resources La Trobe University, Melbourne, Victoria, Australia, latrobeuniversity], [Sch. of Physics La Trobe University, Melbourne, Australia, latrobeuniversity], [Dep. of Civil, Construction and Environmental Engineering La Trobe University, Melbourne, Victoria, latrobeuniversity], [Dept. of Biological and Agricultural Engineering La Trobe University, Australia, latrobeuniversity], [Department of Communication La Trobe University, Melbourne, latrobeuniversity], [Dep. of History La Trobe University, Victoria, latrobeuniversity], [Sch. of Education La Trobe University Melbourne Victoria Australia, latrobeuniversity], [College of Veterinary Medicine La Trobe University Melbourne Australia, latrobeuniversity], [Department of Surgery La Trobe University Melbourne Victoria, latrobeuniversity], [Dep of Applied Mechanics La Trobe University Australia, latrobeuniversity], [Dep of Psychology La Trobe University Melbourne, latrobeuniversity], [Dept of Chemistry La Trobe University Victoria, latrobeuniversity], [School of Engineering La Trobe University, latrobeuniversity], [La Trobe University Dept. of Electrical Engineering, Melbourne, Victoria, Australia, latrobeuniversity], [La Trobe University Dep of Political Science, Melbourne, Australia, latrobeuniversity], [La Trobe University Dept. of Social Work, Melbourne, Victoria, latrobeuniversity], [La Trobe University Department of Computer Science, Australia, latrobeuniversity], [La Trobe University Dept. of Civil, Construction and Environmental Engineering, Melbourne, latrobeuniversity], [La Trobe University Dept. of Biomedical Engineering, Victoria, latrobeuniversity], [La Trobe University Dept. of Electrical Engineering Melbourne Victoria Australia, latrobeuniversity], [La Trobe University Dep. of Psychology Melbourne Australia, latrobeuniversity], [La Trobe University Department of Surgery Melbourne Victoria, latrobeuniversity], [La Trobe University Dep. of Applied Science Australia, latrobeuniversity], [La Trobe University Dep of IT Melbourne, latrobeuniversity], [La Trobe University Department of Interdisciplinary Studies Victoria, latrobeuniversity], [La Trobe University Dept of Biomedical Engineering, latrobeuniversity], [Dep. of Biological Sciences La Trobe University, Melbourne, Victoria, Australia, latrobeuniversity], [Dep. of Electrical and Computer Engineering La Trobe University, Melbourne, Australia, latrobeuniversity], [Sch of Natural Resources La Trobe University, Melbourne, Victoria, latrobeuniversity], [Department of Public Administration La Trobe University, Australia, latrobeuniversity], [Dep. of Mathematics La Trobe University, Melbourne, latrobeuniversity], [Department of Biochemistry La Trobe University, Victoria, latrobeuniversity], [Dept. of Biochemistry La Trobe University Melbourne Victoria Australia, latrobeuniversity], [Dep. of Surgery La Trobe University Melbourne Australia, latrobeuniversity], [Dept. of Biochemistry La Trobe University Melbourne Victoria, latrobeuniversity], [Dept of Marine, Earth, and Atmospheric Sciences La Trobe University Australia, latrobeuniversity], [Dept. of Mathematics La Trobe University Melbourne, latrobeuniversity], [Dept. of Applied Science La Trobe University Victoria, latrobeuniversity], [Dep. of Applied Mechanics La Trobe University, latrobeuniversity], [La Trobe University Dept of Psychology, Melbourne, Victoria, Australia, latrobeuniversity], [La Trobe University Dept of Internal Medicine, Melbourne, Australia, latrobeuniversity], [La Trobe University Dep. of Mathematics, Melbourne, Victoria, latrobeuniversity], [La Trobe University Dept of Environmental Engineering, Australia, latrobeuniversity], [La Trobe University Dep. of Nuclear Engineering, Melbourne, latrobeuniversity], [La Trobe University Sch of Veterinary Medicine, Victoria, latrobeuniversity], [La Trobe University Department of Psychology Melbourne Victoria Australia, latrobeuniversity], [La Trobe University Dep of Marine, Earth, and Atmospheric Sciences Melbourne Australia, latrobeuniversity], [La Trobe University Dep. of Civil, Construction and Environmental Engineering Melbourne Victoria, latrobeuniversity], [La Trobe University Dept of Chemical and Biomolecular Engineering Australia, latrobeuniversity], [La Trobe University Dep. of Aerospace Engineering Melbourne, latrobeuniversity], [La Trobe University Dep. of Electrical Engineering Victoria, latrobeuniversity], [La Trobe University College of IT, latrobeuniversity], [Sch. of Economics La Trobe University, Melbourne, Victoria, Australia, latrobeuniversity], [Dept. of Civil Engineering La Trobe University, Melbourne, Australia, latrobeuniversity], [Dept of Aerospace Engineering La Trobe University, Melbourne, Victoria, latrobeuniversity], [Dept of Foreign Languages and Literatures La Trobe University, Australia, latrobeuniversity], [Dep of Information Technology La Trobe University, Melbourne, latrobeuniversity], [Dep. of Biological and Agricultural Engineering La Trobe University, Victoria, latrobeuniversity], [Dep. of Agriculture La Trobe University Melbourne Victoria Australia, latrobeuniversity], [College of Management La Trobe University Melbourne Australia, latrobeuniversity], [Dept of Psychiatry La Trobe University Melbourne Victoria, latrobeuniversity], [Dept. of Environmental Engineering La Trobe University Australia, latrobeuniversity], [Department of Applied Science La Trobe University Melbourne, latrobeuniversity], [Dept of Nuclear Engineering La Trobe University Victoria, latrobeuniversity], [Dep of Environmental Engineering La Trobe University, latrobeuniversity]]   \n",
              "2                                                                                                                                                                        [[Victoria University, Melbourne, Victoria, Australia, victoriauniversity], [Victoria University, Melbourne, Australia, victoriauniversity], [Victoria University, Melbourne, Victoria, victoriauniversity], [Victoria University, Australia, victoriauniversity], [Victoria University, Melbourne, victoriauniversity], [Victoria University, Victoria, victoriauniversity], [Victoria University Melbourne Victoria Australia, victoriauniversity], [Victoria University Melbourne Australia, victoriauniversity], [Victoria University Melbourne Victoria, victoriauniversity], [Victoria University Australia, victoriauniversity], [Victoria University Melbourne, victoriauniversity], [Victoria University Victoria, victoriauniversity], [Victoria University, victoriauniversity], [Victoria University Dep of Marine, Earth, and Atmospheric Sciences, Melbourne, Victoria, Australia, victoriauniversity], [Victoria University Dep. of Interdisciplinary Studies, Melbourne, Australia, victoriauniversity], [Victoria University Dept. of English, Melbourne, Victoria, victoriauniversity], [Victoria University College of Textiles, Australia, victoriauniversity], [Victoria University Dept. of Applied Science, Melbourne, victoriauniversity], [Victoria University Department of Computer Science, Victoria, victoriauniversity], [Victoria University Dept of Statistics Melbourne Victoria Australia, victoriauniversity], [Victoria University Dep. of Medicine Melbourne Australia, victoriauniversity], [Victoria University Dep of Electrical Engineering Melbourne Victoria, victoriauniversity], [Victoria University Department of Civil, Construction and Environmental Engineering Australia, victoriauniversity], [Victoria University Dept. of Electrical and Computer Engineering Melbourne, victoriauniversity], [Victoria University Dept of Surgery Victoria, victoriauniversity], [Victoria University Department of Biochemistry, victoriauniversity], [Dep. of IT Victoria University, Melbourne, Victoria, Australia, victoriauniversity], [Dept. of Communication Victoria University, Melbourne, Australia, victoriauniversity], [Dept. of Biomedical Engineering Victoria University, Melbourne, Victoria, victoriauniversity], [Department of Psychiatry Victoria University, Australia, victoriauniversity], [Sch. of Education Victoria University, Melbourne, victoriauniversity], [College of Agriculture and Life Sciences Victoria University, Victoria, victoriauniversity], [Department of Public Administration Victoria University Melbourne Victoria Australia, victoriauniversity], [Dep of Psychiatry Victoria University Melbourne Australia, victoriauniversity], [Sch of Veterinary Medicine Victoria University Melbourne Victoria, victoriauniversity], [Department of Biological and Agricultural Engineering Victoria University Australia, victoriauniversity], [Dept of Materials Science and Engineering Victoria University Melbourne, victoriauniversity], [Sch. of Education Victoria University Victoria, victoriauniversity], [Dep of Statistics Victoria University, victoriauniversity], [Victoria University Dept. of Medicine, Melbourne, Victoria, Australia, victoriauniversity], [Victoria University Sch of Engineering, Melbourne, Australia, victoriauniversity], [Victoria University School of Engineering, Melbourne, Victoria, victoriauniversity], [Victoria University Dept of Social Work, Australia, victoriauniversity], [Victoria University Dept. of Social Work, Melbourne, victoriauniversity], [Victoria University Dep. of Psychology, Victoria, victoriauniversity], [Victoria University School of Engineering Melbourne Victoria Australia, victoriauniversity], [Victoria University Sch of Physics Melbourne Australia, victoriauniversity], [Victoria University Dep of Psychiatry Melbourne Victoria, victoriauniversity], [Victoria University Dept. of Mechanical and Aerospace Engineering Australia, victoriauniversity], [Victoria University Dep. of Political Science Melbourne, victoriauniversity], [Victoria University Dept. of Mechanical and Aerospace Engineering Victoria, victoriauniversity], [Victoria University Dept. of Aerospace Engineering, victoriauniversity], [Dept. of Electrical and Computer Engineering Victoria University, Melbourne, Victoria, Australia, victoriauniversity], [Sch. of Biochemistry Victoria University, Melbourne, Australia, victoriauniversity], [Dep of Agriculture Victoria University, Melbourne, Victoria, victoriauniversity], [Dept. of Psychology Victoria University, Australia, victoriauniversity], [Sch. of Textiles Victoria University, Melbourne, victoriauniversity], [Dep of Mechanical and Aerospace Engineering Victoria University, Victoria, victoriauniversity], [Dept of Computer Science Victoria University Melbourne Victoria Australia, victoriauniversity], [Dept. of Thoracic and Cardiovascular Surgery Victoria University Melbourne Australia, victoriauniversity], [Dept of History Victoria University Melbourne Victoria, victoriauniversity], [Dep. of Sociology and Anthropology Victoria University Australia, victoriauniversity], [Department of Communication Victoria University Melbourne, victoriauniversity], [Dept of Interdisciplinary Studies Victoria University Victoria, victoriauniversity], [Dep of Biology Victoria University, victoriauniversity], [Victoria University Dept of Applied Mechanics, Melbourne, Victoria, Australia, victoriauniversity], [Victoria University Dep. of Biomedical Engineering, Melbourne, Australia, victoriauniversity], [Victoria University College of IT, Melbourne, Victoria, victoriauniversity], [Victoria University Dept of Biological Sciences, Australia, victoriauniversity], [Victoria University Dept of Psychology, Melbourne, victoriauniversity], [Victoria University Dept of English, Victoria, victoriauniversity], [Victoria University Sch of Natural Resources Melbourne Victoria Australia, victoriauniversity], [Victoria University Department of Foreign Languages and Literatures Melbourne Australia, victoriauniversity], [Victoria University Dept of English Melbourne Victoria, victoriauniversity], [Victoria University Dept. of Nuclear Engineering Australia, victoriauniversity], [Victoria University Dep of Materials Science and Engineering Melbourne, victoriauniversity], [Victoria University School of Economics Victoria, victoriauniversity], [Victoria University Dept of Marine, Earth, and Atmospheric Sciences, victoriauniversity], [Department of Biomedical Engineering Victoria University, Melbourne, Victoria, Australia, victoriauniversity], [Dept. of Biochemistry Victoria University, Melbourne, Australia, victoriauniversity], [Dept. of Computer Science Victoria University, Melbourne, Victoria, victoriauniversity], [School of Veterinary Medicine Victoria University, Australia, victoriauniversity], [Department of Psychiatry Victoria University, Melbourne, victoriauniversity], [Dep. of Biochemistry Victoria University, Victoria, victoriauniversity], [Dep of Mathematics Victoria University Melbourne Victoria Australia, victoriauniversity], [Sch. of Economics Victoria University Melbourne Australia, victoriauniversity], [Sch of Veterinary Medicine Victoria University Melbourne Victoria, victoriauniversity], [Dept. of Mechanical and Aerospace Engineering Victoria University Australia, victoriauniversity], [Dep. of History Victoria University Melbourne, victoriauniversity], [Sch. of Design Victoria University Victoria, victoriauniversity], [Dept. of Biological Sciences Victoria University, victoriauniversity], [VU, Melbourne, Victoria, Australia, vu], [VU, Melbourne, Australia, vu], [VU, Melbourne, Victoria, vu], [VU, Australia, vu], [VU, Melbourne, vu], [VU, Victoria, vu], [VU Melbourne Victoria Australia, vu], [VU Melbourne Australia, vu], [VU Melbourne Victoria, vu], ...]   \n",
              "\n",
              "   aff_string_len  \n",
              "0             273  \n",
              "1              91  \n",
              "2             182  "
            ],
            "text/html": [
              "\n",
              "  <div id=\"df-d44a650e-ec6b-4433-a9ac-cddb24270bc9\" class=\"colab-df-container\">\n",
              "    <div>\n",
              "<style scoped>\n",
              "    .dataframe tbody tr th:only-of-type {\n",
              "        vertical-align: middle;\n",
              "    }\n",
              "\n",
              "    .dataframe tbody tr th {\n",
              "        vertical-align: top;\n",
              "    }\n",
              "\n",
              "    .dataframe thead th {\n",
              "        text-align: right;\n",
              "    }\n",
              "</style>\n",
              "<table border=\"1\" class=\"dataframe\">\n",
              "  <thead>\n",
              "    <tr style=\"text-align: right;\">\n",
              "      <th></th>\n",
              "      <th>ror_id</th>\n",
              "      <th>name</th>\n",
              "      <th>aliases</th>\n",
              "      <th>acronyms</th>\n",
              "      <th>labels</th>\n",
              "      <th>country</th>\n",
              "      <th>types</th>\n",
              "      <th>address</th>\n",
              "      <th>alias_len</th>\n",
              "      <th>acronyms_len</th>\n",
              "      <th>labels_len</th>\n",
              "      <th>address_len</th>\n",
              "      <th>country_code</th>\n",
              "      <th>country_name</th>\n",
              "      <th>city</th>\n",
              "      <th>state</th>\n",
              "      <th>region</th>\n",
              "      <th>institution</th>\n",
              "      <th>affs</th>\n",
              "      <th>aff_string</th>\n",
              "      <th>aff_string_len</th>\n",
              "    </tr>\n",
              "  </thead>\n",
              "  <tbody>\n",
              "    <tr>\n",
              "      <th>0</th>\n",
              "      <td>04ttjf776</td>\n",
              "      <td>RMIT University</td>\n",
              "      <td>[Royal Melbourne Institute of Technology University]</td>\n",
              "      <td>[RMIT]</td>\n",
              "      <td>[]</td>\n",
              "      <td>{'country_code': 'AU', 'country_name': 'Australia'}</td>\n",
              "      <td>Education</td>\n",
              "      <td>{'line': None, 'lat': -37.806748, 'lng': 144.962573, 'postcode': None, 'primary': False, 'city': 'Melbourne', 'state': 'Victoria', 'state_code': 'AU-VIC', 'country_geonames_id': 2077456, 'geonames_city': {'id': 2158177, 'city': 'Melbourne', 'nuts_level1': {'code': None, 'name': None}, 'nuts_level2': {'code': None, 'name': None}, 'nuts_level3': {'code': None, 'name': None}, 'geonames_admin1': {'id': 2145234, 'name': 'Victoria', 'ascii_name': 'Victoria', 'code': 'AU.07'}, 'geonames_admin2': {'id': 7839805, 'name': 'Melbourne', 'ascii_name': 'Melbourne', 'code': 'AU.07.24600'}, 'license': {'attribution': 'Data from geonames.org under a CC-BY 3.0 license', 'license': 'http://creativecommons.org/licenses/by/3.0/'}}}</td>\n",
              "      <td>1</td>\n",
              "      <td>1</td>\n",
              "      <td>0</td>\n",
              "      <td>1</td>\n",
              "      <td>AU</td>\n",
              "      <td>Australia</td>\n",
              "      <td>Melbourne</td>\n",
              "      <td>Victoria</td>\n",
              "      <td>Victoria</td>\n",
              "      <td>RMIT University</td>\n",
              "      <td>[RMIT University, Royal Melbourne Institute of Technology University]</td>\n",
              "      <td>[[RMIT University, Melbourne, Victoria, Australia, rmituniversity], [RMIT University, Melbourne, Australia, rmituniversity], [RMIT University, Melbourne, Victoria, rmituniversity], [RMIT University, Australia, rmituniversity], [RMIT University, Melbourne, rmituniversity], [RMIT University, Victoria, rmituniversity], [RMIT University Melbourne Victoria Australia, rmituniversity], [RMIT University Melbourne Australia, rmituniversity], [RMIT University Melbourne Victoria, rmituniversity], [RMIT University Australia, rmituniversity], [RMIT University Melbourne, rmituniversity], [RMIT University Victoria, rmituniversity], [RMIT University, rmituniversity], [RMIT University Dept. of Environmental Engineering, Melbourne, Victoria, Australia, rmituniversity], [RMIT University Dep of IT, Melbourne, Australia, rmituniversity], [RMIT University Dept of Biological and Agricultural Engineering, Melbourne, Victoria, rmituniversity], [RMIT University Dep. of IT, Australia, rmituniversity], [RMIT University Department of English, Melbourne, rmituniversity], [RMIT University Dep of Thoracic and Cardiovascular Surgery, Victoria, rmituniversity], [RMIT University Sch of Law Melbourne Victoria Australia, rmituniversity], [RMIT University Dep of Biological Sciences Melbourne Australia, rmituniversity], [RMIT University Dep. of Communication Melbourne Victoria, rmituniversity], [RMIT University Dept. of Aerospace Engineering Australia, rmituniversity], [RMIT University Dept of Psychiatry Melbourne, rmituniversity], [RMIT University Department of Foreign Languages and Literatures Victoria, rmituniversity], [RMIT University Dep of Statistics, rmituniversity], [Sch. of Engineering RMIT University, Melbourne, Victoria, Australia, rmituniversity], [Dep. of Computer Science RMIT University, Melbourne, Australia, rmituniversity], [Dep. of Electrical and Computer Engineering RMIT University, Melbourne, Victoria, rmituniversity], [Dep of Chemical and Biomolecular Engineering RMIT University, Australia, rmituniversity], [Dep. of Computer Science RMIT University, Melbourne, rmituniversity], [Sch of Chemical Engineering &amp; Technology RMIT University, Victoria, rmituniversity], [Dep. of Applied Science RMIT University Melbourne Victoria Australia, rmituniversity], [Dept. of Political Science RMIT University Melbourne Australia, rmituniversity], [Dep of IT RMIT University Melbourne Victoria, rmituniversity], [Sch of Veterinary Medicine RMIT University Australia, rmituniversity], [Department of Biological and Agricultural Engineering RMIT University Melbourne, rmituniversity], [Dep. of Psychology RMIT University Victoria, rmituniversity], [Dept. of Philosophy and Religious Studies RMIT University, rmituniversity], [RMIT University Dept. of Chemical and Biomolecular Engineering, Melbourne, Victoria, Australia, rmituniversity], [RMIT University Dep of Applied Science, Melbourne, Australia, rmituniversity], [RMIT University Department of Sociology and Anthropology, Melbourne, Victoria, rmituniversity], [RMIT University Sch of Design, Australia, rmituniversity], [RMIT University Dept. of Applied Mechanics, Melbourne, rmituniversity], [RMIT University College of Management, Victoria, rmituniversity], [RMIT University Department of Medicine Melbourne Victoria Australia, rmituniversity], [RMIT University Dep of Communication Melbourne Australia, rmituniversity], [RMIT University Dept. of Biochemistry Melbourne Victoria, rmituniversity], [RMIT University School of Engineering Australia, rmituniversity], [RMIT University Department of Biomedical Engineering Melbourne, rmituniversity], [RMIT University Dept. of Physics Victoria, rmituniversity], [RMIT University Department of Philosophy and Religious Studies, rmituniversity], [Department of Psychiatry RMIT University, Melbourne, Victoria, Australia, rmituniversity], [Dep of Biological Sciences RMIT University, Melbourne, Australia, rmituniversity], [Dep of Computer Science RMIT University, Melbourne, Victoria, rmituniversity], [Dep of Applied Mechanics RMIT University, Australia, rmituniversity], [College of IT RMIT University, Melbourne, rmituniversity], [Dep. of Biological and Agricultural Engineering RMIT University, Victoria, rmituniversity], [School of Information Technology RMIT University Melbourne Victoria Australia, rmituniversity], [School of Education RMIT University Melbourne Australia, rmituniversity], [School of Chemical Engineering &amp; Technology RMIT University Melbourne Victoria, rmituniversity], [Dept of Biological and Agricultural Engineering RMIT University Australia, rmituniversity], [Department of Materials Science and Engineering RMIT University Melbourne, rmituniversity], [Department of Environmental Engineering RMIT University Victoria, rmituniversity], [Dep. of Biomedical Engineering RMIT University, rmituniversity], [RMIT University Dept. of Surgery, Melbourne, Victoria, Australia, rmituniversity], [RMIT University School of Textiles, Melbourne, Australia, rmituniversity], [RMIT University Dept. of Agriculture, Melbourne, Victoria, rmituniversity], [RMIT University Dep. of Marine, Earth, and Atmospheric Sciences, Australia, rmituniversity], [RMIT University Dept. of Surgery, Melbourne, rmituniversity], [RMIT University Sch of Textiles, Victoria, rmituniversity], [RMIT University Department of Electrical Engineering Melbourne Victoria Australia, rmituniversity], [RMIT University Dep of Social Work Melbourne Australia, rmituniversity], [RMIT University Dept. of History Melbourne Victoria, rmituniversity], [RMIT University Dept of Civil Engineering Australia, rmituniversity], [RMIT University Dep. of Applied Science Melbourne, rmituniversity], [RMIT University Dep. of Chemistry Victoria, rmituniversity], [RMIT University Sch. of Physics, rmituniversity], [Dept. of Chemistry RMIT University, Melbourne, Victoria, Australia, rmituniversity], [Dep. of Mathematics RMIT University, Melbourne, Australia, rmituniversity], [Dep of Foreign Languages and Literatures RMIT University, Melbourne, Victoria, rmituniversity], [School of Business RMIT University, Australia, rmituniversity], [College of Veterinary Medicine RMIT University, Melbourne, rmituniversity], [Dept of Marine, Earth, and Atmospheric Sciences RMIT University, Victoria, rmituniversity], [Dept. of Electrical and Computer Engineering RMIT University Melbourne Victoria Australia, rmituniversity], [Sch of Engineering RMIT University Melbourne Australia, rmituniversity], [Dep of Philosophy and Religious Studies RMIT University Melbourne Victoria, rmituniversity], [School of Business RMIT University Australia, rmituniversity], [Dept. of Aerospace Engineering RMIT University Melbourne, rmituniversity], [Sch of Textiles RMIT University Victoria, rmituniversity], [School of Natural Resources RMIT University, rmituniversity], [Royal Melbourne Institute of Technology University, Melbourne, Victoria, Australia, royalmelbourneinstituteoftechnologyuniversity], [Royal Melbourne Institute of Technology University, Melbourne, Australia, royalmelbourneinstituteoftechnologyuniversity], [Royal Melbourne Institute of Technology University, Melbourne, Victoria, royalmelbourneinstituteoftechnologyuniversity], [Royal Melbourne Institute of Technology University, Australia, royalmelbourneinstituteoftechnologyuniversity], [Royal Melbourne Institute of Technology University, Melbourne, royalmelbourneinstituteoftechnologyuniversity], [Royal Melbourne Institute of Technology University, Victoria, royalmelbourneinstituteoftechnologyuniversity], [Royal Melbourne Institute of Technology University Melbourne Victoria Australia, royalmelbourneinstituteoftechnologyuniversity], [Royal Melbourne Institute of Technology University Melbourne Australia, royalmelbourneinstituteoftechnologyuniversity], [Royal Melbourne Institute of Technology University Melbourne Victoria, royalmelbourneinstituteoftechnologyuniversity], ...]</td>\n",
              "      <td>273</td>\n",
              "    </tr>\n",
              "    <tr>\n",
              "      <th>1</th>\n",
              "      <td>01rxfrp27</td>\n",
              "      <td>La Trobe University</td>\n",
              "      <td>[]</td>\n",
              "      <td>[]</td>\n",
              "      <td>[]</td>\n",
              "      <td>{'country_code': 'AU', 'country_name': 'Australia'}</td>\n",
              "      <td>Education</td>\n",
              "      <td>{'line': None, 'lat': -37.72179, 'lng': 145.047909, 'postcode': None, 'primary': False, 'city': 'Melbourne', 'state': 'Victoria', 'state_code': 'AU-VIC', 'country_geonames_id': 2077456, 'geonames_city': {'id': 2158177, 'city': 'Melbourne', 'nuts_level1': {'code': None, 'name': None}, 'nuts_level2': {'code': None, 'name': None}, 'nuts_level3': {'code': None, 'name': None}, 'geonames_admin1': {'id': 2145234, 'name': 'Victoria', 'ascii_name': 'Victoria', 'code': 'AU.07'}, 'geonames_admin2': {'id': 7839805, 'name': 'Melbourne', 'ascii_name': 'Melbourne', 'code': 'AU.07.24600'}, 'license': {'attribution': 'Data from geonames.org under a CC-BY 3.0 license', 'license': 'http://creativecommons.org/licenses/by/3.0/'}}}</td>\n",
              "      <td>0</td>\n",
              "      <td>0</td>\n",
              "      <td>0</td>\n",
              "      <td>1</td>\n",
              "      <td>AU</td>\n",
              "      <td>Australia</td>\n",
              "      <td>Melbourne</td>\n",
              "      <td>Victoria</td>\n",
              "      <td>Victoria</td>\n",
              "      <td>La Trobe University</td>\n",
              "      <td>[La Trobe University]</td>\n",
              "      <td>[[La Trobe University, Melbourne, Victoria, Australia, latrobeuniversity], [La Trobe University, Melbourne, Australia, latrobeuniversity], [La Trobe University, Melbourne, Victoria, latrobeuniversity], [La Trobe University, Australia, latrobeuniversity], [La Trobe University, Melbourne, latrobeuniversity], [La Trobe University, Victoria, latrobeuniversity], [La Trobe University Melbourne Victoria Australia, latrobeuniversity], [La Trobe University Melbourne Australia, latrobeuniversity], [La Trobe University Melbourne Victoria, latrobeuniversity], [La Trobe University Australia, latrobeuniversity], [La Trobe University Melbourne, latrobeuniversity], [La Trobe University Victoria, latrobeuniversity], [La Trobe University, latrobeuniversity], [La Trobe University School of Veterinary Medicine, Melbourne, Victoria, Australia, latrobeuniversity], [La Trobe University Dep of IT, Melbourne, Australia, latrobeuniversity], [La Trobe University Sch of Design, Melbourne, Victoria, latrobeuniversity], [La Trobe University College of Management, Australia, latrobeuniversity], [La Trobe University Sch of Medicine, Melbourne, latrobeuniversity], [La Trobe University Dept of Chemistry, Victoria, latrobeuniversity], [La Trobe University Dept of Electrical Engineering Melbourne Victoria Australia, latrobeuniversity], [La Trobe University Sch. of Engineering Melbourne Australia, latrobeuniversity], [La Trobe University Department of Psychiatry Melbourne Victoria, latrobeuniversity], [La Trobe University Dept of Mathematics Australia, latrobeuniversity], [La Trobe University Dep of Applied Science Melbourne, latrobeuniversity], [La Trobe University Dep of Psychiatry Victoria, latrobeuniversity], [La Trobe University Department of Thoracic and Cardiovascular Surgery, latrobeuniversity], [Sch of Natural Resources La Trobe University, Melbourne, Victoria, Australia, latrobeuniversity], [Sch. of Physics La Trobe University, Melbourne, Australia, latrobeuniversity], [Dep. of Civil, Construction and Environmental Engineering La Trobe University, Melbourne, Victoria, latrobeuniversity], [Dept. of Biological and Agricultural Engineering La Trobe University, Australia, latrobeuniversity], [Department of Communication La Trobe University, Melbourne, latrobeuniversity], [Dep. of History La Trobe University, Victoria, latrobeuniversity], [Sch. of Education La Trobe University Melbourne Victoria Australia, latrobeuniversity], [College of Veterinary Medicine La Trobe University Melbourne Australia, latrobeuniversity], [Department of Surgery La Trobe University Melbourne Victoria, latrobeuniversity], [Dep of Applied Mechanics La Trobe University Australia, latrobeuniversity], [Dep of Psychology La Trobe University Melbourne, latrobeuniversity], [Dept of Chemistry La Trobe University Victoria, latrobeuniversity], [School of Engineering La Trobe University, latrobeuniversity], [La Trobe University Dept. of Electrical Engineering, Melbourne, Victoria, Australia, latrobeuniversity], [La Trobe University Dep of Political Science, Melbourne, Australia, latrobeuniversity], [La Trobe University Dept. of Social Work, Melbourne, Victoria, latrobeuniversity], [La Trobe University Department of Computer Science, Australia, latrobeuniversity], [La Trobe University Dept. of Civil, Construction and Environmental Engineering, Melbourne, latrobeuniversity], [La Trobe University Dept. of Biomedical Engineering, Victoria, latrobeuniversity], [La Trobe University Dept. of Electrical Engineering Melbourne Victoria Australia, latrobeuniversity], [La Trobe University Dep. of Psychology Melbourne Australia, latrobeuniversity], [La Trobe University Department of Surgery Melbourne Victoria, latrobeuniversity], [La Trobe University Dep. of Applied Science Australia, latrobeuniversity], [La Trobe University Dep of IT Melbourne, latrobeuniversity], [La Trobe University Department of Interdisciplinary Studies Victoria, latrobeuniversity], [La Trobe University Dept of Biomedical Engineering, latrobeuniversity], [Dep. of Biological Sciences La Trobe University, Melbourne, Victoria, Australia, latrobeuniversity], [Dep. of Electrical and Computer Engineering La Trobe University, Melbourne, Australia, latrobeuniversity], [Sch of Natural Resources La Trobe University, Melbourne, Victoria, latrobeuniversity], [Department of Public Administration La Trobe University, Australia, latrobeuniversity], [Dep. of Mathematics La Trobe University, Melbourne, latrobeuniversity], [Department of Biochemistry La Trobe University, Victoria, latrobeuniversity], [Dept. of Biochemistry La Trobe University Melbourne Victoria Australia, latrobeuniversity], [Dep. of Surgery La Trobe University Melbourne Australia, latrobeuniversity], [Dept. of Biochemistry La Trobe University Melbourne Victoria, latrobeuniversity], [Dept of Marine, Earth, and Atmospheric Sciences La Trobe University Australia, latrobeuniversity], [Dept. of Mathematics La Trobe University Melbourne, latrobeuniversity], [Dept. of Applied Science La Trobe University Victoria, latrobeuniversity], [Dep. of Applied Mechanics La Trobe University, latrobeuniversity], [La Trobe University Dept of Psychology, Melbourne, Victoria, Australia, latrobeuniversity], [La Trobe University Dept of Internal Medicine, Melbourne, Australia, latrobeuniversity], [La Trobe University Dep. of Mathematics, Melbourne, Victoria, latrobeuniversity], [La Trobe University Dept of Environmental Engineering, Australia, latrobeuniversity], [La Trobe University Dep. of Nuclear Engineering, Melbourne, latrobeuniversity], [La Trobe University Sch of Veterinary Medicine, Victoria, latrobeuniversity], [La Trobe University Department of Psychology Melbourne Victoria Australia, latrobeuniversity], [La Trobe University Dep of Marine, Earth, and Atmospheric Sciences Melbourne Australia, latrobeuniversity], [La Trobe University Dep. of Civil, Construction and Environmental Engineering Melbourne Victoria, latrobeuniversity], [La Trobe University Dept of Chemical and Biomolecular Engineering Australia, latrobeuniversity], [La Trobe University Dep. of Aerospace Engineering Melbourne, latrobeuniversity], [La Trobe University Dep. of Electrical Engineering Victoria, latrobeuniversity], [La Trobe University College of IT, latrobeuniversity], [Sch. of Economics La Trobe University, Melbourne, Victoria, Australia, latrobeuniversity], [Dept. of Civil Engineering La Trobe University, Melbourne, Australia, latrobeuniversity], [Dept of Aerospace Engineering La Trobe University, Melbourne, Victoria, latrobeuniversity], [Dept of Foreign Languages and Literatures La Trobe University, Australia, latrobeuniversity], [Dep of Information Technology La Trobe University, Melbourne, latrobeuniversity], [Dep. of Biological and Agricultural Engineering La Trobe University, Victoria, latrobeuniversity], [Dep. of Agriculture La Trobe University Melbourne Victoria Australia, latrobeuniversity], [College of Management La Trobe University Melbourne Australia, latrobeuniversity], [Dept of Psychiatry La Trobe University Melbourne Victoria, latrobeuniversity], [Dept. of Environmental Engineering La Trobe University Australia, latrobeuniversity], [Department of Applied Science La Trobe University Melbourne, latrobeuniversity], [Dept of Nuclear Engineering La Trobe University Victoria, latrobeuniversity], [Dep of Environmental Engineering La Trobe University, latrobeuniversity]]</td>\n",
              "      <td>91</td>\n",
              "    </tr>\n",
              "    <tr>\n",
              "      <th>2</th>\n",
              "      <td>04j757h98</td>\n",
              "      <td>Victoria University</td>\n",
              "      <td>[]</td>\n",
              "      <td>[VU]</td>\n",
              "      <td>[]</td>\n",
              "      <td>{'country_code': 'AU', 'country_name': 'Australia'}</td>\n",
              "      <td>Education</td>\n",
              "      <td>{'line': None, 'lat': -37.794167, 'lng': 144.9, 'postcode': None, 'primary': False, 'city': 'Melbourne', 'state': 'Victoria', 'state_code': 'AU-VIC', 'country_geonames_id': 2077456, 'geonames_city': {'id': 2158177, 'city': 'Melbourne', 'nuts_level1': {'code': None, 'name': None}, 'nuts_level2': {'code': None, 'name': None}, 'nuts_level3': {'code': None, 'name': None}, 'geonames_admin1': {'id': 2145234, 'name': 'Victoria', 'ascii_name': 'Victoria', 'code': 'AU.07'}, 'geonames_admin2': {'id': 7839805, 'name': 'Melbourne', 'ascii_name': 'Melbourne', 'code': 'AU.07.24600'}, 'license': {'attribution': 'Data from geonames.org under a CC-BY 3.0 license', 'license': 'http://creativecommons.org/licenses/by/3.0/'}}}</td>\n",
              "      <td>0</td>\n",
              "      <td>1</td>\n",
              "      <td>0</td>\n",
              "      <td>1</td>\n",
              "      <td>AU</td>\n",
              "      <td>Australia</td>\n",
              "      <td>Melbourne</td>\n",
              "      <td>Victoria</td>\n",
              "      <td>Victoria</td>\n",
              "      <td>Victoria University</td>\n",
              "      <td>[Victoria University]</td>\n",
              "      <td>[[Victoria University, Melbourne, Victoria, Australia, victoriauniversity], [Victoria University, Melbourne, Australia, victoriauniversity], [Victoria University, Melbourne, Victoria, victoriauniversity], [Victoria University, Australia, victoriauniversity], [Victoria University, Melbourne, victoriauniversity], [Victoria University, Victoria, victoriauniversity], [Victoria University Melbourne Victoria Australia, victoriauniversity], [Victoria University Melbourne Australia, victoriauniversity], [Victoria University Melbourne Victoria, victoriauniversity], [Victoria University Australia, victoriauniversity], [Victoria University Melbourne, victoriauniversity], [Victoria University Victoria, victoriauniversity], [Victoria University, victoriauniversity], [Victoria University Dep of Marine, Earth, and Atmospheric Sciences, Melbourne, Victoria, Australia, victoriauniversity], [Victoria University Dep. of Interdisciplinary Studies, Melbourne, Australia, victoriauniversity], [Victoria University Dept. of English, Melbourne, Victoria, victoriauniversity], [Victoria University College of Textiles, Australia, victoriauniversity], [Victoria University Dept. of Applied Science, Melbourne, victoriauniversity], [Victoria University Department of Computer Science, Victoria, victoriauniversity], [Victoria University Dept of Statistics Melbourne Victoria Australia, victoriauniversity], [Victoria University Dep. of Medicine Melbourne Australia, victoriauniversity], [Victoria University Dep of Electrical Engineering Melbourne Victoria, victoriauniversity], [Victoria University Department of Civil, Construction and Environmental Engineering Australia, victoriauniversity], [Victoria University Dept. of Electrical and Computer Engineering Melbourne, victoriauniversity], [Victoria University Dept of Surgery Victoria, victoriauniversity], [Victoria University Department of Biochemistry, victoriauniversity], [Dep. of IT Victoria University, Melbourne, Victoria, Australia, victoriauniversity], [Dept. of Communication Victoria University, Melbourne, Australia, victoriauniversity], [Dept. of Biomedical Engineering Victoria University, Melbourne, Victoria, victoriauniversity], [Department of Psychiatry Victoria University, Australia, victoriauniversity], [Sch. of Education Victoria University, Melbourne, victoriauniversity], [College of Agriculture and Life Sciences Victoria University, Victoria, victoriauniversity], [Department of Public Administration Victoria University Melbourne Victoria Australia, victoriauniversity], [Dep of Psychiatry Victoria University Melbourne Australia, victoriauniversity], [Sch of Veterinary Medicine Victoria University Melbourne Victoria, victoriauniversity], [Department of Biological and Agricultural Engineering Victoria University Australia, victoriauniversity], [Dept of Materials Science and Engineering Victoria University Melbourne, victoriauniversity], [Sch. of Education Victoria University Victoria, victoriauniversity], [Dep of Statistics Victoria University, victoriauniversity], [Victoria University Dept. of Medicine, Melbourne, Victoria, Australia, victoriauniversity], [Victoria University Sch of Engineering, Melbourne, Australia, victoriauniversity], [Victoria University School of Engineering, Melbourne, Victoria, victoriauniversity], [Victoria University Dept of Social Work, Australia, victoriauniversity], [Victoria University Dept. of Social Work, Melbourne, victoriauniversity], [Victoria University Dep. of Psychology, Victoria, victoriauniversity], [Victoria University School of Engineering Melbourne Victoria Australia, victoriauniversity], [Victoria University Sch of Physics Melbourne Australia, victoriauniversity], [Victoria University Dep of Psychiatry Melbourne Victoria, victoriauniversity], [Victoria University Dept. of Mechanical and Aerospace Engineering Australia, victoriauniversity], [Victoria University Dep. of Political Science Melbourne, victoriauniversity], [Victoria University Dept. of Mechanical and Aerospace Engineering Victoria, victoriauniversity], [Victoria University Dept. of Aerospace Engineering, victoriauniversity], [Dept. of Electrical and Computer Engineering Victoria University, Melbourne, Victoria, Australia, victoriauniversity], [Sch. of Biochemistry Victoria University, Melbourne, Australia, victoriauniversity], [Dep of Agriculture Victoria University, Melbourne, Victoria, victoriauniversity], [Dept. of Psychology Victoria University, Australia, victoriauniversity], [Sch. of Textiles Victoria University, Melbourne, victoriauniversity], [Dep of Mechanical and Aerospace Engineering Victoria University, Victoria, victoriauniversity], [Dept of Computer Science Victoria University Melbourne Victoria Australia, victoriauniversity], [Dept. of Thoracic and Cardiovascular Surgery Victoria University Melbourne Australia, victoriauniversity], [Dept of History Victoria University Melbourne Victoria, victoriauniversity], [Dep. of Sociology and Anthropology Victoria University Australia, victoriauniversity], [Department of Communication Victoria University Melbourne, victoriauniversity], [Dept of Interdisciplinary Studies Victoria University Victoria, victoriauniversity], [Dep of Biology Victoria University, victoriauniversity], [Victoria University Dept of Applied Mechanics, Melbourne, Victoria, Australia, victoriauniversity], [Victoria University Dep. of Biomedical Engineering, Melbourne, Australia, victoriauniversity], [Victoria University College of IT, Melbourne, Victoria, victoriauniversity], [Victoria University Dept of Biological Sciences, Australia, victoriauniversity], [Victoria University Dept of Psychology, Melbourne, victoriauniversity], [Victoria University Dept of English, Victoria, victoriauniversity], [Victoria University Sch of Natural Resources Melbourne Victoria Australia, victoriauniversity], [Victoria University Department of Foreign Languages and Literatures Melbourne Australia, victoriauniversity], [Victoria University Dept of English Melbourne Victoria, victoriauniversity], [Victoria University Dept. of Nuclear Engineering Australia, victoriauniversity], [Victoria University Dep of Materials Science and Engineering Melbourne, victoriauniversity], [Victoria University School of Economics Victoria, victoriauniversity], [Victoria University Dept of Marine, Earth, and Atmospheric Sciences, victoriauniversity], [Department of Biomedical Engineering Victoria University, Melbourne, Victoria, Australia, victoriauniversity], [Dept. of Biochemistry Victoria University, Melbourne, Australia, victoriauniversity], [Dept. of Computer Science Victoria University, Melbourne, Victoria, victoriauniversity], [School of Veterinary Medicine Victoria University, Australia, victoriauniversity], [Department of Psychiatry Victoria University, Melbourne, victoriauniversity], [Dep. of Biochemistry Victoria University, Victoria, victoriauniversity], [Dep of Mathematics Victoria University Melbourne Victoria Australia, victoriauniversity], [Sch. of Economics Victoria University Melbourne Australia, victoriauniversity], [Sch of Veterinary Medicine Victoria University Melbourne Victoria, victoriauniversity], [Dept. of Mechanical and Aerospace Engineering Victoria University Australia, victoriauniversity], [Dep. of History Victoria University Melbourne, victoriauniversity], [Sch. of Design Victoria University Victoria, victoriauniversity], [Dept. of Biological Sciences Victoria University, victoriauniversity], [VU, Melbourne, Victoria, Australia, vu], [VU, Melbourne, Australia, vu], [VU, Melbourne, Victoria, vu], [VU, Australia, vu], [VU, Melbourne, vu], [VU, Victoria, vu], [VU Melbourne Victoria Australia, vu], [VU Melbourne Australia, vu], [VU Melbourne Victoria, vu], ...]</td>\n",
              "      <td>182</td>\n",
              "    </tr>\n",
              "  </tbody>\n",
              "</table>\n",
              "</div>\n",
              "    <div class=\"colab-df-buttons\">\n",
              "\n",
              "  <div class=\"colab-df-container\">\n",
              "    <button class=\"colab-df-convert\" onclick=\"convertToInteractive('df-d44a650e-ec6b-4433-a9ac-cddb24270bc9')\"\n",
              "            title=\"Convert this dataframe to an interactive table.\"\n",
              "            style=\"display:none;\">\n",
              "\n",
              "  <svg xmlns=\"http://www.w3.org/2000/svg\" height=\"24px\" viewBox=\"0 -960 960 960\">\n",
              "    <path d=\"M120-120v-720h720v720H120Zm60-500h600v-160H180v160Zm220 220h160v-160H400v160Zm0 220h160v-160H400v160ZM180-400h160v-160H180v160Zm440 0h160v-160H620v160ZM180-180h160v-160H180v160Zm440 0h160v-160H620v160Z\"/>\n",
              "  </svg>\n",
              "    </button>\n",
              "\n",
              "  <style>\n",
              "    .colab-df-container {\n",
              "      display:flex;\n",
              "      gap: 12px;\n",
              "    }\n",
              "\n",
              "    .colab-df-convert {\n",
              "      background-color: #E8F0FE;\n",
              "      border: none;\n",
              "      border-radius: 50%;\n",
              "      cursor: pointer;\n",
              "      display: none;\n",
              "      fill: #1967D2;\n",
              "      height: 32px;\n",
              "      padding: 0 0 0 0;\n",
              "      width: 32px;\n",
              "    }\n",
              "\n",
              "    .colab-df-convert:hover {\n",
              "      background-color: #E2EBFA;\n",
              "      box-shadow: 0px 1px 2px rgba(60, 64, 67, 0.3), 0px 1px 3px 1px rgba(60, 64, 67, 0.15);\n",
              "      fill: #174EA6;\n",
              "    }\n",
              "\n",
              "    .colab-df-buttons div {\n",
              "      margin-bottom: 4px;\n",
              "    }\n",
              "\n",
              "    [theme=dark] .colab-df-convert {\n",
              "      background-color: #3B4455;\n",
              "      fill: #D2E3FC;\n",
              "    }\n",
              "\n",
              "    [theme=dark] .colab-df-convert:hover {\n",
              "      background-color: #434B5C;\n",
              "      box-shadow: 0px 1px 3px 1px rgba(0, 0, 0, 0.15);\n",
              "      filter: drop-shadow(0px 1px 2px rgba(0, 0, 0, 0.3));\n",
              "      fill: #FFFFFF;\n",
              "    }\n",
              "  </style>\n",
              "\n",
              "    <script>\n",
              "      const buttonEl =\n",
              "        document.querySelector('#df-d44a650e-ec6b-4433-a9ac-cddb24270bc9 button.colab-df-convert');\n",
              "      buttonEl.style.display =\n",
              "        google.colab.kernel.accessAllowed ? 'block' : 'none';\n",
              "\n",
              "      async function convertToInteractive(key) {\n",
              "        const element = document.querySelector('#df-d44a650e-ec6b-4433-a9ac-cddb24270bc9');\n",
              "        const dataTable =\n",
              "          await google.colab.kernel.invokeFunction('convertToInteractive',\n",
              "                                                    [key], {});\n",
              "        if (!dataTable) return;\n",
              "\n",
              "        const docLinkHtml = 'Like what you see? Visit the ' +\n",
              "          '<a target=\"_blank\" href=https://colab.research.google.com/notebooks/data_table.ipynb>data table notebook</a>'\n",
              "          + ' to learn more about interactive tables.';\n",
              "        element.innerHTML = '';\n",
              "        dataTable['output_type'] = 'display_data';\n",
              "        await google.colab.output.renderOutput(dataTable, element);\n",
              "        const docLink = document.createElement('div');\n",
              "        docLink.innerHTML = docLinkHtml;\n",
              "        element.appendChild(docLink);\n",
              "      }\n",
              "    </script>\n",
              "  </div>\n",
              "\n",
              "\n",
              "<div id=\"df-15d0aacb-7318-4fb2-ba57-b8fe8e1e3eef\">\n",
              "  <button class=\"colab-df-quickchart\" onclick=\"quickchart('df-15d0aacb-7318-4fb2-ba57-b8fe8e1e3eef')\"\n",
              "            title=\"Suggest charts\"\n",
              "            style=\"display:none;\">\n",
              "\n",
              "<svg xmlns=\"http://www.w3.org/2000/svg\" height=\"24px\"viewBox=\"0 0 24 24\"\n",
              "     width=\"24px\">\n",
              "    <g>\n",
              "        <path d=\"M19 3H5c-1.1 0-2 .9-2 2v14c0 1.1.9 2 2 2h14c1.1 0 2-.9 2-2V5c0-1.1-.9-2-2-2zM9 17H7v-7h2v7zm4 0h-2V7h2v10zm4 0h-2v-4h2v4z\"/>\n",
              "    </g>\n",
              "</svg>\n",
              "  </button>\n",
              "\n",
              "<style>\n",
              "  .colab-df-quickchart {\n",
              "      --bg-color: #E8F0FE;\n",
              "      --fill-color: #1967D2;\n",
              "      --hover-bg-color: #E2EBFA;\n",
              "      --hover-fill-color: #174EA6;\n",
              "      --disabled-fill-color: #AAA;\n",
              "      --disabled-bg-color: #DDD;\n",
              "  }\n",
              "\n",
              "  [theme=dark] .colab-df-quickchart {\n",
              "      --bg-color: #3B4455;\n",
              "      --fill-color: #D2E3FC;\n",
              "      --hover-bg-color: #434B5C;\n",
              "      --hover-fill-color: #FFFFFF;\n",
              "      --disabled-bg-color: #3B4455;\n",
              "      --disabled-fill-color: #666;\n",
              "  }\n",
              "\n",
              "  .colab-df-quickchart {\n",
              "    background-color: var(--bg-color);\n",
              "    border: none;\n",
              "    border-radius: 50%;\n",
              "    cursor: pointer;\n",
              "    display: none;\n",
              "    fill: var(--fill-color);\n",
              "    height: 32px;\n",
              "    padding: 0;\n",
              "    width: 32px;\n",
              "  }\n",
              "\n",
              "  .colab-df-quickchart:hover {\n",
              "    background-color: var(--hover-bg-color);\n",
              "    box-shadow: 0 1px 2px rgba(60, 64, 67, 0.3), 0 1px 3px 1px rgba(60, 64, 67, 0.15);\n",
              "    fill: var(--button-hover-fill-color);\n",
              "  }\n",
              "\n",
              "  .colab-df-quickchart-complete:disabled,\n",
              "  .colab-df-quickchart-complete:disabled:hover {\n",
              "    background-color: var(--disabled-bg-color);\n",
              "    fill: var(--disabled-fill-color);\n",
              "    box-shadow: none;\n",
              "  }\n",
              "\n",
              "  .colab-df-spinner {\n",
              "    border: 2px solid var(--fill-color);\n",
              "    border-color: transparent;\n",
              "    border-bottom-color: var(--fill-color);\n",
              "    animation:\n",
              "      spin 1s steps(1) infinite;\n",
              "  }\n",
              "\n",
              "  @keyframes spin {\n",
              "    0% {\n",
              "      border-color: transparent;\n",
              "      border-bottom-color: var(--fill-color);\n",
              "      border-left-color: var(--fill-color);\n",
              "    }\n",
              "    20% {\n",
              "      border-color: transparent;\n",
              "      border-left-color: var(--fill-color);\n",
              "      border-top-color: var(--fill-color);\n",
              "    }\n",
              "    30% {\n",
              "      border-color: transparent;\n",
              "      border-left-color: var(--fill-color);\n",
              "      border-top-color: var(--fill-color);\n",
              "      border-right-color: var(--fill-color);\n",
              "    }\n",
              "    40% {\n",
              "      border-color: transparent;\n",
              "      border-right-color: var(--fill-color);\n",
              "      border-top-color: var(--fill-color);\n",
              "    }\n",
              "    60% {\n",
              "      border-color: transparent;\n",
              "      border-right-color: var(--fill-color);\n",
              "    }\n",
              "    80% {\n",
              "      border-color: transparent;\n",
              "      border-right-color: var(--fill-color);\n",
              "      border-bottom-color: var(--fill-color);\n",
              "    }\n",
              "    90% {\n",
              "      border-color: transparent;\n",
              "      border-bottom-color: var(--fill-color);\n",
              "    }\n",
              "  }\n",
              "</style>\n",
              "\n",
              "  <script>\n",
              "    async function quickchart(key) {\n",
              "      const quickchartButtonEl =\n",
              "        document.querySelector('#' + key + ' button');\n",
              "      quickchartButtonEl.disabled = true;  // To prevent multiple clicks.\n",
              "      quickchartButtonEl.classList.add('colab-df-spinner');\n",
              "      try {\n",
              "        const charts = await google.colab.kernel.invokeFunction(\n",
              "            'suggestCharts', [key], {});\n",
              "      } catch (error) {\n",
              "        console.error('Error during call to suggestCharts:', error);\n",
              "      }\n",
              "      quickchartButtonEl.classList.remove('colab-df-spinner');\n",
              "      quickchartButtonEl.classList.add('colab-df-quickchart-complete');\n",
              "    }\n",
              "    (() => {\n",
              "      let quickchartButtonEl =\n",
              "        document.querySelector('#df-15d0aacb-7318-4fb2-ba57-b8fe8e1e3eef button');\n",
              "      quickchartButtonEl.style.display =\n",
              "        google.colab.kernel.accessAllowed ? 'block' : 'none';\n",
              "    })();\n",
              "  </script>\n",
              "</div>\n",
              "\n",
              "    </div>\n",
              "  </div>\n"
            ],
            "application/vnd.google.colaboratory.intrinsic+json": {
              "type": "dataframe",
              "variable_name": "ror_to_join"
            }
          },
          "metadata": {},
          "execution_count": 29
        }
      ]
    },
    {
      "cell_type": "markdown",
      "id": "73ed637b",
      "metadata": {
        "id": "73ed637b"
      },
      "source": [
        "##### Looking to quickly get combinations of city/region/country"
      ]
    },
    {
      "cell_type": "code",
      "execution_count": null,
      "id": "1f5467d4",
      "metadata": {
        "id": "1f5467d4"
      },
      "outputs": [],
      "source": [
        "art_empty_affs = ror_to_join[['city','region','country_name']].dropna().copy()"
      ]
    },
    {
      "cell_type": "code",
      "source": [
        "#art_empty_affs=art_empty_affs[art_empty_affs['country_name'].str.contains('arg|Arg|Argentin')]##adaptado a Argentina"
      ],
      "metadata": {
        "id": "LLmGtc4d6dkB"
      },
      "id": "LLmGtc4d6dkB",
      "execution_count": null,
      "outputs": []
    },
    {
      "cell_type": "code",
      "execution_count": null,
      "id": "af794595",
      "metadata": {
        "colab": {
          "base_uri": "https://localhost:8080/"
        },
        "id": "af794595",
        "outputId": "7d9d1c4d-49dd-4203-efd9-6469eb91ea92"
      },
      "outputs": [
        {
          "output_type": "stream",
          "name": "stdout",
          "text": [
            "(105034, 3)\n"
          ]
        }
      ],
      "source": [
        "print(art_empty_affs.shape)"
      ]
    },
    {
      "cell_type": "code",
      "execution_count": null,
      "id": "0e1e5a5a",
      "metadata": {
        "colab": {
          "base_uri": "https://localhost:8080/"
        },
        "id": "0e1e5a5a",
        "outputId": "cdb65776-ff13-4169-b82c-e0438ff316da"
      },
      "outputs": [
        {
          "output_type": "stream",
          "name": "stdout",
          "text": [
            "            city          region    country_name\n",
            "83867  Edinburgh        Scotland  United Kingdom\n",
            "27965    Tbilisi        T'bilisi         Georgia\n",
            "32428   Mandalay        Mandalay         Myanmar\n",
            "26338  São Paulo       São Paulo          Brazil\n",
            "62314       Brno  South Moravian         Czechia\n"
          ]
        }
      ],
      "source": [
        "print(art_empty_affs.sample(5))"
      ]
    },
    {
      "cell_type": "code",
      "execution_count": null,
      "id": "806f2f6a",
      "metadata": {
        "id": "806f2f6a"
      },
      "outputs": [],
      "source": [
        "art_empty_affs['original_affiliation_1'] = \\\n",
        "    art_empty_affs.apply(lambda x: f\"{x.city}, {x.country_name}\", axis=1)"
      ]
    },
    {
      "cell_type": "code",
      "execution_count": null,
      "id": "cf3fb025",
      "metadata": {
        "id": "cf3fb025"
      },
      "outputs": [],
      "source": [
        "art_empty_affs['original_affiliation_2'] = \\\n",
        "    art_empty_affs.apply(lambda x: f\"{x.city}, {x.region}, {x.country_name}\", axis=1)"
      ]
    },
    {
      "cell_type": "code",
      "execution_count": null,
      "id": "e3c15808",
      "metadata": {
        "id": "e3c15808",
        "colab": {
          "base_uri": "https://localhost:8080/"
        },
        "outputId": "4afd854f-7f97-473d-8c1b-210eb2455ad0"
      },
      "outputs": [
        {
          "output_type": "stream",
          "name": "stdout",
          "text": [
            "15675\n"
          ]
        }
      ],
      "source": [
        "#city_country = art_empty_affs.sample(1500).drop_duplicates()\\\n",
        " #   ['original_affiliation_1'].to_list()\n",
        "city_country = art_empty_affs.drop_duplicates()\\\n",
        "    ['original_affiliation_1'].to_list()\n",
        "print(len(city_country))"
      ]
    },
    {
      "cell_type": "code",
      "source": [
        "print(city_country[:3])"
      ],
      "metadata": {
        "colab": {
          "base_uri": "https://localhost:8080/"
        },
        "id": "rqDCOoGO4MO5",
        "outputId": "ea830e53-8e65-4286-9db8-4cb9400e97d4"
      },
      "id": "rqDCOoGO4MO5",
      "execution_count": null,
      "outputs": [
        {
          "output_type": "stream",
          "name": "stdout",
          "text": [
            "['Melbourne, Australia', 'Armidale, Australia', 'Brisbane, Australia']\n"
          ]
        }
      ]
    },
    {
      "cell_type": "code",
      "execution_count": null,
      "id": "efea34cb",
      "metadata": {
        "id": "efea34cb",
        "colab": {
          "base_uri": "https://localhost:8080/"
        },
        "outputId": "2f9860bb-3d24-435a-fbca-c4f7ccd01726"
      },
      "outputs": [
        {
          "output_type": "stream",
          "name": "stdout",
          "text": [
            "15675\n"
          ]
        }
      ],
      "source": [
        "#city_region_country = art_empty_affs.sample(1500).drop_duplicates()\\\n",
        " #   ['original_affiliation_2'].to_list()\n",
        "city_region_country = art_empty_affs.drop_duplicates()\\\n",
        "    ['original_affiliation_2'].to_list()\n",
        "print(len(city_region_country))"
      ]
    },
    {
      "cell_type": "code",
      "source": [
        "print(city_region_country[:3])"
      ],
      "metadata": {
        "colab": {
          "base_uri": "https://localhost:8080/"
        },
        "id": "yeM3gGa63_IH",
        "outputId": "9ec104b1-acc0-4c36-bb38-6d0573c4d733"
      },
      "id": "yeM3gGa63_IH",
      "execution_count": null,
      "outputs": [
        {
          "output_type": "stream",
          "name": "stdout",
          "text": [
            "['Melbourne, Victoria, Australia', 'Armidale, New South Wales, Australia', 'Brisbane, Queensland, Australia']\n"
          ]
        }
      ]
    },
    {
      "cell_type": "markdown",
      "id": "9e727b98",
      "metadata": {
        "id": "9e727b98"
      },
      "source": [
        "Some of these string will be used to train the model that only seeing a city/region/country should be a \"no prediction\""
      ]
    },
    {
      "cell_type": "code",
      "source": [
        "print(pd.DataFrame(zip(city_country+city_region_country)).head(5))"
      ],
      "metadata": {
        "colab": {
          "base_uri": "https://localhost:8080/"
        },
        "id": "lKEMVZm_40bG",
        "outputId": "d031dcc9-fc2e-47f4-f85e-940ee218acac"
      },
      "id": "lKEMVZm_40bG",
      "execution_count": null,
      "outputs": [
        {
          "output_type": "stream",
          "name": "stdout",
          "text": [
            "                        0\n",
            "0    Melbourne, Australia\n",
            "1     Armidale, Australia\n",
            "2     Brisbane, Australia\n",
            "3  Rockhampton, Australia\n",
            "4     Adelaide, Australia\n"
          ]
        }
      ]
    },
    {
      "cell_type": "code",
      "execution_count": null,
      "id": "81fc9abe",
      "metadata": {
        "id": "81fc9abe"
      },
      "outputs": [],
      "source": [
        "pd.DataFrame(zip(city_country+city_region_country),\n",
        "             columns=['original_affiliation']) \\\n",
        "    .drop_duplicates(subset=['original_affiliation'])\\\n",
        "    .to_parquet(f\"{base_path}V2/artificial_empty_affs.parquet\")"
      ]
    },
    {
      "cell_type": "code",
      "source": [
        "print(pd.DataFrame(zip(city_country+city_region_country),\n",
        "             columns=['original_affiliation']) \\\n",
        "    .drop_duplicates(subset=['original_affiliation']).head(10))"
      ],
      "metadata": {
        "colab": {
          "base_uri": "https://localhost:8080/"
        },
        "id": "PvsEBySk3I45",
        "outputId": "d9049120-d1ef-4d55-81d7-01ef84d10310"
      },
      "id": "PvsEBySk3I45",
      "execution_count": null,
      "outputs": [
        {
          "output_type": "stream",
          "name": "stdout",
          "text": [
            "     original_affiliation\n",
            "0    Melbourne, Australia\n",
            "1     Armidale, Australia\n",
            "2     Brisbane, Australia\n",
            "3  Rockhampton, Australia\n",
            "4     Adelaide, Australia\n",
            "5   Gold Coast, Australia\n",
            "6     Bathurst, Australia\n",
            "7     Ballarat, Australia\n",
            "8      Fitzroy, Australia\n",
            "9      Newtown, Australia\n"
          ]
        }
      ]
    },
    {
      "cell_type": "code",
      "source": [
        "ror_to_join[['ror_id','aff_string']].head(3)"
      ],
      "metadata": {
        "colab": {
          "base_uri": "https://localhost:8080/",
          "height": 1000
        },
        "id": "HjvdVwGB6LFx",
        "outputId": "3181b79a-643f-433b-eb22-2ba9bee42923"
      },
      "id": "HjvdVwGB6LFx",
      "execution_count": null,
      "outputs": [
        {
          "output_type": "execute_result",
          "data": {
            "text/plain": [
              "      ror_id  \\\n",
              "0  04ttjf776   \n",
              "1  01rxfrp27   \n",
              "2  04j757h98   \n",
              "\n",
              "                                                                                                                                                                                                                                                                                                                                                                                                                                                                                                                                                                                                                                                                                                                                                                                                                                                                                                                                                                                                                                                                                                                                                                                                                                                                                                                                                                                                                                                                                                                                                                                                                                                                                                                                                                                                                                                                                                                                                                                                                                                                                                                                                                                                                                                                                                                                                                                                                                                                                                                                                                                                                                                                                                                                                                                                                                                                                                                                                                                                                                                                                                                                                                                                                                                                                                                                                                                                                                                                                                                                                                                                                                                                                                                                                                                                                                                                                                                                                                                                                                                                                                                                                                                                                                                                                                                                                                                                                                                                                                                                                                                                                                                                                                                                                                                                                                                                                                                                                                                                                                                                                                                                                                                                                                                                                                                                                                                                                                                                                                                                                                                                                                                                                                                                                                                                                                                                                                                                                                                                                                                                                                                                                                                                                                                                                                                                                                                                                                                                                                                                                                                                                                                                                                                                                                                                                                                                                                                                                                                                                                                                                                                                                                                                                                                                                                                                                                                                                                                                                                                                                                                                                                                                                                                                                                                                                                                                                                                                                                                                                                                                                                                                                                                                                                aff_string  \n",
              "0  [[RMIT University, Melbourne, Victoria, Australia, rmituniversity], [RMIT University, Melbourne, Australia, rmituniversity], [RMIT University, Melbourne, Victoria, rmituniversity], [RMIT University, Australia, rmituniversity], [RMIT University, Melbourne, rmituniversity], [RMIT University, Victoria, rmituniversity], [RMIT University Melbourne Victoria Australia, rmituniversity], [RMIT University Melbourne Australia, rmituniversity], [RMIT University Melbourne Victoria, rmituniversity], [RMIT University Australia, rmituniversity], [RMIT University Melbourne, rmituniversity], [RMIT University Victoria, rmituniversity], [RMIT University, rmituniversity], [RMIT University Dept. of Environmental Engineering, Melbourne, Victoria, Australia, rmituniversity], [RMIT University Dep of IT, Melbourne, Australia, rmituniversity], [RMIT University Dept of Biological and Agricultural Engineering, Melbourne, Victoria, rmituniversity], [RMIT University Dep. of IT, Australia, rmituniversity], [RMIT University Department of English, Melbourne, rmituniversity], [RMIT University Dep of Thoracic and Cardiovascular Surgery, Victoria, rmituniversity], [RMIT University Sch of Law Melbourne Victoria Australia, rmituniversity], [RMIT University Dep of Biological Sciences Melbourne Australia, rmituniversity], [RMIT University Dep. of Communication Melbourne Victoria, rmituniversity], [RMIT University Dept. of Aerospace Engineering Australia, rmituniversity], [RMIT University Dept of Psychiatry Melbourne, rmituniversity], [RMIT University Department of Foreign Languages and Literatures Victoria, rmituniversity], [RMIT University Dep of Statistics, rmituniversity], [Sch. of Engineering RMIT University, Melbourne, Victoria, Australia, rmituniversity], [Dep. of Computer Science RMIT University, Melbourne, Australia, rmituniversity], [Dep. of Electrical and Computer Engineering RMIT University, Melbourne, Victoria, rmituniversity], [Dep of Chemical and Biomolecular Engineering RMIT University, Australia, rmituniversity], [Dep. of Computer Science RMIT University, Melbourne, rmituniversity], [Sch of Chemical Engineering & Technology RMIT University, Victoria, rmituniversity], [Dep. of Applied Science RMIT University Melbourne Victoria Australia, rmituniversity], [Dept. of Political Science RMIT University Melbourne Australia, rmituniversity], [Dep of IT RMIT University Melbourne Victoria, rmituniversity], [Sch of Veterinary Medicine RMIT University Australia, rmituniversity], [Department of Biological and Agricultural Engineering RMIT University Melbourne, rmituniversity], [Dep. of Psychology RMIT University Victoria, rmituniversity], [Dept. of Philosophy and Religious Studies RMIT University, rmituniversity], [RMIT University Dept. of Chemical and Biomolecular Engineering, Melbourne, Victoria, Australia, rmituniversity], [RMIT University Dep of Applied Science, Melbourne, Australia, rmituniversity], [RMIT University Department of Sociology and Anthropology, Melbourne, Victoria, rmituniversity], [RMIT University Sch of Design, Australia, rmituniversity], [RMIT University Dept. of Applied Mechanics, Melbourne, rmituniversity], [RMIT University College of Management, Victoria, rmituniversity], [RMIT University Department of Medicine Melbourne Victoria Australia, rmituniversity], [RMIT University Dep of Communication Melbourne Australia, rmituniversity], [RMIT University Dept. of Biochemistry Melbourne Victoria, rmituniversity], [RMIT University School of Engineering Australia, rmituniversity], [RMIT University Department of Biomedical Engineering Melbourne, rmituniversity], [RMIT University Dept. of Physics Victoria, rmituniversity], [RMIT University Department of Philosophy and Religious Studies, rmituniversity], [Department of Psychiatry RMIT University, Melbourne, Victoria, Australia, rmituniversity], [Dep of Biological Sciences RMIT University, Melbourne, Australia, rmituniversity], [Dep of Computer Science RMIT University, Melbourne, Victoria, rmituniversity], [Dep of Applied Mechanics RMIT University, Australia, rmituniversity], [College of IT RMIT University, Melbourne, rmituniversity], [Dep. of Biological and Agricultural Engineering RMIT University, Victoria, rmituniversity], [School of Information Technology RMIT University Melbourne Victoria Australia, rmituniversity], [School of Education RMIT University Melbourne Australia, rmituniversity], [School of Chemical Engineering & Technology RMIT University Melbourne Victoria, rmituniversity], [Dept of Biological and Agricultural Engineering RMIT University Australia, rmituniversity], [Department of Materials Science and Engineering RMIT University Melbourne, rmituniversity], [Department of Environmental Engineering RMIT University Victoria, rmituniversity], [Dep. of Biomedical Engineering RMIT University, rmituniversity], [RMIT University Dept. of Surgery, Melbourne, Victoria, Australia, rmituniversity], [RMIT University School of Textiles, Melbourne, Australia, rmituniversity], [RMIT University Dept. of Agriculture, Melbourne, Victoria, rmituniversity], [RMIT University Dep. of Marine, Earth, and Atmospheric Sciences, Australia, rmituniversity], [RMIT University Dept. of Surgery, Melbourne, rmituniversity], [RMIT University Sch of Textiles, Victoria, rmituniversity], [RMIT University Department of Electrical Engineering Melbourne Victoria Australia, rmituniversity], [RMIT University Dep of Social Work Melbourne Australia, rmituniversity], [RMIT University Dept. of History Melbourne Victoria, rmituniversity], [RMIT University Dept of Civil Engineering Australia, rmituniversity], [RMIT University Dep. of Applied Science Melbourne, rmituniversity], [RMIT University Dep. of Chemistry Victoria, rmituniversity], [RMIT University Sch. of Physics, rmituniversity], [Dept. of Chemistry RMIT University, Melbourne, Victoria, Australia, rmituniversity], [Dep. of Mathematics RMIT University, Melbourne, Australia, rmituniversity], [Dep of Foreign Languages and Literatures RMIT University, Melbourne, Victoria, rmituniversity], [School of Business RMIT University, Australia, rmituniversity], [College of Veterinary Medicine RMIT University, Melbourne, rmituniversity], [Dept of Marine, Earth, and Atmospheric Sciences RMIT University, Victoria, rmituniversity], [Dept. of Electrical and Computer Engineering RMIT University Melbourne Victoria Australia, rmituniversity], [Sch of Engineering RMIT University Melbourne Australia, rmituniversity], [Dep of Philosophy and Religious Studies RMIT University Melbourne Victoria, rmituniversity], [School of Business RMIT University Australia, rmituniversity], [Dept. of Aerospace Engineering RMIT University Melbourne, rmituniversity], [Sch of Textiles RMIT University Victoria, rmituniversity], [School of Natural Resources RMIT University, rmituniversity], [Royal Melbourne Institute of Technology University, Melbourne, Victoria, Australia, royalmelbourneinstituteoftechnologyuniversity], [Royal Melbourne Institute of Technology University, Melbourne, Australia, royalmelbourneinstituteoftechnologyuniversity], [Royal Melbourne Institute of Technology University, Melbourne, Victoria, royalmelbourneinstituteoftechnologyuniversity], [Royal Melbourne Institute of Technology University, Australia, royalmelbourneinstituteoftechnologyuniversity], [Royal Melbourne Institute of Technology University, Melbourne, royalmelbourneinstituteoftechnologyuniversity], [Royal Melbourne Institute of Technology University, Victoria, royalmelbourneinstituteoftechnologyuniversity], [Royal Melbourne Institute of Technology University Melbourne Victoria Australia, royalmelbourneinstituteoftechnologyuniversity], [Royal Melbourne Institute of Technology University Melbourne Australia, royalmelbourneinstituteoftechnologyuniversity], [Royal Melbourne Institute of Technology University Melbourne Victoria, royalmelbourneinstituteoftechnologyuniversity], ...]  \n",
              "1                                                                                                                                                                                                                                                                                                                                                                                                                                                                                                               [[La Trobe University, Melbourne, Victoria, Australia, latrobeuniversity], [La Trobe University, Melbourne, Australia, latrobeuniversity], [La Trobe University, Melbourne, Victoria, latrobeuniversity], [La Trobe University, Australia, latrobeuniversity], [La Trobe University, Melbourne, latrobeuniversity], [La Trobe University, Victoria, latrobeuniversity], [La Trobe University Melbourne Victoria Australia, latrobeuniversity], [La Trobe University Melbourne Australia, latrobeuniversity], [La Trobe University Melbourne Victoria, latrobeuniversity], [La Trobe University Australia, latrobeuniversity], [La Trobe University Melbourne, latrobeuniversity], [La Trobe University Victoria, latrobeuniversity], [La Trobe University, latrobeuniversity], [La Trobe University School of Veterinary Medicine, Melbourne, Victoria, Australia, latrobeuniversity], [La Trobe University Dep of IT, Melbourne, Australia, latrobeuniversity], [La Trobe University Sch of Design, Melbourne, Victoria, latrobeuniversity], [La Trobe University College of Management, Australia, latrobeuniversity], [La Trobe University Sch of Medicine, Melbourne, latrobeuniversity], [La Trobe University Dept of Chemistry, Victoria, latrobeuniversity], [La Trobe University Dept of Electrical Engineering Melbourne Victoria Australia, latrobeuniversity], [La Trobe University Sch. of Engineering Melbourne Australia, latrobeuniversity], [La Trobe University Department of Psychiatry Melbourne Victoria, latrobeuniversity], [La Trobe University Dept of Mathematics Australia, latrobeuniversity], [La Trobe University Dep of Applied Science Melbourne, latrobeuniversity], [La Trobe University Dep of Psychiatry Victoria, latrobeuniversity], [La Trobe University Department of Thoracic and Cardiovascular Surgery, latrobeuniversity], [Sch of Natural Resources La Trobe University, Melbourne, Victoria, Australia, latrobeuniversity], [Sch. of Physics La Trobe University, Melbourne, Australia, latrobeuniversity], [Dep. of Civil, Construction and Environmental Engineering La Trobe University, Melbourne, Victoria, latrobeuniversity], [Dept. of Biological and Agricultural Engineering La Trobe University, Australia, latrobeuniversity], [Department of Communication La Trobe University, Melbourne, latrobeuniversity], [Dep. of History La Trobe University, Victoria, latrobeuniversity], [Sch. of Education La Trobe University Melbourne Victoria Australia, latrobeuniversity], [College of Veterinary Medicine La Trobe University Melbourne Australia, latrobeuniversity], [Department of Surgery La Trobe University Melbourne Victoria, latrobeuniversity], [Dep of Applied Mechanics La Trobe University Australia, latrobeuniversity], [Dep of Psychology La Trobe University Melbourne, latrobeuniversity], [Dept of Chemistry La Trobe University Victoria, latrobeuniversity], [School of Engineering La Trobe University, latrobeuniversity], [La Trobe University Dept. of Electrical Engineering, Melbourne, Victoria, Australia, latrobeuniversity], [La Trobe University Dep of Political Science, Melbourne, Australia, latrobeuniversity], [La Trobe University Dept. of Social Work, Melbourne, Victoria, latrobeuniversity], [La Trobe University Department of Computer Science, Australia, latrobeuniversity], [La Trobe University Dept. of Civil, Construction and Environmental Engineering, Melbourne, latrobeuniversity], [La Trobe University Dept. of Biomedical Engineering, Victoria, latrobeuniversity], [La Trobe University Dept. of Electrical Engineering Melbourne Victoria Australia, latrobeuniversity], [La Trobe University Dep. of Psychology Melbourne Australia, latrobeuniversity], [La Trobe University Department of Surgery Melbourne Victoria, latrobeuniversity], [La Trobe University Dep. of Applied Science Australia, latrobeuniversity], [La Trobe University Dep of IT Melbourne, latrobeuniversity], [La Trobe University Department of Interdisciplinary Studies Victoria, latrobeuniversity], [La Trobe University Dept of Biomedical Engineering, latrobeuniversity], [Dep. of Biological Sciences La Trobe University, Melbourne, Victoria, Australia, latrobeuniversity], [Dep. of Electrical and Computer Engineering La Trobe University, Melbourne, Australia, latrobeuniversity], [Sch of Natural Resources La Trobe University, Melbourne, Victoria, latrobeuniversity], [Department of Public Administration La Trobe University, Australia, latrobeuniversity], [Dep. of Mathematics La Trobe University, Melbourne, latrobeuniversity], [Department of Biochemistry La Trobe University, Victoria, latrobeuniversity], [Dept. of Biochemistry La Trobe University Melbourne Victoria Australia, latrobeuniversity], [Dep. of Surgery La Trobe University Melbourne Australia, latrobeuniversity], [Dept. of Biochemistry La Trobe University Melbourne Victoria, latrobeuniversity], [Dept of Marine, Earth, and Atmospheric Sciences La Trobe University Australia, latrobeuniversity], [Dept. of Mathematics La Trobe University Melbourne, latrobeuniversity], [Dept. of Applied Science La Trobe University Victoria, latrobeuniversity], [Dep. of Applied Mechanics La Trobe University, latrobeuniversity], [La Trobe University Dept of Psychology, Melbourne, Victoria, Australia, latrobeuniversity], [La Trobe University Dept of Internal Medicine, Melbourne, Australia, latrobeuniversity], [La Trobe University Dep. of Mathematics, Melbourne, Victoria, latrobeuniversity], [La Trobe University Dept of Environmental Engineering, Australia, latrobeuniversity], [La Trobe University Dep. of Nuclear Engineering, Melbourne, latrobeuniversity], [La Trobe University Sch of Veterinary Medicine, Victoria, latrobeuniversity], [La Trobe University Department of Psychology Melbourne Victoria Australia, latrobeuniversity], [La Trobe University Dep of Marine, Earth, and Atmospheric Sciences Melbourne Australia, latrobeuniversity], [La Trobe University Dep. of Civil, Construction and Environmental Engineering Melbourne Victoria, latrobeuniversity], [La Trobe University Dept of Chemical and Biomolecular Engineering Australia, latrobeuniversity], [La Trobe University Dep. of Aerospace Engineering Melbourne, latrobeuniversity], [La Trobe University Dep. of Electrical Engineering Victoria, latrobeuniversity], [La Trobe University College of IT, latrobeuniversity], [Sch. of Economics La Trobe University, Melbourne, Victoria, Australia, latrobeuniversity], [Dept. of Civil Engineering La Trobe University, Melbourne, Australia, latrobeuniversity], [Dept of Aerospace Engineering La Trobe University, Melbourne, Victoria, latrobeuniversity], [Dept of Foreign Languages and Literatures La Trobe University, Australia, latrobeuniversity], [Dep of Information Technology La Trobe University, Melbourne, latrobeuniversity], [Dep. of Biological and Agricultural Engineering La Trobe University, Victoria, latrobeuniversity], [Dep. of Agriculture La Trobe University Melbourne Victoria Australia, latrobeuniversity], [College of Management La Trobe University Melbourne Australia, latrobeuniversity], [Dept of Psychiatry La Trobe University Melbourne Victoria, latrobeuniversity], [Dept. of Environmental Engineering La Trobe University Australia, latrobeuniversity], [Department of Applied Science La Trobe University Melbourne, latrobeuniversity], [Dept of Nuclear Engineering La Trobe University Victoria, latrobeuniversity], [Dep of Environmental Engineering La Trobe University, latrobeuniversity]]  \n",
              "2                                                                                                                                                                        [[Victoria University, Melbourne, Victoria, Australia, victoriauniversity], [Victoria University, Melbourne, Australia, victoriauniversity], [Victoria University, Melbourne, Victoria, victoriauniversity], [Victoria University, Australia, victoriauniversity], [Victoria University, Melbourne, victoriauniversity], [Victoria University, Victoria, victoriauniversity], [Victoria University Melbourne Victoria Australia, victoriauniversity], [Victoria University Melbourne Australia, victoriauniversity], [Victoria University Melbourne Victoria, victoriauniversity], [Victoria University Australia, victoriauniversity], [Victoria University Melbourne, victoriauniversity], [Victoria University Victoria, victoriauniversity], [Victoria University, victoriauniversity], [Victoria University Dep of Marine, Earth, and Atmospheric Sciences, Melbourne, Victoria, Australia, victoriauniversity], [Victoria University Dep. of Interdisciplinary Studies, Melbourne, Australia, victoriauniversity], [Victoria University Dept. of English, Melbourne, Victoria, victoriauniversity], [Victoria University College of Textiles, Australia, victoriauniversity], [Victoria University Dept. of Applied Science, Melbourne, victoriauniversity], [Victoria University Department of Computer Science, Victoria, victoriauniversity], [Victoria University Dept of Statistics Melbourne Victoria Australia, victoriauniversity], [Victoria University Dep. of Medicine Melbourne Australia, victoriauniversity], [Victoria University Dep of Electrical Engineering Melbourne Victoria, victoriauniversity], [Victoria University Department of Civil, Construction and Environmental Engineering Australia, victoriauniversity], [Victoria University Dept. of Electrical and Computer Engineering Melbourne, victoriauniversity], [Victoria University Dept of Surgery Victoria, victoriauniversity], [Victoria University Department of Biochemistry, victoriauniversity], [Dep. of IT Victoria University, Melbourne, Victoria, Australia, victoriauniversity], [Dept. of Communication Victoria University, Melbourne, Australia, victoriauniversity], [Dept. of Biomedical Engineering Victoria University, Melbourne, Victoria, victoriauniversity], [Department of Psychiatry Victoria University, Australia, victoriauniversity], [Sch. of Education Victoria University, Melbourne, victoriauniversity], [College of Agriculture and Life Sciences Victoria University, Victoria, victoriauniversity], [Department of Public Administration Victoria University Melbourne Victoria Australia, victoriauniversity], [Dep of Psychiatry Victoria University Melbourne Australia, victoriauniversity], [Sch of Veterinary Medicine Victoria University Melbourne Victoria, victoriauniversity], [Department of Biological and Agricultural Engineering Victoria University Australia, victoriauniversity], [Dept of Materials Science and Engineering Victoria University Melbourne, victoriauniversity], [Sch. of Education Victoria University Victoria, victoriauniversity], [Dep of Statistics Victoria University, victoriauniversity], [Victoria University Dept. of Medicine, Melbourne, Victoria, Australia, victoriauniversity], [Victoria University Sch of Engineering, Melbourne, Australia, victoriauniversity], [Victoria University School of Engineering, Melbourne, Victoria, victoriauniversity], [Victoria University Dept of Social Work, Australia, victoriauniversity], [Victoria University Dept. of Social Work, Melbourne, victoriauniversity], [Victoria University Dep. of Psychology, Victoria, victoriauniversity], [Victoria University School of Engineering Melbourne Victoria Australia, victoriauniversity], [Victoria University Sch of Physics Melbourne Australia, victoriauniversity], [Victoria University Dep of Psychiatry Melbourne Victoria, victoriauniversity], [Victoria University Dept. of Mechanical and Aerospace Engineering Australia, victoriauniversity], [Victoria University Dep. of Political Science Melbourne, victoriauniversity], [Victoria University Dept. of Mechanical and Aerospace Engineering Victoria, victoriauniversity], [Victoria University Dept. of Aerospace Engineering, victoriauniversity], [Dept. of Electrical and Computer Engineering Victoria University, Melbourne, Victoria, Australia, victoriauniversity], [Sch. of Biochemistry Victoria University, Melbourne, Australia, victoriauniversity], [Dep of Agriculture Victoria University, Melbourne, Victoria, victoriauniversity], [Dept. of Psychology Victoria University, Australia, victoriauniversity], [Sch. of Textiles Victoria University, Melbourne, victoriauniversity], [Dep of Mechanical and Aerospace Engineering Victoria University, Victoria, victoriauniversity], [Dept of Computer Science Victoria University Melbourne Victoria Australia, victoriauniversity], [Dept. of Thoracic and Cardiovascular Surgery Victoria University Melbourne Australia, victoriauniversity], [Dept of History Victoria University Melbourne Victoria, victoriauniversity], [Dep. of Sociology and Anthropology Victoria University Australia, victoriauniversity], [Department of Communication Victoria University Melbourne, victoriauniversity], [Dept of Interdisciplinary Studies Victoria University Victoria, victoriauniversity], [Dep of Biology Victoria University, victoriauniversity], [Victoria University Dept of Applied Mechanics, Melbourne, Victoria, Australia, victoriauniversity], [Victoria University Dep. of Biomedical Engineering, Melbourne, Australia, victoriauniversity], [Victoria University College of IT, Melbourne, Victoria, victoriauniversity], [Victoria University Dept of Biological Sciences, Australia, victoriauniversity], [Victoria University Dept of Psychology, Melbourne, victoriauniversity], [Victoria University Dept of English, Victoria, victoriauniversity], [Victoria University Sch of Natural Resources Melbourne Victoria Australia, victoriauniversity], [Victoria University Department of Foreign Languages and Literatures Melbourne Australia, victoriauniversity], [Victoria University Dept of English Melbourne Victoria, victoriauniversity], [Victoria University Dept. of Nuclear Engineering Australia, victoriauniversity], [Victoria University Dep of Materials Science and Engineering Melbourne, victoriauniversity], [Victoria University School of Economics Victoria, victoriauniversity], [Victoria University Dept of Marine, Earth, and Atmospheric Sciences, victoriauniversity], [Department of Biomedical Engineering Victoria University, Melbourne, Victoria, Australia, victoriauniversity], [Dept. of Biochemistry Victoria University, Melbourne, Australia, victoriauniversity], [Dept. of Computer Science Victoria University, Melbourne, Victoria, victoriauniversity], [School of Veterinary Medicine Victoria University, Australia, victoriauniversity], [Department of Psychiatry Victoria University, Melbourne, victoriauniversity], [Dep. of Biochemistry Victoria University, Victoria, victoriauniversity], [Dep of Mathematics Victoria University Melbourne Victoria Australia, victoriauniversity], [Sch. of Economics Victoria University Melbourne Australia, victoriauniversity], [Sch of Veterinary Medicine Victoria University Melbourne Victoria, victoriauniversity], [Dept. of Mechanical and Aerospace Engineering Victoria University Australia, victoriauniversity], [Dep. of History Victoria University Melbourne, victoriauniversity], [Sch. of Design Victoria University Victoria, victoriauniversity], [Dept. of Biological Sciences Victoria University, victoriauniversity], [VU, Melbourne, Victoria, Australia, vu], [VU, Melbourne, Australia, vu], [VU, Melbourne, Victoria, vu], [VU, Australia, vu], [VU, Melbourne, vu], [VU, Victoria, vu], [VU Melbourne Victoria Australia, vu], [VU Melbourne Australia, vu], [VU Melbourne Victoria, vu], ...]  "
            ],
            "text/html": [
              "\n",
              "  <div id=\"df-987a0639-e05c-4454-8059-de6299277685\" class=\"colab-df-container\">\n",
              "    <div>\n",
              "<style scoped>\n",
              "    .dataframe tbody tr th:only-of-type {\n",
              "        vertical-align: middle;\n",
              "    }\n",
              "\n",
              "    .dataframe tbody tr th {\n",
              "        vertical-align: top;\n",
              "    }\n",
              "\n",
              "    .dataframe thead th {\n",
              "        text-align: right;\n",
              "    }\n",
              "</style>\n",
              "<table border=\"1\" class=\"dataframe\">\n",
              "  <thead>\n",
              "    <tr style=\"text-align: right;\">\n",
              "      <th></th>\n",
              "      <th>ror_id</th>\n",
              "      <th>aff_string</th>\n",
              "    </tr>\n",
              "  </thead>\n",
              "  <tbody>\n",
              "    <tr>\n",
              "      <th>0</th>\n",
              "      <td>04ttjf776</td>\n",
              "      <td>[[RMIT University, Melbourne, Victoria, Australia, rmituniversity], [RMIT University, Melbourne, Australia, rmituniversity], [RMIT University, Melbourne, Victoria, rmituniversity], [RMIT University, Australia, rmituniversity], [RMIT University, Melbourne, rmituniversity], [RMIT University, Victoria, rmituniversity], [RMIT University Melbourne Victoria Australia, rmituniversity], [RMIT University Melbourne Australia, rmituniversity], [RMIT University Melbourne Victoria, rmituniversity], [RMIT University Australia, rmituniversity], [RMIT University Melbourne, rmituniversity], [RMIT University Victoria, rmituniversity], [RMIT University, rmituniversity], [RMIT University Dept. of Environmental Engineering, Melbourne, Victoria, Australia, rmituniversity], [RMIT University Dep of IT, Melbourne, Australia, rmituniversity], [RMIT University Dept of Biological and Agricultural Engineering, Melbourne, Victoria, rmituniversity], [RMIT University Dep. of IT, Australia, rmituniversity], [RMIT University Department of English, Melbourne, rmituniversity], [RMIT University Dep of Thoracic and Cardiovascular Surgery, Victoria, rmituniversity], [RMIT University Sch of Law Melbourne Victoria Australia, rmituniversity], [RMIT University Dep of Biological Sciences Melbourne Australia, rmituniversity], [RMIT University Dep. of Communication Melbourne Victoria, rmituniversity], [RMIT University Dept. of Aerospace Engineering Australia, rmituniversity], [RMIT University Dept of Psychiatry Melbourne, rmituniversity], [RMIT University Department of Foreign Languages and Literatures Victoria, rmituniversity], [RMIT University Dep of Statistics, rmituniversity], [Sch. of Engineering RMIT University, Melbourne, Victoria, Australia, rmituniversity], [Dep. of Computer Science RMIT University, Melbourne, Australia, rmituniversity], [Dep. of Electrical and Computer Engineering RMIT University, Melbourne, Victoria, rmituniversity], [Dep of Chemical and Biomolecular Engineering RMIT University, Australia, rmituniversity], [Dep. of Computer Science RMIT University, Melbourne, rmituniversity], [Sch of Chemical Engineering &amp; Technology RMIT University, Victoria, rmituniversity], [Dep. of Applied Science RMIT University Melbourne Victoria Australia, rmituniversity], [Dept. of Political Science RMIT University Melbourne Australia, rmituniversity], [Dep of IT RMIT University Melbourne Victoria, rmituniversity], [Sch of Veterinary Medicine RMIT University Australia, rmituniversity], [Department of Biological and Agricultural Engineering RMIT University Melbourne, rmituniversity], [Dep. of Psychology RMIT University Victoria, rmituniversity], [Dept. of Philosophy and Religious Studies RMIT University, rmituniversity], [RMIT University Dept. of Chemical and Biomolecular Engineering, Melbourne, Victoria, Australia, rmituniversity], [RMIT University Dep of Applied Science, Melbourne, Australia, rmituniversity], [RMIT University Department of Sociology and Anthropology, Melbourne, Victoria, rmituniversity], [RMIT University Sch of Design, Australia, rmituniversity], [RMIT University Dept. of Applied Mechanics, Melbourne, rmituniversity], [RMIT University College of Management, Victoria, rmituniversity], [RMIT University Department of Medicine Melbourne Victoria Australia, rmituniversity], [RMIT University Dep of Communication Melbourne Australia, rmituniversity], [RMIT University Dept. of Biochemistry Melbourne Victoria, rmituniversity], [RMIT University School of Engineering Australia, rmituniversity], [RMIT University Department of Biomedical Engineering Melbourne, rmituniversity], [RMIT University Dept. of Physics Victoria, rmituniversity], [RMIT University Department of Philosophy and Religious Studies, rmituniversity], [Department of Psychiatry RMIT University, Melbourne, Victoria, Australia, rmituniversity], [Dep of Biological Sciences RMIT University, Melbourne, Australia, rmituniversity], [Dep of Computer Science RMIT University, Melbourne, Victoria, rmituniversity], [Dep of Applied Mechanics RMIT University, Australia, rmituniversity], [College of IT RMIT University, Melbourne, rmituniversity], [Dep. of Biological and Agricultural Engineering RMIT University, Victoria, rmituniversity], [School of Information Technology RMIT University Melbourne Victoria Australia, rmituniversity], [School of Education RMIT University Melbourne Australia, rmituniversity], [School of Chemical Engineering &amp; Technology RMIT University Melbourne Victoria, rmituniversity], [Dept of Biological and Agricultural Engineering RMIT University Australia, rmituniversity], [Department of Materials Science and Engineering RMIT University Melbourne, rmituniversity], [Department of Environmental Engineering RMIT University Victoria, rmituniversity], [Dep. of Biomedical Engineering RMIT University, rmituniversity], [RMIT University Dept. of Surgery, Melbourne, Victoria, Australia, rmituniversity], [RMIT University School of Textiles, Melbourne, Australia, rmituniversity], [RMIT University Dept. of Agriculture, Melbourne, Victoria, rmituniversity], [RMIT University Dep. of Marine, Earth, and Atmospheric Sciences, Australia, rmituniversity], [RMIT University Dept. of Surgery, Melbourne, rmituniversity], [RMIT University Sch of Textiles, Victoria, rmituniversity], [RMIT University Department of Electrical Engineering Melbourne Victoria Australia, rmituniversity], [RMIT University Dep of Social Work Melbourne Australia, rmituniversity], [RMIT University Dept. of History Melbourne Victoria, rmituniversity], [RMIT University Dept of Civil Engineering Australia, rmituniversity], [RMIT University Dep. of Applied Science Melbourne, rmituniversity], [RMIT University Dep. of Chemistry Victoria, rmituniversity], [RMIT University Sch. of Physics, rmituniversity], [Dept. of Chemistry RMIT University, Melbourne, Victoria, Australia, rmituniversity], [Dep. of Mathematics RMIT University, Melbourne, Australia, rmituniversity], [Dep of Foreign Languages and Literatures RMIT University, Melbourne, Victoria, rmituniversity], [School of Business RMIT University, Australia, rmituniversity], [College of Veterinary Medicine RMIT University, Melbourne, rmituniversity], [Dept of Marine, Earth, and Atmospheric Sciences RMIT University, Victoria, rmituniversity], [Dept. of Electrical and Computer Engineering RMIT University Melbourne Victoria Australia, rmituniversity], [Sch of Engineering RMIT University Melbourne Australia, rmituniversity], [Dep of Philosophy and Religious Studies RMIT University Melbourne Victoria, rmituniversity], [School of Business RMIT University Australia, rmituniversity], [Dept. of Aerospace Engineering RMIT University Melbourne, rmituniversity], [Sch of Textiles RMIT University Victoria, rmituniversity], [School of Natural Resources RMIT University, rmituniversity], [Royal Melbourne Institute of Technology University, Melbourne, Victoria, Australia, royalmelbourneinstituteoftechnologyuniversity], [Royal Melbourne Institute of Technology University, Melbourne, Australia, royalmelbourneinstituteoftechnologyuniversity], [Royal Melbourne Institute of Technology University, Melbourne, Victoria, royalmelbourneinstituteoftechnologyuniversity], [Royal Melbourne Institute of Technology University, Australia, royalmelbourneinstituteoftechnologyuniversity], [Royal Melbourne Institute of Technology University, Melbourne, royalmelbourneinstituteoftechnologyuniversity], [Royal Melbourne Institute of Technology University, Victoria, royalmelbourneinstituteoftechnologyuniversity], [Royal Melbourne Institute of Technology University Melbourne Victoria Australia, royalmelbourneinstituteoftechnologyuniversity], [Royal Melbourne Institute of Technology University Melbourne Australia, royalmelbourneinstituteoftechnologyuniversity], [Royal Melbourne Institute of Technology University Melbourne Victoria, royalmelbourneinstituteoftechnologyuniversity], ...]</td>\n",
              "    </tr>\n",
              "    <tr>\n",
              "      <th>1</th>\n",
              "      <td>01rxfrp27</td>\n",
              "      <td>[[La Trobe University, Melbourne, Victoria, Australia, latrobeuniversity], [La Trobe University, Melbourne, Australia, latrobeuniversity], [La Trobe University, Melbourne, Victoria, latrobeuniversity], [La Trobe University, Australia, latrobeuniversity], [La Trobe University, Melbourne, latrobeuniversity], [La Trobe University, Victoria, latrobeuniversity], [La Trobe University Melbourne Victoria Australia, latrobeuniversity], [La Trobe University Melbourne Australia, latrobeuniversity], [La Trobe University Melbourne Victoria, latrobeuniversity], [La Trobe University Australia, latrobeuniversity], [La Trobe University Melbourne, latrobeuniversity], [La Trobe University Victoria, latrobeuniversity], [La Trobe University, latrobeuniversity], [La Trobe University School of Veterinary Medicine, Melbourne, Victoria, Australia, latrobeuniversity], [La Trobe University Dep of IT, Melbourne, Australia, latrobeuniversity], [La Trobe University Sch of Design, Melbourne, Victoria, latrobeuniversity], [La Trobe University College of Management, Australia, latrobeuniversity], [La Trobe University Sch of Medicine, Melbourne, latrobeuniversity], [La Trobe University Dept of Chemistry, Victoria, latrobeuniversity], [La Trobe University Dept of Electrical Engineering Melbourne Victoria Australia, latrobeuniversity], [La Trobe University Sch. of Engineering Melbourne Australia, latrobeuniversity], [La Trobe University Department of Psychiatry Melbourne Victoria, latrobeuniversity], [La Trobe University Dept of Mathematics Australia, latrobeuniversity], [La Trobe University Dep of Applied Science Melbourne, latrobeuniversity], [La Trobe University Dep of Psychiatry Victoria, latrobeuniversity], [La Trobe University Department of Thoracic and Cardiovascular Surgery, latrobeuniversity], [Sch of Natural Resources La Trobe University, Melbourne, Victoria, Australia, latrobeuniversity], [Sch. of Physics La Trobe University, Melbourne, Australia, latrobeuniversity], [Dep. of Civil, Construction and Environmental Engineering La Trobe University, Melbourne, Victoria, latrobeuniversity], [Dept. of Biological and Agricultural Engineering La Trobe University, Australia, latrobeuniversity], [Department of Communication La Trobe University, Melbourne, latrobeuniversity], [Dep. of History La Trobe University, Victoria, latrobeuniversity], [Sch. of Education La Trobe University Melbourne Victoria Australia, latrobeuniversity], [College of Veterinary Medicine La Trobe University Melbourne Australia, latrobeuniversity], [Department of Surgery La Trobe University Melbourne Victoria, latrobeuniversity], [Dep of Applied Mechanics La Trobe University Australia, latrobeuniversity], [Dep of Psychology La Trobe University Melbourne, latrobeuniversity], [Dept of Chemistry La Trobe University Victoria, latrobeuniversity], [School of Engineering La Trobe University, latrobeuniversity], [La Trobe University Dept. of Electrical Engineering, Melbourne, Victoria, Australia, latrobeuniversity], [La Trobe University Dep of Political Science, Melbourne, Australia, latrobeuniversity], [La Trobe University Dept. of Social Work, Melbourne, Victoria, latrobeuniversity], [La Trobe University Department of Computer Science, Australia, latrobeuniversity], [La Trobe University Dept. of Civil, Construction and Environmental Engineering, Melbourne, latrobeuniversity], [La Trobe University Dept. of Biomedical Engineering, Victoria, latrobeuniversity], [La Trobe University Dept. of Electrical Engineering Melbourne Victoria Australia, latrobeuniversity], [La Trobe University Dep. of Psychology Melbourne Australia, latrobeuniversity], [La Trobe University Department of Surgery Melbourne Victoria, latrobeuniversity], [La Trobe University Dep. of Applied Science Australia, latrobeuniversity], [La Trobe University Dep of IT Melbourne, latrobeuniversity], [La Trobe University Department of Interdisciplinary Studies Victoria, latrobeuniversity], [La Trobe University Dept of Biomedical Engineering, latrobeuniversity], [Dep. of Biological Sciences La Trobe University, Melbourne, Victoria, Australia, latrobeuniversity], [Dep. of Electrical and Computer Engineering La Trobe University, Melbourne, Australia, latrobeuniversity], [Sch of Natural Resources La Trobe University, Melbourne, Victoria, latrobeuniversity], [Department of Public Administration La Trobe University, Australia, latrobeuniversity], [Dep. of Mathematics La Trobe University, Melbourne, latrobeuniversity], [Department of Biochemistry La Trobe University, Victoria, latrobeuniversity], [Dept. of Biochemistry La Trobe University Melbourne Victoria Australia, latrobeuniversity], [Dep. of Surgery La Trobe University Melbourne Australia, latrobeuniversity], [Dept. of Biochemistry La Trobe University Melbourne Victoria, latrobeuniversity], [Dept of Marine, Earth, and Atmospheric Sciences La Trobe University Australia, latrobeuniversity], [Dept. of Mathematics La Trobe University Melbourne, latrobeuniversity], [Dept. of Applied Science La Trobe University Victoria, latrobeuniversity], [Dep. of Applied Mechanics La Trobe University, latrobeuniversity], [La Trobe University Dept of Psychology, Melbourne, Victoria, Australia, latrobeuniversity], [La Trobe University Dept of Internal Medicine, Melbourne, Australia, latrobeuniversity], [La Trobe University Dep. of Mathematics, Melbourne, Victoria, latrobeuniversity], [La Trobe University Dept of Environmental Engineering, Australia, latrobeuniversity], [La Trobe University Dep. of Nuclear Engineering, Melbourne, latrobeuniversity], [La Trobe University Sch of Veterinary Medicine, Victoria, latrobeuniversity], [La Trobe University Department of Psychology Melbourne Victoria Australia, latrobeuniversity], [La Trobe University Dep of Marine, Earth, and Atmospheric Sciences Melbourne Australia, latrobeuniversity], [La Trobe University Dep. of Civil, Construction and Environmental Engineering Melbourne Victoria, latrobeuniversity], [La Trobe University Dept of Chemical and Biomolecular Engineering Australia, latrobeuniversity], [La Trobe University Dep. of Aerospace Engineering Melbourne, latrobeuniversity], [La Trobe University Dep. of Electrical Engineering Victoria, latrobeuniversity], [La Trobe University College of IT, latrobeuniversity], [Sch. of Economics La Trobe University, Melbourne, Victoria, Australia, latrobeuniversity], [Dept. of Civil Engineering La Trobe University, Melbourne, Australia, latrobeuniversity], [Dept of Aerospace Engineering La Trobe University, Melbourne, Victoria, latrobeuniversity], [Dept of Foreign Languages and Literatures La Trobe University, Australia, latrobeuniversity], [Dep of Information Technology La Trobe University, Melbourne, latrobeuniversity], [Dep. of Biological and Agricultural Engineering La Trobe University, Victoria, latrobeuniversity], [Dep. of Agriculture La Trobe University Melbourne Victoria Australia, latrobeuniversity], [College of Management La Trobe University Melbourne Australia, latrobeuniversity], [Dept of Psychiatry La Trobe University Melbourne Victoria, latrobeuniversity], [Dept. of Environmental Engineering La Trobe University Australia, latrobeuniversity], [Department of Applied Science La Trobe University Melbourne, latrobeuniversity], [Dept of Nuclear Engineering La Trobe University Victoria, latrobeuniversity], [Dep of Environmental Engineering La Trobe University, latrobeuniversity]]</td>\n",
              "    </tr>\n",
              "    <tr>\n",
              "      <th>2</th>\n",
              "      <td>04j757h98</td>\n",
              "      <td>[[Victoria University, Melbourne, Victoria, Australia, victoriauniversity], [Victoria University, Melbourne, Australia, victoriauniversity], [Victoria University, Melbourne, Victoria, victoriauniversity], [Victoria University, Australia, victoriauniversity], [Victoria University, Melbourne, victoriauniversity], [Victoria University, Victoria, victoriauniversity], [Victoria University Melbourne Victoria Australia, victoriauniversity], [Victoria University Melbourne Australia, victoriauniversity], [Victoria University Melbourne Victoria, victoriauniversity], [Victoria University Australia, victoriauniversity], [Victoria University Melbourne, victoriauniversity], [Victoria University Victoria, victoriauniversity], [Victoria University, victoriauniversity], [Victoria University Dep of Marine, Earth, and Atmospheric Sciences, Melbourne, Victoria, Australia, victoriauniversity], [Victoria University Dep. of Interdisciplinary Studies, Melbourne, Australia, victoriauniversity], [Victoria University Dept. of English, Melbourne, Victoria, victoriauniversity], [Victoria University College of Textiles, Australia, victoriauniversity], [Victoria University Dept. of Applied Science, Melbourne, victoriauniversity], [Victoria University Department of Computer Science, Victoria, victoriauniversity], [Victoria University Dept of Statistics Melbourne Victoria Australia, victoriauniversity], [Victoria University Dep. of Medicine Melbourne Australia, victoriauniversity], [Victoria University Dep of Electrical Engineering Melbourne Victoria, victoriauniversity], [Victoria University Department of Civil, Construction and Environmental Engineering Australia, victoriauniversity], [Victoria University Dept. of Electrical and Computer Engineering Melbourne, victoriauniversity], [Victoria University Dept of Surgery Victoria, victoriauniversity], [Victoria University Department of Biochemistry, victoriauniversity], [Dep. of IT Victoria University, Melbourne, Victoria, Australia, victoriauniversity], [Dept. of Communication Victoria University, Melbourne, Australia, victoriauniversity], [Dept. of Biomedical Engineering Victoria University, Melbourne, Victoria, victoriauniversity], [Department of Psychiatry Victoria University, Australia, victoriauniversity], [Sch. of Education Victoria University, Melbourne, victoriauniversity], [College of Agriculture and Life Sciences Victoria University, Victoria, victoriauniversity], [Department of Public Administration Victoria University Melbourne Victoria Australia, victoriauniversity], [Dep of Psychiatry Victoria University Melbourne Australia, victoriauniversity], [Sch of Veterinary Medicine Victoria University Melbourne Victoria, victoriauniversity], [Department of Biological and Agricultural Engineering Victoria University Australia, victoriauniversity], [Dept of Materials Science and Engineering Victoria University Melbourne, victoriauniversity], [Sch. of Education Victoria University Victoria, victoriauniversity], [Dep of Statistics Victoria University, victoriauniversity], [Victoria University Dept. of Medicine, Melbourne, Victoria, Australia, victoriauniversity], [Victoria University Sch of Engineering, Melbourne, Australia, victoriauniversity], [Victoria University School of Engineering, Melbourne, Victoria, victoriauniversity], [Victoria University Dept of Social Work, Australia, victoriauniversity], [Victoria University Dept. of Social Work, Melbourne, victoriauniversity], [Victoria University Dep. of Psychology, Victoria, victoriauniversity], [Victoria University School of Engineering Melbourne Victoria Australia, victoriauniversity], [Victoria University Sch of Physics Melbourne Australia, victoriauniversity], [Victoria University Dep of Psychiatry Melbourne Victoria, victoriauniversity], [Victoria University Dept. of Mechanical and Aerospace Engineering Australia, victoriauniversity], [Victoria University Dep. of Political Science Melbourne, victoriauniversity], [Victoria University Dept. of Mechanical and Aerospace Engineering Victoria, victoriauniversity], [Victoria University Dept. of Aerospace Engineering, victoriauniversity], [Dept. of Electrical and Computer Engineering Victoria University, Melbourne, Victoria, Australia, victoriauniversity], [Sch. of Biochemistry Victoria University, Melbourne, Australia, victoriauniversity], [Dep of Agriculture Victoria University, Melbourne, Victoria, victoriauniversity], [Dept. of Psychology Victoria University, Australia, victoriauniversity], [Sch. of Textiles Victoria University, Melbourne, victoriauniversity], [Dep of Mechanical and Aerospace Engineering Victoria University, Victoria, victoriauniversity], [Dept of Computer Science Victoria University Melbourne Victoria Australia, victoriauniversity], [Dept. of Thoracic and Cardiovascular Surgery Victoria University Melbourne Australia, victoriauniversity], [Dept of History Victoria University Melbourne Victoria, victoriauniversity], [Dep. of Sociology and Anthropology Victoria University Australia, victoriauniversity], [Department of Communication Victoria University Melbourne, victoriauniversity], [Dept of Interdisciplinary Studies Victoria University Victoria, victoriauniversity], [Dep of Biology Victoria University, victoriauniversity], [Victoria University Dept of Applied Mechanics, Melbourne, Victoria, Australia, victoriauniversity], [Victoria University Dep. of Biomedical Engineering, Melbourne, Australia, victoriauniversity], [Victoria University College of IT, Melbourne, Victoria, victoriauniversity], [Victoria University Dept of Biological Sciences, Australia, victoriauniversity], [Victoria University Dept of Psychology, Melbourne, victoriauniversity], [Victoria University Dept of English, Victoria, victoriauniversity], [Victoria University Sch of Natural Resources Melbourne Victoria Australia, victoriauniversity], [Victoria University Department of Foreign Languages and Literatures Melbourne Australia, victoriauniversity], [Victoria University Dept of English Melbourne Victoria, victoriauniversity], [Victoria University Dept. of Nuclear Engineering Australia, victoriauniversity], [Victoria University Dep of Materials Science and Engineering Melbourne, victoriauniversity], [Victoria University School of Economics Victoria, victoriauniversity], [Victoria University Dept of Marine, Earth, and Atmospheric Sciences, victoriauniversity], [Department of Biomedical Engineering Victoria University, Melbourne, Victoria, Australia, victoriauniversity], [Dept. of Biochemistry Victoria University, Melbourne, Australia, victoriauniversity], [Dept. of Computer Science Victoria University, Melbourne, Victoria, victoriauniversity], [School of Veterinary Medicine Victoria University, Australia, victoriauniversity], [Department of Psychiatry Victoria University, Melbourne, victoriauniversity], [Dep. of Biochemistry Victoria University, Victoria, victoriauniversity], [Dep of Mathematics Victoria University Melbourne Victoria Australia, victoriauniversity], [Sch. of Economics Victoria University Melbourne Australia, victoriauniversity], [Sch of Veterinary Medicine Victoria University Melbourne Victoria, victoriauniversity], [Dept. of Mechanical and Aerospace Engineering Victoria University Australia, victoriauniversity], [Dep. of History Victoria University Melbourne, victoriauniversity], [Sch. of Design Victoria University Victoria, victoriauniversity], [Dept. of Biological Sciences Victoria University, victoriauniversity], [VU, Melbourne, Victoria, Australia, vu], [VU, Melbourne, Australia, vu], [VU, Melbourne, Victoria, vu], [VU, Australia, vu], [VU, Melbourne, vu], [VU, Victoria, vu], [VU Melbourne Victoria Australia, vu], [VU Melbourne Australia, vu], [VU Melbourne Victoria, vu], ...]</td>\n",
              "    </tr>\n",
              "  </tbody>\n",
              "</table>\n",
              "</div>\n",
              "    <div class=\"colab-df-buttons\">\n",
              "\n",
              "  <div class=\"colab-df-container\">\n",
              "    <button class=\"colab-df-convert\" onclick=\"convertToInteractive('df-987a0639-e05c-4454-8059-de6299277685')\"\n",
              "            title=\"Convert this dataframe to an interactive table.\"\n",
              "            style=\"display:none;\">\n",
              "\n",
              "  <svg xmlns=\"http://www.w3.org/2000/svg\" height=\"24px\" viewBox=\"0 -960 960 960\">\n",
              "    <path d=\"M120-120v-720h720v720H120Zm60-500h600v-160H180v160Zm220 220h160v-160H400v160Zm0 220h160v-160H400v160ZM180-400h160v-160H180v160Zm440 0h160v-160H620v160ZM180-180h160v-160H180v160Zm440 0h160v-160H620v160Z\"/>\n",
              "  </svg>\n",
              "    </button>\n",
              "\n",
              "  <style>\n",
              "    .colab-df-container {\n",
              "      display:flex;\n",
              "      gap: 12px;\n",
              "    }\n",
              "\n",
              "    .colab-df-convert {\n",
              "      background-color: #E8F0FE;\n",
              "      border: none;\n",
              "      border-radius: 50%;\n",
              "      cursor: pointer;\n",
              "      display: none;\n",
              "      fill: #1967D2;\n",
              "      height: 32px;\n",
              "      padding: 0 0 0 0;\n",
              "      width: 32px;\n",
              "    }\n",
              "\n",
              "    .colab-df-convert:hover {\n",
              "      background-color: #E2EBFA;\n",
              "      box-shadow: 0px 1px 2px rgba(60, 64, 67, 0.3), 0px 1px 3px 1px rgba(60, 64, 67, 0.15);\n",
              "      fill: #174EA6;\n",
              "    }\n",
              "\n",
              "    .colab-df-buttons div {\n",
              "      margin-bottom: 4px;\n",
              "    }\n",
              "\n",
              "    [theme=dark] .colab-df-convert {\n",
              "      background-color: #3B4455;\n",
              "      fill: #D2E3FC;\n",
              "    }\n",
              "\n",
              "    [theme=dark] .colab-df-convert:hover {\n",
              "      background-color: #434B5C;\n",
              "      box-shadow: 0px 1px 3px 1px rgba(0, 0, 0, 0.15);\n",
              "      filter: drop-shadow(0px 1px 2px rgba(0, 0, 0, 0.3));\n",
              "      fill: #FFFFFF;\n",
              "    }\n",
              "  </style>\n",
              "\n",
              "    <script>\n",
              "      const buttonEl =\n",
              "        document.querySelector('#df-987a0639-e05c-4454-8059-de6299277685 button.colab-df-convert');\n",
              "      buttonEl.style.display =\n",
              "        google.colab.kernel.accessAllowed ? 'block' : 'none';\n",
              "\n",
              "      async function convertToInteractive(key) {\n",
              "        const element = document.querySelector('#df-987a0639-e05c-4454-8059-de6299277685');\n",
              "        const dataTable =\n",
              "          await google.colab.kernel.invokeFunction('convertToInteractive',\n",
              "                                                    [key], {});\n",
              "        if (!dataTable) return;\n",
              "\n",
              "        const docLinkHtml = 'Like what you see? Visit the ' +\n",
              "          '<a target=\"_blank\" href=https://colab.research.google.com/notebooks/data_table.ipynb>data table notebook</a>'\n",
              "          + ' to learn more about interactive tables.';\n",
              "        element.innerHTML = '';\n",
              "        dataTable['output_type'] = 'display_data';\n",
              "        await google.colab.output.renderOutput(dataTable, element);\n",
              "        const docLink = document.createElement('div');\n",
              "        docLink.innerHTML = docLinkHtml;\n",
              "        element.appendChild(docLink);\n",
              "      }\n",
              "    </script>\n",
              "  </div>\n",
              "\n",
              "\n",
              "<div id=\"df-9822aaca-71ed-4909-ad52-ce5936b889ca\">\n",
              "  <button class=\"colab-df-quickchart\" onclick=\"quickchart('df-9822aaca-71ed-4909-ad52-ce5936b889ca')\"\n",
              "            title=\"Suggest charts\"\n",
              "            style=\"display:none;\">\n",
              "\n",
              "<svg xmlns=\"http://www.w3.org/2000/svg\" height=\"24px\"viewBox=\"0 0 24 24\"\n",
              "     width=\"24px\">\n",
              "    <g>\n",
              "        <path d=\"M19 3H5c-1.1 0-2 .9-2 2v14c0 1.1.9 2 2 2h14c1.1 0 2-.9 2-2V5c0-1.1-.9-2-2-2zM9 17H7v-7h2v7zm4 0h-2V7h2v10zm4 0h-2v-4h2v4z\"/>\n",
              "    </g>\n",
              "</svg>\n",
              "  </button>\n",
              "\n",
              "<style>\n",
              "  .colab-df-quickchart {\n",
              "      --bg-color: #E8F0FE;\n",
              "      --fill-color: #1967D2;\n",
              "      --hover-bg-color: #E2EBFA;\n",
              "      --hover-fill-color: #174EA6;\n",
              "      --disabled-fill-color: #AAA;\n",
              "      --disabled-bg-color: #DDD;\n",
              "  }\n",
              "\n",
              "  [theme=dark] .colab-df-quickchart {\n",
              "      --bg-color: #3B4455;\n",
              "      --fill-color: #D2E3FC;\n",
              "      --hover-bg-color: #434B5C;\n",
              "      --hover-fill-color: #FFFFFF;\n",
              "      --disabled-bg-color: #3B4455;\n",
              "      --disabled-fill-color: #666;\n",
              "  }\n",
              "\n",
              "  .colab-df-quickchart {\n",
              "    background-color: var(--bg-color);\n",
              "    border: none;\n",
              "    border-radius: 50%;\n",
              "    cursor: pointer;\n",
              "    display: none;\n",
              "    fill: var(--fill-color);\n",
              "    height: 32px;\n",
              "    padding: 0;\n",
              "    width: 32px;\n",
              "  }\n",
              "\n",
              "  .colab-df-quickchart:hover {\n",
              "    background-color: var(--hover-bg-color);\n",
              "    box-shadow: 0 1px 2px rgba(60, 64, 67, 0.3), 0 1px 3px 1px rgba(60, 64, 67, 0.15);\n",
              "    fill: var(--button-hover-fill-color);\n",
              "  }\n",
              "\n",
              "  .colab-df-quickchart-complete:disabled,\n",
              "  .colab-df-quickchart-complete:disabled:hover {\n",
              "    background-color: var(--disabled-bg-color);\n",
              "    fill: var(--disabled-fill-color);\n",
              "    box-shadow: none;\n",
              "  }\n",
              "\n",
              "  .colab-df-spinner {\n",
              "    border: 2px solid var(--fill-color);\n",
              "    border-color: transparent;\n",
              "    border-bottom-color: var(--fill-color);\n",
              "    animation:\n",
              "      spin 1s steps(1) infinite;\n",
              "  }\n",
              "\n",
              "  @keyframes spin {\n",
              "    0% {\n",
              "      border-color: transparent;\n",
              "      border-bottom-color: var(--fill-color);\n",
              "      border-left-color: var(--fill-color);\n",
              "    }\n",
              "    20% {\n",
              "      border-color: transparent;\n",
              "      border-left-color: var(--fill-color);\n",
              "      border-top-color: var(--fill-color);\n",
              "    }\n",
              "    30% {\n",
              "      border-color: transparent;\n",
              "      border-left-color: var(--fill-color);\n",
              "      border-top-color: var(--fill-color);\n",
              "      border-right-color: var(--fill-color);\n",
              "    }\n",
              "    40% {\n",
              "      border-color: transparent;\n",
              "      border-right-color: var(--fill-color);\n",
              "      border-top-color: var(--fill-color);\n",
              "    }\n",
              "    60% {\n",
              "      border-color: transparent;\n",
              "      border-right-color: var(--fill-color);\n",
              "    }\n",
              "    80% {\n",
              "      border-color: transparent;\n",
              "      border-right-color: var(--fill-color);\n",
              "      border-bottom-color: var(--fill-color);\n",
              "    }\n",
              "    90% {\n",
              "      border-color: transparent;\n",
              "      border-bottom-color: var(--fill-color);\n",
              "    }\n",
              "  }\n",
              "</style>\n",
              "\n",
              "  <script>\n",
              "    async function quickchart(key) {\n",
              "      const quickchartButtonEl =\n",
              "        document.querySelector('#' + key + ' button');\n",
              "      quickchartButtonEl.disabled = true;  // To prevent multiple clicks.\n",
              "      quickchartButtonEl.classList.add('colab-df-spinner');\n",
              "      try {\n",
              "        const charts = await google.colab.kernel.invokeFunction(\n",
              "            'suggestCharts', [key], {});\n",
              "      } catch (error) {\n",
              "        console.error('Error during call to suggestCharts:', error);\n",
              "      }\n",
              "      quickchartButtonEl.classList.remove('colab-df-spinner');\n",
              "      quickchartButtonEl.classList.add('colab-df-quickchart-complete');\n",
              "    }\n",
              "    (() => {\n",
              "      let quickchartButtonEl =\n",
              "        document.querySelector('#df-9822aaca-71ed-4909-ad52-ce5936b889ca button');\n",
              "      quickchartButtonEl.style.display =\n",
              "        google.colab.kernel.accessAllowed ? 'block' : 'none';\n",
              "    })();\n",
              "  </script>\n",
              "</div>\n",
              "\n",
              "    </div>\n",
              "  </div>\n"
            ],
            "application/vnd.google.colaboratory.intrinsic+json": {
              "type": "dataframe",
              "summary": "{\n  \"name\": \"ror_to_join[['ror_id','aff_string']]\",\n  \"rows\": 3,\n  \"fields\": [\n    {\n      \"column\": \"ror_id\",\n      \"properties\": {\n        \"dtype\": \"string\",\n        \"num_unique_values\": 3,\n        \"samples\": [\n          \"04ttjf776\",\n          \"01rxfrp27\",\n          \"04j757h98\"\n        ],\n        \"semantic_type\": \"\",\n        \"description\": \"\"\n      }\n    },\n    {\n      \"column\": \"aff_string\",\n      \"properties\": {\n        \"dtype\": \"object\",\n        \"semantic_type\": \"\",\n        \"description\": \"\"\n      }\n    }\n  ]\n}"
            }
          },
          "metadata": {},
          "execution_count": 43
        }
      ]
    },
    {
      "cell_type": "code",
      "execution_count": null,
      "id": "1818d865",
      "metadata": {
        "colab": {
          "base_uri": "https://localhost:8080/"
        },
        "id": "1818d865",
        "outputId": "7450011c-ed33-4cac-bbc5-229bab3d36ce"
      },
      "outputs": [
        {
          "output_type": "execute_result",
          "data": {
            "text/plain": [
              "(10316986, 2)"
            ]
          },
          "metadata": {},
          "execution_count": 44
        }
      ],
      "source": [
        "ror_to_join_final = ror_to_join[['ror_id','aff_string']].explode(\"aff_string\").copy()\n",
        "ror_to_join_final.shape"
      ]
    },
    {
      "cell_type": "code",
      "execution_count": null,
      "id": "9ec78746",
      "metadata": {
        "id": "9ec78746"
      },
      "outputs": [],
      "source": [
        "ror_to_join_final['original_affiliation'] = \\\n",
        "    ror_to_join_final['aff_string'].apply(lambda x: x[0])"
      ]
    },
    {
      "cell_type": "code",
      "source": [
        "print(ror_to_join_final.head())"
      ],
      "metadata": {
        "colab": {
          "base_uri": "https://localhost:8080/"
        },
        "id": "CG1dx7Dd46as",
        "outputId": "50c18d1d-cb38-4d2c-e699-a4bc0c5c7641"
      },
      "id": "CG1dx7Dd46as",
      "execution_count": null,
      "outputs": [
        {
          "output_type": "stream",
          "name": "stdout",
          "text": [
            "      ror_id  \\\n",
            "0  04ttjf776   \n",
            "0  04ttjf776   \n",
            "0  04ttjf776   \n",
            "0  04ttjf776   \n",
            "0  04ttjf776   \n",
            "\n",
            "                                                          aff_string  \\\n",
            "0  [RMIT University, Melbourne, Victoria, Australia, rmituniversity]   \n",
            "0            [RMIT University, Melbourne, Australia, rmituniversity]   \n",
            "0             [RMIT University, Melbourne, Victoria, rmituniversity]   \n",
            "0                       [RMIT University, Australia, rmituniversity]   \n",
            "0                       [RMIT University, Melbourne, rmituniversity]   \n",
            "\n",
            "                              original_affiliation  \n",
            "0  RMIT University, Melbourne, Victoria, Australia  \n",
            "0            RMIT University, Melbourne, Australia  \n",
            "0             RMIT University, Melbourne, Victoria  \n",
            "0                       RMIT University, Australia  \n",
            "0                       RMIT University, Melbourne  \n"
          ]
        }
      ]
    },
    {
      "cell_type": "markdown",
      "id": "24a322c9",
      "metadata": {
        "id": "24a322c9"
      },
      "source": [
        "The rest of the artificial strings are exported so that they can be combined with the historical affiliation data to create the final training data set."
      ]
    },
    {
      "cell_type": "code",
      "execution_count": null,
      "id": "586eb152",
      "metadata": {
        "id": "586eb152"
      },
      "outputs": [],
      "source": [
        "ror_to_join_final.merge(insts, how='inner',\n",
        "                        on='ror_id')[['original_affiliation','affiliation_id']] \\\n",
        ".to_parquet(f\"{base_path}V2/001_Exploration/ror_strings.parquet\")"
      ]
    },
    {
      "cell_type": "code",
      "source": [
        "print(ror_to_join_final.merge(insts, how='inner',\n",
        "                        on='ror_id')[['original_affiliation','affiliation_id']].head())"
      ],
      "metadata": {
        "id": "Xmv2vS8bCubi",
        "colab": {
          "base_uri": "https://localhost:8080/"
        },
        "outputId": "39b53690-204d-4f4e-e523-b40bdecf29eb"
      },
      "id": "Xmv2vS8bCubi",
      "execution_count": null,
      "outputs": [
        {
          "output_type": "stream",
          "name": "stdout",
          "text": [
            "                                       original_affiliation affiliation_id\n",
            "0  National University of the Littoral, Santa Fe, Argentina     3121987637\n",
            "1            National University of the Littoral, Argentina     3121987637\n",
            "2             National University of the Littoral, Santa Fe     3121987637\n",
            "3    National University of the Littoral Santa Fe Argentina     3121987637\n",
            "4             National University of the Littoral Argentina     3121987637\n"
          ]
        }
      ]
    },
    {
      "cell_type": "code",
      "source": [
        "## sacar en script\n",
        "##!colab-convert /content/drive/MyDrive/openalex-institution-parsing/V2/001_Exploration/Notebooks/001_Institutions_Exploration.ipynb  /content/drive/MyDrive/openalex-institution-parsing/V2/001_Exploration/Notebooks/001_Institutions_Exploration.py"
      ],
      "metadata": {
        "id": "ueOqGvj1PNeq"
      },
      "id": "ueOqGvj1PNeq",
      "execution_count": null,
      "outputs": []
    }
  ],
  "metadata": {
    "kernelspec": {
      "display_name": "Python 3 (ipykernel)",
      "language": "python",
      "name": "python3"
    },
    "language_info": {
      "codemirror_mode": {
        "name": "ipython",
        "version": 3
      },
      "file_extension": ".py",
      "mimetype": "text/x-python",
      "name": "python",
      "nbconvert_exporter": "python",
      "pygments_lexer": "ipython3",
      "version": "3.8.12"
    },
    "colab": {
      "provenance": [],
      "include_colab_link": true
    }
  },
  "nbformat": 4,
  "nbformat_minor": 5
}