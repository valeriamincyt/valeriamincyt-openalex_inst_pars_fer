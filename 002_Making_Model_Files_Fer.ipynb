{
  "cells": [
    {
      "cell_type": "markdown",
      "metadata": {
        "id": "view-in-github",
        "colab_type": "text"
      },
      "source": [
        "<a href=\"https://colab.research.google.com/github/valeriamincyt/valeriamincyt-openalex_inst_pars_fer/blob/main/002_Making_Model_Files_Fer.ipynb\" target=\"_parent\"><img src=\"https://colab.research.google.com/assets/colab-badge.svg\" alt=\"Open In Colab\"/></a>"
      ]
    },
    {
      "cell_type": "code",
      "source": [
        "import pickle\n",
        "import json\n",
        "import json,urllib.request\n",
        "!pip install redshift_connector ##no instalar en script\n",
        "import redshift_connector\n",
        "import pandas as pd\n",
        "pd.set_option(\"display.max_colwidth\", None)\n",
        "pd.set_option(\"display.max_columns\", None)\n",
        "pd.set_option(\"display.max_rows\", 200)\n",
        "import numpy as np\n",
        "import re\n",
        "import os\n",
        "!pip install unidecode\n",
        "from unidecode import unidecode\n",
        "from collections import Counter\n",
        "from math import ceil\n",
        "!pip install langdetect\n",
        "from langdetect import detect\n",
        "from random import sample\n",
        "\n",
        "from google.colab import drive\n",
        "\n",
        "!pip install pyalex\n",
        "import pyalex\n",
        "from pyalex import Works, Authors, Sources, Institutions, Topics, Publishers, Funders\n",
        "from pyalex import config\n",
        "\n",
        "!pip install colab-convert ##no instalar en script\n"
      ],
      "metadata": {
        "colab": {
          "base_uri": "https://localhost:8080/"
        },
        "id": "ozObisEqpml7",
        "outputId": "51a98d5a-a952-4f34-d513-a7ace77bb30a"
      },
      "id": "ozObisEqpml7",
      "execution_count": null,
      "outputs": [
        {
          "output_type": "stream",
          "name": "stdout",
          "text": [
            "Collecting redshift_connector\n",
            "  Downloading redshift_connector-2.1.4-py3-none-any.whl.metadata (69 kB)\n",
            "\u001b[?25l     \u001b[90m━━━━━━━━━━━━━━━━━━━━━━━━━━━━━━━━━━━━━━━━\u001b[0m \u001b[32m0.0/69.7 kB\u001b[0m \u001b[31m?\u001b[0m eta \u001b[36m-:--:--\u001b[0m\r\u001b[2K     \u001b[90m━━━━━━━━━━━━━━━━━━━━━━━━━━━━━━━━━━━━━━━━\u001b[0m \u001b[32m69.7/69.7 kB\u001b[0m \u001b[31m5.5 MB/s\u001b[0m eta \u001b[36m0:00:00\u001b[0m\n",
            "\u001b[?25hCollecting scramp<1.5.0,>=1.2.0 (from redshift_connector)\n",
            "  Downloading scramp-1.4.5-py3-none-any.whl.metadata (19 kB)\n",
            "Requirement already satisfied: pytz>=2020.1 in /usr/local/lib/python3.10/dist-packages (from redshift_connector) (2024.2)\n",
            "Requirement already satisfied: beautifulsoup4<5.0.0,>=4.7.0 in /usr/local/lib/python3.10/dist-packages (from redshift_connector) (4.12.3)\n",
            "Collecting boto3<2.0.0,>=1.9.201 (from redshift_connector)\n",
            "  Downloading boto3-1.35.76-py3-none-any.whl.metadata (6.7 kB)\n",
            "Requirement already satisfied: requests<3.0.0,>=2.23.0 in /usr/local/lib/python3.10/dist-packages (from redshift_connector) (2.32.3)\n",
            "Requirement already satisfied: lxml>=4.6.5 in /usr/local/lib/python3.10/dist-packages (from redshift_connector) (5.3.0)\n",
            "Collecting botocore<2.0.0,>=1.12.201 (from redshift_connector)\n",
            "  Downloading botocore-1.35.76-py3-none-any.whl.metadata (5.7 kB)\n",
            "Requirement already satisfied: packaging in /usr/local/lib/python3.10/dist-packages (from redshift_connector) (24.2)\n",
            "Requirement already satisfied: setuptools in /usr/local/lib/python3.10/dist-packages (from redshift_connector) (75.1.0)\n",
            "Requirement already satisfied: soupsieve>1.2 in /usr/local/lib/python3.10/dist-packages (from beautifulsoup4<5.0.0,>=4.7.0->redshift_connector) (2.6)\n",
            "Collecting jmespath<2.0.0,>=0.7.1 (from boto3<2.0.0,>=1.9.201->redshift_connector)\n",
            "  Downloading jmespath-1.0.1-py3-none-any.whl.metadata (7.6 kB)\n",
            "Collecting s3transfer<0.11.0,>=0.10.0 (from boto3<2.0.0,>=1.9.201->redshift_connector)\n",
            "  Downloading s3transfer-0.10.4-py3-none-any.whl.metadata (1.7 kB)\n",
            "Requirement already satisfied: python-dateutil<3.0.0,>=2.1 in /usr/local/lib/python3.10/dist-packages (from botocore<2.0.0,>=1.12.201->redshift_connector) (2.8.2)\n",
            "Requirement already satisfied: urllib3!=2.2.0,<3,>=1.25.4 in /usr/local/lib/python3.10/dist-packages (from botocore<2.0.0,>=1.12.201->redshift_connector) (2.2.3)\n",
            "Requirement already satisfied: charset-normalizer<4,>=2 in /usr/local/lib/python3.10/dist-packages (from requests<3.0.0,>=2.23.0->redshift_connector) (3.4.0)\n",
            "Requirement already satisfied: idna<4,>=2.5 in /usr/local/lib/python3.10/dist-packages (from requests<3.0.0,>=2.23.0->redshift_connector) (3.10)\n",
            "Requirement already satisfied: certifi>=2017.4.17 in /usr/local/lib/python3.10/dist-packages (from requests<3.0.0,>=2.23.0->redshift_connector) (2024.8.30)\n",
            "Collecting asn1crypto>=1.5.1 (from scramp<1.5.0,>=1.2.0->redshift_connector)\n",
            "  Downloading asn1crypto-1.5.1-py2.py3-none-any.whl.metadata (13 kB)\n",
            "Requirement already satisfied: six>=1.5 in /usr/local/lib/python3.10/dist-packages (from python-dateutil<3.0.0,>=2.1->botocore<2.0.0,>=1.12.201->redshift_connector) (1.16.0)\n",
            "Downloading redshift_connector-2.1.4-py3-none-any.whl (137 kB)\n",
            "\u001b[2K   \u001b[90m━━━━━━━━━━━━━━━━━━━━━━━━━━━━━━━━━━━━━━━━\u001b[0m \u001b[32m138.0/138.0 kB\u001b[0m \u001b[31m7.6 MB/s\u001b[0m eta \u001b[36m0:00:00\u001b[0m\n",
            "\u001b[?25hDownloading boto3-1.35.76-py3-none-any.whl (139 kB)\n",
            "\u001b[2K   \u001b[90m━━━━━━━━━━━━━━━━━━━━━━━━━━━━━━━━━━━━━━━━\u001b[0m \u001b[32m139.2/139.2 kB\u001b[0m \u001b[31m7.2 MB/s\u001b[0m eta \u001b[36m0:00:00\u001b[0m\n",
            "\u001b[?25hDownloading botocore-1.35.76-py3-none-any.whl (13.2 MB)\n",
            "\u001b[2K   \u001b[90m━━━━━━━━━━━━━━━━━━━━━━━━━━━━━━━━━━━━━━━━\u001b[0m \u001b[32m13.2/13.2 MB\u001b[0m \u001b[31m37.0 MB/s\u001b[0m eta \u001b[36m0:00:00\u001b[0m\n",
            "\u001b[?25hDownloading scramp-1.4.5-py3-none-any.whl (12 kB)\n",
            "Downloading asn1crypto-1.5.1-py2.py3-none-any.whl (105 kB)\n",
            "\u001b[2K   \u001b[90m━━━━━━━━━━━━━━━━━━━━━━━━━━━━━━━━━━━━━━━━\u001b[0m \u001b[32m105.0/105.0 kB\u001b[0m \u001b[31m6.0 MB/s\u001b[0m eta \u001b[36m0:00:00\u001b[0m\n",
            "\u001b[?25hDownloading jmespath-1.0.1-py3-none-any.whl (20 kB)\n",
            "Downloading s3transfer-0.10.4-py3-none-any.whl (83 kB)\n",
            "\u001b[2K   \u001b[90m━━━━━━━━━━━━━━━━━━━━━━━━━━━━━━━━━━━━━━━━\u001b[0m \u001b[32m83.2/83.2 kB\u001b[0m \u001b[31m4.5 MB/s\u001b[0m eta \u001b[36m0:00:00\u001b[0m\n",
            "\u001b[?25hInstalling collected packages: asn1crypto, scramp, jmespath, botocore, s3transfer, boto3, redshift_connector\n",
            "Successfully installed asn1crypto-1.5.1 boto3-1.35.76 botocore-1.35.76 jmespath-1.0.1 redshift_connector-2.1.4 s3transfer-0.10.4 scramp-1.4.5\n",
            "Collecting unidecode\n",
            "  Downloading Unidecode-1.3.8-py3-none-any.whl.metadata (13 kB)\n",
            "Downloading Unidecode-1.3.8-py3-none-any.whl (235 kB)\n",
            "\u001b[2K   \u001b[90m━━━━━━━━━━━━━━━━━━━━━━━━━━━━━━━━━━━━━━━━\u001b[0m \u001b[32m235.5/235.5 kB\u001b[0m \u001b[31m13.3 MB/s\u001b[0m eta \u001b[36m0:00:00\u001b[0m\n",
            "\u001b[?25hInstalling collected packages: unidecode\n",
            "Successfully installed unidecode-1.3.8\n",
            "Collecting langdetect\n",
            "  Downloading langdetect-1.0.9.tar.gz (981 kB)\n",
            "\u001b[2K     \u001b[90m━━━━━━━━━━━━━━━━━━━━━━━━━━━━━━━━━━━━━━━━\u001b[0m \u001b[32m981.5/981.5 kB\u001b[0m \u001b[31m38.9 MB/s\u001b[0m eta \u001b[36m0:00:00\u001b[0m\n",
            "\u001b[?25h  Preparing metadata (setup.py) ... \u001b[?25l\u001b[?25hdone\n",
            "Requirement already satisfied: six in /usr/local/lib/python3.10/dist-packages (from langdetect) (1.16.0)\n",
            "Building wheels for collected packages: langdetect\n",
            "  Building wheel for langdetect (setup.py) ... \u001b[?25l\u001b[?25hdone\n",
            "  Created wheel for langdetect: filename=langdetect-1.0.9-py3-none-any.whl size=993222 sha256=47971849ffa143f4b51006bb10301f08b698ee78fcf08ef4d6b78c3266b6f794\n",
            "  Stored in directory: /root/.cache/pip/wheels/95/03/7d/59ea870c70ce4e5a370638b5462a7711ab78fba2f655d05106\n",
            "Successfully built langdetect\n",
            "Installing collected packages: langdetect\n",
            "Successfully installed langdetect-1.0.9\n",
            "Collecting pyalex\n",
            "  Downloading pyalex-0.15.1-py3-none-any.whl.metadata (13 kB)\n",
            "Requirement already satisfied: requests in /usr/local/lib/python3.10/dist-packages (from pyalex) (2.32.3)\n",
            "Requirement already satisfied: urllib3 in /usr/local/lib/python3.10/dist-packages (from pyalex) (2.2.3)\n",
            "Requirement already satisfied: charset-normalizer<4,>=2 in /usr/local/lib/python3.10/dist-packages (from requests->pyalex) (3.4.0)\n",
            "Requirement already satisfied: idna<4,>=2.5 in /usr/local/lib/python3.10/dist-packages (from requests->pyalex) (3.10)\n",
            "Requirement already satisfied: certifi>=2017.4.17 in /usr/local/lib/python3.10/dist-packages (from requests->pyalex) (2024.8.30)\n",
            "Downloading pyalex-0.15.1-py3-none-any.whl (11 kB)\n",
            "Installing collected packages: pyalex\n",
            "Successfully installed pyalex-0.15.1\n",
            "Collecting colab-convert\n",
            "  Downloading colab-convert-2.0.5.tar.gz (18 kB)\n",
            "  Preparing metadata (setup.py) ... \u001b[?25l\u001b[?25hdone\n",
            "Collecting json5 (from colab-convert)\n",
            "  Downloading json5-0.10.0-py3-none-any.whl.metadata (34 kB)\n",
            "Downloading json5-0.10.0-py3-none-any.whl (34 kB)\n",
            "Building wheels for collected packages: colab-convert\n",
            "  Building wheel for colab-convert (setup.py) ... \u001b[?25l\u001b[?25hdone\n",
            "  Created wheel for colab-convert: filename=colab_convert-2.0.5-py3-none-any.whl size=19207 sha256=a6fae20cdc7761350866bf834eccfb4a943f135e6f1ed917ef0fc3d893335f0e\n",
            "  Stored in directory: /root/.cache/pip/wheels/a7/9f/0a/70f4be5eeba4a3fca9d7bcf68d5a4e97edb9f22be449cc1e8c\n",
            "Successfully built colab-convert\n",
            "Installing collected packages: json5, colab-convert\n",
            "Successfully installed colab-convert-2.0.5 json5-0.10.0\n"
          ]
        }
      ]
    },
    {
      "cell_type": "markdown",
      "id": "06735fac",
      "metadata": {
        "id": "06735fac"
      },
      "source": [
        "## Support Files"
      ]
    },
    {
      "cell_type": "markdown",
      "id": "7f719469",
      "metadata": {
        "id": "7f719469"
      },
      "source": [
        "Throughout the modeling process, some of the model artifacts needed to be updated and so this notebook was used to quickly update those files."
      ]
    },
    {
      "cell_type": "code",
      "source": [
        "## comentar siguiente línea en script\n",
        "drive.mount('/content/drive')"
      ],
      "metadata": {
        "colab": {
          "base_uri": "https://localhost:8080/"
        },
        "id": "55qdRS8_dzOu",
        "outputId": "4b2324e6-87d8-43d3-98bd-d14a83b53cbe"
      },
      "id": "55qdRS8_dzOu",
      "execution_count": null,
      "outputs": [
        {
          "output_type": "stream",
          "name": "stdout",
          "text": [
            "Mounted at /content/drive\n"
          ]
        }
      ]
    },
    {
      "cell_type": "markdown",
      "source": [
        "**Cambiar path**"
      ],
      "metadata": {
        "id": "7TTi6GuynmN0"
      },
      "id": "7TTi6GuynmN0"
    },
    {
      "cell_type": "code",
      "source": [
        "base_path = '/content/drive/MyDrive/openalex-institution-parsing/'\n",
        "# location where current files are located\n",
        "curr_model_artifacts_location = os.path.join(base_path, 'Crudos/institution_tagger_v2_artifacts/')"
      ],
      "metadata": {
        "id": "unZF4Ce5ZHTZ"
      },
      "id": "unZF4Ce5ZHTZ",
      "execution_count": null,
      "outputs": []
    },
    {
      "cell_type": "code",
      "execution_count": null,
      "id": "7325fe49",
      "metadata": {
        "id": "7325fe49",
        "colab": {
          "base_uri": "https://localhost:8080/"
        },
        "outputId": "f68c3c03-8695-4a12-83e6-cb138ef016b6"
      },
      "outputs": [
        {
          "output_type": "stream",
          "name": "stdout",
          "text": [
            "Loaded list of departments\n",
            "Loaded flat list of countries\n",
            "Loaded countries dictionary\n",
            "Loaded strings of city/country combinations\n"
          ]
        }
      ],
      "source": [
        "# Load the needed files\n",
        "with open(f\"{curr_model_artifacts_location}departments_list.pkl\", \"rb\") as f:\n",
        "    departments_list = pickle.load(f)\n",
        "print(\"Loaded list of departments\")\n",
        "\n",
        "with open(f\"{curr_model_artifacts_location}countries_list_flat.pkl\", \"rb\") as f:\n",
        "    countries_list_flat = pickle.load(f)\n",
        "print(\"Loaded flat list of countries\")\n",
        "\n",
        "with open(f\"{curr_model_artifacts_location}countries.json\", \"r\") as f:\n",
        "    countries_dict = json.load(f)\n",
        "print(\"Loaded countries dictionary\")\n",
        "\n",
        "with open(f\"{curr_model_artifacts_location}city_country_list.pkl\", \"rb\") as f:\n",
        "    city_country_list = pickle.load(f)\n",
        "print(\"Loaded strings of city/country combinations\")"
      ]
    },
    {
      "cell_type": "markdown",
      "id": "5502b0dd",
      "metadata": {
        "id": "5502b0dd"
      },
      "source": [
        "### Looking at ROR"
      ]
    },
    {
      "cell_type": "code",
      "execution_count": null,
      "id": "c49d9de9",
      "metadata": {
        "id": "c49d9de9"
      },
      "outputs": [],
      "source": [
        "def get_geoname_admin(address_dict):\n",
        "    try:\n",
        "        geoname_admin = address_dict['geonames_city']['geonames_admin1']['name']\n",
        "    except:\n",
        "        geoname_admin = \"None\"\n",
        "\n",
        "    return geoname_admin"
      ]
    },
    {
      "cell_type": "code",
      "execution_count": null,
      "id": "1612ec85",
      "metadata": {
        "id": "1612ec85"
      },
      "outputs": [],
      "source": [
        "def get_final_region(ror_state, ror_region):\n",
        "    if isinstance(ror_state, str):\n",
        "        return ror_state\n",
        "    elif isinstance(ror_region, str):\n",
        "        return ror_region\n",
        "    else:\n",
        "        return None"
      ]
    },
    {
      "cell_type": "code",
      "execution_count": null,
      "id": "05bbef34",
      "metadata": {
        "id": "05bbef34"
      },
      "outputs": [],
      "source": [
        "def check_for_backwards_univ(curr_names):\n",
        "    names = curr_names.copy()\n",
        "    for one_name in curr_names:\n",
        "        split_name = one_name.split(\" \")\n",
        "        if len(split_name) == 3:\n",
        "            if (split_name[0] == 'University') & (split_name[1] == 'of'):\n",
        "                names.append(f\"{split_name[2]} University\")\n",
        "        elif len(split_name) == 2:\n",
        "            if (split_name[1] == 'University'):\n",
        "                names.append(f\"University of {split_name[0]}\")\n",
        "        else:\n",
        "            pass\n",
        "    return names"
      ]
    },
    {
      "cell_type": "code",
      "execution_count": null,
      "id": "05b65ea6",
      "metadata": {
        "id": "05b65ea6"
      },
      "outputs": [],
      "source": [
        "def add_names_to_list(all_names):\n",
        "    names = all_names.copy()\n",
        "    if \"Harvard University\" in names:\n",
        "        names.append(\"Harvard Medical School\")\n",
        "    elif \"University of Oxford\" in names:\n",
        "        names.append(\"Oxford University\")\n",
        "    else:\n",
        "        pass\n",
        "\n",
        "    return names"
      ]
    },
    {
      "cell_type": "code",
      "execution_count": null,
      "id": "4745c785",
      "metadata": {
        "id": "4745c785"
      },
      "outputs": [],
      "source": [
        "def get_exact_names(name, aliases, acronyms, labels):\n",
        "    all_names = [name] + aliases + acronyms + [i['label'] for i in labels]\n",
        "    all_names = add_names_to_list(all_names)\n",
        "    all_names = [x for x in all_names if ~x.startswith('Department of')]\n",
        "    all_names_clean = [string_match_clean(x) for x in all_names]\n",
        "    return [x for x in all_names_clean if len(x) > 4]"
      ]
    },
    {
      "cell_type": "markdown",
      "source": [],
      "metadata": {
        "id": "m9cxadr8Rt6n"
      },
      "id": "m9cxadr8Rt6n"
    },
    {
      "cell_type": "code",
      "execution_count": null,
      "id": "181903bd",
      "metadata": {
        "id": "181903bd"
      },
      "outputs": [],
      "source": [
        "def string_match_clean(text):\n",
        "    #replace \"&\" with \"and\"\n",
        "    if \"r&d\" not in text.lower():\n",
        "        text = text.replace(\" & \", \" and \")\n",
        "\n",
        "    # take country out\n",
        "    if text.strip().endswith(\")\"):\n",
        "        for country in countries_list_flat:\n",
        "            if text.strip().endswith(f\"({country})\"):\n",
        "                text = text.replace(f\"({country})\", \"\")\n",
        "\n",
        "    # use unidecode\n",
        "    text = unidecode(text.strip())\n",
        "\n",
        "    # replacing common abbreviations\n",
        "    text = text.replace(\"Univ.\", \"University\")\n",
        "    text = text.replace(\"Lab.\", \"Laboratory\")\n",
        "\n",
        "    # take out spaces, commas, dashes, periods, etcs\n",
        "    text = re.sub(\"[^0-9a-zA-Z]\", \"\", text)\n",
        "\n",
        "    return text"
      ]
    },
    {
      "cell_type": "code",
      "execution_count": null,
      "id": "f91cc78e",
      "metadata": {
        "id": "f91cc78e"
      },
      "outputs": [],
      "source": [
        "def list_of_all_names(oa_name, ror_names, extra_names, use_extra_names=False):\n",
        "    banned_names = ['UniversityHospital','Coastal','Brunswick','Continental']\n",
        "    if isinstance(ror_names, list):\n",
        "        pass\n",
        "    else:\n",
        "        ror_names = []\n",
        "\n",
        "    if isinstance(oa_name, str):\n",
        "        oa_string = [string_match_clean(oa_name)]\n",
        "    else:\n",
        "        oa_string = []\n",
        "\n",
        "    if use_extra_names:\n",
        "        if isinstance(extra_names, list):\n",
        "            pass\n",
        "        else:\n",
        "            extra_names = []\n",
        "    else:\n",
        "        extra_names = []\n",
        "\n",
        "    return [x for x in list(set(oa_string+ror_names+extra_names)) if\n",
        "            ((len(x) > 4) & (x not in banned_names))]"
      ]
    },
    {
      "cell_type": "code",
      "execution_count": null,
      "id": "afb19811",
      "metadata": {
        "id": "afb19811"
      },
      "outputs": [],
      "source": [
        "### ALTERNATIVA DE OA_static_institutions_single_file.parquet bajando desde Python\n",
        "\n",
        "pyalex.config.email = \"mfartola.mincyt@gmail.com\"\n",
        "\n",
        "config.max_retries = 0\n",
        "config.retry_backoff_factor = 0.1\n",
        "config.retry_http_codes = [429, 500, 503]"
      ]
    },
    {
      "cell_type": "code",
      "source": [
        "data = urllib.request.urlopen(\"https://api.openalex.org/institutions?filter=country_code:AR&per-page=200&page=1\").read()\n",
        "data1 = urllib.request.urlopen(\"https://api.openalex.org/institutions?filter=country_code:AR&per-page=200&page=2\").read()\n",
        "\n",
        "output = json.loads(data)\n",
        "output1 = json.loads(data1)\n",
        "\n",
        "argentina1=pd.DataFrame(output['results'])\n",
        "argentina2=pd.DataFrame(output1['results'])\n",
        "argentina=pd.concat([argentina1,argentina2])\n",
        "argentina=pd.DataFrame(argentina)\n",
        "print(argentina.head())\n",
        "argentina.shape\n",
        "institutions_df=argentina\n",
        "institutions_df.columns"
      ],
      "metadata": {
        "id": "e6ahXrT8CVyq",
        "colab": {
          "base_uri": "https://localhost:8080/"
        },
        "outputId": "98993225-bee6-47e0-ce1f-62909728cba7"
      },
      "id": "e6ahXrT8CVyq",
      "execution_count": null,
      "outputs": [
        {
          "output_type": "stream",
          "name": "stdout",
          "text": [
            "                                id                        ror  \\\n",
            "0  https://openalex.org/I151201029  https://ror.org/03cqe8w59   \n",
            "1   https://openalex.org/I24354313  https://ror.org/0081fs513   \n",
            "2  https://openalex.org/I874386039  https://ror.org/01tjs6929   \n",
            "3  https://openalex.org/I166401450  https://ror.org/056tb7j80   \n",
            "4   https://openalex.org/I53241121  https://ror.org/05rxmkq09   \n",
            "\n",
            "                                                 display_name country_code  \\\n",
            "0  Consejo Nacional de Investigaciones Científicas y Técnicas           AR   \n",
            "1                                  University of Buenos Aires           AR   \n",
            "2                            Universidad Nacional de La Plata           AR   \n",
            "3                             Universidad Nacional de Córdoba           AR   \n",
            "4                      Fundación Ciencias Exactas y Naturales           AR   \n",
            "\n",
            "         type                                            type_id  \\\n",
            "0  government  https://openalex.org/institution-types/government   \n",
            "1   education   https://openalex.org/institution-types/education   \n",
            "2   education   https://openalex.org/institution-types/education   \n",
            "3   education   https://openalex.org/institution-types/education   \n",
            "4   nonprofit   https://openalex.org/institution-types/nonprofit   \n",
            "\n",
            "                                                                                                 lineage  \\\n",
            "0  [https://openalex.org/I151201029, https://openalex.org/I4210123736, https://openalex.org/I4387155568]   \n",
            "1                                                                       [https://openalex.org/I24354313]   \n",
            "2                                                                      [https://openalex.org/I874386039]   \n",
            "3                                                                      [https://openalex.org/I166401450]   \n",
            "4                                                                       [https://openalex.org/I53241121]   \n",
            "\n",
            "                  homepage_url  \\\n",
            "0    http://www.conicet.gov.ar   \n",
            "1           http://www.uba.ar/   \n",
            "2      http://www.unlp.edu.ar/   \n",
            "3       https://www.unc.edu.ar   \n",
            "4  http://www.fundacen.org.ar/   \n",
            "\n",
            "                                                                                                 image_url  \\\n",
            "0  https://commons.wikimedia.org/w/index.php?title=Special:Redirect/file/Conicet%20Logo%20con%20letras.png   \n",
            "1                            https://commons.wikimedia.org/w/index.php?title=Special:Redirect/file/UBA.svg   \n",
            "2          https://commons.wikimedia.org/w/index.php?title=Special:Redirect/file/Unlp%20marca%20escudo.png   \n",
            "3           https://commons.wikimedia.org/w/index.php?title=Special:Redirect/file/Patiocolonialcordoba.jpg   \n",
            "4                 https://commons.wikimedia.org/w/index.php?title=Special:Redirect/file/Logo%20exactas.svg   \n",
            "\n",
            "                                                                                                 image_thumbnail_url  \\\n",
            "0  https://commons.wikimedia.org/w/index.php?title=Special:Redirect/file/Conicet%20Logo%20con%20letras.png&width=300   \n",
            "1                            https://commons.wikimedia.org/w/index.php?title=Special:Redirect/file/UBA.svg&width=300   \n",
            "2          https://commons.wikimedia.org/w/index.php?title=Special:Redirect/file/Unlp%20marca%20escudo.png&width=300   \n",
            "3           https://commons.wikimedia.org/w/index.php?title=Special:Redirect/file/Patiocolonialcordoba.jpg&width=300   \n",
            "4                 https://commons.wikimedia.org/w/index.php?title=Special:Redirect/file/Logo%20exactas.svg&width=300   \n",
            "\n",
            "  display_name_acronyms  \\\n",
            "0             [CONICET]   \n",
            "1                 [UBA]   \n",
            "2                [UNLP]   \n",
            "3                 [UNC]   \n",
            "4            [FUNDACEN]   \n",
            "\n",
            "                                                                                                              display_name_alternatives  \\\n",
            "0                                                                                  [National Scientific and Technical Research Council]   \n",
            "1                                                 [Università di Buenos Aires, Universidad de Buenos Aires, Université de Buenos Aires]   \n",
            "2                                                                   [National University of La Plata, Université nationale de la plata]   \n",
            "3  [Université nationale de córdoba, Università Nazionale di Córdoba, National University of Córdoba, Universidade Nacional de Córdoba]   \n",
            "4                                                                                                                                    []   \n",
            "\n",
            "                                                                                                                                                                                                                                                                                                                                                                                                                                                                                                                                                                                                                                                                                                                                                                                                                                                                                                                                                                                                                                                                                                                                                                                                                                                                                                                                                                                                                                                                                                                                                                                                                                                                                                                                                                                                                                                                                                                                                                                                                                                                                                                              repositories  \\\n",
            "0                                                                                                                                                                                                                                                                                                                                                                                                                                                                                                                                                                                                                                                                                                                                                                                                                                                                                                                                                                                                                                                                                                                                                                                                                                                                                                                                                                                                                                                                                                                                                                                                                                                                                                                                                                                                                                                                                                                                                                                                                                                                                                                                       []   \n",
            "1  [{'id': 'https://openalex.org/S4306402562', 'display_name': 'Repositorio Digital Institucional de la Universidad de Buenos Aires (Universidad de Buenos Aires)', 'host_organization': 'https://openalex.org/I24354313', 'host_organization_name': 'University of Buenos Aires', 'host_organization_lineage': ['https://openalex.org/I24354313']}, {'id': 'https://openalex.org/S4377196588', 'display_name': 'FILO - Digital  (University of Buenos Aires)', 'host_organization': 'https://openalex.org/I24354313', 'host_organization_name': 'University of Buenos Aires', 'host_organization_lineage': ['https://openalex.org/I24354313']}, {'id': 'https://openalex.org/S4377196738', 'display_name': 'Digital Library .UBAExacts (University of Buenos Aires)', 'host_organization': 'https://openalex.org/I24354313', 'host_organization_name': 'University of Buenos Aires', 'host_organization_lineage': ['https://openalex.org/I24354313']}, {'id': 'https://openalex.org/S4377196948', 'display_name': 'FAUBA DIGITAL (University of Buenos Aires)', 'host_organization': 'https://openalex.org/I24354313', 'host_organization_name': 'University of Buenos Aires', 'host_organization_lineage': ['https://openalex.org/I24354313']}, {'id': 'https://openalex.org/S4377196963', 'display_name': 'FAUBA DIGITAL (University of Buenos Aires)', 'host_organization': 'https://openalex.org/I24354313', 'host_organization_name': 'University of Buenos Aires', 'host_organization_lineage': ['https://openalex.org/I24354313']}, {'id': 'https://openalex.org/S4306400305', 'display_name': 'Sociedad (University of Buenos Aires)', 'host_organization': 'https://openalex.org/I24354313', 'host_organization_name': 'University of Buenos Aires', 'host_organization_lineage': ['https://openalex.org/I24354313']}, {'id': 'https://openalex.org/S4306401824', 'display_name': 'Publicaciones Facultad de Ciencias Sociales (UBA Sociales)', 'host_organization': 'https://openalex.org/I24354313', 'host_organization_name': 'University of Buenos Aires', 'host_organization_lineage': ['https://openalex.org/I24354313']}]   \n",
            "2                                                                                                                                                                                                                                                                                                                                                                                                                                                                                                                     [{'id': 'https://openalex.org/S4306400803', 'display_name': 'El Servicio de Difusión de la Creación Intelectual (National University of La Plata)', 'host_organization': 'https://openalex.org/I874386039', 'host_organization_name': 'Universidad Nacional de La Plata', 'host_organization_lineage': ['https://openalex.org/I874386039']}, {'id': 'https://openalex.org/S4377196550', 'display_name': 'FAHCE-UNLP Institutional Repository Academic Memory (National University of La Plata)', 'host_organization': 'https://openalex.org/I874386039', 'host_organization_name': 'Universidad Nacional de La Plata', 'host_organization_lineage': ['https://openalex.org/I874386039']}, {'id': 'https://openalex.org/S4377196713', 'display_name': 'Mundo Agrario (National University of La Plata)', 'host_organization': 'https://openalex.org/I874386039', 'host_organization_name': 'Universidad Nacional de La Plata', 'host_organization_lineage': ['https://openalex.org/I874386039']}, {'id': 'https://openalex.org/S4377196919', 'display_name': 'Precapitalist Societies (National University of La Plata)', 'host_organization': 'https://openalex.org/I874386039', 'host_organization_name': 'Universidad Nacional de La Plata', 'host_organization_lineage': ['https://openalex.org/I874386039']}, {'id': 'https://openalex.org/S4377196549', 'display_name': 'Naturalis (National University of La Plata)', 'host_organization': 'https://openalex.org/I874386039', 'host_organization_name': 'Universidad Nacional de La Plata', 'host_organization_lineage': ['https://openalex.org/I874386039']}]   \n",
            "3                                                                                                                                                                                                                                                                                                                                                                                                                                                                                                                                                                                                                                                                                                                                                                                                                                                                                                                                                                                                                                                                                                                                                                                                                                                                                                                                                                                                                                                                                                                                                                                                                                                                                                                                                                                                                    [{'id': 'https://openalex.org/S4306400373', 'display_name': 'Repositorio Digital de la UNC (National University of Cordoba)', 'host_organization': 'https://openalex.org/I166401450', 'host_organization_name': 'Universidad Nacional de Córdoba', 'host_organization_lineage': ['https://openalex.org/I166401450']}]   \n",
            "4                                                                                                                                                                                                                                                                                                                                                                                                                                                                                                                                                                                                                                                                                                                                                                                                                                                                                                                                                                                                                                                                                                                                                                                                                                                                                                                                                                                                                                                                                                                                                                                                                                                                                                                                                                                                                                                                                                                                                                                                                                                                                                                                       []   \n",
            "\n",
            "   works_count  cited_by_count  \\\n",
            "0       150142         2551994   \n",
            "1       103020         1738550   \n",
            "2        50060          700152   \n",
            "3        34896          521574   \n",
            "4        24191          541528   \n",
            "\n",
            "                                                                    summary_stats  \\\n",
            "0  {'2yr_mean_citedness': 2.5566296479474846, 'h_index': 366, 'i10_index': 55063}   \n",
            "1   {'2yr_mean_citedness': 2.053470667263771, 'h_index': 352, 'i10_index': 31728}   \n",
            "2  {'2yr_mean_citedness': 1.6521821993520107, 'h_index': 229, 'i10_index': 14625}   \n",
            "3  {'2yr_mean_citedness': 2.3504807692307694, 'h_index': 204, 'i10_index': 10590}   \n",
            "4  {'2yr_mean_citedness': 2.8652482269503547, 'h_index': 205, 'i10_index': 11853}   \n",
            "\n",
            "                                                                                                                                                                                                                                                                                                 ids  \\\n",
            "0  {'openalex': 'https://openalex.org/I151201029', 'ror': 'https://ror.org/03cqe8w59', 'mag': '151201029', 'grid': 'grid.423606.5', 'wikipedia': 'https://en.wikipedia.org/wiki/National%20Scientific%20and%20Technical%20Research%20Council', 'wikidata': 'https://www.wikidata.org/wiki/Q6978293'}   \n",
            "1                                   {'openalex': 'https://openalex.org/I24354313', 'ror': 'https://ror.org/0081fs513', 'mag': '24354313', 'grid': 'grid.7345.5', 'wikipedia': 'https://en.wikipedia.org/wiki/University%20of%20Buenos%20Aires', 'wikidata': 'https://www.wikidata.org/wiki/Q194223'}   \n",
            "2                          {'openalex': 'https://openalex.org/I874386039', 'ror': 'https://ror.org/01tjs6929', 'mag': '874386039', 'grid': 'grid.9499.d', 'wikipedia': 'https://en.wikipedia.org/wiki/National%20University%20of%20La%20Plata', 'wikidata': 'https://www.wikidata.org/wiki/Q784171'}   \n",
            "3                      {'openalex': 'https://openalex.org/I166401450', 'ror': 'https://ror.org/056tb7j80', 'mag': '166401450', 'grid': 'grid.10692.3c', 'wikipedia': 'https://en.wikipedia.org/wiki/National%20University%20of%20Cu00f3rdoba', 'wikidata': 'https://www.wikidata.org/wiki/Q1570489'}   \n",
            "4                                                                                                               {'openalex': 'https://openalex.org/I53241121', 'ror': 'https://ror.org/05rxmkq09', 'mag': '53241121', 'grid': 'grid.502430.0', 'wikidata': 'https://www.wikidata.org/wiki/Q5428851'}   \n",
            "\n",
            "                                                                                                                                                                     geo  \\\n",
            "0   {'city': 'Buenos Aires', 'geonames_city_id': '3435910', 'region': None, 'country_code': 'AR', 'country': 'Argentina', 'latitude': -34.61315, 'longitude': -58.37723}   \n",
            "1   {'city': 'Buenos Aires', 'geonames_city_id': '3435910', 'region': None, 'country_code': 'AR', 'country': 'Argentina', 'latitude': -34.61315, 'longitude': -58.37723}   \n",
            "2       {'city': 'La Plata', 'geonames_city_id': '3432043', 'region': None, 'country_code': 'AR', 'country': 'Argentina', 'latitude': -34.92145, 'longitude': -57.95453}   \n",
            "3         {'city': 'Córdoba', 'geonames_city_id': '3860259', 'region': None, 'country_code': 'AR', 'country': 'Argentina', 'latitude': -31.4135, 'longitude': -64.18105}   \n",
            "4  {'city': 'Buenos Aires', 'geonames_city_id': '3435910', 'region': None, 'country_code': 'AR', 'country': 'Argentina', 'latitude': -34.542084, 'longitude': -58.44443}   \n",
            "\n",
            "                                                                                                                                                                                                                                                                                                                                                                                                                                                                                                                                                                                                                                                                                                                                                                                                                                                                                                                                                                                                                                                                                                                                                                                                                                                                                                                                                                                                                                                                                                                                                                                                                                                                                                                                                                                                                                                                                                                                                                                                                                                                                                                                                                                                                                                                                                                                                                                                                                                                                                                                                                                                                                                                                                                                                                                                                                                                                                                                                                                                                                                                                                                                                                                                                                                                                                                                                                                    international  \\\n",
            "0                                                                                                                                                                                                                                                                                                                                                                                                                                                                                                                                                                                                                                                                                                                                                                                                                                                                                                                                                                                                                                                                                                                                                                                                                                                                                                                                                                                                                                                                                                                                                                                                                                                                                                                                                                                                                                                                                                                                                                                                                                                                                                                                                                                                                                                                                                                                                                                                                                                  {'display_name': {'ast': 'Conseyu Nacional d'Investigaciones Científiques y Téuniques', 'ca': 'Consell Nacional d'Investigacions Científiques i Tècniques', 'cy': 'Y Cyngor Ymchwil Cenedlaethol Gwyddonol a Thechnegol', 'en': 'National Scientific and Technical Research Council', 'eo': 'Nacia Konsilio por Scienca kaj Teknika Esploro de Argentino', 'es': 'Consejo Nacional de Investigaciones Científicas y Técnicas', 'eu': 'Consejo Nacional de Investigaciones Científicas y Técnicas (Argentina)', 'fr': 'Conseil national de la recherche scientifique et technique', 'he': 'מועצת המחקר המדעית והטכנית הלאומית', 'hy': 'Ազգային գիտատեխնիկական հետազոտությունների խորհուրդ', 'ja': '国立科学技術研究評議会', 'pt': 'Consejo Nacional de Investigaciones Científicas y Técnicas (Argentina)', 'ru': 'Национальный научный и технический исследовательский совет', 'tr': 'Ulusal Bilimsel ve Teknik Araştırma Konseyi', 'zh': '国家科学技术研究委员会'}}   \n",
            "1  {'display_name': {'ar': 'جامعة بوينس آيرس', 'arz': 'جامعة بوينس آيرس', 'ast': 'Universidá de Buenos Aires', 'ay': 'Buenos Aires Jach'a Yatiñ Uta', 'az': 'Buenos-Ayres Universiteti', 'azb': 'بوئنوس آیرس بیلیم‌یوردو', 'ba': 'Буэнос-Айрес университеты', 'be': 'Універсітэт Буэнас-Айрэса', 'be-tarask': 'Унівэрсытэт Буэнас-Айрэса', 'bg': 'Университет в Буенос Айрес', 'bs': 'Univerzitet u Buenos Airesu', 'ca': 'Universitat de Buenos Aires', 'cbk-zam': 'Universidad de Buenos Aires', 'ceb': 'University of Buenos Aires', 'cs': 'Univerzita v Buenos Aires', 'cy': 'Prifysgol Buenos Aires', 'da': 'Universidad de Buenos Aires', 'de': 'Universidad de Buenos Aires', 'de-ch': 'Universidad de Buenos Aires', 'el': 'Πανεπιστήμιο του Μπουένος Άιρες', 'en': 'University of Buenos Aires', 'en-ca': 'University of Buenos Aires', 'en-gb': 'University of Buenos Aires', 'eo': 'Universitato de Bonaero', 'es': 'Universidad de Buenos Aires', 'et': 'Buenos Airese ülikool', 'eu': 'Buenos Airesko Unibertsitatea', 'fa': 'دانشگاه بوئنوس آیرس', 'fi': 'Buenos Airesin yliopisto', 'fr': 'université de Buenos Aires', 'ga': 'Ollscoil Buenos Aires', 'gd': 'Oilthigh Buenos Aires', 'gl': 'Universidade de Buenos Aires', 'he': 'אוניברסיטת בואנוס איירס', 'hu': 'Buenos Aires-i Egyetem', 'hy': 'Բուենոս Այրեսի համալսարան', 'ia': 'Universitate de Buenos Aires', 'id': 'Universitas Buenos Aires', 'ilo': 'Unibersidad ti Buenos Aires', 'it': 'Università di Buenos Aires', 'ja': 'ブエノスアイレス大学', 'ka': 'ბუენოს-აირესის უნივერსიტეტი', 'kk': 'Буэнос-Айрес университеті', 'kk-arab': 'بۋەنوس-ايرەس ۋنىيۆەرسىيتەتى', 'kk-cn': 'بۋەنوس-ايرەس ۋنىيۆەرسىيتەتى', 'kk-cyrl': 'Буэнос-Айрес университеті', 'kk-kz': 'Буэнос-Айрес университеті', 'kk-latn': 'Bwénos-Aýres wnïversïteti', 'kk-tr': 'Bwénos-Aýres wnïversïteti', 'ko': '부에노스아이레스 대학교', 'la': 'Universitas Bonaeropolitana', 'lb': 'Universitéit vu Buenos Aires', 'lt': 'Buenos Airių universitetas', 'ml': 'യൂണിവേഴ്സിറ്റി ഓഫ് ബ്യൂണസ് അയേർസ്', 'mt': 'Università ta' Buenos Aires', 'nah': 'Universidad de Buenos Aires', 'nb': 'Universidad de Buenos Aires', 'nl': 'Universiteit van Buenos Aires', 'os': 'Буэнос-Айресы университет', 'pa': 'ਬੁਏਨਸ ਆਇਰਸ ਯੂਨੀਵਰਸਿਟੀ', 'pl': 'Uniwersytet Buenos Aires', 'pt': 'Universidade de Buenos Aires', 'pt-br': 'Universidade de Buenos Aires', 'qu': 'Buenos Aires Yachay Suntur', 'ro': 'Universitatea din Buenos Aires', 'ru': 'Университет Буэнос-Айреса', 'se': 'Buenos Aires universitehta', 'sh': 'Univerzitet u Buenos Airesu', 'sl': 'Univerza v Buenos Airesu', 'smn': 'Buenos Aires ollâopâttâh', 'sms': 'Buenos Aires universiteʹtt', 'sr': 'Универзитет у Буенос Аиресу', 'sr-ec': 'Универзитет у Буенос Аиресу', 'sr-el': 'Univerzitet u Buenos Airesu', 'sv': 'Universitetet i Buenos Aires', 'tl': 'University of Buenos Aires', 'tr': 'Buenos Aires Üniversitesi', 'tt': 'Буйныс-Айрыс үнивирситите', 'uk': 'Університет Буенос-Айреса', 'ur': 'جامعہ بیونس آئرس', 'uz': 'Buenos Ayres universiteti', 'vi': 'Đại học Buenos Aires', 'war': 'Unibersidad han Buenos Aires', 'wuu': '布宜诺斯艾利斯大学', 'yi': 'אוניווערסיטעט פון בוענאס איירעס', 'yo': 'University of Buenos Aires', 'yue': '布宜諾斯艾利斯大學', 'zh': '布宜诺斯艾利斯大学', 'zh-cn': '布宜诺斯艾利斯大学', 'zh-hans': '布宜诺斯艾利斯大学', 'zh-hant': '布宜諾斯艾利斯大學', 'zh-hk': '布宜諾斯艾利斯大學', 'zh-sg': '布宜诺斯艾利斯大学', 'zh-tw': '布宜諾斯艾利斯大學'}}   \n",
            "2                                                                                                                                                                                                                                                                                                                                                                                                                                                                                                                                                                                                                                                                                                                                                                                                                                                                                                                                                                                                                                                                                                                                                                                                                                                                                                                                                                                                                                                                                                                                                                                                                                         {'display_name': {'ar': 'جامعة لا بلاتا الوطنية', 'arz': 'جامعة لابلاتا الوطنيه', 'ast': 'Universidá Nacional de La Plata', 'az': 'La Plata Milli Universiteti', 'be': 'Нацыянальны ўніверсітэт Ла-Платы', 'bg': 'Национален университет на Ла Плата', 'ca': 'Universitat Nacional de La Plata', 'cs': 'Národní univerzita La Plata', 'cy': 'Universidad Nacional de La Plata', 'da': 'national universitet af La Plata', 'de': 'Universidad Nacional de La Plata', 'el': 'Εθνικό Πανεπιστήμιο της Λα Πλάτα', 'en': 'National University of La Plata', 'eo': 'Nacia Universitato La Plata', 'es': 'Universidad Nacional de La Plata', 'eu': 'La Platako Unibertsitate Nazionala', 'fr': 'université nationale de La Plata', 'ga': 'Ollscoil Náisiúnta La Plata', 'gl': 'Universidad Nacional de La Plata', 'he': 'האוניברסיטה הלאומית של לה פלאטה', 'hy': 'Լա Պլատայի ազգային համալսարան', 'it': 'Università Nazionale di La Plata', 'ja': 'ラプラタ国立大学', 'ka': 'ლა-პლატის ეროვნული უნივერსიტეტი', 'kk': 'Ла-Плата ұлттық университеті', 'ko': '라플라타 국립 대학교', 'la': 'Universitas Nationalis Platensis', 'lb': 'Nationaluniversitéit vu La Plata', 'nb': 'Universidad Nacional de La Plata', 'nl': 'nationale universiteit van La Plata', 'pl': 'Universidad Nacional de La Plata', 'pt': 'Universidade Nacional de La Plata', 'ro': 'Universitatea Națională din La Plata', 'ru': 'Национальный университет Ла-Платы', 'sl': 'Državna univerza v La Plati', 'sv': 'Universidad Nacional de La Plata', 'th': 'มหาวิทยาลัยแห่งชาติลาปลาตา', 'tl': 'Pambansang Unibersidad ng La Plata', 'tr': 'Ulusal La Plata Üniversitesi', 'uk': 'Національний університет Ла-Плати', 'zh': '拉普拉塔大學', 'zh-cn': '国立拉普拉塔大学', 'zh-hans': '国立拉普拉塔大学', 'zh-hant': '國立拉普拉塔大學'}}   \n",
            "3                                                                                                                                                                                                                                                                                                                                                                                                                                                                                                                                                                                                                                                                                                                                                                                                                                                                                                                                                                                                                                                                                                                                                                                                                                                                                                                                                                                                                                                                                                                                                                                                                                                                                                                                                                                   {'display_name': {'ar': 'جامعة قرطبة الوطنية', 'arz': 'جامعة قرطبه الوطنيه', 'ast': 'Universidá Nacional de Córdoba', 'be': 'Нацыянальны ўніверсітэт Кордавы', 'bg': 'Национален университет в Кордоба', 'ca': 'Universitat Nacional de Córdoba', 'cs': 'Národní univerzita v Córdobě', 'cy': 'Prifysgol Córdoba', 'da': 'Cordobas Nationale Universitet', 'de': 'Nationale Universität Córdoba', 'el': 'Εθνικό Πανεπιστήμιο της Κόρδοβα', 'en': 'National University of Córdoba', 'eo': 'Universitato Nacia de Kordobo', 'es': 'Universidad Nacional de Córdoba', 'et': 'Córdoba ülikool', 'eu': 'Kordobako Unibertsitate Nazionala', 'fr': 'université nationale de Córdoba', 'he': 'האוניברסיטה הלאומית של קורדובה', 'hu': 'Córdobai Állami Egyetem', 'hy': 'Կորդովայի ազգային համալսարան', 'it': 'Università nazionale di Córdoba', 'ja': 'コルドバ国立大学', 'ko': '코르도바 국립 대학교', 'la': 'Universitas Cordubensis Tucumanae', 'lb': 'National Universitéit Córdoba', 'lt': 'Kordobos valstybinis universitetas', 'nb': 'Det nasjonale universitetet i Córdoba', 'nl': 'Nationale Universiteit van Córdoba', 'pl': 'Narodowy Uniwersytet w Córdobie', 'pt': 'Universidade Nacional de Córdoba', 'ru': 'Национальный университет Кордовы', 'sl': 'Državna univerza v Córdobi', 'sv': 'nationella universitetet i Córdoba', 'tl': 'Pambansang Unibersidad ng Córdoba', 'tr': 'Ulusal Córdoba Üniversitesi', 'tt': 'Kordoba milli universitetı', 'uk': 'Національний університет Кордови', 'uz': 'Córdoba milliy universiteti', 'zh': '国立科尔多瓦大学', 'zh-hans': '国立科尔多瓦大学', 'zh-hant': '國立科爾多瓦大學', 'zh-hk': '國立科爾多瓦大學'}}   \n",
            "4                                                                                                                                                                                                                                                                                                                                                                                                                                                                                                                                                                                                                                                                                                                                                                                                                                                                                                                                                                                                                                                                                                                                                                                                                                                                                                                                                                                                                                                                                                                                                                                                                                                                                                                                                                                                                                                                                                                                                                                                                                                                                                                                                                                                                                                                                                                                                                                                                                                                                                                                                                                                                                                                                                                                                                                                                                                                                                                                                                                                                                                                                                                                {'display_name': {'ca': 'Facultat de Ciències Exactes i Naturals de la Universitat de Buenos Aires', 'en': 'Faculty of Exact and Natural Sciences', 'es': 'Facultad de Ciencias Exactas y Naturales (UBA)', 'sl': 'Fakulteta za eksaktne in naravoslovne vede'}}   \n",
            "\n",
            "                                                                                                                                                                                                                                                                                                                                                                                                                                                                                                                                                                                                                                                                                                                                                                                                                                                                                                                                                                                                                                                                                                                                                                                                                                                                                                                                                                                                                                                                                                                                                                                                                                                                                                                                                                                                                                                                                                                                                                                                                                                                                                                                                                                                                                                                                                                                                                                                                                                                                                                                                                                                                                                                                                                                                                                                                                                                                                                                                                                                                                                                                                                                                                                                                                                                                                                                                                                                                                                                                                                                                                                                                                                                                                                                                                                                                                                                                                                                                                                                                                                                                                                                                                                                                                                                                                                                                                                                                                                                                                                                                                                                                                                                                                                                                                                                                                                                                                                                                                                                                                                                                                                                                                                                                                                                                                                                                                                                                                                                                                                                                                                                                                                                                                                                                                                                                                                                                                                                                                                                                                                                                                                                                                                                                                                                                                                                                                                                                                                                                                                                                                                                                                                                                                                                                                                                                                                                                                                                                                                                                                                                                                                                                                                                                                                                                                                                                                                                                                                                                                                                                                                                                                                                                                                                    associated_institutions  \\\n",
            "0  [{'id': 'https://openalex.org/I4210093681', 'ror': 'https://ror.org/00jxb8k91', 'display_name': 'Agricultural Plant Physiology and Ecology Research Institute', 'country_code': 'AR', 'type': 'facility', 'relationship': 'child'}, {'id': 'https://openalex.org/I4210148385', 'ror': 'https://ror.org/04c5b8z55', 'display_name': 'Biomedicine Research Institute of Buenos Aires - CONICET - Partner Institute of the Max Planck Society', 'country_code': 'AR', 'type': 'facility', 'relationship': 'child'}, {'id': 'https://openalex.org/I4210125789', 'ror': 'https://ror.org/03efzvv60', 'display_name': 'Centro Científico Tecnológico - Bahía Blanca', 'country_code': 'AR', 'type': 'facility', 'relationship': 'child'}, {'id': 'https://openalex.org/I4210130626', 'ror': 'https://ror.org/03vxkne37', 'display_name': 'Centro Científico Tecnológico - Córdoba', 'country_code': 'AR', 'type': 'facility', 'relationship': 'child'}, {'id': 'https://openalex.org/I4210138160', 'ror': 'https://ror.org/03qan4b12', 'display_name': 'Centro Científico Tecnológico - La Plata', 'country_code': 'AR', 'type': 'facility', 'relationship': 'child'}, {'id': 'https://openalex.org/I4210152303', 'ror': 'https://ror.org/055wmc747', 'display_name': 'Centro Científico Tecnológico - Mendoza', 'country_code': 'AR', 'type': 'facility', 'relationship': 'child'}, {'id': 'https://openalex.org/I4210104196', 'ror': 'https://ror.org/01ktqem13', 'display_name': 'Centro Científico Tecnológico - Nordeste', 'country_code': 'AR', 'type': 'facility', 'relationship': 'child'}, {'id': 'https://openalex.org/I4210130081', 'ror': 'https://ror.org/038n0qb29', 'display_name': 'Centro Científico Tecnológico - Patagonia Norte', 'country_code': 'AR', 'type': 'facility', 'relationship': 'child'}, {'id': 'https://openalex.org/I4210095825', 'ror': 'https://ror.org/00kwm3d29', 'display_name': 'Centro Científico Tecnológico - San Juan', 'country_code': 'AR', 'type': 'facility', 'relationship': 'child'}, {'id': 'https://openalex.org/I4210118440', 'ror': 'https://ror.org/02r8b4p12', 'display_name': 'Centro Científico Tecnológico - San Luis', 'country_code': 'AR', 'type': 'facility', 'relationship': 'child'}, {'id': 'https://openalex.org/I4210087694', 'ror': 'https://ror.org/003vet424', 'display_name': 'Centro Científico Tecnológico - Santa Fe', 'country_code': 'AR', 'type': 'facility', 'relationship': 'child'}, {'id': 'https://openalex.org/I4210104225', 'ror': 'https://ror.org/00veegj02', 'display_name': 'Centro Científico Tecnológico - Tandil', 'country_code': 'AR', 'type': 'facility', 'relationship': 'child'}, {'id': 'https://openalex.org/I4210128307', 'ror': 'https://ror.org/03w8cva37', 'display_name': 'Centro Científico Tecnológico - Tucumán', 'country_code': 'AR', 'type': 'facility', 'relationship': 'child'}, {'id': 'https://openalex.org/I4210163267', 'ror': 'https://ror.org/05yqfsf29', 'display_name': 'Centro Científico Tecnológico Mar del Plata', 'country_code': 'AR', 'type': 'facility', 'relationship': 'child'}, {'id': 'https://openalex.org/I4210142366', 'ror': 'https://ror.org/049xnr573', 'display_name': 'Centro Científico Tecnológico Patagónico', 'country_code': 'AR', 'type': 'facility', 'relationship': 'child'}, {'id': 'https://openalex.org/I4210150383', 'ror': 'https://ror.org/04tpkqz22', 'display_name': 'Centro Científico Tecnológico Salta - Jujuy', 'country_code': 'AR', 'type': 'facility', 'relationship': 'child'}, {'id': 'https://openalex.org/I4210107757', 'ror': 'https://ror.org/01qkxb782', 'display_name': 'Centro Científico Tecnólogico - Rosario', 'country_code': 'AR', 'type': 'facility', 'relationship': 'child'}, {'id': 'https://openalex.org/I4210102408', 'ror': 'https://ror.org/01d67x059', 'display_name': 'Centro de Investigación y Extensión Forestal Andino Patagónico', 'country_code': 'AR', 'type': 'facility', 'relationship': 'child'}, {'id': 'https://openalex.org/I71650599', 'ror': 'https://ror.org/03hnwy706', 'display_name': 'Experimental Medicine and Biology Institute', 'country_code': 'AR', 'type': 'facility', 'relationship': 'child'}, {'id': 'https://openalex.org/I4210123859', 'ror': 'https://ror.org/036a3f271', 'display_name': 'Institute for Medical Research', 'country_code': 'AR', 'type': 'facility', 'relationship': 'child'}, {'id': 'https://openalex.org/I4210144290', 'ror': 'https://ror.org/03rq94151', 'display_name': 'Institute of Astronomy and Space Physics', 'country_code': 'AR', 'type': 'facility', 'relationship': 'child'}, {'id': 'https://openalex.org/I4210152832', 'ror': 'https://ror.org/05k07f122', 'display_name': 'Instituto Franco-Argentino sobre Estudios de Clima y sus Impactos', 'country_code': 'AR', 'type': 'facility', 'relationship': 'child'}, {'id': 'https://openalex.org/I4210088229', 'ror': 'https://ror.org/00568z619', 'display_name': 'Instituto Interdisciplinario de Ciencias Básicas', 'country_code': 'AR', 'type': 'facility', 'relationship': 'child'}, {'id': 'https://openalex.org/I4210151079', 'ror': 'https://ror.org/04vhn6x78', 'display_name': 'Instituto Multidisciplinario de Biología Vegetal', 'country_code': 'AR', 'type': 'facility', 'relationship': 'child'}, {'id': 'https://openalex.org/I4210159438', 'ror': 'https://ror.org/04qzr9r50', 'display_name': 'Instituto Tecnológico de Chascomús', 'country_code': 'AR', 'type': 'facility', 'relationship': 'child'}, {'id': 'https://openalex.org/I4210156592', 'ror': 'https://ror.org/0594de127', 'display_name': 'Instituto de Botanica Darwinion', 'country_code': 'AR', 'type': 'education', 'relationship': 'child'}, {'id': 'https://openalex.org/I4210100747', 'ror': 'https://ror.org/014pzm971', 'display_name': 'Instituto de Geocronología y Geología Isotópica', 'country_code': 'AR', 'type': 'facility', 'relationship': 'child'}, {'id': 'https://openalex.org/I4210127090', 'ror': 'https://ror.org/0348f6e47', 'display_name': 'Instituto de Historia Argentina y Americana \"Dr. Emilio Ravignani\"', 'country_code': 'AR', 'type': 'facility', 'relationship': 'child'}, {'id': 'https://openalex.org/I4210108200', 'ror': 'https://ror.org/01m444286', 'display_name': 'Instituto de Investigaciones Biomédicas en Retrovirus y Sida', 'country_code': 'AR', 'type': 'facility', 'relationship': 'child'}, {'id': 'https://openalex.org/I4210149401', 'ror': 'https://ror.org/0469ejq24', 'display_name': 'Instituto de Química y Fisicoquímica Biológicas', 'country_code': 'AR', 'type': 'facility', 'relationship': 'child'}, {'id': 'https://openalex.org/I4210136977', 'ror': 'https://ror.org/048f36m54', 'display_name': 'Instituto de Tecnologías en Detección y Astropartículas', 'country_code': 'AR', 'type': 'facility', 'relationship': 'child'}, {'id': 'https://openalex.org/I4210158427', 'ror': 'https://ror.org/04n143x36', 'display_name': 'Unidad Ejecutora Lillo', 'country_code': 'AR', 'type': 'facility', 'relationship': 'child'}, {'id': 'https://openalex.org/I4210123736', 'ror': 'https://ror.org/02h503d38', 'display_name': 'Ministerio de Ciencia, Tecnología e Innovación', 'country_code': 'AR', 'type': 'government', 'relationship': 'parent'}, {'id': 'https://openalex.org/I4210086432', 'ror': 'https://ror.org/001ecav82', 'display_name': 'Bernardino Rivadavia Natural Sciences Museum', 'country_code': 'AR', 'type': 'archive', 'relationship': 'related'}, {'id': 'https://openalex.org/I4210102139', 'ror': 'https://ror.org/01bvz2w43', 'display_name': 'Museum of Paleontology Egidio Feruglio', 'country_code': 'AR', 'type': 'archive', 'relationship': 'related'}]   \n",
            "1                                                                                                                                                                                                                                                                                                                                                                                                                                                                                                                                                                                                                                                                                                                                                                                                                                                                                                                                                                                                                                                                                                                                                                                                                                                                                                                                                                                                                                                                                                                                                                                                                                                                                                                                                                                                                                                                                                                                                                                                                                                                                                                                                                                                                                                                                                                                                                                                                                                                                                                                                                                                                                                                                                                                                                                                                                                                                                                                                                                                                                                                                                                                                                                                                                                                                                                                                                                                                                                                                                                                                                                                                                                                                                                                                                                                                                                                                                                                                                                                                                                                                                                                                                                                                                                                                                                                                                                                                                                                                                                                                                                                                                                                                                                                                                                                                                                                                                                                                                                                                                                                                                                                                                                                                                           [{'id': 'https://openalex.org/I4210093681', 'ror': 'https://ror.org/00jxb8k91', 'display_name': 'Agricultural Plant Physiology and Ecology Research Institute', 'country_code': 'AR', 'type': 'facility', 'relationship': 'child'}, {'id': 'https://openalex.org/I4210123859', 'ror': 'https://ror.org/036a3f271', 'display_name': 'Institute for Medical Research', 'country_code': 'AR', 'type': 'facility', 'relationship': 'child'}, {'id': 'https://openalex.org/I4210144290', 'ror': 'https://ror.org/03rq94151', 'display_name': 'Institute of Astronomy and Space Physics', 'country_code': 'AR', 'type': 'facility', 'relationship': 'child'}, {'id': 'https://openalex.org/I4210152832', 'ror': 'https://ror.org/05k07f122', 'display_name': 'Instituto Franco-Argentino sobre Estudios de Clima y sus Impactos', 'country_code': 'AR', 'type': 'facility', 'relationship': 'child'}, {'id': 'https://openalex.org/I4210100747', 'ror': 'https://ror.org/014pzm971', 'display_name': 'Instituto de Geocronología y Geología Isotópica', 'country_code': 'AR', 'type': 'facility', 'relationship': 'child'}, {'id': 'https://openalex.org/I4210127090', 'ror': 'https://ror.org/0348f6e47', 'display_name': 'Instituto de Historia Argentina y Americana \"Dr. Emilio Ravignani\"', 'country_code': 'AR', 'type': 'facility', 'relationship': 'child'}, {'id': 'https://openalex.org/I4210108200', 'ror': 'https://ror.org/01m444286', 'display_name': 'Instituto de Investigaciones Biomédicas en Retrovirus y Sida', 'country_code': 'AR', 'type': 'facility', 'relationship': 'child'}, {'id': 'https://openalex.org/I4210148385', 'ror': 'https://ror.org/04c5b8z55', 'display_name': 'Biomedicine Research Institute of Buenos Aires - CONICET - Partner Institute of the Max Planck Society', 'country_code': 'AR', 'type': 'facility', 'relationship': 'related'}, {'id': 'https://openalex.org/I71650599', 'ror': 'https://ror.org/03hnwy706', 'display_name': 'Experimental Medicine and Biology Institute', 'country_code': 'AR', 'type': 'facility', 'relationship': 'related'}, {'id': 'https://openalex.org/I2800224410', 'ror': 'https://ror.org/00ppmht14', 'display_name': 'Hospital Borda', 'country_code': 'AR', 'type': 'healthcare', 'relationship': 'related'}, {'id': 'https://openalex.org/I4210119967', 'ror': 'https://ror.org/02hbrab76', 'display_name': 'Hospital de Clínicas \"José de San Martín\"', 'country_code': 'AR', 'type': 'healthcare', 'relationship': 'related'}]   \n",
            "2                                                                                                                                                                                                                                                                                                                                                                                                                                                                                                                                                                                                                                                                                                                                                                                                                                                                                                                                                                                                                                                                                                                                                                                                                                                                                                                                                                                                                                                                                                                                                                                                                                                                                                                                                                                                                                                                                                                                                                                                                                                                                                                                                                                                                                                                                                                                                                                                                                                                                                                                                                                                                                                                                                                                                                                                                                                                                                                                                                                                                                                                                                                                                                                                                                                                                                                                                                                                                                                                                                                                                                                                                                                                                                                                                                                                                                                                                                                                                                                                                                                                                                                                                                                                                                                                                                                                                                                                                                                                                                                                                                                                                                                                                                                                                                                                                                                                                                                                                                                                                                                                                               [{'id': 'https://openalex.org/I4210106698', 'ror': 'https://ror.org/018gb4016', 'display_name': 'Biochemistry Research Institute of La Plata', 'country_code': 'AR', 'type': 'nonprofit', 'relationship': 'child'}, {'id': 'https://openalex.org/I4210152408', 'ror': 'https://ror.org/04ebzxq58', 'display_name': 'Centro de Investigaciones Cardiovasculares', 'country_code': 'AR', 'type': 'facility', 'relationship': 'child'}, {'id': 'https://openalex.org/I4210098223', 'ror': 'https://ror.org/0117z7d66', 'display_name': 'Centro de Investigaciones en Tecnologia de Pinturas', 'country_code': 'AR', 'type': 'facility', 'relationship': 'child'}, {'id': 'https://openalex.org/I4210157909', 'ror': 'https://ror.org/04v30e006', 'display_name': 'Centro de Investigación y Desarrollo en Criotecnología de Alimentos', 'country_code': 'AR', 'type': 'facility', 'relationship': 'child'}, {'id': 'https://openalex.org/I4210165869', 'ror': 'https://ror.org/05p6vdy67', 'display_name': 'Instituto Multidisciplinario de Biología Celular', 'country_code': 'AR', 'type': 'facility', 'relationship': 'child'}, {'id': 'https://openalex.org/I4210155284', 'ror': 'https://ror.org/057zmmf60', 'display_name': 'Instituto de Biotecnología y Biología Molecular', 'country_code': 'AR', 'type': 'facility', 'relationship': 'child'}, {'id': 'https://openalex.org/I4210126377', 'ror': 'https://ror.org/030qxdf23', 'display_name': 'Instituto de Fisica de Liquidos y Sistemas Biologicos', 'country_code': 'AR', 'type': 'facility', 'relationship': 'child'}, {'id': 'https://openalex.org/I4210095555', 'ror': 'https://ror.org/00k3smk02', 'display_name': 'Instituto de Fisiología Vegetal', 'country_code': 'AR', 'type': 'facility', 'relationship': 'child'}, {'id': 'https://openalex.org/I4210109836', 'ror': 'https://ror.org/01pmtm379', 'display_name': 'Instituto de Física La Plata', 'country_code': 'AR', 'type': 'facility', 'relationship': 'child'}, {'id': 'https://openalex.org/I4210164013', 'ror': 'https://ror.org/05fvszr38', 'display_name': 'Instituto de Genética Veterinaria', 'country_code': 'AR', 'type': 'facility', 'relationship': 'child'}, {'id': 'https://openalex.org/I4210120094', 'ror': 'https://ror.org/02t6gq889', 'display_name': 'Instituto de Investigaciones Fisicoquímicas Teóricas y Aplicadas', 'country_code': 'AR', 'type': 'education', 'relationship': 'child'}, {'id': 'https://openalex.org/I4210138160', 'ror': 'https://ror.org/03qan4b12', 'display_name': 'Centro Científico Tecnológico - La Plata', 'country_code': 'AR', 'type': 'facility', 'relationship': 'related'}]   \n",
            "3                                                                                                                                                                                                                                                                                                                                                                                                                                                                                                                                                                                                                                                                                                                                                                                                                                                                                                                                                                                                                                                                                                                                                                                                                                                                                                                                                                                                                                                                                                                                                                                                                                                                                                                                                                                                                                                                                                                                                                                                                                                                                                                                                                                                                                                                                                                                                                                                                                                                                                                                                                                                                                                                                                                                                                                                                                                                                                                                                                                                                                                                                                                                                                                                                                                                                                                                                                                                                                                                                                                                                                                                                                                                                                                                                                                                                                                                                                                                                                                                                                                                                                                                                                                                                                                                                                                                                                                                                                                                                                                                                                                                                                                                                                                                                                                                                                                                                                                                                                                                                                                                                                                                                                                                                                                                                                                                                                                                                                                                                                                                                                                                                                                                                                                                                                                                                                                                                                                                                                                                                        [{'id': 'https://openalex.org/I4210151079', 'ror': 'https://ror.org/04vhn6x78', 'display_name': 'Instituto Multidisciplinario de Biología Vegetal', 'country_code': 'AR', 'type': 'facility', 'relationship': 'child'}, {'id': 'https://openalex.org/I4210098917', 'ror': 'https://ror.org/00vsnbn30', 'display_name': 'Instituto de Investigaciones en Ciencias de la Salud', 'country_code': 'AR', 'type': 'facility', 'relationship': 'child'}, {'id': 'https://openalex.org/I4210145890', 'ror': 'https://ror.org/04nh79216', 'display_name': 'Instituto de Investigación Médica Mercedes y Martín Ferreyra', 'country_code': 'AR', 'type': 'facility', 'relationship': 'child'}, {'id': 'https://openalex.org/I4210094919', 'ror': 'https://ror.org/01h6ezd77', 'display_name': 'Research Center on Earth Sciences', 'country_code': 'AR', 'type': 'facility', 'relationship': 'child'}, {'id': 'https://openalex.org/I4210112829', 'ror': 'https://ror.org/023dgw813', 'display_name': 'Research Centre in Biological Chemistry of Córdoba', 'country_code': 'AR', 'type': 'facility', 'relationship': 'child'}, {'id': 'https://openalex.org/I4210130626', 'ror': 'https://ror.org/03vxkne37', 'display_name': 'Centro Científico Tecnológico - Córdoba', 'country_code': 'AR', 'type': 'facility', 'relationship': 'related'}, {'id': 'https://openalex.org/I2800061738', 'ror': 'https://ror.org/05ej0vv18', 'display_name': 'Hospital Domingo Funes', 'country_code': 'AR', 'type': 'healthcare', 'relationship': 'related'}, {'id': 'https://openalex.org/I4210152379', 'ror': 'https://ror.org/04qtr9c10', 'display_name': 'Hospital Privado', 'country_code': 'AR', 'type': 'healthcare', 'relationship': 'related'}]   \n",
            "4                                                                                                                                                                                                                                                                                                                                                                                                                                                                                                                                                                                                                                                                                                                                                                                                                                                                                                                                                                                                                                                                                                                                                                                                                                                                                                                                                                                                                                                                                                                                                                                                                                                                                                                                                                                                                                                                                                                                                                                                                                                                                                                                                                                                                                                                                                                                                                                                                                                                                                                                                                                                                                                                                                                                                                                                                                                                                                                                                                                                                                                                                                                                                                                                                                                                                                                                                                                                                                                                                                                                                                                                                                                                                                                                                                                                                                                                                                                                                                                                                                                                                                                                                                                                                                                                                                                                                                                                                                                                                                                                                                                                                                                                                                                                                                                                                                                                                                                                                                                                                                                                                                                                                                                                                                                                                                                                                                                                                                                                                                                                                                                                                                                                                                                                                                                                                                                                                                                                                                                                                                                                                                                                                                                                                                                                                                                                                                                                                                                                                                                                                                                                                                                                                                                                                                                                                                                                                                                                                                                                                                                                                                                                                                                                                                                                                                                                                                                                                                                                                                                                                                                                                                                                                                                                                        []   \n",
            "\n",
            "                                                                                                                                                                                                                                                                                                                                                                                                                                                                                                                                                                                                                                                                                                                                                                                                                                           counts_by_year  \\\n",
            "0  [{'year': 2024, 'works_count': 7385, 'cited_by_count': 265806}, {'year': 2023, 'works_count': 10583, 'cited_by_count': 290744}, {'year': 2022, 'works_count': 10631, 'cited_by_count': 272718}, {'year': 2021, 'works_count': 11716, 'cited_by_count': 271912}, {'year': 2020, 'works_count': 11904, 'cited_by_count': 230759}, {'year': 2019, 'works_count': 10693, 'cited_by_count': 184745}, {'year': 2018, 'works_count': 10280, 'cited_by_count': 154568}, {'year': 2017, 'works_count': 9451, 'cited_by_count': 132543}, {'year': 2016, 'works_count': 8537, 'cited_by_count': 117267}, {'year': 2015, 'works_count': 7479, 'cited_by_count': 104781}, {'year': 2014, 'works_count': 6652, 'cited_by_count': 93071}, {'year': 2013, 'works_count': 5860, 'cited_by_count': 80306}, {'year': 2012, 'works_count': 5161, 'cited_by_count': 68498}]   \n",
            "1            [{'year': 2024, 'works_count': 3227, 'cited_by_count': 123652}, {'year': 2023, 'works_count': 5708, 'cited_by_count': 140063}, {'year': 2022, 'works_count': 5113, 'cited_by_count': 137079}, {'year': 2021, 'works_count': 6082, 'cited_by_count': 142100}, {'year': 2020, 'works_count': 6202, 'cited_by_count': 128027}, {'year': 2019, 'works_count': 5402, 'cited_by_count': 107736}, {'year': 2018, 'works_count': 5293, 'cited_by_count': 94440}, {'year': 2017, 'works_count': 4944, 'cited_by_count': 88453}, {'year': 2016, 'works_count': 4844, 'cited_by_count': 84788}, {'year': 2015, 'works_count': 4785, 'cited_by_count': 82544}, {'year': 2014, 'works_count': 4414, 'cited_by_count': 77402}, {'year': 2013, 'works_count': 4209, 'cited_by_count': 71589}, {'year': 2012, 'works_count': 3918, 'cited_by_count': 64661}]   \n",
            "2                  [{'year': 2024, 'works_count': 1521, 'cited_by_count': 49492}, {'year': 2023, 'works_count': 2465, 'cited_by_count': 58161}, {'year': 2022, 'works_count': 2407, 'cited_by_count': 55160}, {'year': 2021, 'works_count': 2857, 'cited_by_count': 60861}, {'year': 2020, 'works_count': 3179, 'cited_by_count': 54621}, {'year': 2019, 'works_count': 2857, 'cited_by_count': 47936}, {'year': 2018, 'works_count': 2620, 'cited_by_count': 43065}, {'year': 2017, 'works_count': 2528, 'cited_by_count': 39167}, {'year': 2016, 'works_count': 2295, 'cited_by_count': 37676}, {'year': 2015, 'works_count': 2200, 'cited_by_count': 34619}, {'year': 2014, 'works_count': 2087, 'cited_by_count': 30227}, {'year': 2013, 'works_count': 1957, 'cited_by_count': 28142}, {'year': 2012, 'works_count': 2004, 'cited_by_count': 25231}]   \n",
            "3                  [{'year': 2024, 'works_count': 1192, 'cited_by_count': 45680}, {'year': 2023, 'works_count': 1855, 'cited_by_count': 51724}, {'year': 2022, 'works_count': 2062, 'cited_by_count': 48099}, {'year': 2021, 'works_count': 2117, 'cited_by_count': 48336}, {'year': 2020, 'works_count': 2180, 'cited_by_count': 43098}, {'year': 2019, 'works_count': 2154, 'cited_by_count': 33537}, {'year': 2018, 'works_count': 2058, 'cited_by_count': 30002}, {'year': 2017, 'works_count': 1849, 'cited_by_count': 25466}, {'year': 2016, 'works_count': 1777, 'cited_by_count': 23493}, {'year': 2015, 'works_count': 1642, 'cited_by_count': 22146}, {'year': 2014, 'works_count': 1587, 'cited_by_count': 20486}, {'year': 2013, 'works_count': 1481, 'cited_by_count': 18141}, {'year': 2012, 'works_count': 1301, 'cited_by_count': 15989}]   \n",
            "4                           [{'year': 2024, 'works_count': 784, 'cited_by_count': 38261}, {'year': 2023, 'works_count': 1088, 'cited_by_count': 42382}, {'year': 2022, 'works_count': 1024, 'cited_by_count': 42200}, {'year': 2021, 'works_count': 1102, 'cited_by_count': 43685}, {'year': 2020, 'works_count': 1134, 'cited_by_count': 38359}, {'year': 2019, 'works_count': 968, 'cited_by_count': 31915}, {'year': 2018, 'works_count': 949, 'cited_by_count': 28498}, {'year': 2017, 'works_count': 911, 'cited_by_count': 26505}, {'year': 2016, 'works_count': 883, 'cited_by_count': 24538}, {'year': 2015, 'works_count': 861, 'cited_by_count': 24350}, {'year': 2014, 'works_count': 905, 'cited_by_count': 23788}, {'year': 2013, 'works_count': 810, 'cited_by_count': 21855}, {'year': 2012, 'works_count': 793, 'cited_by_count': 19578}]   \n",
            "\n",
            "                                                                                                                                                                                                                                                                roles  \\\n",
            "0  [{'role': 'funder', 'id': 'https://openalex.org/F4320321594', 'works_count': 22838}, {'role': 'institution', 'id': 'https://openalex.org/I151201029', 'works_count': 150142}, {'role': 'publisher', 'id': 'https://openalex.org/P4310318166', 'works_count': 293}]   \n",
            "1   [{'role': 'funder', 'id': 'https://openalex.org/F4320323257', 'works_count': 4475}, {'role': 'institution', 'id': 'https://openalex.org/I24354313', 'works_count': 103020}, {'role': 'publisher', 'id': 'https://openalex.org/P4310318191', 'works_count': 4051}]   \n",
            "2   [{'role': 'funder', 'id': 'https://openalex.org/F4320322227', 'works_count': 2270}, {'role': 'institution', 'id': 'https://openalex.org/I874386039', 'works_count': 50060}, {'role': 'publisher', 'id': 'https://openalex.org/P4310318145', 'works_count': 9973}]   \n",
            "3    [{'role': 'funder', 'id': 'https://openalex.org/F4320312064', 'works_count': 505}, {'role': 'publisher', 'id': 'https://openalex.org/P4310318167', 'works_count': 4752}, {'role': 'institution', 'id': 'https://openalex.org/I166401450', 'works_count': 34896}]   \n",
            "4                                                                                                                                                                             [{'role': 'institution', 'id': 'https://openalex.org/I53241121', 'works_count': 24191}]   \n",
            "\n",
            "                                                                                                                                                                                                                                                                                                                                                                                                                                                                                                                                                                                                                                                                                                                                                                                                                                                                                                                                                                                                                                                                                                                                                                                                                                                                                                                                                                                                                                                                                                                                                                                                                                                                                                                                                                                                                                                                                                                                                                                                                                                                                                                                                                                                                                                                                                                                                                                                                                                                                                                                                                                                                                                                                                                                                                                                                                                                                                                                                                                                                                                                                                                                                                                                                                                                                                                                                                                                                                                                                                                                                                                                                                                                                                                                                                                                                                                                                                                                                                                                                                                                                                                                                                                                                                                                                                                                                                                                                                                                                                                                                                                                                                                                                                                                                                                                                                                                                                                                                                                                                                                                                                                                                                                                                                                                                                                                                                                                                                                                                                                                                                                                                                                                                                                                                                                                                                                                                                                                                                                                                                                                                                                                                                                                                                                                                                                                                                                                                                                                                                                                                                                                                                                                                                                                                                                                                                                                                                                                                                                                                                                                                                                                                                                                                                                                                                                                                                                                                                                                                                                                                                                                                                                                                                                                                                                                                                                                                                                                                                                                                                                                                                                                                                                                                                                                                                                                                                                                                                                                                                                                                                                                                                                                                                                                                                                                                                                                                                                                                                                                                                                                                                                                                                                                                                                                                                                                                                                                                                                                                                                                                                                                                                                                                                                                                                                                                                                                                                                                                                                                                                                                                                                                                                                                                                                                                                                                                    topics  \\\n",
            "0  [{'id': 'https://openalex.org/T10487', 'display_name': 'Impact of Pollinator Decline on Ecosystems and Agriculture', 'count': 3075, 'subfield': {'id': 'https://openalex.org/subfields/1105', 'display_name': 'Ecology, Evolution, Behavior and Systematics'}, 'field': {'id': 'https://openalex.org/fields/11', 'display_name': 'Agricultural and Biological Sciences'}, 'domain': {'id': 'https://openalex.org/domains/1', 'display_name': 'Life Sciences'}}, {'id': 'https://openalex.org/T11354', 'display_name': 'Evolutionary Dynamics of Mammals and Their Ancestors', 'count': 2984, 'subfield': {'id': 'https://openalex.org/subfields/1911', 'display_name': 'Paleontology'}, 'field': {'id': 'https://openalex.org/fields/19', 'display_name': 'Earth and Planetary Sciences'}, 'domain': {'id': 'https://openalex.org/domains/3', 'display_name': 'Physical Sciences'}}, {'id': 'https://openalex.org/T10005', 'display_name': 'Biodiversity Conservation and Ecosystem Management', 'count': 2683, 'subfield': {'id': 'https://openalex.org/subfields/2309', 'display_name': 'Nature and Landscape Conservation'}, 'field': {'id': 'https://openalex.org/fields/23', 'display_name': 'Environmental Science'}, 'domain': {'id': 'https://openalex.org/domains/3', 'display_name': 'Physical Sciences'}}, {'id': 'https://openalex.org/T12609', 'display_name': 'Social Movements and Political Change in Latin America', 'count': 2614, 'subfield': {'id': 'https://openalex.org/subfields/3312', 'display_name': 'Sociology and Political Science'}, 'field': {'id': 'https://openalex.org/fields/33', 'display_name': 'Social Sciences'}, 'domain': {'id': 'https://openalex.org/domains/2', 'display_name': 'Social Sciences'}}, {'id': 'https://openalex.org/T10017', 'display_name': 'Climate Change and Paleoclimatology', 'count': 2598, 'subfield': {'id': 'https://openalex.org/subfields/1902', 'display_name': 'Atmospheric Science'}, 'field': {'id': 'https://openalex.org/fields/19', 'display_name': 'Earth and Planetary Sciences'}, 'domain': {'id': 'https://openalex.org/domains/3', 'display_name': 'Physical Sciences'}}, {'id': 'https://openalex.org/T12036', 'display_name': 'Cultural and Social History of Argentina', 'count': 2595, 'subfield': {'id': 'https://openalex.org/subfields/3316', 'display_name': 'Cultural Studies'}, 'field': {'id': 'https://openalex.org/fields/33', 'display_name': 'Social Sciences'}, 'domain': {'id': 'https://openalex.org/domains/2', 'display_name': 'Social Sciences'}}, {'id': 'https://openalex.org/T13864', 'display_name': 'Indigenous Peoples at National Margins in Latin America', 'count': 2375, 'subfield': {'id': 'https://openalex.org/subfields/3314', 'display_name': 'Anthropology'}, 'field': {'id': 'https://openalex.org/fields/33', 'display_name': 'Social Sciences'}, 'domain': {'id': 'https://openalex.org/domains/2', 'display_name': 'Social Sciences'}}, {'id': 'https://openalex.org/T10199', 'display_name': 'Wildlife Ecology and Conservation Biology', 'count': 2136, 'subfield': {'id': 'https://openalex.org/subfields/2303', 'display_name': 'Ecology'}, 'field': {'id': 'https://openalex.org/fields/23', 'display_name': 'Environmental Science'}, 'domain': {'id': 'https://openalex.org/domains/3', 'display_name': 'Physical Sciences'}}, {'id': 'https://openalex.org/T10421', 'display_name': 'Human Evolution and Behavioral Modernity', 'count': 1929, 'subfield': {'id': 'https://openalex.org/subfields/3314', 'display_name': 'Anthropology'}, 'field': {'id': 'https://openalex.org/fields/33', 'display_name': 'Social Sciences'}, 'domain': {'id': 'https://openalex.org/domains/2', 'display_name': 'Social Sciences'}}, {'id': 'https://openalex.org/T10001', 'display_name': 'Tectonic and Geochronological Evolution of Orogens', 'count': 1788, 'subfield': {'id': 'https://openalex.org/subfields/1908', 'display_name': 'Geophysics'}, 'field': {'id': 'https://openalex.org/fields/19', 'display_name': 'Earth and Planetary Sciences'}, 'domain': {'id': 'https://openalex.org/domains/3', 'display_name': 'Physical Sciences'}}, {'id': 'https://openalex.org/T10039', 'display_name': 'Stellar Astrophysics and Exoplanet Studies', 'count': 1577, 'subfield': {'id': 'https://openalex.org/subfields/3103', 'display_name': 'Astronomy and Astrophysics'}, 'field': {'id': 'https://openalex.org/fields/31', 'display_name': 'Physics and Astronomy'}, 'domain': {'id': 'https://openalex.org/domains/3', 'display_name': 'Physical Sciences'}}, {'id': 'https://openalex.org/T10192', 'display_name': 'Catalytic Nanomaterials', 'count': 1561, 'subfield': {'id': 'https://openalex.org/subfields/2505', 'display_name': 'Materials Chemistry'}, 'field': {'id': 'https://openalex.org/fields/25', 'display_name': 'Materials Science'}, 'domain': {'id': 'https://openalex.org/domains/3', 'display_name': 'Physical Sciences'}}, {'id': 'https://openalex.org/T10087', 'display_name': 'Radiocarbon Dating and Agricultural Origins', 'count': 1550, 'subfield': {'id': 'https://openalex.org/subfields/1911', 'display_name': 'Paleontology'}, 'field': {'id': 'https://openalex.org/fields/19', 'display_name': 'Earth and Planetary Sciences'}, 'domain': {'id': 'https://openalex.org/domains/3', 'display_name': 'Physical Sciences'}}, {'id': 'https://openalex.org/T10332', 'display_name': 'Global Amphibian Declines and Extinctions', 'count': 1531, 'subfield': {'id': 'https://openalex.org/subfields/2306', 'display_name': 'Global and Planetary Change'}, 'field': {'id': 'https://openalex.org/fields/23', 'display_name': 'Environmental Science'}, 'domain': {'id': 'https://openalex.org/domains/3', 'display_name': 'Physical Sciences'}}, {'id': 'https://openalex.org/T10890', 'display_name': 'Epidemiology and Treatment of Chagas Disease', 'count': 1504, 'subfield': {'id': 'https://openalex.org/subfields/2713', 'display_name': 'Epidemiology'}, 'field': {'id': 'https://openalex.org/fields/27', 'display_name': 'Medicine'}, 'domain': {'id': 'https://openalex.org/domains/4', 'display_name': 'Health Sciences'}}, {'id': 'https://openalex.org/T12493', 'display_name': 'Memory Studies and Social Trauma Analysis', 'count': 1492, 'subfield': {'id': 'https://openalex.org/subfields/3207', 'display_name': 'Social Psychology'}, 'field': {'id': 'https://openalex.org/fields/32', 'display_name': 'Psychology'}, 'domain': {'id': 'https://openalex.org/domains/2', 'display_name': 'Social Sciences'}}, {'id': 'https://openalex.org/T10955', 'display_name': 'Evolutionary History and Diversity of Dinosaurs', 'count': 1464, 'subfield': {'id': 'https://openalex.org/subfields/1911', 'display_name': 'Paleontology'}, 'field': {'id': 'https://openalex.org/fields/19', 'display_name': 'Earth and Planetary Sciences'}, 'domain': {'id': 'https://openalex.org/domains/3', 'display_name': 'Physical Sciences'}}, {'id': 'https://openalex.org/T11641', 'display_name': 'Impact of Pesticides on Honey Bee Health', 'count': 1461, 'subfield': {'id': 'https://openalex.org/subfields/1109', 'display_name': 'Insect Science'}, 'field': {'id': 'https://openalex.org/fields/11', 'display_name': 'Agricultural and Biological Sciences'}, 'domain': {'id': 'https://openalex.org/domains/1', 'display_name': 'Life Sciences'}}, {'id': 'https://openalex.org/T10109', 'display_name': 'Paleoredox and Paleoproductivity Proxies', 'count': 1427, 'subfield': {'id': 'https://openalex.org/subfields/1911', 'display_name': 'Paleontology'}, 'field': {'id': 'https://openalex.org/fields/19', 'display_name': 'Earth and Planetary Sciences'}, 'domain': {'id': 'https://openalex.org/domains/3', 'display_name': 'Physical Sciences'}}, {'id': 'https://openalex.org/T10895', 'display_name': 'Species Distribution Modeling and Climate Change Impacts', 'count': 1410, 'subfield': {'id': 'https://openalex.org/subfields/2302', 'display_name': 'Ecological Modeling'}, 'field': {'id': 'https://openalex.org/fields/23', 'display_name': 'Environmental Science'}, 'domain': {'id': 'https://openalex.org/domains/3', 'display_name': 'Physical Sciences'}}, {'id': 'https://openalex.org/T10048', 'display_name': 'Particle Physics and High-Energy Collider Experiments', 'count': 1372, 'subfield': {'id': 'https://openalex.org/subfields/3106', 'display_name': 'Nuclear and High Energy Physics'}, 'field': {'id': 'https://openalex.org/fields/31', 'display_name': 'Physics and Astronomy'}, 'domain': {'id': 'https://openalex.org/domains/3', 'display_name': 'Physical Sciences'}}, {'id': 'https://openalex.org/T12273', 'display_name': 'Urban Segregation in Latin American Cities', 'count': 1355, 'subfield': {'id': 'https://openalex.org/subfields/3322', 'display_name': 'Urban Studies'}, 'field': {'id': 'https://openalex.org/fields/33', 'display_name': 'Social Sciences'}, 'domain': {'id': 'https://openalex.org/domains/2', 'display_name': 'Social Sciences'}}, {'id': 'https://openalex.org/T10385', 'display_name': 'Evolution and Classification of Flowering Plants', 'count': 1293, 'subfield': {'id': 'https://openalex.org/subfields/1105', 'display_name': 'Ecology, Evolution, Behavior and Systematics'}, 'field': {'id': 'https://openalex.org/fields/11', 'display_name': 'Agricultural and Biological Sciences'}, 'domain': {'id': 'https://openalex.org/domains/1', 'display_name': 'Life Sciences'}}, {'id': 'https://openalex.org/T10141', 'display_name': 'Probiotics and Prebiotics', 'count': 1234, 'subfield': {'id': 'https://openalex.org/subfields/1106', 'display_name': 'Food Science'}, 'field': {'id': 'https://openalex.org/fields/11', 'display_name': 'Agricultural and Biological Sciences'}, 'domain': {'id': 'https://openalex.org/domains/1', 'display_name': 'Life Sciences'}}, {'id': 'https://openalex.org/T12636', 'display_name': 'Rural Territorial Development in Globalization Era', 'count': 1222, 'subfield': {'id': 'https://openalex.org/subfields/3303', 'display_name': 'Development'}, 'field': {'id': 'https://openalex.org/fields/33', 'display_name': 'Social Sciences'}, 'domain': {'id': 'https://openalex.org/domains/2', 'display_name': 'Social Sciences'}}]   \n",
            "1                                                                                                                                                                                                                                                                        [{'id': 'https://openalex.org/T12609', 'display_name': 'Latin American socio-political dynamics', 'count': 2559, 'subfield': {'id': 'https://openalex.org/subfields/3312', 'display_name': 'Sociology and Political Science'}, 'field': {'id': 'https://openalex.org/fields/33', 'display_name': 'Social Sciences'}, 'domain': {'id': 'https://openalex.org/domains/2', 'display_name': 'Social Sciences'}}, {'id': 'https://openalex.org/T12036', 'display_name': 'Argentine historical studies', 'count': 1799, 'subfield': {'id': 'https://openalex.org/subfields/3316', 'display_name': 'Cultural Studies'}, 'field': {'id': 'https://openalex.org/fields/33', 'display_name': 'Social Sciences'}, 'domain': {'id': 'https://openalex.org/domains/2', 'display_name': 'Social Sciences'}}, {'id': 'https://openalex.org/T12493', 'display_name': 'Memory, violence, and history', 'count': 1621, 'subfield': {'id': 'https://openalex.org/subfields/3207', 'display_name': 'Social Psychology'}, 'field': {'id': 'https://openalex.org/fields/32', 'display_name': 'Psychology'}, 'domain': {'id': 'https://openalex.org/domains/2', 'display_name': 'Social Sciences'}}, {'id': 'https://openalex.org/T10048', 'display_name': 'Particle physics theoretical and experimental studies', 'count': 1606, 'subfield': {'id': 'https://openalex.org/subfields/3106', 'display_name': 'Nuclear and High Energy Physics'}, 'field': {'id': 'https://openalex.org/fields/31', 'display_name': 'Physics and Astronomy'}, 'domain': {'id': 'https://openalex.org/domains/3', 'display_name': 'Physical Sciences'}}, {'id': 'https://openalex.org/T13864', 'display_name': 'Indigenous Cultures and History', 'count': 1600, 'subfield': {'id': 'https://openalex.org/subfields/3314', 'display_name': 'Anthropology'}, 'field': {'id': 'https://openalex.org/fields/33', 'display_name': 'Social Sciences'}, 'domain': {'id': 'https://openalex.org/domains/2', 'display_name': 'Social Sciences'}}, {'id': 'https://openalex.org/T10527', 'display_name': 'High-Energy Particle Collisions Research', 'count': 1251, 'subfield': {'id': 'https://openalex.org/subfields/3106', 'display_name': 'Nuclear and High Energy Physics'}, 'field': {'id': 'https://openalex.org/fields/31', 'display_name': 'Physics and Astronomy'}, 'domain': {'id': 'https://openalex.org/domains/3', 'display_name': 'Physical Sciences'}}, {'id': 'https://openalex.org/T13134', 'display_name': 'Latin American Literature Studies', 'count': 1163, 'subfield': {'id': 'https://openalex.org/subfields/3316', 'display_name': 'Cultural Studies'}, 'field': {'id': 'https://openalex.org/fields/33', 'display_name': 'Social Sciences'}, 'domain': {'id': 'https://openalex.org/domains/2', 'display_name': 'Social Sciences'}}, {'id': 'https://openalex.org/T12332', 'display_name': 'Comparative constitutional jurisprudence studies', 'count': 1129, 'subfield': {'id': 'https://openalex.org/subfields/3320', 'display_name': 'Political Science and International Relations'}, 'field': {'id': 'https://openalex.org/fields/33', 'display_name': 'Social Sciences'}, 'domain': {'id': 'https://openalex.org/domains/2', 'display_name': 'Social Sciences'}}, {'id': 'https://openalex.org/T10077', 'display_name': 'Neuroscience and Neuropharmacology Research', 'count': 1121, 'subfield': {'id': 'https://openalex.org/subfields/2804', 'display_name': 'Cellular and Molecular Neuroscience'}, 'field': {'id': 'https://openalex.org/fields/28', 'display_name': 'Neuroscience'}, 'domain': {'id': 'https://openalex.org/domains/1', 'display_name': 'Life Sciences'}}, {'id': 'https://openalex.org/T10487', 'display_name': 'Plant and animal studies', 'count': 1114, 'subfield': {'id': 'https://openalex.org/subfields/1105', 'display_name': 'Ecology, Evolution, Behavior and Systematics'}, 'field': {'id': 'https://openalex.org/fields/11', 'display_name': 'Agricultural and Biological Sciences'}, 'domain': {'id': 'https://openalex.org/domains/1', 'display_name': 'Life Sciences'}}, {'id': 'https://openalex.org/T13589', 'display_name': 'Literary and Cultural Studies', 'count': 1103, 'subfield': {'id': 'https://openalex.org/subfields/3312', 'display_name': 'Sociology and Political Science'}, 'field': {'id': 'https://openalex.org/fields/33', 'display_name': 'Social Sciences'}, 'domain': {'id': 'https://openalex.org/domains/2', 'display_name': 'Social Sciences'}}, {'id': 'https://openalex.org/T12273', 'display_name': 'Latin American Urban Studies', 'count': 1096, 'subfield': {'id': 'https://openalex.org/subfields/3322', 'display_name': 'Urban Studies'}, 'field': {'id': 'https://openalex.org/fields/33', 'display_name': 'Social Sciences'}, 'domain': {'id': 'https://openalex.org/domains/2', 'display_name': 'Social Sciences'}}, {'id': 'https://openalex.org/T13624', 'display_name': 'Social Sciences and Policies', 'count': 1026, 'subfield': {'id': 'https://openalex.org/subfields/3300', 'display_name': 'General Social Sciences'}, 'field': {'id': 'https://openalex.org/fields/33', 'display_name': 'Social Sciences'}, 'domain': {'id': 'https://openalex.org/domains/2', 'display_name': 'Social Sciences'}}, {'id': 'https://openalex.org/T10890', 'display_name': 'Trypanosoma species research and implications', 'count': 1005, 'subfield': {'id': 'https://openalex.org/subfields/2713', 'display_name': 'Epidemiology'}, 'field': {'id': 'https://openalex.org/fields/27', 'display_name': 'Medicine'}, 'domain': {'id': 'https://openalex.org/domains/4', 'display_name': 'Health Sciences'}}, {'id': 'https://openalex.org/T13466', 'display_name': 'Comparative Literary Analysis and Criticism', 'count': 949, 'subfield': {'id': 'https://openalex.org/subfields/1208', 'display_name': 'Literature and Literary Theory'}, 'field': {'id': 'https://openalex.org/fields/12', 'display_name': 'Arts and Humanities'}, 'domain': {'id': 'https://openalex.org/domains/2', 'display_name': 'Social Sciences'}}, {'id': 'https://openalex.org/T13814', 'display_name': 'Cultural and political discourse analysis', 'count': 919, 'subfield': {'id': 'https://openalex.org/subfields/3310', 'display_name': 'Linguistics and Language'}, 'field': {'id': 'https://openalex.org/fields/33', 'display_name': 'Social Sciences'}, 'domain': {'id': 'https://openalex.org/domains/2', 'display_name': 'Social Sciences'}}, {'id': 'https://openalex.org/T10017', 'display_name': 'Geology and Paleoclimatology Research', 'count': 893, 'subfield': {'id': 'https://openalex.org/subfields/1902', 'display_name': 'Atmospheric Science'}, 'field': {'id': 'https://openalex.org/fields/19', 'display_name': 'Earth and Planetary Sciences'}, 'domain': {'id': 'https://openalex.org/domains/3', 'display_name': 'Physical Sciences'}}, {'id': 'https://openalex.org/T10001', 'display_name': 'Geological and Geochemical Analysis', 'count': 892, 'subfield': {'id': 'https://openalex.org/subfields/1908', 'display_name': 'Geophysics'}, 'field': {'id': 'https://openalex.org/fields/19', 'display_name': 'Earth and Planetary Sciences'}, 'domain': {'id': 'https://openalex.org/domains/3', 'display_name': 'Physical Sciences'}}, {'id': 'https://openalex.org/T10005', 'display_name': 'Ecology and Vegetation Dynamics Studies', 'count': 845, 'subfield': {'id': 'https://openalex.org/subfields/2309', 'display_name': 'Nature and Landscape Conservation'}, 'field': {'id': 'https://openalex.org/fields/23', 'display_name': 'Environmental Science'}, 'domain': {'id': 'https://openalex.org/domains/3', 'display_name': 'Physical Sciences'}}, {'id': 'https://openalex.org/T10437', 'display_name': 'Educational theories and practices', 'count': 833, 'subfield': {'id': 'https://openalex.org/subfields/3304', 'display_name': 'Education'}, 'field': {'id': 'https://openalex.org/fields/33', 'display_name': 'Social Sciences'}, 'domain': {'id': 'https://openalex.org/domains/2', 'display_name': 'Social Sciences'}}, {'id': 'https://openalex.org/T10224', 'display_name': 'Quantum Chromodynamics and Particle Interactions', 'count': 827, 'subfield': {'id': 'https://openalex.org/subfields/3106', 'display_name': 'Nuclear and High Energy Physics'}, 'field': {'id': 'https://openalex.org/fields/31', 'display_name': 'Physics and Astronomy'}, 'domain': {'id': 'https://openalex.org/domains/3', 'display_name': 'Physical Sciences'}}, {'id': 'https://openalex.org/T12736', 'display_name': 'Criminal Justice and Penology', 'count': 826, 'subfield': {'id': 'https://openalex.org/subfields/3308', 'display_name': 'Law'}, 'field': {'id': 'https://openalex.org/fields/33', 'display_name': 'Social Sciences'}, 'domain': {'id': 'https://openalex.org/domains/2', 'display_name': 'Social Sciences'}}, {'id': 'https://openalex.org/T13460', 'display_name': 'Historical Studies in Latin America', 'count': 806, 'subfield': {'id': 'https://openalex.org/subfields/3317', 'display_name': 'Demography'}, 'field': {'id': 'https://openalex.org/fields/33', 'display_name': 'Social Sciences'}, 'domain': {'id': 'https://openalex.org/domains/2', 'display_name': 'Social Sciences'}}, {'id': 'https://openalex.org/T12803', 'display_name': 'Cinema History and Criticism', 'count': 801, 'subfield': {'id': 'https://openalex.org/subfields/1213', 'display_name': 'Visual Arts and Performing Arts'}, 'field': {'id': 'https://openalex.org/fields/12', 'display_name': 'Arts and Humanities'}, 'domain': {'id': 'https://openalex.org/domains/2', 'display_name': 'Social Sciences'}}, {'id': 'https://openalex.org/T12636', 'display_name': 'Regional Development and Innovation', 'count': 794, 'subfield': {'id': 'https://openalex.org/subfields/3303', 'display_name': 'Development'}, 'field': {'id': 'https://openalex.org/fields/33', 'display_name': 'Social Sciences'}, 'domain': {'id': 'https://openalex.org/domains/2', 'display_name': 'Social Sciences'}}]   \n",
            "2                                                                                                                                                                                                                                                    [{'id': 'https://openalex.org/T10048', 'display_name': 'Particle physics theoretical and experimental studies', 'count': 1537, 'subfield': {'id': 'https://openalex.org/subfields/3106', 'display_name': 'Nuclear and High Energy Physics'}, 'field': {'id': 'https://openalex.org/fields/31', 'display_name': 'Physics and Astronomy'}, 'domain': {'id': 'https://openalex.org/domains/3', 'display_name': 'Physical Sciences'}}, {'id': 'https://openalex.org/T10039', 'display_name': 'Stellar, planetary, and galactic studies', 'count': 1185, 'subfield': {'id': 'https://openalex.org/subfields/3103', 'display_name': 'Astronomy and Astrophysics'}, 'field': {'id': 'https://openalex.org/fields/31', 'display_name': 'Physics and Astronomy'}, 'domain': {'id': 'https://openalex.org/domains/3', 'display_name': 'Physical Sciences'}}, {'id': 'https://openalex.org/T11354', 'display_name': 'Evolution and Paleontology Studies', 'count': 1174, 'subfield': {'id': 'https://openalex.org/subfields/1911', 'display_name': 'Paleontology'}, 'field': {'id': 'https://openalex.org/fields/19', 'display_name': 'Earth and Planetary Sciences'}, 'domain': {'id': 'https://openalex.org/domains/3', 'display_name': 'Physical Sciences'}}, {'id': 'https://openalex.org/T10527', 'display_name': 'High-Energy Particle Collisions Research', 'count': 1096, 'subfield': {'id': 'https://openalex.org/subfields/3106', 'display_name': 'Nuclear and High Energy Physics'}, 'field': {'id': 'https://openalex.org/fields/31', 'display_name': 'Physics and Astronomy'}, 'domain': {'id': 'https://openalex.org/domains/3', 'display_name': 'Physical Sciences'}}, {'id': 'https://openalex.org/T12609', 'display_name': 'Latin American socio-political dynamics', 'count': 977, 'subfield': {'id': 'https://openalex.org/subfields/3312', 'display_name': 'Sociology and Political Science'}, 'field': {'id': 'https://openalex.org/fields/33', 'display_name': 'Social Sciences'}, 'domain': {'id': 'https://openalex.org/domains/2', 'display_name': 'Social Sciences'}}, {'id': 'https://openalex.org/T10224', 'display_name': 'Quantum Chromodynamics and Particle Interactions', 'count': 870, 'subfield': {'id': 'https://openalex.org/subfields/3106', 'display_name': 'Nuclear and High Energy Physics'}, 'field': {'id': 'https://openalex.org/fields/31', 'display_name': 'Physics and Astronomy'}, 'domain': {'id': 'https://openalex.org/domains/3', 'display_name': 'Physical Sciences'}}, {'id': 'https://openalex.org/T12493', 'display_name': 'Memory, violence, and history', 'count': 861, 'subfield': {'id': 'https://openalex.org/subfields/3207', 'display_name': 'Social Psychology'}, 'field': {'id': 'https://openalex.org/fields/32', 'display_name': 'Psychology'}, 'domain': {'id': 'https://openalex.org/domains/2', 'display_name': 'Social Sciences'}}, {'id': 'https://openalex.org/T12036', 'display_name': 'Argentine historical studies', 'count': 802, 'subfield': {'id': 'https://openalex.org/subfields/3316', 'display_name': 'Cultural Studies'}, 'field': {'id': 'https://openalex.org/fields/33', 'display_name': 'Social Sciences'}, 'domain': {'id': 'https://openalex.org/domains/2', 'display_name': 'Social Sciences'}}, {'id': 'https://openalex.org/T10477', 'display_name': 'Astrophysics and Star Formation Studies', 'count': 765, 'subfield': {'id': 'https://openalex.org/subfields/3103', 'display_name': 'Astronomy and Astrophysics'}, 'field': {'id': 'https://openalex.org/fields/31', 'display_name': 'Physics and Astronomy'}, 'domain': {'id': 'https://openalex.org/domains/3', 'display_name': 'Physical Sciences'}}, {'id': 'https://openalex.org/T10421', 'display_name': 'Pleistocene-Era Hominins and Archaeology', 'count': 643, 'subfield': {'id': 'https://openalex.org/subfields/3314', 'display_name': 'Anthropology'}, 'field': {'id': 'https://openalex.org/fields/33', 'display_name': 'Social Sciences'}, 'domain': {'id': 'https://openalex.org/domains/2', 'display_name': 'Social Sciences'}}, {'id': 'https://openalex.org/T10818', 'display_name': 'Astrophysics and Cosmic Phenomena', 'count': 608, 'subfield': {'id': 'https://openalex.org/subfields/3106', 'display_name': 'Nuclear and High Energy Physics'}, 'field': {'id': 'https://openalex.org/fields/31', 'display_name': 'Physics and Astronomy'}, 'domain': {'id': 'https://openalex.org/domains/3', 'display_name': 'Physical Sciences'}}, {'id': 'https://openalex.org/T13864', 'display_name': 'Indigenous Cultures and History', 'count': 562, 'subfield': {'id': 'https://openalex.org/subfields/3314', 'display_name': 'Anthropology'}, 'field': {'id': 'https://openalex.org/fields/33', 'display_name': 'Social Sciences'}, 'domain': {'id': 'https://openalex.org/domains/2', 'display_name': 'Social Sciences'}}, {'id': 'https://openalex.org/T13466', 'display_name': 'Comparative Literary Analysis and Criticism', 'count': 558, 'subfield': {'id': 'https://openalex.org/subfields/1208', 'display_name': 'Literature and Literary Theory'}, 'field': {'id': 'https://openalex.org/fields/12', 'display_name': 'Arts and Humanities'}, 'domain': {'id': 'https://openalex.org/domains/2', 'display_name': 'Social Sciences'}}, {'id': 'https://openalex.org/T11323', 'display_name': 'Gamma-ray bursts and supernovae', 'count': 532, 'subfield': {'id': 'https://openalex.org/subfields/3103', 'display_name': 'Astronomy and Astrophysics'}, 'field': {'id': 'https://openalex.org/fields/31', 'display_name': 'Physics and Astronomy'}, 'domain': {'id': 'https://openalex.org/domains/3', 'display_name': 'Physical Sciences'}}, {'id': 'https://openalex.org/T10017', 'display_name': 'Geology and Paleoclimatology Research', 'count': 531, 'subfield': {'id': 'https://openalex.org/subfields/1902', 'display_name': 'Atmospheric Science'}, 'field': {'id': 'https://openalex.org/fields/19', 'display_name': 'Earth and Planetary Sciences'}, 'domain': {'id': 'https://openalex.org/domains/3', 'display_name': 'Physical Sciences'}}, {'id': 'https://openalex.org/T10002', 'display_name': 'Advanced Chemical Physics Studies', 'count': 531, 'subfield': {'id': 'https://openalex.org/subfields/3107', 'display_name': 'Atomic and Molecular Physics, and Optics'}, 'field': {'id': 'https://openalex.org/fields/31', 'display_name': 'Physics and Astronomy'}, 'domain': {'id': 'https://openalex.org/domains/3', 'display_name': 'Physical Sciences'}}, {'id': 'https://openalex.org/T13624', 'display_name': 'Social Sciences and Policies', 'count': 523, 'subfield': {'id': 'https://openalex.org/subfields/3300', 'display_name': 'General Social Sciences'}, 'field': {'id': 'https://openalex.org/fields/33', 'display_name': 'Social Sciences'}, 'domain': {'id': 'https://openalex.org/domains/2', 'display_name': 'Social Sciences'}}, {'id': 'https://openalex.org/T10095', 'display_name': 'Cosmology and Gravitation Theories', 'count': 520, 'subfield': {'id': 'https://openalex.org/subfields/3103', 'display_name': 'Astronomy and Astrophysics'}, 'field': {'id': 'https://openalex.org/fields/31', 'display_name': 'Physics and Astronomy'}, 'domain': {'id': 'https://openalex.org/domains/3', 'display_name': 'Physical Sciences'}}, {'id': 'https://openalex.org/T10437', 'display_name': 'Educational theories and practices', 'count': 517, 'subfield': {'id': 'https://openalex.org/subfields/3304', 'display_name': 'Education'}, 'field': {'id': 'https://openalex.org/fields/33', 'display_name': 'Social Sciences'}, 'domain': {'id': 'https://openalex.org/domains/2', 'display_name': 'Social Sciences'}}, {'id': 'https://openalex.org/T10025', 'display_name': 'Black Holes and Theoretical Physics', 'count': 516, 'subfield': {'id': 'https://openalex.org/subfields/3106', 'display_name': 'Nuclear and High Energy Physics'}, 'field': {'id': 'https://openalex.org/fields/31', 'display_name': 'Physics and Astronomy'}, 'domain': {'id': 'https://openalex.org/domains/3', 'display_name': 'Physical Sciences'}}, {'id': 'https://openalex.org/T12917', 'display_name': 'Astronomy and Astrophysical Research', 'count': 516, 'subfield': {'id': 'https://openalex.org/subfields/3105', 'display_name': 'Instrumentation'}, 'field': {'id': 'https://openalex.org/fields/31', 'display_name': 'Physics and Astronomy'}, 'domain': {'id': 'https://openalex.org/domains/3', 'display_name': 'Physical Sciences'}}, {'id': 'https://openalex.org/T13589', 'display_name': 'Literary and Cultural Studies', 'count': 508, 'subfield': {'id': 'https://openalex.org/subfields/3312', 'display_name': 'Sociology and Political Science'}, 'field': {'id': 'https://openalex.org/fields/33', 'display_name': 'Social Sciences'}, 'domain': {'id': 'https://openalex.org/domains/2', 'display_name': 'Social Sciences'}}, {'id': 'https://openalex.org/T12273', 'display_name': 'Latin American Urban Studies', 'count': 494, 'subfield': {'id': 'https://openalex.org/subfields/3322', 'display_name': 'Urban Studies'}, 'field': {'id': 'https://openalex.org/fields/33', 'display_name': 'Social Sciences'}, 'domain': {'id': 'https://openalex.org/domains/2', 'display_name': 'Social Sciences'}}, {'id': 'https://openalex.org/T13268', 'display_name': 'Photographic and Visual Arts', 'count': 492, 'subfield': {'id': 'https://openalex.org/subfields/1209', 'display_name': 'Museology'}, 'field': {'id': 'https://openalex.org/fields/12', 'display_name': 'Arts and Humanities'}, 'domain': {'id': 'https://openalex.org/domains/2', 'display_name': 'Social Sciences'}}, {'id': 'https://openalex.org/T11434', 'display_name': 'Electrochemical Analysis and Applications', 'count': 486, 'subfield': {'id': 'https://openalex.org/subfields/1603', 'display_name': 'Electrochemistry'}, 'field': {'id': 'https://openalex.org/fields/16', 'display_name': 'Chemistry'}, 'domain': {'id': 'https://openalex.org/domains/3', 'display_name': 'Physical Sciences'}}]   \n",
            "3                                                                                                                                                                                                                                    [{'id': 'https://openalex.org/T10487', 'display_name': 'Plant and animal studies', 'count': 734, 'subfield': {'id': 'https://openalex.org/subfields/1105', 'display_name': 'Ecology, Evolution, Behavior and Systematics'}, 'field': {'id': 'https://openalex.org/fields/11', 'display_name': 'Agricultural and Biological Sciences'}, 'domain': {'id': 'https://openalex.org/domains/1', 'display_name': 'Life Sciences'}}, {'id': 'https://openalex.org/T10005', 'display_name': 'Ecology and Vegetation Dynamics Studies', 'count': 681, 'subfield': {'id': 'https://openalex.org/subfields/2309', 'display_name': 'Nature and Landscape Conservation'}, 'field': {'id': 'https://openalex.org/fields/23', 'display_name': 'Environmental Science'}, 'domain': {'id': 'https://openalex.org/domains/3', 'display_name': 'Physical Sciences'}}, {'id': 'https://openalex.org/T12609', 'display_name': 'Latin American socio-political dynamics', 'count': 609, 'subfield': {'id': 'https://openalex.org/subfields/3312', 'display_name': 'Sociology and Political Science'}, 'field': {'id': 'https://openalex.org/fields/33', 'display_name': 'Social Sciences'}, 'domain': {'id': 'https://openalex.org/domains/2', 'display_name': 'Social Sciences'}}, {'id': 'https://openalex.org/T10039', 'display_name': 'Stellar, planetary, and galactic studies', 'count': 572, 'subfield': {'id': 'https://openalex.org/subfields/3103', 'display_name': 'Astronomy and Astrophysics'}, 'field': {'id': 'https://openalex.org/fields/31', 'display_name': 'Physics and Astronomy'}, 'domain': {'id': 'https://openalex.org/domains/3', 'display_name': 'Physical Sciences'}}, {'id': 'https://openalex.org/T11434', 'display_name': 'Electrochemical Analysis and Applications', 'count': 485, 'subfield': {'id': 'https://openalex.org/subfields/1603', 'display_name': 'Electrochemistry'}, 'field': {'id': 'https://openalex.org/fields/16', 'display_name': 'Chemistry'}, 'domain': {'id': 'https://openalex.org/domains/3', 'display_name': 'Physical Sciences'}}, {'id': 'https://openalex.org/T12036', 'display_name': 'Argentine historical studies', 'count': 466, 'subfield': {'id': 'https://openalex.org/subfields/3316', 'display_name': 'Cultural Studies'}, 'field': {'id': 'https://openalex.org/fields/33', 'display_name': 'Social Sciences'}, 'domain': {'id': 'https://openalex.org/domains/2', 'display_name': 'Social Sciences'}}, {'id': 'https://openalex.org/T10890', 'display_name': 'Trypanosoma species research and implications', 'count': 440, 'subfield': {'id': 'https://openalex.org/subfields/2713', 'display_name': 'Epidemiology'}, 'field': {'id': 'https://openalex.org/fields/27', 'display_name': 'Medicine'}, 'domain': {'id': 'https://openalex.org/domains/4', 'display_name': 'Health Sciences'}}, {'id': 'https://openalex.org/T10407', 'display_name': 'Lipid Membrane Structure and Behavior', 'count': 412, 'subfield': {'id': 'https://openalex.org/subfields/1312', 'display_name': 'Molecular Biology'}, 'field': {'id': 'https://openalex.org/fields/13', 'display_name': 'Biochemistry, Genetics and Molecular Biology'}, 'domain': {'id': 'https://openalex.org/domains/1', 'display_name': 'Life Sciences'}}, {'id': 'https://openalex.org/T10477', 'display_name': 'Astrophysics and Star Formation Studies', 'count': 398, 'subfield': {'id': 'https://openalex.org/subfields/3103', 'display_name': 'Astronomy and Astrophysics'}, 'field': {'id': 'https://openalex.org/fields/31', 'display_name': 'Physics and Astronomy'}, 'domain': {'id': 'https://openalex.org/domains/3', 'display_name': 'Physical Sciences'}}, {'id': 'https://openalex.org/T10017', 'display_name': 'Geology and Paleoclimatology Research', 'count': 392, 'subfield': {'id': 'https://openalex.org/subfields/1902', 'display_name': 'Atmospheric Science'}, 'field': {'id': 'https://openalex.org/fields/19', 'display_name': 'Earth and Planetary Sciences'}, 'domain': {'id': 'https://openalex.org/domains/3', 'display_name': 'Physical Sciences'}}, {'id': 'https://openalex.org/T13466', 'display_name': 'Comparative Literary Analysis and Criticism', 'count': 391, 'subfield': {'id': 'https://openalex.org/subfields/1208', 'display_name': 'Literature and Literary Theory'}, 'field': {'id': 'https://openalex.org/fields/12', 'display_name': 'Arts and Humanities'}, 'domain': {'id': 'https://openalex.org/domains/2', 'display_name': 'Social Sciences'}}, {'id': 'https://openalex.org/T13864', 'display_name': 'Indigenous Cultures and History', 'count': 391, 'subfield': {'id': 'https://openalex.org/subfields/3314', 'display_name': 'Anthropology'}, 'field': {'id': 'https://openalex.org/fields/33', 'display_name': 'Social Sciences'}, 'domain': {'id': 'https://openalex.org/domains/2', 'display_name': 'Social Sciences'}}, {'id': 'https://openalex.org/T10026', 'display_name': 'Galaxies: Formation, Evolution, Phenomena', 'count': 380, 'subfield': {'id': 'https://openalex.org/subfields/3103', 'display_name': 'Astronomy and Astrophysics'}, 'field': {'id': 'https://openalex.org/fields/31', 'display_name': 'Physics and Astronomy'}, 'domain': {'id': 'https://openalex.org/domains/3', 'display_name': 'Physical Sciences'}}, {'id': 'https://openalex.org/T12917', 'display_name': 'Astronomy and Astrophysical Research', 'count': 378, 'subfield': {'id': 'https://openalex.org/subfields/3105', 'display_name': 'Instrumentation'}, 'field': {'id': 'https://openalex.org/fields/31', 'display_name': 'Physics and Astronomy'}, 'domain': {'id': 'https://openalex.org/domains/3', 'display_name': 'Physical Sciences'}}, {'id': 'https://openalex.org/T10109', 'display_name': 'Paleontology and Stratigraphy of Fossils', 'count': 372, 'subfield': {'id': 'https://openalex.org/subfields/1911', 'display_name': 'Paleontology'}, 'field': {'id': 'https://openalex.org/fields/19', 'display_name': 'Earth and Planetary Sciences'}, 'domain': {'id': 'https://openalex.org/domains/3', 'display_name': 'Physical Sciences'}}, {'id': 'https://openalex.org/T11673', 'display_name': 'Advanced Topics in Algebra', 'count': 369, 'subfield': {'id': 'https://openalex.org/subfields/2602', 'display_name': 'Algebra and Number Theory'}, 'field': {'id': 'https://openalex.org/fields/26', 'display_name': 'Mathematics'}, 'domain': {'id': 'https://openalex.org/domains/3', 'display_name': 'Physical Sciences'}}, {'id': 'https://openalex.org/T13134', 'display_name': 'Latin American Literature Studies', 'count': 368, 'subfield': {'id': 'https://openalex.org/subfields/3316', 'display_name': 'Cultural Studies'}, 'field': {'id': 'https://openalex.org/fields/33', 'display_name': 'Social Sciences'}, 'domain': {'id': 'https://openalex.org/domains/2', 'display_name': 'Social Sciences'}}, {'id': 'https://openalex.org/T12273', 'display_name': 'Latin American Urban Studies', 'count': 364, 'subfield': {'id': 'https://openalex.org/subfields/3322', 'display_name': 'Urban Studies'}, 'field': {'id': 'https://openalex.org/fields/33', 'display_name': 'Social Sciences'}, 'domain': {'id': 'https://openalex.org/domains/2', 'display_name': 'Social Sciences'}}, {'id': 'https://openalex.org/T12493', 'display_name': 'Memory, violence, and history', 'count': 359, 'subfield': {'id': 'https://openalex.org/subfields/3207', 'display_name': 'Social Psychology'}, 'field': {'id': 'https://openalex.org/fields/32', 'display_name': 'Psychology'}, 'domain': {'id': 'https://openalex.org/domains/2', 'display_name': 'Social Sciences'}}, {'id': 'https://openalex.org/T13589', 'display_name': 'Literary and Cultural Studies', 'count': 353, 'subfield': {'id': 'https://openalex.org/subfields/3312', 'display_name': 'Sociology and Political Science'}, 'field': {'id': 'https://openalex.org/fields/33', 'display_name': 'Social Sciences'}, 'domain': {'id': 'https://openalex.org/domains/2', 'display_name': 'Social Sciences'}}, {'id': 'https://openalex.org/T10287', 'display_name': 'Algebraic structures and combinatorial models', 'count': 347, 'subfield': {'id': 'https://openalex.org/subfields/2608', 'display_name': 'Geometry and Topology'}, 'field': {'id': 'https://openalex.org/fields/26', 'display_name': 'Mathematics'}, 'domain': {'id': 'https://openalex.org/domains/3', 'display_name': 'Physical Sciences'}}, {'id': 'https://openalex.org/T12332', 'display_name': 'Comparative constitutional jurisprudence studies', 'count': 341, 'subfield': {'id': 'https://openalex.org/subfields/3320', 'display_name': 'Political Science and International Relations'}, 'field': {'id': 'https://openalex.org/fields/33', 'display_name': 'Social Sciences'}, 'domain': {'id': 'https://openalex.org/domains/2', 'display_name': 'Social Sciences'}}, {'id': 'https://openalex.org/T13624', 'display_name': 'Social Sciences and Policies', 'count': 341, 'subfield': {'id': 'https://openalex.org/subfields/3300', 'display_name': 'General Social Sciences'}, 'field': {'id': 'https://openalex.org/fields/33', 'display_name': 'Social Sciences'}, 'domain': {'id': 'https://openalex.org/domains/2', 'display_name': 'Social Sciences'}}, {'id': 'https://openalex.org/T10001', 'display_name': 'Geological and Geochemical Analysis', 'count': 313, 'subfield': {'id': 'https://openalex.org/subfields/1908', 'display_name': 'Geophysics'}, 'field': {'id': 'https://openalex.org/fields/19', 'display_name': 'Earth and Planetary Sciences'}, 'domain': {'id': 'https://openalex.org/domains/3', 'display_name': 'Physical Sciences'}}, {'id': 'https://openalex.org/T10166', 'display_name': 'Mosquito-borne diseases and control', 'count': 311, 'subfield': {'id': 'https://openalex.org/subfields/2739', 'display_name': 'Public Health, Environmental and Occupational Health'}, 'field': {'id': 'https://openalex.org/fields/27', 'display_name': 'Medicine'}, 'domain': {'id': 'https://openalex.org/domains/4', 'display_name': 'Health Sciences'}}]   \n",
            "4                                                                                                                                      [{'id': 'https://openalex.org/T10487', 'display_name': 'Plant and animal studies', 'count': 693, 'subfield': {'id': 'https://openalex.org/subfields/1105', 'display_name': 'Ecology, Evolution, Behavior and Systematics'}, 'field': {'id': 'https://openalex.org/fields/11', 'display_name': 'Agricultural and Biological Sciences'}, 'domain': {'id': 'https://openalex.org/domains/1', 'display_name': 'Life Sciences'}}, {'id': 'https://openalex.org/T10095', 'display_name': 'Cosmology and Gravitation Theories', 'count': 562, 'subfield': {'id': 'https://openalex.org/subfields/3103', 'display_name': 'Astronomy and Astrophysics'}, 'field': {'id': 'https://openalex.org/fields/31', 'display_name': 'Physics and Astronomy'}, 'domain': {'id': 'https://openalex.org/domains/3', 'display_name': 'Physical Sciences'}}, {'id': 'https://openalex.org/T10017', 'display_name': 'Geology and Paleoclimatology Research', 'count': 482, 'subfield': {'id': 'https://openalex.org/subfields/1902', 'display_name': 'Atmospheric Science'}, 'field': {'id': 'https://openalex.org/fields/19', 'display_name': 'Earth and Planetary Sciences'}, 'domain': {'id': 'https://openalex.org/domains/3', 'display_name': 'Physical Sciences'}}, {'id': 'https://openalex.org/T10765', 'display_name': 'Marine Biology and Ecology Research', 'count': 460, 'subfield': {'id': 'https://openalex.org/subfields/1910', 'display_name': 'Oceanography'}, 'field': {'id': 'https://openalex.org/fields/19', 'display_name': 'Earth and Planetary Sciences'}, 'domain': {'id': 'https://openalex.org/domains/3', 'display_name': 'Physical Sciences'}}, {'id': 'https://openalex.org/T10890', 'display_name': 'Trypanosoma species research and implications', 'count': 422, 'subfield': {'id': 'https://openalex.org/subfields/2713', 'display_name': 'Epidemiology'}, 'field': {'id': 'https://openalex.org/fields/27', 'display_name': 'Medicine'}, 'domain': {'id': 'https://openalex.org/domains/4', 'display_name': 'Health Sciences'}}, {'id': 'https://openalex.org/T11641', 'display_name': 'Insect and Pesticide Research', 'count': 419, 'subfield': {'id': 'https://openalex.org/subfields/1109', 'display_name': 'Insect Science'}, 'field': {'id': 'https://openalex.org/fields/11', 'display_name': 'Agricultural and Biological Sciences'}, 'domain': {'id': 'https://openalex.org/domains/1', 'display_name': 'Life Sciences'}}, {'id': 'https://openalex.org/T10835', 'display_name': 'Carbohydrate Chemistry and Synthesis', 'count': 417, 'subfield': {'id': 'https://openalex.org/subfields/1605', 'display_name': 'Organic Chemistry'}, 'field': {'id': 'https://openalex.org/fields/16', 'display_name': 'Chemistry'}, 'domain': {'id': 'https://openalex.org/domains/3', 'display_name': 'Physical Sciences'}}, {'id': 'https://openalex.org/T10025', 'display_name': 'Black Holes and Theoretical Physics', 'count': 405, 'subfield': {'id': 'https://openalex.org/subfields/3106', 'display_name': 'Nuclear and High Energy Physics'}, 'field': {'id': 'https://openalex.org/fields/31', 'display_name': 'Physics and Astronomy'}, 'domain': {'id': 'https://openalex.org/domains/3', 'display_name': 'Physical Sciences'}}, {'id': 'https://openalex.org/T10002', 'display_name': 'Advanced Chemical Physics Studies', 'count': 400, 'subfield': {'id': 'https://openalex.org/subfields/3107', 'display_name': 'Atomic and Molecular Physics, and Optics'}, 'field': {'id': 'https://openalex.org/fields/31', 'display_name': 'Physics and Astronomy'}, 'domain': {'id': 'https://openalex.org/domains/3', 'display_name': 'Physical Sciences'}}, {'id': 'https://openalex.org/T11177', 'display_name': 'Spectroscopy and Quantum Chemical Studies', 'count': 393, 'subfield': {'id': 'https://openalex.org/subfields/3107', 'display_name': 'Atomic and Molecular Physics, and Optics'}, 'field': {'id': 'https://openalex.org/fields/31', 'display_name': 'Physics and Astronomy'}, 'domain': {'id': 'https://openalex.org/domains/3', 'display_name': 'Physical Sciences'}}, {'id': 'https://openalex.org/T10174', 'display_name': 'Animal Behavior and Reproduction', 'count': 379, 'subfield': {'id': 'https://openalex.org/subfields/1105', 'display_name': 'Ecology, Evolution, Behavior and Systematics'}, 'field': {'id': 'https://openalex.org/fields/11', 'display_name': 'Agricultural and Biological Sciences'}, 'domain': {'id': 'https://openalex.org/domains/1', 'display_name': 'Life Sciences'}}, {'id': 'https://openalex.org/T10702', 'display_name': 'Insect and Arachnid Ecology and Behavior', 'count': 360, 'subfield': {'id': 'https://openalex.org/subfields/1311', 'display_name': 'Genetics'}, 'field': {'id': 'https://openalex.org/fields/13', 'display_name': 'Biochemistry, Genetics and Molecular Biology'}, 'domain': {'id': 'https://openalex.org/domains/1', 'display_name': 'Life Sciences'}}, {'id': 'https://openalex.org/T10251', 'display_name': 'Solar and Space Plasma Dynamics', 'count': 344, 'subfield': {'id': 'https://openalex.org/subfields/3103', 'display_name': 'Astronomy and Astrophysics'}, 'field': {'id': 'https://openalex.org/fields/31', 'display_name': 'Physics and Astronomy'}, 'domain': {'id': 'https://openalex.org/domains/3', 'display_name': 'Physical Sciences'}}, {'id': 'https://openalex.org/T10109', 'display_name': 'Paleontology and Stratigraphy of Fossils', 'count': 334, 'subfield': {'id': 'https://openalex.org/subfields/1911', 'display_name': 'Paleontology'}, 'field': {'id': 'https://openalex.org/fields/19', 'display_name': 'Earth and Planetary Sciences'}, 'domain': {'id': 'https://openalex.org/domains/3', 'display_name': 'Physical Sciences'}}, {'id': 'https://openalex.org/T11354', 'display_name': 'Evolution and Paleontology Studies', 'count': 332, 'subfield': {'id': 'https://openalex.org/subfields/1911', 'display_name': 'Paleontology'}, 'field': {'id': 'https://openalex.org/fields/19', 'display_name': 'Earth and Planetary Sciences'}, 'domain': {'id': 'https://openalex.org/domains/3', 'display_name': 'Physical Sciences'}}, {'id': 'https://openalex.org/T10199', 'display_name': 'Wildlife Ecology and Conservation', 'count': 325, 'subfield': {'id': 'https://openalex.org/subfields/2303', 'display_name': 'Ecology'}, 'field': {'id': 'https://openalex.org/fields/23', 'display_name': 'Environmental Science'}, 'domain': {'id': 'https://openalex.org/domains/3', 'display_name': 'Physical Sciences'}}, {'id': 'https://openalex.org/T10230', 'display_name': 'Marine and fisheries research', 'count': 321, 'subfield': {'id': 'https://openalex.org/subfields/2306', 'display_name': 'Global and Planetary Change'}, 'field': {'id': 'https://openalex.org/fields/23', 'display_name': 'Environmental Science'}, 'domain': {'id': 'https://openalex.org/domains/3', 'display_name': 'Physical Sciences'}}, {'id': 'https://openalex.org/T10089', 'display_name': 'Avian ecology and behavior', 'count': 319, 'subfield': {'id': 'https://openalex.org/subfields/2303', 'display_name': 'Ecology'}, 'field': {'id': 'https://openalex.org/fields/23', 'display_name': 'Environmental Science'}, 'domain': {'id': 'https://openalex.org/domains/3', 'display_name': 'Physical Sciences'}}, {'id': 'https://openalex.org/T10423', 'display_name': 'Neurobiology and Insect Physiology Research', 'count': 317, 'subfield': {'id': 'https://openalex.org/subfields/2804', 'display_name': 'Cellular and Molecular Neuroscience'}, 'field': {'id': 'https://openalex.org/fields/28', 'display_name': 'Neuroscience'}, 'domain': {'id': 'https://openalex.org/domains/1', 'display_name': 'Life Sciences'}}, {'id': 'https://openalex.org/T10815', 'display_name': 'Parasite Biology and Host Interactions', 'count': 312, 'subfield': {'id': 'https://openalex.org/subfields/2303', 'display_name': 'Ecology'}, 'field': {'id': 'https://openalex.org/fields/23', 'display_name': 'Environmental Science'}, 'domain': {'id': 'https://openalex.org/domains/3', 'display_name': 'Physical Sciences'}}, {'id': 'https://openalex.org/T10001', 'display_name': 'Geological and Geochemical Analysis', 'count': 295, 'subfield': {'id': 'https://openalex.org/subfields/1908', 'display_name': 'Geophysics'}, 'field': {'id': 'https://openalex.org/fields/19', 'display_name': 'Earth and Planetary Sciences'}, 'domain': {'id': 'https://openalex.org/domains/3', 'display_name': 'Physical Sciences'}}, {'id': 'https://openalex.org/T10005', 'display_name': 'Ecology and Vegetation Dynamics Studies', 'count': 283, 'subfield': {'id': 'https://openalex.org/subfields/2309', 'display_name': 'Nature and Landscape Conservation'}, 'field': {'id': 'https://openalex.org/fields/23', 'display_name': 'Environmental Science'}, 'domain': {'id': 'https://openalex.org/domains/3', 'display_name': 'Physical Sciences'}}, {'id': 'https://openalex.org/T10012', 'display_name': 'Genetic diversity and population structure', 'count': 283, 'subfield': {'id': 'https://openalex.org/subfields/1311', 'display_name': 'Genetics'}, 'field': {'id': 'https://openalex.org/fields/13', 'display_name': 'Biochemistry, Genetics and Molecular Biology'}, 'domain': {'id': 'https://openalex.org/domains/1', 'display_name': 'Life Sciences'}}, {'id': 'https://openalex.org/T10602', 'display_name': 'Glycosylation and Glycoproteins Research', 'count': 282, 'subfield': {'id': 'https://openalex.org/subfields/1312', 'display_name': 'Molecular Biology'}, 'field': {'id': 'https://openalex.org/fields/13', 'display_name': 'Biochemistry, Genetics and Molecular Biology'}, 'domain': {'id': 'https://openalex.org/domains/1', 'display_name': 'Life Sciences'}}, {'id': 'https://openalex.org/T11913', 'display_name': 'Animal Ecology and Behavior Studies', 'count': 280, 'subfield': {'id': 'https://openalex.org/subfields/2303', 'display_name': 'Ecology'}, 'field': {'id': 'https://openalex.org/fields/23', 'display_name': 'Environmental Science'}, 'domain': {'id': 'https://openalex.org/domains/3', 'display_name': 'Physical Sciences'}}]   \n",
            "\n",
            "                                                                                                                                                                                                                                                                                                                                                                                                                                                                                                                                                                                                                                                                                                                                                                                                                                                                                                                                                                                                                                                                                                                                                                                                                                                                                                                                                                                                                                                                                                                                                                                                                                                                                                                                                                                                                                                                                                                                                                                                                                                                                                                                                                                                                                                                                                                                                                                                                                                                                                                                                                                                                                                                                                                                                                                                                                                                                                                                                                                                                                                                                                                                                                                                                                                                                                                                                                                                                                                                                                                                                                                                                                                                                                                                                                                                                                                                                                                                                                                                                                                                                                                                                                                                                                                                                                                                                                                                                                                                                                                                                                                                                                                                                                                                                                                                                                                                                                                                                                                                                                                                                                                                                                                                                                                                                                                                                                                                                                                                                                                                                                                                                                                                                                                                                                                                                                                                                                                                                                                                                                                                                                                                                                                                                                                                                                                                                                                                                                                                                                                                                                                                                                                                                                                                                                                                                                                                                                                                                                                                                                                                                                                                                                                                                                                                                                                                                                                                                                                                                                                                                                                                                                                                                                                                                                                                                                                                                                                                                                                                                                                                                                                                                                                                                                                                                                                                                                                                                                                                                                                                                                                                                                                                                                                                                                                                                                                                                                                                                                                                                                                                                                                                                                                                                                                                                                                                                                                                                                                                                                                                                                                                                                                                                                                                                                                                                                                                                                                                                                                                                                                                                                                                                                                                                                                                                                                                                                                                          topic_share  \\\n",
            "0  [{'id': 'https://openalex.org/T12036', 'display_name': 'Cultural and Social History of Argentina', 'value': 0.088621, 'subfield': {'id': 'https://openalex.org/subfields/3316', 'display_name': 'Cultural Studies'}, 'field': {'id': 'https://openalex.org/fields/33', 'display_name': 'Social Sciences'}, 'domain': {'id': 'https://openalex.org/domains/2', 'display_name': 'Social Sciences'}}, {'id': 'https://openalex.org/T14284', 'display_name': 'Political Ecology in Latin America and Beyond', 'value': 0.0502141, 'subfield': {'id': 'https://openalex.org/subfields/3320', 'display_name': 'Political Science and International Relations'}, 'field': {'id': 'https://openalex.org/fields/33', 'display_name': 'Social Sciences'}, 'domain': {'id': 'https://openalex.org/domains/2', 'display_name': 'Social Sciences'}}, {'id': 'https://openalex.org/T13864', 'display_name': 'Indigenous Peoples at National Margins in Latin America', 'value': 0.0476105, 'subfield': {'id': 'https://openalex.org/subfields/3314', 'display_name': 'Anthropology'}, 'field': {'id': 'https://openalex.org/fields/33', 'display_name': 'Social Sciences'}, 'domain': {'id': 'https://openalex.org/domains/2', 'display_name': 'Social Sciences'}}, {'id': 'https://openalex.org/T12609', 'display_name': 'Social Movements and Political Change in Latin America', 'value': 0.041049, 'subfield': {'id': 'https://openalex.org/subfields/3312', 'display_name': 'Sociology and Political Science'}, 'field': {'id': 'https://openalex.org/fields/33', 'display_name': 'Social Sciences'}, 'domain': {'id': 'https://openalex.org/domains/2', 'display_name': 'Social Sciences'}}, {'id': 'https://openalex.org/T12493', 'display_name': 'Memory Studies and Social Trauma Analysis', 'value': 0.0296326, 'subfield': {'id': 'https://openalex.org/subfields/3207', 'display_name': 'Social Psychology'}, 'field': {'id': 'https://openalex.org/fields/32', 'display_name': 'Psychology'}, 'domain': {'id': 'https://openalex.org/domains/2', 'display_name': 'Social Sciences'}}, {'id': 'https://openalex.org/T13687', 'display_name': 'Social Inequities and Global Capitalism', 'value': 0.0241087, 'subfield': {'id': 'https://openalex.org/subfields/3312', 'display_name': 'Sociology and Political Science'}, 'field': {'id': 'https://openalex.org/fields/33', 'display_name': 'Social Sciences'}, 'domain': {'id': 'https://openalex.org/domains/2', 'display_name': 'Social Sciences'}}, {'id': 'https://openalex.org/T13390', 'display_name': 'Nutritional and Ecological Aspects of Mauritia Flexuosa', 'value': 0.0231809, 'subfield': {'id': 'https://openalex.org/subfields/1110', 'display_name': 'Plant Science'}, 'field': {'id': 'https://openalex.org/fields/11', 'display_name': 'Agricultural and Biological Sciences'}, 'domain': {'id': 'https://openalex.org/domains/1', 'display_name': 'Life Sciences'}}, {'id': 'https://openalex.org/T13011', 'display_name': 'Sustainability and Agriculture in Latin America', 'value': 0.0213424, 'subfield': {'id': 'https://openalex.org/subfields/1100', 'display_name': 'General Agricultural and Biological Sciences'}, 'field': {'id': 'https://openalex.org/fields/11', 'display_name': 'Agricultural and Biological Sciences'}, 'domain': {'id': 'https://openalex.org/domains/1', 'display_name': 'Life Sciences'}}, {'id': 'https://openalex.org/T14253', 'display_name': 'Social Movements and Cultural Change', 'value': 0.0204474, 'subfield': {'id': 'https://openalex.org/subfields/3312', 'display_name': 'Sociology and Political Science'}, 'field': {'id': 'https://openalex.org/fields/33', 'display_name': 'Social Sciences'}, 'domain': {'id': 'https://openalex.org/domains/2', 'display_name': 'Social Sciences'}}, {'id': 'https://openalex.org/T10955', 'display_name': 'Evolutionary History and Diversity of Dinosaurs', 'value': 0.0185636, 'subfield': {'id': 'https://openalex.org/subfields/1911', 'display_name': 'Paleontology'}, 'field': {'id': 'https://openalex.org/fields/19', 'display_name': 'Earth and Planetary Sciences'}, 'domain': {'id': 'https://openalex.org/domains/3', 'display_name': 'Physical Sciences'}}, {'id': 'https://openalex.org/T11354', 'display_name': 'Evolutionary Dynamics of Mammals and Their Ancestors', 'value': 0.0173975, 'subfield': {'id': 'https://openalex.org/subfields/1911', 'display_name': 'Paleontology'}, 'field': {'id': 'https://openalex.org/fields/19', 'display_name': 'Earth and Planetary Sciences'}, 'domain': {'id': 'https://openalex.org/domains/3', 'display_name': 'Physical Sciences'}}, {'id': 'https://openalex.org/T14439', 'display_name': 'Gender and Social Inequality Studies', 'value': 0.0143563, 'subfield': {'id': 'https://openalex.org/subfields/3318', 'display_name': 'Gender Studies'}, 'field': {'id': 'https://openalex.org/fields/33', 'display_name': 'Social Sciences'}, 'domain': {'id': 'https://openalex.org/domains/2', 'display_name': 'Social Sciences'}}, {'id': 'https://openalex.org/T13503', 'display_name': 'Intersectionality and Social Inequality', 'value': 0.0143468, 'subfield': {'id': 'https://openalex.org/subfields/3312', 'display_name': 'Sociology and Political Science'}, 'field': {'id': 'https://openalex.org/fields/33', 'display_name': 'Social Sciences'}, 'domain': {'id': 'https://openalex.org/domains/2', 'display_name': 'Social Sciences'}}, {'id': 'https://openalex.org/T13302', 'display_name': 'Historical Ecology of Amazonian Landscapes and Cultures', 'value': 0.0137835, 'subfield': {'id': 'https://openalex.org/subfields/1202', 'display_name': 'History'}, 'field': {'id': 'https://openalex.org/fields/12', 'display_name': 'Arts and Humanities'}, 'domain': {'id': 'https://openalex.org/domains/2', 'display_name': 'Social Sciences'}}, {'id': 'https://openalex.org/T13266', 'display_name': 'South American Cultural Studies', 'value': 0.0137139, 'subfield': {'id': 'https://openalex.org/subfields/3316', 'display_name': 'Cultural Studies'}, 'field': {'id': 'https://openalex.org/fields/33', 'display_name': 'Social Sciences'}, 'domain': {'id': 'https://openalex.org/domains/2', 'display_name': 'Social Sciences'}}, {'id': 'https://openalex.org/T10890', 'display_name': 'Epidemiology and Treatment of Chagas Disease', 'value': 0.013424, 'subfield': {'id': 'https://openalex.org/subfields/2713', 'display_name': 'Epidemiology'}, 'field': {'id': 'https://openalex.org/fields/27', 'display_name': 'Medicine'}, 'domain': {'id': 'https://openalex.org/domains/4', 'display_name': 'Health Sciences'}}, {'id': 'https://openalex.org/T12861', 'display_name': 'Challenges of Intercultural Education in Latin America', 'value': 0.0129011, 'subfield': {'id': 'https://openalex.org/subfields/3316', 'display_name': 'Cultural Studies'}, 'field': {'id': 'https://openalex.org/fields/33', 'display_name': 'Social Sciences'}, 'domain': {'id': 'https://openalex.org/domains/2', 'display_name': 'Social Sciences'}}, {'id': 'https://openalex.org/T10421', 'display_name': 'Human Evolution and Behavioral Modernity', 'value': 0.0125072, 'subfield': {'id': 'https://openalex.org/subfields/3314', 'display_name': 'Anthropology'}, 'field': {'id': 'https://openalex.org/fields/33', 'display_name': 'Social Sciences'}, 'domain': {'id': 'https://openalex.org/domains/2', 'display_name': 'Social Sciences'}}, {'id': 'https://openalex.org/T12273', 'display_name': 'Urban Segregation in Latin American Cities', 'value': 0.0121826, 'subfield': {'id': 'https://openalex.org/subfields/3322', 'display_name': 'Urban Studies'}, 'field': {'id': 'https://openalex.org/fields/33', 'display_name': 'Social Sciences'}, 'domain': {'id': 'https://openalex.org/domains/2', 'display_name': 'Social Sciences'}}, {'id': 'https://openalex.org/T12498', 'display_name': 'Coloniality of Power and Knowledge in Latin America', 'value': 0.012168, 'subfield': {'id': 'https://openalex.org/subfields/3314', 'display_name': 'Anthropology'}, 'field': {'id': 'https://openalex.org/fields/33', 'display_name': 'Social Sciences'}, 'domain': {'id': 'https://openalex.org/domains/2', 'display_name': 'Social Sciences'}}, {'id': 'https://openalex.org/T13078', 'display_name': 'Chilean History and Politics under Pinochet's Regime', 'value': 0.0118281, 'subfield': {'id': 'https://openalex.org/subfields/3312', 'display_name': 'Sociology and Political Science'}, 'field': {'id': 'https://openalex.org/fields/33', 'display_name': 'Social Sciences'}, 'domain': {'id': 'https://openalex.org/domains/2', 'display_name': 'Social Sciences'}}, {'id': 'https://openalex.org/T13043', 'display_name': 'Emergence of Youth Cultures and Strategies of Disenchantment', 'value': 0.0105498, 'subfield': {'id': 'https://openalex.org/subfields/3312', 'display_name': 'Sociology and Political Science'}, 'field': {'id': 'https://openalex.org/fields/33', 'display_name': 'Social Sciences'}, 'domain': {'id': 'https://openalex.org/domains/2', 'display_name': 'Social Sciences'}}, {'id': 'https://openalex.org/T10332', 'display_name': 'Global Amphibian Declines and Extinctions', 'value': 0.0102336, 'subfield': {'id': 'https://openalex.org/subfields/2306', 'display_name': 'Global and Planetary Change'}, 'field': {'id': 'https://openalex.org/fields/23', 'display_name': 'Environmental Science'}, 'domain': {'id': 'https://openalex.org/domains/3', 'display_name': 'Physical Sciences'}}, {'id': 'https://openalex.org/T11387', 'display_name': 'Conservation of Sharks and Rays', 'value': 0.010217, 'subfield': {'id': 'https://openalex.org/subfields/2309', 'display_name': 'Nature and Landscape Conservation'}, 'field': {'id': 'https://openalex.org/fields/23', 'display_name': 'Environmental Science'}, 'domain': {'id': 'https://openalex.org/domains/3', 'display_name': 'Physical Sciences'}}, {'id': 'https://openalex.org/T12275', 'display_name': 'Gender Studies and Social Inequality', 'value': 0.0099739, 'subfield': {'id': 'https://openalex.org/subfields/3318', 'display_name': 'Gender Studies'}, 'field': {'id': 'https://openalex.org/fields/33', 'display_name': 'Social Sciences'}, 'domain': {'id': 'https://openalex.org/domains/2', 'display_name': 'Social Sciences'}}]   \n",
            "1                                                                                                                                                                                                                                                                                    [{'id': 'https://openalex.org/T12036', 'display_name': 'Argentine historical studies', 'value': 0.0614371, 'subfield': {'id': 'https://openalex.org/subfields/3316', 'display_name': 'Cultural Studies'}, 'field': {'id': 'https://openalex.org/fields/33', 'display_name': 'Social Sciences'}, 'domain': {'id': 'https://openalex.org/domains/2', 'display_name': 'Social Sciences'}}, {'id': 'https://openalex.org/T12609', 'display_name': 'Latin American socio-political dynamics', 'value': 0.0401853, 'subfield': {'id': 'https://openalex.org/subfields/3312', 'display_name': 'Sociology and Political Science'}, 'field': {'id': 'https://openalex.org/fields/33', 'display_name': 'Social Sciences'}, 'domain': {'id': 'https://openalex.org/domains/2', 'display_name': 'Social Sciences'}}, {'id': 'https://openalex.org/T14284', 'display_name': 'Social Sciences and Humanities', 'value': 0.0342546, 'subfield': {'id': 'https://openalex.org/subfields/3320', 'display_name': 'Political Science and International Relations'}, 'field': {'id': 'https://openalex.org/fields/33', 'display_name': 'Social Sciences'}, 'domain': {'id': 'https://openalex.org/domains/2', 'display_name': 'Social Sciences'}}, {'id': 'https://openalex.org/T12493', 'display_name': 'Memory, violence, and history', 'value': 0.0321946, 'subfield': {'id': 'https://openalex.org/subfields/3207', 'display_name': 'Social Psychology'}, 'field': {'id': 'https://openalex.org/fields/32', 'display_name': 'Psychology'}, 'domain': {'id': 'https://openalex.org/domains/2', 'display_name': 'Social Sciences'}}, {'id': 'https://openalex.org/T13864', 'display_name': 'Indigenous Cultures and History', 'value': 0.0320744, 'subfield': {'id': 'https://openalex.org/subfields/3314', 'display_name': 'Anthropology'}, 'field': {'id': 'https://openalex.org/fields/33', 'display_name': 'Social Sciences'}, 'domain': {'id': 'https://openalex.org/domains/2', 'display_name': 'Social Sciences'}}, {'id': 'https://openalex.org/T14253', 'display_name': 'Latin American social science', 'value': 0.0274236, 'subfield': {'id': 'https://openalex.org/subfields/3312', 'display_name': 'Sociology and Political Science'}, 'field': {'id': 'https://openalex.org/fields/33', 'display_name': 'Social Sciences'}, 'domain': {'id': 'https://openalex.org/domains/2', 'display_name': 'Social Sciences'}}, {'id': 'https://openalex.org/T13390', 'display_name': 'Cultural and Social Dynamics', 'value': 0.0251127, 'subfield': {'id': 'https://openalex.org/subfields/1110', 'display_name': 'Plant Science'}, 'field': {'id': 'https://openalex.org/fields/11', 'display_name': 'Agricultural and Biological Sciences'}, 'domain': {'id': 'https://openalex.org/domains/1', 'display_name': 'Life Sciences'}}, {'id': 'https://openalex.org/T13503', 'display_name': 'Gender, Health, and Social Inequality', 'value': 0.0154711, 'subfield': {'id': 'https://openalex.org/subfields/3312', 'display_name': 'Sociology and Political Science'}, 'field': {'id': 'https://openalex.org/fields/33', 'display_name': 'Social Sciences'}, 'domain': {'id': 'https://openalex.org/domains/2', 'display_name': 'Social Sciences'}}, {'id': 'https://openalex.org/T14439', 'display_name': 'Feminism, Gender, and Social Issues', 'value': 0.0153621, 'subfield': {'id': 'https://openalex.org/subfields/3318', 'display_name': 'Gender Studies'}, 'field': {'id': 'https://openalex.org/fields/33', 'display_name': 'Social Sciences'}, 'domain': {'id': 'https://openalex.org/domains/2', 'display_name': 'Social Sciences'}}, {'id': 'https://openalex.org/T13687', 'display_name': 'Extractivism and Socioeconomic Issues', 'value': 0.0146191, 'subfield': {'id': 'https://openalex.org/subfields/3312', 'display_name': 'Sociology and Political Science'}, 'field': {'id': 'https://openalex.org/fields/33', 'display_name': 'Social Sciences'}, 'domain': {'id': 'https://openalex.org/domains/2', 'display_name': 'Social Sciences'}}, {'id': 'https://openalex.org/T13671', 'display_name': 'Philosophy and Phenomenology Studies', 'value': 0.0135027, 'subfield': {'id': 'https://openalex.org/subfields/3300', 'display_name': 'General Social Sciences'}, 'field': {'id': 'https://openalex.org/fields/33', 'display_name': 'Social Sciences'}, 'domain': {'id': 'https://openalex.org/domains/2', 'display_name': 'Social Sciences'}}, {'id': 'https://openalex.org/T12726', 'display_name': 'Philosophical and Cultural Analysis', 'value': 0.0133174, 'subfield': {'id': 'https://openalex.org/subfields/1211', 'display_name': 'Philosophy'}, 'field': {'id': 'https://openalex.org/fields/12', 'display_name': 'Arts and Humanities'}, 'domain': {'id': 'https://openalex.org/domains/2', 'display_name': 'Social Sciences'}}, {'id': 'https://openalex.org/T13078', 'display_name': 'Political and Social Dynamics in Chile and Latin America', 'value': 0.0132785, 'subfield': {'id': 'https://openalex.org/subfields/3312', 'display_name': 'Sociology and Political Science'}, 'field': {'id': 'https://openalex.org/fields/33', 'display_name': 'Social Sciences'}, 'domain': {'id': 'https://openalex.org/domains/2', 'display_name': 'Social Sciences'}}, {'id': 'https://openalex.org/T13043', 'display_name': 'Youth Culture and Social Dynamics', 'value': 0.0132559, 'subfield': {'id': 'https://openalex.org/subfields/3312', 'display_name': 'Sociology and Political Science'}, 'field': {'id': 'https://openalex.org/fields/33', 'display_name': 'Social Sciences'}, 'domain': {'id': 'https://openalex.org/domains/2', 'display_name': 'Social Sciences'}}, {'id': 'https://openalex.org/T13266', 'display_name': 'Indigenous Studies in Latin America', 'value': 0.0131139, 'subfield': {'id': 'https://openalex.org/subfields/3316', 'display_name': 'Cultural Studies'}, 'field': {'id': 'https://openalex.org/fields/33', 'display_name': 'Social Sciences'}, 'domain': {'id': 'https://openalex.org/domains/2', 'display_name': 'Social Sciences'}}, {'id': 'https://openalex.org/T12498', 'display_name': 'Latin American Cultural Politics', 'value': 0.0124176, 'subfield': {'id': 'https://openalex.org/subfields/3314', 'display_name': 'Anthropology'}, 'field': {'id': 'https://openalex.org/fields/33', 'display_name': 'Social Sciences'}, 'domain': {'id': 'https://openalex.org/domains/2', 'display_name': 'Social Sciences'}}, {'id': 'https://openalex.org/T13814', 'display_name': 'Cultural and political discourse analysis', 'value': 0.0122983, 'subfield': {'id': 'https://openalex.org/subfields/3310', 'display_name': 'Linguistics and Language'}, 'field': {'id': 'https://openalex.org/fields/33', 'display_name': 'Social Sciences'}, 'domain': {'id': 'https://openalex.org/domains/2', 'display_name': 'Social Sciences'}}, {'id': 'https://openalex.org/T14422', 'display_name': 'Sociology, Governance, and Technology', 'value': 0.0122249, 'subfield': {'id': 'https://openalex.org/subfields/3312', 'display_name': 'Sociology and Political Science'}, 'field': {'id': 'https://openalex.org/fields/33', 'display_name': 'Social Sciences'}, 'domain': {'id': 'https://openalex.org/domains/2', 'display_name': 'Social Sciences'}}, {'id': 'https://openalex.org/T13635', 'display_name': 'Philosophy and Education Pedagogy', 'value': 0.011692, 'subfield': {'id': 'https://openalex.org/subfields/3306', 'display_name': 'Health'}, 'field': {'id': 'https://openalex.org/fields/33', 'display_name': 'Social Sciences'}, 'domain': {'id': 'https://openalex.org/domains/2', 'display_name': 'Social Sciences'}}, {'id': 'https://openalex.org/T13427', 'display_name': 'Latin American Literature Analysis', 'value': 0.0114752, 'subfield': {'id': 'https://openalex.org/subfields/1208', 'display_name': 'Literature and Literary Theory'}, 'field': {'id': 'https://openalex.org/fields/12', 'display_name': 'Arts and Humanities'}, 'domain': {'id': 'https://openalex.org/domains/2', 'display_name': 'Social Sciences'}}, {'id': 'https://openalex.org/T13011', 'display_name': 'Latin American rural development', 'value': 0.0114249, 'subfield': {'id': 'https://openalex.org/subfields/1100', 'display_name': 'General Agricultural and Biological Sciences'}, 'field': {'id': 'https://openalex.org/fields/11', 'display_name': 'Agricultural and Biological Sciences'}, 'domain': {'id': 'https://openalex.org/domains/1', 'display_name': 'Life Sciences'}}, {'id': 'https://openalex.org/T12275', 'display_name': 'Gender and Feminist Studies', 'value': 0.0111857, 'subfield': {'id': 'https://openalex.org/subfields/3318', 'display_name': 'Gender Studies'}, 'field': {'id': 'https://openalex.org/fields/33', 'display_name': 'Social Sciences'}, 'domain': {'id': 'https://openalex.org/domains/2', 'display_name': 'Social Sciences'}}, {'id': 'https://openalex.org/T13134', 'display_name': 'Latin American Literature Studies', 'value': 0.0107622, 'subfield': {'id': 'https://openalex.org/subfields/3316', 'display_name': 'Cultural Studies'}, 'field': {'id': 'https://openalex.org/fields/33', 'display_name': 'Social Sciences'}, 'domain': {'id': 'https://openalex.org/domains/2', 'display_name': 'Social Sciences'}}, {'id': 'https://openalex.org/T12273', 'display_name': 'Latin American Urban Studies', 'value': 0.009854, 'subfield': {'id': 'https://openalex.org/subfields/3322', 'display_name': 'Urban Studies'}, 'field': {'id': 'https://openalex.org/fields/33', 'display_name': 'Social Sciences'}, 'domain': {'id': 'https://openalex.org/domains/2', 'display_name': 'Social Sciences'}}, {'id': 'https://openalex.org/T14198', 'display_name': 'Philosophical Thought and Analysis', 'value': 0.0094318, 'subfield': {'id': 'https://openalex.org/subfields/3300', 'display_name': 'General Social Sciences'}, 'field': {'id': 'https://openalex.org/fields/33', 'display_name': 'Social Sciences'}, 'domain': {'id': 'https://openalex.org/domains/2', 'display_name': 'Social Sciences'}}]   \n",
            "2                                                                                                                                                                                                                                                                                      [{'id': 'https://openalex.org/T12036', 'display_name': 'Argentine historical studies', 'value': 0.0273888, 'subfield': {'id': 'https://openalex.org/subfields/3316', 'display_name': 'Cultural Studies'}, 'field': {'id': 'https://openalex.org/fields/33', 'display_name': 'Social Sciences'}, 'domain': {'id': 'https://openalex.org/domains/2', 'display_name': 'Social Sciences'}}, {'id': 'https://openalex.org/T14284', 'display_name': 'Social Sciences and Humanities', 'value': 0.0221876, 'subfield': {'id': 'https://openalex.org/subfields/3320', 'display_name': 'Political Science and International Relations'}, 'field': {'id': 'https://openalex.org/fields/33', 'display_name': 'Social Sciences'}, 'domain': {'id': 'https://openalex.org/domains/2', 'display_name': 'Social Sciences'}}, {'id': 'https://openalex.org/T12493', 'display_name': 'Memory, violence, and history', 'value': 0.0171003, 'subfield': {'id': 'https://openalex.org/subfields/3207', 'display_name': 'Social Psychology'}, 'field': {'id': 'https://openalex.org/fields/32', 'display_name': 'Psychology'}, 'domain': {'id': 'https://openalex.org/domains/2', 'display_name': 'Social Sciences'}}, {'id': 'https://openalex.org/T12609', 'display_name': 'Latin American socio-political dynamics', 'value': 0.0153423, 'subfield': {'id': 'https://openalex.org/subfields/3312', 'display_name': 'Sociology and Political Science'}, 'field': {'id': 'https://openalex.org/fields/33', 'display_name': 'Social Sciences'}, 'domain': {'id': 'https://openalex.org/domains/2', 'display_name': 'Social Sciences'}}, {'id': 'https://openalex.org/T13390', 'display_name': 'Cultural and Social Dynamics', 'value': 0.0120734, 'subfield': {'id': 'https://openalex.org/subfields/1110', 'display_name': 'Plant Science'}, 'field': {'id': 'https://openalex.org/fields/11', 'display_name': 'Agricultural and Biological Sciences'}, 'domain': {'id': 'https://openalex.org/domains/1', 'display_name': 'Life Sciences'}}, {'id': 'https://openalex.org/T13043', 'display_name': 'Youth Culture and Social Dynamics', 'value': 0.0118833, 'subfield': {'id': 'https://openalex.org/subfields/3312', 'display_name': 'Sociology and Political Science'}, 'field': {'id': 'https://openalex.org/fields/33', 'display_name': 'Social Sciences'}, 'domain': {'id': 'https://openalex.org/domains/2', 'display_name': 'Social Sciences'}}, {'id': 'https://openalex.org/T14253', 'display_name': 'Latin American social science', 'value': 0.0113062, 'subfield': {'id': 'https://openalex.org/subfields/3312', 'display_name': 'Sociology and Political Science'}, 'field': {'id': 'https://openalex.org/fields/33', 'display_name': 'Social Sciences'}, 'domain': {'id': 'https://openalex.org/domains/2', 'display_name': 'Social Sciences'}}, {'id': 'https://openalex.org/T13864', 'display_name': 'Indigenous Cultures and History', 'value': 0.0112661, 'subfield': {'id': 'https://openalex.org/subfields/3314', 'display_name': 'Anthropology'}, 'field': {'id': 'https://openalex.org/fields/33', 'display_name': 'Social Sciences'}, 'domain': {'id': 'https://openalex.org/domains/2', 'display_name': 'Social Sciences'}}, {'id': 'https://openalex.org/T12275', 'display_name': 'Gender and Feminist Studies', 'value': 0.0071961, 'subfield': {'id': 'https://openalex.org/subfields/3318', 'display_name': 'Gender Studies'}, 'field': {'id': 'https://openalex.org/fields/33', 'display_name': 'Social Sciences'}, 'domain': {'id': 'https://openalex.org/domains/2', 'display_name': 'Social Sciences'}}, {'id': 'https://openalex.org/T14439', 'display_name': 'Feminism, Gender, and Social Issues', 'value': 0.0071324, 'subfield': {'id': 'https://openalex.org/subfields/3318', 'display_name': 'Gender Studies'}, 'field': {'id': 'https://openalex.org/fields/33', 'display_name': 'Social Sciences'}, 'domain': {'id': 'https://openalex.org/domains/2', 'display_name': 'Social Sciences'}}, {'id': 'https://openalex.org/T13302', 'display_name': 'Amazonian Archaeology and Ethnohistory', 'value': 0.0068918, 'subfield': {'id': 'https://openalex.org/subfields/1202', 'display_name': 'History'}, 'field': {'id': 'https://openalex.org/fields/12', 'display_name': 'Arts and Humanities'}, 'domain': {'id': 'https://openalex.org/domains/2', 'display_name': 'Social Sciences'}}, {'id': 'https://openalex.org/T11354', 'display_name': 'Evolution and Paleontology Studies', 'value': 0.0068447, 'subfield': {'id': 'https://openalex.org/subfields/1911', 'display_name': 'Paleontology'}, 'field': {'id': 'https://openalex.org/fields/19', 'display_name': 'Earth and Planetary Sciences'}, 'domain': {'id': 'https://openalex.org/domains/3', 'display_name': 'Physical Sciences'}}, {'id': 'https://openalex.org/T13503', 'display_name': 'Gender, Health, and Social Inequality', 'value': 0.0066112, 'subfield': {'id': 'https://openalex.org/subfields/3312', 'display_name': 'Sociology and Political Science'}, 'field': {'id': 'https://openalex.org/fields/33', 'display_name': 'Social Sciences'}, 'domain': {'id': 'https://openalex.org/domains/2', 'display_name': 'Social Sciences'}}, {'id': 'https://openalex.org/T13011', 'display_name': 'Latin American rural development', 'value': 0.0063075, 'subfield': {'id': 'https://openalex.org/subfields/1100', 'display_name': 'General Agricultural and Biological Sciences'}, 'field': {'id': 'https://openalex.org/fields/11', 'display_name': 'Agricultural and Biological Sciences'}, 'domain': {'id': 'https://openalex.org/domains/1', 'display_name': 'Life Sciences'}}, {'id': 'https://openalex.org/T14033', 'display_name': 'Education in Rural Contexts', 'value': 0.0062155, 'subfield': {'id': 'https://openalex.org/subfields/3304', 'display_name': 'Education'}, 'field': {'id': 'https://openalex.org/fields/33', 'display_name': 'Social Sciences'}, 'domain': {'id': 'https://openalex.org/domains/2', 'display_name': 'Social Sciences'}}, {'id': 'https://openalex.org/T13868', 'display_name': 'Afro-Latin American Studies', 'value': 0.0060942, 'subfield': {'id': 'https://openalex.org/subfields/3316', 'display_name': 'Cultural Studies'}, 'field': {'id': 'https://openalex.org/fields/33', 'display_name': 'Social Sciences'}, 'domain': {'id': 'https://openalex.org/domains/2', 'display_name': 'Social Sciences'}}, {'id': 'https://openalex.org/T13427', 'display_name': 'Latin American Literature Analysis', 'value': 0.0058204, 'subfield': {'id': 'https://openalex.org/subfields/1208', 'display_name': 'Literature and Literary Theory'}, 'field': {'id': 'https://openalex.org/fields/12', 'display_name': 'Arts and Humanities'}, 'domain': {'id': 'https://openalex.org/domains/2', 'display_name': 'Social Sciences'}}, {'id': 'https://openalex.org/T10955', 'display_name': 'Paleontology and Evolutionary Biology', 'value': 0.0057694, 'subfield': {'id': 'https://openalex.org/subfields/1911', 'display_name': 'Paleontology'}, 'field': {'id': 'https://openalex.org/fields/19', 'display_name': 'Earth and Planetary Sciences'}, 'domain': {'id': 'https://openalex.org/domains/3', 'display_name': 'Physical Sciences'}}, {'id': 'https://openalex.org/T13268', 'display_name': 'Photographic and Visual Arts', 'value': 0.0056677, 'subfield': {'id': 'https://openalex.org/subfields/1209', 'display_name': 'Museology'}, 'field': {'id': 'https://openalex.org/fields/12', 'display_name': 'Arts and Humanities'}, 'domain': {'id': 'https://openalex.org/domains/2', 'display_name': 'Social Sciences'}}, {'id': 'https://openalex.org/T13814', 'display_name': 'Cultural and political discourse analysis', 'value': 0.0055804, 'subfield': {'id': 'https://openalex.org/subfields/3310', 'display_name': 'Linguistics and Language'}, 'field': {'id': 'https://openalex.org/fields/33', 'display_name': 'Social Sciences'}, 'domain': {'id': 'https://openalex.org/domains/2', 'display_name': 'Social Sciences'}}, {'id': 'https://openalex.org/T12261', 'display_name': 'Statistical Mechanics and Entropy', 'value': 0.0052655, 'subfield': {'id': 'https://openalex.org/subfields/3109', 'display_name': 'Statistical and Nonlinear Physics'}, 'field': {'id': 'https://openalex.org/fields/31', 'display_name': 'Physics and Astronomy'}, 'domain': {'id': 'https://openalex.org/domains/3', 'display_name': 'Physical Sciences'}}, {'id': 'https://openalex.org/T13687', 'display_name': 'Extractivism and Socioeconomic Issues', 'value': 0.0051295, 'subfield': {'id': 'https://openalex.org/subfields/3312', 'display_name': 'Sociology and Political Science'}, 'field': {'id': 'https://openalex.org/fields/33', 'display_name': 'Social Sciences'}, 'domain': {'id': 'https://openalex.org/domains/2', 'display_name': 'Social Sciences'}}, {'id': 'https://openalex.org/T13078', 'display_name': 'Political and Social Dynamics in Chile and Latin America', 'value': 0.0048866, 'subfield': {'id': 'https://openalex.org/subfields/3312', 'display_name': 'Sociology and Political Science'}, 'field': {'id': 'https://openalex.org/fields/33', 'display_name': 'Social Sciences'}, 'domain': {'id': 'https://openalex.org/domains/2', 'display_name': 'Social Sciences'}}, {'id': 'https://openalex.org/T12498', 'display_name': 'Latin American Cultural Politics', 'value': 0.0047216, 'subfield': {'id': 'https://openalex.org/subfields/3314', 'display_name': 'Anthropology'}, 'field': {'id': 'https://openalex.org/fields/33', 'display_name': 'Social Sciences'}, 'domain': {'id': 'https://openalex.org/domains/2', 'display_name': 'Social Sciences'}}, {'id': 'https://openalex.org/T12273', 'display_name': 'Latin American Urban Studies', 'value': 0.0044415, 'subfield': {'id': 'https://openalex.org/subfields/3322', 'display_name': 'Urban Studies'}, 'field': {'id': 'https://openalex.org/fields/33', 'display_name': 'Social Sciences'}, 'domain': {'id': 'https://openalex.org/domains/2', 'display_name': 'Social Sciences'}}]   \n",
            "3                                                                                                                                                                                                                                                                                                                                                                  [{'id': 'https://openalex.org/T12036', 'display_name': 'Argentine historical studies', 'value': 0.0159142, 'subfield': {'id': 'https://openalex.org/subfields/3316', 'display_name': 'Cultural Studies'}, 'field': {'id': 'https://openalex.org/fields/33', 'display_name': 'Social Sciences'}, 'domain': {'id': 'https://openalex.org/domains/2', 'display_name': 'Social Sciences'}}, {'id': 'https://openalex.org/T14284', 'display_name': 'Social Sciences and Humanities', 'value': 0.0130401, 'subfield': {'id': 'https://openalex.org/subfields/3320', 'display_name': 'Political Science and International Relations'}, 'field': {'id': 'https://openalex.org/fields/33', 'display_name': 'Social Sciences'}, 'domain': {'id': 'https://openalex.org/domains/2', 'display_name': 'Social Sciences'}}, {'id': 'https://openalex.org/T14253', 'display_name': 'Latin American social science', 'value': 0.0110657, 'subfield': {'id': 'https://openalex.org/subfields/3312', 'display_name': 'Sociology and Political Science'}, 'field': {'id': 'https://openalex.org/fields/33', 'display_name': 'Social Sciences'}, 'domain': {'id': 'https://openalex.org/domains/2', 'display_name': 'Social Sciences'}}, {'id': 'https://openalex.org/T12609', 'display_name': 'Latin American socio-political dynamics', 'value': 0.0095634, 'subfield': {'id': 'https://openalex.org/subfields/3312', 'display_name': 'Sociology and Political Science'}, 'field': {'id': 'https://openalex.org/fields/33', 'display_name': 'Social Sciences'}, 'domain': {'id': 'https://openalex.org/domains/2', 'display_name': 'Social Sciences'}}, {'id': 'https://openalex.org/T13390', 'display_name': 'Cultural and Social Dynamics', 'value': 0.0088538, 'subfield': {'id': 'https://openalex.org/subfields/1110', 'display_name': 'Plant Science'}, 'field': {'id': 'https://openalex.org/fields/11', 'display_name': 'Agricultural and Biological Sciences'}, 'domain': {'id': 'https://openalex.org/domains/1', 'display_name': 'Life Sciences'}}, {'id': 'https://openalex.org/T13864', 'display_name': 'Indigenous Cultures and History', 'value': 0.0078382, 'subfield': {'id': 'https://openalex.org/subfields/3314', 'display_name': 'Anthropology'}, 'field': {'id': 'https://openalex.org/fields/33', 'display_name': 'Social Sciences'}, 'domain': {'id': 'https://openalex.org/domains/2', 'display_name': 'Social Sciences'}}, {'id': 'https://openalex.org/T12493', 'display_name': 'Memory, violence, and history', 'value': 0.0071301, 'subfield': {'id': 'https://openalex.org/subfields/3207', 'display_name': 'Social Psychology'}, 'field': {'id': 'https://openalex.org/fields/32', 'display_name': 'Psychology'}, 'domain': {'id': 'https://openalex.org/domains/2', 'display_name': 'Social Sciences'}}, {'id': 'https://openalex.org/T13503', 'display_name': 'Gender, Health, and Social Inequality', 'value': 0.0062964, 'subfield': {'id': 'https://openalex.org/subfields/3312', 'display_name': 'Sociology and Political Science'}, 'field': {'id': 'https://openalex.org/fields/33', 'display_name': 'Social Sciences'}, 'domain': {'id': 'https://openalex.org/domains/2', 'display_name': 'Social Sciences'}}, {'id': 'https://openalex.org/T14439', 'display_name': 'Feminism, Gender, and Social Issues', 'value': 0.005395, 'subfield': {'id': 'https://openalex.org/subfields/3318', 'display_name': 'Gender Studies'}, 'field': {'id': 'https://openalex.org/fields/33', 'display_name': 'Social Sciences'}, 'domain': {'id': 'https://openalex.org/domains/2', 'display_name': 'Social Sciences'}}, {'id': 'https://openalex.org/T13427', 'display_name': 'Latin American Literature Analysis', 'value': 0.0047722, 'subfield': {'id': 'https://openalex.org/subfields/1208', 'display_name': 'Literature and Literary Theory'}, 'field': {'id': 'https://openalex.org/fields/12', 'display_name': 'Arts and Humanities'}, 'domain': {'id': 'https://openalex.org/domains/2', 'display_name': 'Social Sciences'}}, {'id': 'https://openalex.org/T13011', 'display_name': 'Latin American rural development', 'value': 0.0045224, 'subfield': {'id': 'https://openalex.org/subfields/1100', 'display_name': 'General Agricultural and Biological Sciences'}, 'field': {'id': 'https://openalex.org/fields/11', 'display_name': 'Agricultural and Biological Sciences'}, 'domain': {'id': 'https://openalex.org/domains/1', 'display_name': 'Life Sciences'}}, {'id': 'https://openalex.org/T13043', 'display_name': 'Youth Culture and Social Dynamics', 'value': 0.0042356, 'subfield': {'id': 'https://openalex.org/subfields/3312', 'display_name': 'Sociology and Political Science'}, 'field': {'id': 'https://openalex.org/fields/33', 'display_name': 'Social Sciences'}, 'domain': {'id': 'https://openalex.org/domains/2', 'display_name': 'Social Sciences'}}, {'id': 'https://openalex.org/T12498', 'display_name': 'Latin American Cultural Politics', 'value': 0.0040352, 'subfield': {'id': 'https://openalex.org/subfields/3314', 'display_name': 'Anthropology'}, 'field': {'id': 'https://openalex.org/fields/33', 'display_name': 'Social Sciences'}, 'domain': {'id': 'https://openalex.org/domains/2', 'display_name': 'Social Sciences'}}, {'id': 'https://openalex.org/T10890', 'display_name': 'Trypanosoma species research and implications', 'value': 0.0039272, 'subfield': {'id': 'https://openalex.org/subfields/2713', 'display_name': 'Epidemiology'}, 'field': {'id': 'https://openalex.org/fields/27', 'display_name': 'Medicine'}, 'domain': {'id': 'https://openalex.org/domains/4', 'display_name': 'Health Sciences'}}, {'id': 'https://openalex.org/T12275', 'display_name': 'Gender and Feminist Studies', 'value': 0.0038777, 'subfield': {'id': 'https://openalex.org/subfields/3318', 'display_name': 'Gender Studies'}, 'field': {'id': 'https://openalex.org/fields/33', 'display_name': 'Social Sciences'}, 'domain': {'id': 'https://openalex.org/domains/2', 'display_name': 'Social Sciences'}}, {'id': 'https://openalex.org/T13134', 'display_name': 'Latin American Literature Studies', 'value': 0.0034054, 'subfield': {'id': 'https://openalex.org/subfields/3316', 'display_name': 'Cultural Studies'}, 'field': {'id': 'https://openalex.org/fields/33', 'display_name': 'Social Sciences'}, 'domain': {'id': 'https://openalex.org/domains/2', 'display_name': 'Social Sciences'}}, {'id': 'https://openalex.org/T14033', 'display_name': 'Education in Rural Contexts', 'value': 0.0033991, 'subfield': {'id': 'https://openalex.org/subfields/3304', 'display_name': 'Education'}, 'field': {'id': 'https://openalex.org/fields/33', 'display_name': 'Social Sciences'}, 'domain': {'id': 'https://openalex.org/domains/2', 'display_name': 'Social Sciences'}}, {'id': 'https://openalex.org/T12273', 'display_name': 'Latin American Urban Studies', 'value': 0.0032727, 'subfield': {'id': 'https://openalex.org/subfields/3322', 'display_name': 'Urban Studies'}, 'field': {'id': 'https://openalex.org/fields/33', 'display_name': 'Social Sciences'}, 'domain': {'id': 'https://openalex.org/domains/2', 'display_name': 'Social Sciences'}}, {'id': 'https://openalex.org/T13814', 'display_name': 'Cultural and political discourse analysis', 'value': 0.0032117, 'subfield': {'id': 'https://openalex.org/subfields/3310', 'display_name': 'Linguistics and Language'}, 'field': {'id': 'https://openalex.org/fields/33', 'display_name': 'Social Sciences'}, 'domain': {'id': 'https://openalex.org/domains/2', 'display_name': 'Social Sciences'}}, {'id': 'https://openalex.org/T13635', 'display_name': 'Philosophy and Education Pedagogy', 'value': 0.0030921, 'subfield': {'id': 'https://openalex.org/subfields/3306', 'display_name': 'Health'}, 'field': {'id': 'https://openalex.org/fields/33', 'display_name': 'Social Sciences'}, 'domain': {'id': 'https://openalex.org/domains/2', 'display_name': 'Social Sciences'}}, {'id': 'https://openalex.org/T13687', 'display_name': 'Extractivism and Socioeconomic Issues', 'value': 0.0030777, 'subfield': {'id': 'https://openalex.org/subfields/3312', 'display_name': 'Sociology and Political Science'}, 'field': {'id': 'https://openalex.org/fields/33', 'display_name': 'Social Sciences'}, 'domain': {'id': 'https://openalex.org/domains/2', 'display_name': 'Social Sciences'}}, {'id': 'https://openalex.org/T13633', 'display_name': 'Public Health and Social Inequalities', 'value': 0.0028864, 'subfield': {'id': 'https://openalex.org/subfields/3306', 'display_name': 'Health'}, 'field': {'id': 'https://openalex.org/fields/33', 'display_name': 'Social Sciences'}, 'domain': {'id': 'https://openalex.org/domains/2', 'display_name': 'Social Sciences'}}, {'id': 'https://openalex.org/T14277', 'display_name': 'Social Skills and Education', 'value': 0.0028599, 'subfield': {'id': 'https://openalex.org/subfields/3304', 'display_name': 'Education'}, 'field': {'id': 'https://openalex.org/fields/33', 'display_name': 'Social Sciences'}, 'domain': {'id': 'https://openalex.org/domains/2', 'display_name': 'Social Sciences'}}, {'id': 'https://openalex.org/T12726', 'display_name': 'Philosophical and Cultural Analysis', 'value': 0.0028537, 'subfield': {'id': 'https://openalex.org/subfields/1211', 'display_name': 'Philosophy'}, 'field': {'id': 'https://openalex.org/fields/12', 'display_name': 'Arts and Humanities'}, 'domain': {'id': 'https://openalex.org/domains/2', 'display_name': 'Social Sciences'}}, {'id': 'https://openalex.org/T14172', 'display_name': 'Cultural and Social Studies in Latin America', 'value': 0.0026432, 'subfield': {'id': 'https://openalex.org/subfields/1208', 'display_name': 'Literature and Literary Theory'}, 'field': {'id': 'https://openalex.org/fields/12', 'display_name': 'Arts and Humanities'}, 'domain': {'id': 'https://openalex.org/domains/2', 'display_name': 'Social Sciences'}}]   \n",
            "4                                                                  [{'id': 'https://openalex.org/T12048', 'display_name': 'Microencapsulation and Drying Processes', 'value': 0.0042046, 'subfield': {'id': 'https://openalex.org/subfields/1106', 'display_name': 'Food Science'}, 'field': {'id': 'https://openalex.org/fields/11', 'display_name': 'Agricultural and Biological Sciences'}, 'domain': {'id': 'https://openalex.org/domains/1', 'display_name': 'Life Sciences'}}, {'id': 'https://openalex.org/T10890', 'display_name': 'Trypanosoma species research and implications', 'value': 0.0037666, 'subfield': {'id': 'https://openalex.org/subfields/2713', 'display_name': 'Epidemiology'}, 'field': {'id': 'https://openalex.org/fields/27', 'display_name': 'Medicine'}, 'domain': {'id': 'https://openalex.org/domains/4', 'display_name': 'Health Sciences'}}, {'id': 'https://openalex.org/T11390', 'display_name': 'Seaweed-derived Bioactive Compounds', 'value': 0.0037087, 'subfield': {'id': 'https://openalex.org/subfields/1104', 'display_name': 'Aquatic Science'}, 'field': {'id': 'https://openalex.org/fields/11', 'display_name': 'Agricultural and Biological Sciences'}, 'domain': {'id': 'https://openalex.org/domains/1', 'display_name': 'Life Sciences'}}, {'id': 'https://openalex.org/T10650', 'display_name': 'Food Drying and Modeling', 'value': 0.0034975, 'subfield': {'id': 'https://openalex.org/subfields/1106', 'display_name': 'Food Science'}, 'field': {'id': 'https://openalex.org/fields/11', 'display_name': 'Agricultural and Biological Sciences'}, 'domain': {'id': 'https://openalex.org/domains/1', 'display_name': 'Life Sciences'}}, {'id': 'https://openalex.org/T11004', 'display_name': 'Crustacean biology and ecology', 'value': 0.0031114, 'subfield': {'id': 'https://openalex.org/subfields/2303', 'display_name': 'Ecology'}, 'field': {'id': 'https://openalex.org/fields/23', 'display_name': 'Environmental Science'}, 'domain': {'id': 'https://openalex.org/domains/3', 'display_name': 'Physical Sciences'}}, {'id': 'https://openalex.org/T12220', 'display_name': 'Quantum Electrodynamics and Casimir Effect', 'value': 0.0025665, 'subfield': {'id': 'https://openalex.org/subfields/3107', 'display_name': 'Atomic and Molecular Physics, and Optics'}, 'field': {'id': 'https://openalex.org/fields/31', 'display_name': 'Physics and Astronomy'}, 'domain': {'id': 'https://openalex.org/domains/3', 'display_name': 'Physical Sciences'}}, {'id': 'https://openalex.org/T12441', 'display_name': 'Porphyrin Metabolism and Disorders', 'value': 0.0024145, 'subfield': {'id': 'https://openalex.org/subfields/1312', 'display_name': 'Molecular Biology'}, 'field': {'id': 'https://openalex.org/fields/13', 'display_name': 'Biochemistry, Genetics and Molecular Biology'}, 'domain': {'id': 'https://openalex.org/domains/1', 'display_name': 'Life Sciences'}}, {'id': 'https://openalex.org/T12192', 'display_name': 'Polysaccharides Composition and Applications', 'value': 0.0021725, 'subfield': {'id': 'https://openalex.org/subfields/1106', 'display_name': 'Food Science'}, 'field': {'id': 'https://openalex.org/fields/11', 'display_name': 'Agricultural and Biological Sciences'}, 'domain': {'id': 'https://openalex.org/domains/1', 'display_name': 'Life Sciences'}}, {'id': 'https://openalex.org/T10488', 'display_name': 'Nanocomposite Films for Food Packaging', 'value': 0.0020783, 'subfield': {'id': 'https://openalex.org/subfields/2502', 'display_name': 'Biomaterials'}, 'field': {'id': 'https://openalex.org/fields/25', 'display_name': 'Materials Science'}, 'domain': {'id': 'https://openalex.org/domains/3', 'display_name': 'Physical Sciences'}}, {'id': 'https://openalex.org/T10174', 'display_name': 'Animal Behavior and Reproduction', 'value': 0.0020501, 'subfield': {'id': 'https://openalex.org/subfields/1105', 'display_name': 'Ecology, Evolution, Behavior and Systematics'}, 'field': {'id': 'https://openalex.org/fields/11', 'display_name': 'Agricultural and Biological Sciences'}, 'domain': {'id': 'https://openalex.org/domains/1', 'display_name': 'Life Sciences'}}, {'id': 'https://openalex.org/T10869', 'display_name': 'Polysaccharides and Plant Cell Walls', 'value': 0.0020198, 'subfield': {'id': 'https://openalex.org/subfields/1110', 'display_name': 'Plant Science'}, 'field': {'id': 'https://openalex.org/fields/11', 'display_name': 'Agricultural and Biological Sciences'}, 'domain': {'id': 'https://openalex.org/domains/1', 'display_name': 'Life Sciences'}}, {'id': 'https://openalex.org/T10955', 'display_name': 'Paleontology and Evolutionary Biology', 'value': 0.0019527, 'subfield': {'id': 'https://openalex.org/subfields/1911', 'display_name': 'Paleontology'}, 'field': {'id': 'https://openalex.org/fields/19', 'display_name': 'Earth and Planetary Sciences'}, 'domain': {'id': 'https://openalex.org/domains/3', 'display_name': 'Physical Sciences'}}, {'id': 'https://openalex.org/T11354', 'display_name': 'Evolution and Paleontology Studies', 'value': 0.0019356, 'subfield': {'id': 'https://openalex.org/subfields/1911', 'display_name': 'Paleontology'}, 'field': {'id': 'https://openalex.org/fields/19', 'display_name': 'Earth and Planetary Sciences'}, 'domain': {'id': 'https://openalex.org/domains/3', 'display_name': 'Physical Sciences'}}, {'id': 'https://openalex.org/T10411', 'display_name': 'Proteins in Food Systems', 'value': 0.0019355, 'subfield': {'id': 'https://openalex.org/subfields/1106', 'display_name': 'Food Science'}, 'field': {'id': 'https://openalex.org/fields/11', 'display_name': 'Agricultural and Biological Sciences'}, 'domain': {'id': 'https://openalex.org/domains/1', 'display_name': 'Life Sciences'}}, {'id': 'https://openalex.org/T13188', 'display_name': 'Synthesis and bioactivity of alkaloids', 'value': 0.0019016, 'subfield': {'id': 'https://openalex.org/subfields/1312', 'display_name': 'Molecular Biology'}, 'field': {'id': 'https://openalex.org/fields/13', 'display_name': 'Biochemistry, Genetics and Molecular Biology'}, 'domain': {'id': 'https://openalex.org/domains/1', 'display_name': 'Life Sciences'}}, {'id': 'https://openalex.org/T10765', 'display_name': 'Marine Biology and Ecology Research', 'value': 0.0018863, 'subfield': {'id': 'https://openalex.org/subfields/1910', 'display_name': 'Oceanography'}, 'field': {'id': 'https://openalex.org/fields/19', 'display_name': 'Earth and Planetary Sciences'}, 'domain': {'id': 'https://openalex.org/domains/3', 'display_name': 'Physical Sciences'}}, {'id': 'https://openalex.org/T11848', 'display_name': 'Heme Oxygenase-1 and Carbon Monoxide', 'value': 0.001868, 'subfield': {'id': 'https://openalex.org/subfields/1312', 'display_name': 'Molecular Biology'}, 'field': {'id': 'https://openalex.org/fields/13', 'display_name': 'Biochemistry, Genetics and Molecular Biology'}, 'domain': {'id': 'https://openalex.org/domains/1', 'display_name': 'Life Sciences'}}, {'id': 'https://openalex.org/T11387', 'display_name': 'Ichthyology and Marine Biology', 'value': 0.0017535, 'subfield': {'id': 'https://openalex.org/subfields/2309', 'display_name': 'Nature and Landscape Conservation'}, 'field': {'id': 'https://openalex.org/fields/23', 'display_name': 'Environmental Science'}, 'domain': {'id': 'https://openalex.org/domains/3', 'display_name': 'Physical Sciences'}}, {'id': 'https://openalex.org/T10835', 'display_name': 'Carbohydrate Chemistry and Synthesis', 'value': 0.0017491, 'subfield': {'id': 'https://openalex.org/subfields/1605', 'display_name': 'Organic Chemistry'}, 'field': {'id': 'https://openalex.org/fields/16', 'display_name': 'Chemistry'}, 'domain': {'id': 'https://openalex.org/domains/3', 'display_name': 'Physical Sciences'}}, {'id': 'https://openalex.org/T12330', 'display_name': 'Botanical Research and Applications', 'value': 0.0017119, 'subfield': {'id': 'https://openalex.org/subfields/1106', 'display_name': 'Food Science'}, 'field': {'id': 'https://openalex.org/fields/11', 'display_name': 'Agricultural and Biological Sciences'}, 'domain': {'id': 'https://openalex.org/domains/1', 'display_name': 'Life Sciences'}}, {'id': 'https://openalex.org/T12841', 'display_name': 'Echinoderm biology and ecology', 'value': 0.0017115, 'subfield': {'id': 'https://openalex.org/subfields/1104', 'display_name': 'Aquatic Science'}, 'field': {'id': 'https://openalex.org/fields/11', 'display_name': 'Agricultural and Biological Sciences'}, 'domain': {'id': 'https://openalex.org/domains/1', 'display_name': 'Life Sciences'}}, {'id': 'https://openalex.org/T11455', 'display_name': 'Microbial Inactivation Methods', 'value': 0.0016275, 'subfield': {'id': 'https://openalex.org/subfields/1305', 'display_name': 'Biotechnology'}, 'field': {'id': 'https://openalex.org/fields/13', 'display_name': 'Biochemistry, Genetics and Molecular Biology'}, 'domain': {'id': 'https://openalex.org/domains/1', 'display_name': 'Life Sciences'}}, {'id': 'https://openalex.org/T10823', 'display_name': 'Research on Leishmaniasis Studies', 'value': 0.0016177, 'subfield': {'id': 'https://openalex.org/subfields/2739', 'display_name': 'Public Health, Environmental and Occupational Health'}, 'field': {'id': 'https://openalex.org/fields/27', 'display_name': 'Medicine'}, 'domain': {'id': 'https://openalex.org/domains/4', 'display_name': 'Health Sciences'}}, {'id': 'https://openalex.org/T10089', 'display_name': 'Avian ecology and behavior', 'value': 0.0015898, 'subfield': {'id': 'https://openalex.org/subfields/2303', 'display_name': 'Ecology'}, 'field': {'id': 'https://openalex.org/fields/23', 'display_name': 'Environmental Science'}, 'domain': {'id': 'https://openalex.org/domains/3', 'display_name': 'Physical Sciences'}}, {'id': 'https://openalex.org/T12637', 'display_name': 'Scarabaeidae Beetle Taxonomy and Biogeography', 'value': 0.0015861, 'subfield': {'id': 'https://openalex.org/subfields/1911', 'display_name': 'Paleontology'}, 'field': {'id': 'https://openalex.org/fields/19', 'display_name': 'Earth and Planetary Sciences'}, 'domain': {'id': 'https://openalex.org/domains/3', 'display_name': 'Physical Sciences'}}]   \n",
            "\n",
            "                                                                                                                                                                                                                                                                                                                                                                                                                                                                                                                                                                                                                                                                                                                                                                                                                                                                                                                                                                                                                                                                                                                                                                                                                                                                                                                                                                                                                                                                                                                                                                                                                                                                                                                                                                                                                                                                                                                                                                                                                                                                                                                                                                                                                                                                                                                                                                                                                                                                                                                                                                                                                                                                   x_concepts  \\\n",
            "0   [{'id': 'https://openalex.org/C86803240', 'wikidata': 'https://www.wikidata.org/wiki/Q420', 'display_name': 'Biology', 'level': 0, 'score': 63.5}, {'id': 'https://openalex.org/C185592680', 'wikidata': 'https://www.wikidata.org/wiki/Q2329', 'display_name': 'Chemistry', 'level': 0, 'score': 47.1}, {'id': 'https://openalex.org/C121332964', 'wikidata': 'https://www.wikidata.org/wiki/Q413', 'display_name': 'Physics', 'level': 0, 'score': 41.7}, {'id': 'https://openalex.org/C71924100', 'wikidata': 'https://www.wikidata.org/wiki/Q11190', 'display_name': 'Medicine', 'level': 0, 'score': 34.0}, {'id': 'https://openalex.org/C55493867', 'wikidata': 'https://www.wikidata.org/wiki/Q7094', 'display_name': 'Biochemistry', 'level': 1, 'score': 32.4}, {'id': 'https://openalex.org/C127313418', 'wikidata': 'https://www.wikidata.org/wiki/Q1069', 'display_name': 'Geology', 'level': 0, 'score': 29.6}, {'id': 'https://openalex.org/C54355233', 'wikidata': 'https://www.wikidata.org/wiki/Q7162', 'display_name': 'Genetics', 'level': 1, 'score': 28.9}, {'id': 'https://openalex.org/C178790620', 'wikidata': 'https://www.wikidata.org/wiki/Q11351', 'display_name': 'Organic chemistry', 'level': 1, 'score': 28.2}, {'id': 'https://openalex.org/C138885662', 'wikidata': 'https://www.wikidata.org/wiki/Q5891', 'display_name': 'Philosophy', 'level': 0, 'score': 28.0}, {'id': 'https://openalex.org/C18903297', 'wikidata': 'https://www.wikidata.org/wiki/Q7150', 'display_name': 'Ecology', 'level': 1, 'score': 26.5}, {'id': 'https://openalex.org/C62520636', 'wikidata': 'https://www.wikidata.org/wiki/Q944', 'display_name': 'Quantum mechanics', 'level': 1, 'score': 25.6}, {'id': 'https://openalex.org/C127413603', 'wikidata': 'https://www.wikidata.org/wiki/Q11023', 'display_name': 'Engineering', 'level': 0, 'score': 25.2}, {'id': 'https://openalex.org/C205649164', 'wikidata': 'https://www.wikidata.org/wiki/Q1071', 'display_name': 'Geography', 'level': 0, 'score': 24.4}, {'id': 'https://openalex.org/C41008148', 'wikidata': 'https://www.wikidata.org/wiki/Q21198', 'display_name': 'Computer science', 'level': 0, 'score': 24.0}, {'id': 'https://openalex.org/C142362112', 'wikidata': 'https://www.wikidata.org/wiki/Q735', 'display_name': 'Art', 'level': 0, 'score': 23.2}, {'id': 'https://openalex.org/C151730666', 'wikidata': 'https://www.wikidata.org/wiki/Q7205', 'display_name': 'Paleontology', 'level': 1, 'score': 22.5}, {'id': 'https://openalex.org/C192562407', 'wikidata': 'https://www.wikidata.org/wiki/Q228736', 'display_name': 'Materials science', 'level': 0, 'score': 20.9}]   \n",
            "1                                                                                                                                                                                                                                                                                                                                                                                                                                                                                                                                                                                                                                                                                                                                                                                         [{'id': 'https://openalex.org/C86803240', 'wikidata': 'https://www.wikidata.org/wiki/Q420', 'display_name': 'Biology', 'level': 0, 'score': 51.9}, {'id': 'https://openalex.org/C138885662', 'wikidata': 'https://www.wikidata.org/wiki/Q5891', 'display_name': 'Philosophy', 'level': 0, 'score': 39.7}, {'id': 'https://openalex.org/C185592680', 'wikidata': 'https://www.wikidata.org/wiki/Q2329', 'display_name': 'Chemistry', 'level': 0, 'score': 36.9}, {'id': 'https://openalex.org/C71924100', 'wikidata': 'https://www.wikidata.org/wiki/Q11190', 'display_name': 'Medicine', 'level': 0, 'score': 36.6}, {'id': 'https://openalex.org/C142362112', 'wikidata': 'https://www.wikidata.org/wiki/Q735', 'display_name': 'Art', 'level': 0, 'score': 33.2}, {'id': 'https://openalex.org/C121332964', 'wikidata': 'https://www.wikidata.org/wiki/Q413', 'display_name': 'Physics', 'level': 0, 'score': 32.4}, {'id': 'https://openalex.org/C15708023', 'wikidata': 'https://www.wikidata.org/wiki/Q80083', 'display_name': 'Humanities', 'level': 1, 'score': 28.9}, {'id': 'https://openalex.org/C55493867', 'wikidata': 'https://www.wikidata.org/wiki/Q7094', 'display_name': 'Biochemistry', 'level': 1, 'score': 27.1}, {'id': 'https://openalex.org/C54355233', 'wikidata': 'https://www.wikidata.org/wiki/Q7162', 'display_name': 'Genetics', 'level': 1, 'score': 26.7}, {'id': 'https://openalex.org/C126322002', 'wikidata': 'https://www.wikidata.org/wiki/Q11180', 'display_name': 'Internal medicine', 'level': 1, 'score': 22.0}, {'id': 'https://openalex.org/C41008148', 'wikidata': 'https://www.wikidata.org/wiki/Q21198', 'display_name': 'Computer science', 'level': 0, 'score': 21.3}, {'id': 'https://openalex.org/C17744445', 'wikidata': 'https://www.wikidata.org/wiki/Q36442', 'display_name': 'Political science', 'level': 0, 'score': 20.9}]   \n",
            "2                                                                                                                                                                                                                                                                                                                                                                                                                                                                            [{'id': 'https://openalex.org/C86803240', 'wikidata': 'https://www.wikidata.org/wiki/Q420', 'display_name': 'Biology', 'level': 0, 'score': 47.7}, {'id': 'https://openalex.org/C121332964', 'wikidata': 'https://www.wikidata.org/wiki/Q413', 'display_name': 'Physics', 'level': 0, 'score': 40.5}, {'id': 'https://openalex.org/C138885662', 'wikidata': 'https://www.wikidata.org/wiki/Q5891', 'display_name': 'Philosophy', 'level': 0, 'score': 38.0}, {'id': 'https://openalex.org/C185592680', 'wikidata': 'https://www.wikidata.org/wiki/Q2329', 'display_name': 'Chemistry', 'level': 0, 'score': 34.6}, {'id': 'https://openalex.org/C142362112', 'wikidata': 'https://www.wikidata.org/wiki/Q735', 'display_name': 'Art', 'level': 0, 'score': 33.9}, {'id': 'https://openalex.org/C15708023', 'wikidata': 'https://www.wikidata.org/wiki/Q80083', 'display_name': 'Humanities', 'level': 1, 'score': 30.2}, {'id': 'https://openalex.org/C62520636', 'wikidata': 'https://www.wikidata.org/wiki/Q944', 'display_name': 'Quantum mechanics', 'level': 1, 'score': 28.5}, {'id': 'https://openalex.org/C71924100', 'wikidata': 'https://www.wikidata.org/wiki/Q11190', 'display_name': 'Medicine', 'level': 0, 'score': 24.5}, {'id': 'https://openalex.org/C41008148', 'wikidata': 'https://www.wikidata.org/wiki/Q21198', 'display_name': 'Computer science', 'level': 0, 'score': 24.5}, {'id': 'https://openalex.org/C127313418', 'wikidata': 'https://www.wikidata.org/wiki/Q1069', 'display_name': 'Geology', 'level': 0, 'score': 23.1}, {'id': 'https://openalex.org/C205649164', 'wikidata': 'https://www.wikidata.org/wiki/Q1071', 'display_name': 'Geography', 'level': 0, 'score': 22.4}, {'id': 'https://openalex.org/C178790620', 'wikidata': 'https://www.wikidata.org/wiki/Q11351', 'display_name': 'Organic chemistry', 'level': 1, 'score': 22.1}, {'id': 'https://openalex.org/C55493867', 'wikidata': 'https://www.wikidata.org/wiki/Q7094', 'display_name': 'Biochemistry', 'level': 1, 'score': 21.0}, {'id': 'https://openalex.org/C127413603', 'wikidata': 'https://www.wikidata.org/wiki/Q11023', 'display_name': 'Engineering', 'level': 0, 'score': 21.0}]   \n",
            "3                                                                                                                                                                                                                                                                                                                                                                                                                                                                                                                                                                                                                                                                                                                                                                                           [{'id': 'https://openalex.org/C86803240', 'wikidata': 'https://www.wikidata.org/wiki/Q420', 'display_name': 'Biology', 'level': 0, 'score': 52.2}, {'id': 'https://openalex.org/C185592680', 'wikidata': 'https://www.wikidata.org/wiki/Q2329', 'display_name': 'Chemistry', 'level': 0, 'score': 38.5}, {'id': 'https://openalex.org/C138885662', 'wikidata': 'https://www.wikidata.org/wiki/Q5891', 'display_name': 'Philosophy', 'level': 0, 'score': 37.8}, {'id': 'https://openalex.org/C121332964', 'wikidata': 'https://www.wikidata.org/wiki/Q413', 'display_name': 'Physics', 'level': 0, 'score': 36.7}, {'id': 'https://openalex.org/C71924100', 'wikidata': 'https://www.wikidata.org/wiki/Q11190', 'display_name': 'Medicine', 'level': 0, 'score': 33.5}, {'id': 'https://openalex.org/C142362112', 'wikidata': 'https://www.wikidata.org/wiki/Q735', 'display_name': 'Art', 'level': 0, 'score': 32.2}, {'id': 'https://openalex.org/C15708023', 'wikidata': 'https://www.wikidata.org/wiki/Q80083', 'display_name': 'Humanities', 'level': 1, 'score': 28.7}, {'id': 'https://openalex.org/C55493867', 'wikidata': 'https://www.wikidata.org/wiki/Q7094', 'display_name': 'Biochemistry', 'level': 1, 'score': 26.2}, {'id': 'https://openalex.org/C54355233', 'wikidata': 'https://www.wikidata.org/wiki/Q7162', 'display_name': 'Genetics', 'level': 1, 'score': 23.2}, {'id': 'https://openalex.org/C62520636', 'wikidata': 'https://www.wikidata.org/wiki/Q944', 'display_name': 'Quantum mechanics', 'level': 1, 'score': 23.0}, {'id': 'https://openalex.org/C178790620', 'wikidata': 'https://www.wikidata.org/wiki/Q11351', 'display_name': 'Organic chemistry', 'level': 1, 'score': 22.8}, {'id': 'https://openalex.org/C41008148', 'wikidata': 'https://www.wikidata.org/wiki/Q21198', 'display_name': 'Computer science', 'level': 0, 'score': 21.3}]   \n",
            "4  [{'id': 'https://openalex.org/C86803240', 'wikidata': 'https://www.wikidata.org/wiki/Q420', 'display_name': 'Biology', 'level': 0, 'score': 74.6}, {'id': 'https://openalex.org/C185592680', 'wikidata': 'https://www.wikidata.org/wiki/Q2329', 'display_name': 'Chemistry', 'level': 0, 'score': 60.9}, {'id': 'https://openalex.org/C121332964', 'wikidata': 'https://www.wikidata.org/wiki/Q413', 'display_name': 'Physics', 'level': 0, 'score': 52.8}, {'id': 'https://openalex.org/C55493867', 'wikidata': 'https://www.wikidata.org/wiki/Q7094', 'display_name': 'Biochemistry', 'level': 1, 'score': 43.6}, {'id': 'https://openalex.org/C54355233', 'wikidata': 'https://www.wikidata.org/wiki/Q7162', 'display_name': 'Genetics', 'level': 1, 'score': 37.4}, {'id': 'https://openalex.org/C178790620', 'wikidata': 'https://www.wikidata.org/wiki/Q11351', 'display_name': 'Organic chemistry', 'level': 1, 'score': 37.1}, {'id': 'https://openalex.org/C71924100', 'wikidata': 'https://www.wikidata.org/wiki/Q11190', 'display_name': 'Medicine', 'level': 0, 'score': 36.6}, {'id': 'https://openalex.org/C62520636', 'wikidata': 'https://www.wikidata.org/wiki/Q944', 'display_name': 'Quantum mechanics', 'level': 1, 'score': 33.4}, {'id': 'https://openalex.org/C127313418', 'wikidata': 'https://www.wikidata.org/wiki/Q1069', 'display_name': 'Geology', 'level': 0, 'score': 32.4}, {'id': 'https://openalex.org/C18903297', 'wikidata': 'https://www.wikidata.org/wiki/Q7150', 'display_name': 'Ecology', 'level': 1, 'score': 31.1}, {'id': 'https://openalex.org/C127413603', 'wikidata': 'https://www.wikidata.org/wiki/Q11023', 'display_name': 'Engineering', 'level': 0, 'score': 25.4}, {'id': 'https://openalex.org/C41008148', 'wikidata': 'https://www.wikidata.org/wiki/Q21198', 'display_name': 'Computer science', 'level': 0, 'score': 25.4}, {'id': 'https://openalex.org/C192562407', 'wikidata': 'https://www.wikidata.org/wiki/Q228736', 'display_name': 'Materials science', 'level': 0, 'score': 24.4}, {'id': 'https://openalex.org/C33923547', 'wikidata': 'https://www.wikidata.org/wiki/Q395', 'display_name': 'Mathematics', 'level': 0, 'score': 24.3}, {'id': 'https://openalex.org/C151730666', 'wikidata': 'https://www.wikidata.org/wiki/Q7205', 'display_name': 'Paleontology', 'level': 1, 'score': 23.7}, {'id': 'https://openalex.org/C59822182', 'wikidata': 'https://www.wikidata.org/wiki/Q441', 'display_name': 'Botany', 'level': 1, 'score': 21.9}, {'id': 'https://openalex.org/C205649164', 'wikidata': 'https://www.wikidata.org/wiki/Q1071', 'display_name': 'Geography', 'level': 0, 'score': 20.1}]   \n",
            "\n",
            "   is_super_system  \\\n",
            "0            False   \n",
            "1            False   \n",
            "2            False   \n",
            "3            False   \n",
            "4            False   \n",
            "\n",
            "                                                      works_api_url  \\\n",
            "0  https://api.openalex.org/works?filter=institutions.id:I151201029   \n",
            "1   https://api.openalex.org/works?filter=institutions.id:I24354313   \n",
            "2  https://api.openalex.org/works?filter=institutions.id:I874386039   \n",
            "3  https://api.openalex.org/works?filter=institutions.id:I166401450   \n",
            "4   https://api.openalex.org/works?filter=institutions.id:I53241121   \n",
            "\n",
            "                 updated_date created_date  \n",
            "0  2024-12-01T15:29:09.796980   2016-06-24  \n",
            "1  2024-12-06T19:00:22.405096   2016-06-24  \n",
            "2  2024-12-05T19:04:13.887928   2016-06-24  \n",
            "3  2024-12-06T01:31:46.993231   2016-06-24  \n",
            "4  2024-12-05T15:37:09.598345   2016-06-24  \n"
          ]
        },
        {
          "output_type": "execute_result",
          "data": {
            "text/plain": [
              "Index(['id', 'ror', 'display_name', 'country_code', 'type', 'type_id',\n",
              "       'lineage', 'homepage_url', 'image_url', 'image_thumbnail_url',\n",
              "       'display_name_acronyms', 'display_name_alternatives', 'repositories',\n",
              "       'works_count', 'cited_by_count', 'summary_stats', 'ids', 'geo',\n",
              "       'international', 'associated_institutions', 'counts_by_year', 'roles',\n",
              "       'topics', 'topic_share', 'x_concepts', 'is_super_system',\n",
              "       'works_api_url', 'updated_date', 'created_date'],\n",
              "      dtype='object')"
            ]
          },
          "metadata": {},
          "execution_count": 13
        }
      ]
    },
    {
      "cell_type": "code",
      "execution_count": null,
      "id": "3e748631-c2cc-4b84-80c4-d68d43f6fe38",
      "metadata": {
        "id": "3e748631-c2cc-4b84-80c4-d68d43f6fe38",
        "colab": {
          "base_uri": "https://localhost:8080/"
        },
        "outputId": "9938b06d-e5ed-417a-b5fc-932c43a52bcd"
      },
      "outputs": [
        {
          "output_type": "stream",
          "name": "stdout",
          "text": [
            "                                id                        ror  \\\n",
            "0  https://openalex.org/I151201029  https://ror.org/03cqe8w59   \n",
            "\n",
            "                                                 display_name country_code  \\\n",
            "0  Consejo Nacional de Investigaciones Científicas y Técnicas           AR   \n",
            "\n",
            "         type                                            type_id  \\\n",
            "0  government  https://openalex.org/institution-types/government   \n",
            "\n",
            "                                                                                                 lineage  \\\n",
            "0  [https://openalex.org/I151201029, https://openalex.org/I4210123736, https://openalex.org/I4387155568]   \n",
            "\n",
            "                homepage_url  \\\n",
            "0  http://www.conicet.gov.ar   \n",
            "\n",
            "                                                                                                 image_url  \\\n",
            "0  https://commons.wikimedia.org/w/index.php?title=Special:Redirect/file/Conicet%20Logo%20con%20letras.png   \n",
            "\n",
            "                                                                                                 image_thumbnail_url  \\\n",
            "0  https://commons.wikimedia.org/w/index.php?title=Special:Redirect/file/Conicet%20Logo%20con%20letras.png&width=300   \n",
            "\n",
            "  display_name_acronyms                             display_name_alternatives  \\\n",
            "0             [CONICET]  [National Scientific and Technical Research Council]   \n",
            "\n",
            "  repositories  works_count  cited_by_count  \\\n",
            "0           []       150142         2551994   \n",
            "\n",
            "                                                                    summary_stats  \\\n",
            "0  {'2yr_mean_citedness': 2.5566296479474846, 'h_index': 366, 'i10_index': 55063}   \n",
            "\n",
            "                                                                                                                                                                                                                                                                                                 ids  \\\n",
            "0  {'openalex': 'https://openalex.org/I151201029', 'ror': 'https://ror.org/03cqe8w59', 'mag': '151201029', 'grid': 'grid.423606.5', 'wikipedia': 'https://en.wikipedia.org/wiki/National%20Scientific%20and%20Technical%20Research%20Council', 'wikidata': 'https://www.wikidata.org/wiki/Q6978293'}   \n",
            "\n",
            "                                                                                                                                                                    geo  \\\n",
            "0  {'city': 'Buenos Aires', 'geonames_city_id': '3435910', 'region': None, 'country_code': 'AR', 'country': 'Argentina', 'latitude': -34.61315, 'longitude': -58.37723}   \n",
            "\n",
            "                                                                                                                                                                                                                                                                                                                                                                                                                                                                                                                                                                                                                                                                                                                                                                                                                                                                                                                                    international  \\\n",
            "0  {'display_name': {'ast': 'Conseyu Nacional d'Investigaciones Científiques y Téuniques', 'ca': 'Consell Nacional d'Investigacions Científiques i Tècniques', 'cy': 'Y Cyngor Ymchwil Cenedlaethol Gwyddonol a Thechnegol', 'en': 'National Scientific and Technical Research Council', 'eo': 'Nacia Konsilio por Scienca kaj Teknika Esploro de Argentino', 'es': 'Consejo Nacional de Investigaciones Científicas y Técnicas', 'eu': 'Consejo Nacional de Investigaciones Científicas y Técnicas (Argentina)', 'fr': 'Conseil national de la recherche scientifique et technique', 'he': 'מועצת המחקר המדעית והטכנית הלאומית', 'hy': 'Ազգային գիտատեխնիկական հետազոտությունների խորհուրդ', 'ja': '国立科学技術研究評議会', 'pt': 'Consejo Nacional de Investigaciones Científicas y Técnicas (Argentina)', 'ru': 'Национальный научный и технический исследовательский совет', 'tr': 'Ulusal Bilimsel ve Teknik Araştırma Konseyi', 'zh': '国家科学技术研究委员会'}}   \n",
            "\n",
            "                                                                                                                                                                                                                                                                                                                                                                                                                                                                                                                                                                                                                                                                                                                                                                                                                                                                                                                                                                                                                                                                                                                                                                                                                                                                                                                                                                                                                                                                                                                                                                                                                                                                                                                                                                                                                                                                                                                                                                                                                                                                                                                                                                                                                                                                                                                                                                                                                                                                                                                                                                                                                                                                                                                                                                                                                                                                                                                                                                                                                                                                                                                                                                                                                                                                                                                                                                                                                                                                                                                                                                                                                                                                                                                                                                                                                                                                                                                                                                                                                                                                                                                                                                                                                                                                                                                                                                                                                                                                                                                                                                                                                                                                                                                                                                                                                                                                                                                                                                                                                                                                                                                                                                                                                                                                                                                                                                                                                                                                                                                                                                                                                                                                                                                                                                                                                                                                                                                                                                                                                                                                                                                                                                                                                                                                                                                                                                                                                                                                                                                                                                                                                                                                                                                                                                                                                                                                                                                                                                                                                                                                                                                                                                                                                                                                                                                                                                                                                                                                                                                                                                                                                                                                                                                                    associated_institutions  \\\n",
            "0  [{'id': 'https://openalex.org/I4210093681', 'ror': 'https://ror.org/00jxb8k91', 'display_name': 'Agricultural Plant Physiology and Ecology Research Institute', 'country_code': 'AR', 'type': 'facility', 'relationship': 'child'}, {'id': 'https://openalex.org/I4210148385', 'ror': 'https://ror.org/04c5b8z55', 'display_name': 'Biomedicine Research Institute of Buenos Aires - CONICET - Partner Institute of the Max Planck Society', 'country_code': 'AR', 'type': 'facility', 'relationship': 'child'}, {'id': 'https://openalex.org/I4210125789', 'ror': 'https://ror.org/03efzvv60', 'display_name': 'Centro Científico Tecnológico - Bahía Blanca', 'country_code': 'AR', 'type': 'facility', 'relationship': 'child'}, {'id': 'https://openalex.org/I4210130626', 'ror': 'https://ror.org/03vxkne37', 'display_name': 'Centro Científico Tecnológico - Córdoba', 'country_code': 'AR', 'type': 'facility', 'relationship': 'child'}, {'id': 'https://openalex.org/I4210138160', 'ror': 'https://ror.org/03qan4b12', 'display_name': 'Centro Científico Tecnológico - La Plata', 'country_code': 'AR', 'type': 'facility', 'relationship': 'child'}, {'id': 'https://openalex.org/I4210152303', 'ror': 'https://ror.org/055wmc747', 'display_name': 'Centro Científico Tecnológico - Mendoza', 'country_code': 'AR', 'type': 'facility', 'relationship': 'child'}, {'id': 'https://openalex.org/I4210104196', 'ror': 'https://ror.org/01ktqem13', 'display_name': 'Centro Científico Tecnológico - Nordeste', 'country_code': 'AR', 'type': 'facility', 'relationship': 'child'}, {'id': 'https://openalex.org/I4210130081', 'ror': 'https://ror.org/038n0qb29', 'display_name': 'Centro Científico Tecnológico - Patagonia Norte', 'country_code': 'AR', 'type': 'facility', 'relationship': 'child'}, {'id': 'https://openalex.org/I4210095825', 'ror': 'https://ror.org/00kwm3d29', 'display_name': 'Centro Científico Tecnológico - San Juan', 'country_code': 'AR', 'type': 'facility', 'relationship': 'child'}, {'id': 'https://openalex.org/I4210118440', 'ror': 'https://ror.org/02r8b4p12', 'display_name': 'Centro Científico Tecnológico - San Luis', 'country_code': 'AR', 'type': 'facility', 'relationship': 'child'}, {'id': 'https://openalex.org/I4210087694', 'ror': 'https://ror.org/003vet424', 'display_name': 'Centro Científico Tecnológico - Santa Fe', 'country_code': 'AR', 'type': 'facility', 'relationship': 'child'}, {'id': 'https://openalex.org/I4210104225', 'ror': 'https://ror.org/00veegj02', 'display_name': 'Centro Científico Tecnológico - Tandil', 'country_code': 'AR', 'type': 'facility', 'relationship': 'child'}, {'id': 'https://openalex.org/I4210128307', 'ror': 'https://ror.org/03w8cva37', 'display_name': 'Centro Científico Tecnológico - Tucumán', 'country_code': 'AR', 'type': 'facility', 'relationship': 'child'}, {'id': 'https://openalex.org/I4210163267', 'ror': 'https://ror.org/05yqfsf29', 'display_name': 'Centro Científico Tecnológico Mar del Plata', 'country_code': 'AR', 'type': 'facility', 'relationship': 'child'}, {'id': 'https://openalex.org/I4210142366', 'ror': 'https://ror.org/049xnr573', 'display_name': 'Centro Científico Tecnológico Patagónico', 'country_code': 'AR', 'type': 'facility', 'relationship': 'child'}, {'id': 'https://openalex.org/I4210150383', 'ror': 'https://ror.org/04tpkqz22', 'display_name': 'Centro Científico Tecnológico Salta - Jujuy', 'country_code': 'AR', 'type': 'facility', 'relationship': 'child'}, {'id': 'https://openalex.org/I4210107757', 'ror': 'https://ror.org/01qkxb782', 'display_name': 'Centro Científico Tecnólogico - Rosario', 'country_code': 'AR', 'type': 'facility', 'relationship': 'child'}, {'id': 'https://openalex.org/I4210102408', 'ror': 'https://ror.org/01d67x059', 'display_name': 'Centro de Investigación y Extensión Forestal Andino Patagónico', 'country_code': 'AR', 'type': 'facility', 'relationship': 'child'}, {'id': 'https://openalex.org/I71650599', 'ror': 'https://ror.org/03hnwy706', 'display_name': 'Experimental Medicine and Biology Institute', 'country_code': 'AR', 'type': 'facility', 'relationship': 'child'}, {'id': 'https://openalex.org/I4210123859', 'ror': 'https://ror.org/036a3f271', 'display_name': 'Institute for Medical Research', 'country_code': 'AR', 'type': 'facility', 'relationship': 'child'}, {'id': 'https://openalex.org/I4210144290', 'ror': 'https://ror.org/03rq94151', 'display_name': 'Institute of Astronomy and Space Physics', 'country_code': 'AR', 'type': 'facility', 'relationship': 'child'}, {'id': 'https://openalex.org/I4210152832', 'ror': 'https://ror.org/05k07f122', 'display_name': 'Instituto Franco-Argentino sobre Estudios de Clima y sus Impactos', 'country_code': 'AR', 'type': 'facility', 'relationship': 'child'}, {'id': 'https://openalex.org/I4210088229', 'ror': 'https://ror.org/00568z619', 'display_name': 'Instituto Interdisciplinario de Ciencias Básicas', 'country_code': 'AR', 'type': 'facility', 'relationship': 'child'}, {'id': 'https://openalex.org/I4210151079', 'ror': 'https://ror.org/04vhn6x78', 'display_name': 'Instituto Multidisciplinario de Biología Vegetal', 'country_code': 'AR', 'type': 'facility', 'relationship': 'child'}, {'id': 'https://openalex.org/I4210159438', 'ror': 'https://ror.org/04qzr9r50', 'display_name': 'Instituto Tecnológico de Chascomús', 'country_code': 'AR', 'type': 'facility', 'relationship': 'child'}, {'id': 'https://openalex.org/I4210156592', 'ror': 'https://ror.org/0594de127', 'display_name': 'Instituto de Botanica Darwinion', 'country_code': 'AR', 'type': 'education', 'relationship': 'child'}, {'id': 'https://openalex.org/I4210100747', 'ror': 'https://ror.org/014pzm971', 'display_name': 'Instituto de Geocronología y Geología Isotópica', 'country_code': 'AR', 'type': 'facility', 'relationship': 'child'}, {'id': 'https://openalex.org/I4210127090', 'ror': 'https://ror.org/0348f6e47', 'display_name': 'Instituto de Historia Argentina y Americana \"Dr. Emilio Ravignani\"', 'country_code': 'AR', 'type': 'facility', 'relationship': 'child'}, {'id': 'https://openalex.org/I4210108200', 'ror': 'https://ror.org/01m444286', 'display_name': 'Instituto de Investigaciones Biomédicas en Retrovirus y Sida', 'country_code': 'AR', 'type': 'facility', 'relationship': 'child'}, {'id': 'https://openalex.org/I4210149401', 'ror': 'https://ror.org/0469ejq24', 'display_name': 'Instituto de Química y Fisicoquímica Biológicas', 'country_code': 'AR', 'type': 'facility', 'relationship': 'child'}, {'id': 'https://openalex.org/I4210136977', 'ror': 'https://ror.org/048f36m54', 'display_name': 'Instituto de Tecnologías en Detección y Astropartículas', 'country_code': 'AR', 'type': 'facility', 'relationship': 'child'}, {'id': 'https://openalex.org/I4210158427', 'ror': 'https://ror.org/04n143x36', 'display_name': 'Unidad Ejecutora Lillo', 'country_code': 'AR', 'type': 'facility', 'relationship': 'child'}, {'id': 'https://openalex.org/I4210123736', 'ror': 'https://ror.org/02h503d38', 'display_name': 'Ministerio de Ciencia, Tecnología e Innovación', 'country_code': 'AR', 'type': 'government', 'relationship': 'parent'}, {'id': 'https://openalex.org/I4210086432', 'ror': 'https://ror.org/001ecav82', 'display_name': 'Bernardino Rivadavia Natural Sciences Museum', 'country_code': 'AR', 'type': 'archive', 'relationship': 'related'}, {'id': 'https://openalex.org/I4210102139', 'ror': 'https://ror.org/01bvz2w43', 'display_name': 'Museum of Paleontology Egidio Feruglio', 'country_code': 'AR', 'type': 'archive', 'relationship': 'related'}]   \n",
            "\n",
            "                                                                                                                                                                                                                                                                                                                                                                                                                                                                                                                                                                                                                                                                                                                                                                                                                                           counts_by_year  \\\n",
            "0  [{'year': 2024, 'works_count': 7385, 'cited_by_count': 265806}, {'year': 2023, 'works_count': 10583, 'cited_by_count': 290744}, {'year': 2022, 'works_count': 10631, 'cited_by_count': 272718}, {'year': 2021, 'works_count': 11716, 'cited_by_count': 271912}, {'year': 2020, 'works_count': 11904, 'cited_by_count': 230759}, {'year': 2019, 'works_count': 10693, 'cited_by_count': 184745}, {'year': 2018, 'works_count': 10280, 'cited_by_count': 154568}, {'year': 2017, 'works_count': 9451, 'cited_by_count': 132543}, {'year': 2016, 'works_count': 8537, 'cited_by_count': 117267}, {'year': 2015, 'works_count': 7479, 'cited_by_count': 104781}, {'year': 2014, 'works_count': 6652, 'cited_by_count': 93071}, {'year': 2013, 'works_count': 5860, 'cited_by_count': 80306}, {'year': 2012, 'works_count': 5161, 'cited_by_count': 68498}]   \n",
            "\n",
            "                                                                                                                                                                                                                                                                roles  \\\n",
            "0  [{'role': 'funder', 'id': 'https://openalex.org/F4320321594', 'works_count': 22838}, {'role': 'institution', 'id': 'https://openalex.org/I151201029', 'works_count': 150142}, {'role': 'publisher', 'id': 'https://openalex.org/P4310318166', 'works_count': 293}]   \n",
            "\n",
            "                                                                                                                                                                                                                                                                                                                                                                                                                                                                                                                                                                                                                                                                                                                                                                                                                                                                                                                                                                                                                                                                                                                                                                                                                                                                                                                                                                                                                                                                                                                                                                                                                                                                                                                                                                                                                                                                                                                                                                                                                                                                                                                                                                                                                                                                                                                                                                                                                                                                                                                                                                                                                                                                                                                                                                                                                                                                                                                                                                                                                                                                                                                                                                                                                                                                                                                                                                                                                                                                                                                                                                                                                                                                                                                                                                                                                                                                                                                                                                                                                                                                                                                                                                                                                                                                                                                                                                                                                                                                                                                                                                                                                                                                                                                                                                                                                                                                                                                                                                                                                                                                                                                                                                                                                                                                                                                                                                                                                                                                                                                                                                                                                                                                                                                                                                                                                                                                                                                                                                                                                                                                                                                                                                                                                                                                                                                                                                                                                                                                                                                                                                                                                                                                                                                                                                                                                                                                                                                                                                                                                                                                                                                                                                                                                                                                                                                                                                                                                                                                                                                                                                                                                                                                                                                                                                                                                                                                                                                                                                                                                                                                                                                                                                                                                                                                                                                                                                                                                                                                                                                                                                                                                                                                                                                                                                                                                                                                                                                                                                                                                                                                                                                                                                                                                                                                                                                                                                                                                                                                                                                                                                                                                                                                                                                                                                                                                                                                                                                                                                                                                                                                                                                                                                                                                                                                                                                                                    topics  \\\n",
            "0  [{'id': 'https://openalex.org/T10487', 'display_name': 'Impact of Pollinator Decline on Ecosystems and Agriculture', 'count': 3075, 'subfield': {'id': 'https://openalex.org/subfields/1105', 'display_name': 'Ecology, Evolution, Behavior and Systematics'}, 'field': {'id': 'https://openalex.org/fields/11', 'display_name': 'Agricultural and Biological Sciences'}, 'domain': {'id': 'https://openalex.org/domains/1', 'display_name': 'Life Sciences'}}, {'id': 'https://openalex.org/T11354', 'display_name': 'Evolutionary Dynamics of Mammals and Their Ancestors', 'count': 2984, 'subfield': {'id': 'https://openalex.org/subfields/1911', 'display_name': 'Paleontology'}, 'field': {'id': 'https://openalex.org/fields/19', 'display_name': 'Earth and Planetary Sciences'}, 'domain': {'id': 'https://openalex.org/domains/3', 'display_name': 'Physical Sciences'}}, {'id': 'https://openalex.org/T10005', 'display_name': 'Biodiversity Conservation and Ecosystem Management', 'count': 2683, 'subfield': {'id': 'https://openalex.org/subfields/2309', 'display_name': 'Nature and Landscape Conservation'}, 'field': {'id': 'https://openalex.org/fields/23', 'display_name': 'Environmental Science'}, 'domain': {'id': 'https://openalex.org/domains/3', 'display_name': 'Physical Sciences'}}, {'id': 'https://openalex.org/T12609', 'display_name': 'Social Movements and Political Change in Latin America', 'count': 2614, 'subfield': {'id': 'https://openalex.org/subfields/3312', 'display_name': 'Sociology and Political Science'}, 'field': {'id': 'https://openalex.org/fields/33', 'display_name': 'Social Sciences'}, 'domain': {'id': 'https://openalex.org/domains/2', 'display_name': 'Social Sciences'}}, {'id': 'https://openalex.org/T10017', 'display_name': 'Climate Change and Paleoclimatology', 'count': 2598, 'subfield': {'id': 'https://openalex.org/subfields/1902', 'display_name': 'Atmospheric Science'}, 'field': {'id': 'https://openalex.org/fields/19', 'display_name': 'Earth and Planetary Sciences'}, 'domain': {'id': 'https://openalex.org/domains/3', 'display_name': 'Physical Sciences'}}, {'id': 'https://openalex.org/T12036', 'display_name': 'Cultural and Social History of Argentina', 'count': 2595, 'subfield': {'id': 'https://openalex.org/subfields/3316', 'display_name': 'Cultural Studies'}, 'field': {'id': 'https://openalex.org/fields/33', 'display_name': 'Social Sciences'}, 'domain': {'id': 'https://openalex.org/domains/2', 'display_name': 'Social Sciences'}}, {'id': 'https://openalex.org/T13864', 'display_name': 'Indigenous Peoples at National Margins in Latin America', 'count': 2375, 'subfield': {'id': 'https://openalex.org/subfields/3314', 'display_name': 'Anthropology'}, 'field': {'id': 'https://openalex.org/fields/33', 'display_name': 'Social Sciences'}, 'domain': {'id': 'https://openalex.org/domains/2', 'display_name': 'Social Sciences'}}, {'id': 'https://openalex.org/T10199', 'display_name': 'Wildlife Ecology and Conservation Biology', 'count': 2136, 'subfield': {'id': 'https://openalex.org/subfields/2303', 'display_name': 'Ecology'}, 'field': {'id': 'https://openalex.org/fields/23', 'display_name': 'Environmental Science'}, 'domain': {'id': 'https://openalex.org/domains/3', 'display_name': 'Physical Sciences'}}, {'id': 'https://openalex.org/T10421', 'display_name': 'Human Evolution and Behavioral Modernity', 'count': 1929, 'subfield': {'id': 'https://openalex.org/subfields/3314', 'display_name': 'Anthropology'}, 'field': {'id': 'https://openalex.org/fields/33', 'display_name': 'Social Sciences'}, 'domain': {'id': 'https://openalex.org/domains/2', 'display_name': 'Social Sciences'}}, {'id': 'https://openalex.org/T10001', 'display_name': 'Tectonic and Geochronological Evolution of Orogens', 'count': 1788, 'subfield': {'id': 'https://openalex.org/subfields/1908', 'display_name': 'Geophysics'}, 'field': {'id': 'https://openalex.org/fields/19', 'display_name': 'Earth and Planetary Sciences'}, 'domain': {'id': 'https://openalex.org/domains/3', 'display_name': 'Physical Sciences'}}, {'id': 'https://openalex.org/T10039', 'display_name': 'Stellar Astrophysics and Exoplanet Studies', 'count': 1577, 'subfield': {'id': 'https://openalex.org/subfields/3103', 'display_name': 'Astronomy and Astrophysics'}, 'field': {'id': 'https://openalex.org/fields/31', 'display_name': 'Physics and Astronomy'}, 'domain': {'id': 'https://openalex.org/domains/3', 'display_name': 'Physical Sciences'}}, {'id': 'https://openalex.org/T10192', 'display_name': 'Catalytic Nanomaterials', 'count': 1561, 'subfield': {'id': 'https://openalex.org/subfields/2505', 'display_name': 'Materials Chemistry'}, 'field': {'id': 'https://openalex.org/fields/25', 'display_name': 'Materials Science'}, 'domain': {'id': 'https://openalex.org/domains/3', 'display_name': 'Physical Sciences'}}, {'id': 'https://openalex.org/T10087', 'display_name': 'Radiocarbon Dating and Agricultural Origins', 'count': 1550, 'subfield': {'id': 'https://openalex.org/subfields/1911', 'display_name': 'Paleontology'}, 'field': {'id': 'https://openalex.org/fields/19', 'display_name': 'Earth and Planetary Sciences'}, 'domain': {'id': 'https://openalex.org/domains/3', 'display_name': 'Physical Sciences'}}, {'id': 'https://openalex.org/T10332', 'display_name': 'Global Amphibian Declines and Extinctions', 'count': 1531, 'subfield': {'id': 'https://openalex.org/subfields/2306', 'display_name': 'Global and Planetary Change'}, 'field': {'id': 'https://openalex.org/fields/23', 'display_name': 'Environmental Science'}, 'domain': {'id': 'https://openalex.org/domains/3', 'display_name': 'Physical Sciences'}}, {'id': 'https://openalex.org/T10890', 'display_name': 'Epidemiology and Treatment of Chagas Disease', 'count': 1504, 'subfield': {'id': 'https://openalex.org/subfields/2713', 'display_name': 'Epidemiology'}, 'field': {'id': 'https://openalex.org/fields/27', 'display_name': 'Medicine'}, 'domain': {'id': 'https://openalex.org/domains/4', 'display_name': 'Health Sciences'}}, {'id': 'https://openalex.org/T12493', 'display_name': 'Memory Studies and Social Trauma Analysis', 'count': 1492, 'subfield': {'id': 'https://openalex.org/subfields/3207', 'display_name': 'Social Psychology'}, 'field': {'id': 'https://openalex.org/fields/32', 'display_name': 'Psychology'}, 'domain': {'id': 'https://openalex.org/domains/2', 'display_name': 'Social Sciences'}}, {'id': 'https://openalex.org/T10955', 'display_name': 'Evolutionary History and Diversity of Dinosaurs', 'count': 1464, 'subfield': {'id': 'https://openalex.org/subfields/1911', 'display_name': 'Paleontology'}, 'field': {'id': 'https://openalex.org/fields/19', 'display_name': 'Earth and Planetary Sciences'}, 'domain': {'id': 'https://openalex.org/domains/3', 'display_name': 'Physical Sciences'}}, {'id': 'https://openalex.org/T11641', 'display_name': 'Impact of Pesticides on Honey Bee Health', 'count': 1461, 'subfield': {'id': 'https://openalex.org/subfields/1109', 'display_name': 'Insect Science'}, 'field': {'id': 'https://openalex.org/fields/11', 'display_name': 'Agricultural and Biological Sciences'}, 'domain': {'id': 'https://openalex.org/domains/1', 'display_name': 'Life Sciences'}}, {'id': 'https://openalex.org/T10109', 'display_name': 'Paleoredox and Paleoproductivity Proxies', 'count': 1427, 'subfield': {'id': 'https://openalex.org/subfields/1911', 'display_name': 'Paleontology'}, 'field': {'id': 'https://openalex.org/fields/19', 'display_name': 'Earth and Planetary Sciences'}, 'domain': {'id': 'https://openalex.org/domains/3', 'display_name': 'Physical Sciences'}}, {'id': 'https://openalex.org/T10895', 'display_name': 'Species Distribution Modeling and Climate Change Impacts', 'count': 1410, 'subfield': {'id': 'https://openalex.org/subfields/2302', 'display_name': 'Ecological Modeling'}, 'field': {'id': 'https://openalex.org/fields/23', 'display_name': 'Environmental Science'}, 'domain': {'id': 'https://openalex.org/domains/3', 'display_name': 'Physical Sciences'}}, {'id': 'https://openalex.org/T10048', 'display_name': 'Particle Physics and High-Energy Collider Experiments', 'count': 1372, 'subfield': {'id': 'https://openalex.org/subfields/3106', 'display_name': 'Nuclear and High Energy Physics'}, 'field': {'id': 'https://openalex.org/fields/31', 'display_name': 'Physics and Astronomy'}, 'domain': {'id': 'https://openalex.org/domains/3', 'display_name': 'Physical Sciences'}}, {'id': 'https://openalex.org/T12273', 'display_name': 'Urban Segregation in Latin American Cities', 'count': 1355, 'subfield': {'id': 'https://openalex.org/subfields/3322', 'display_name': 'Urban Studies'}, 'field': {'id': 'https://openalex.org/fields/33', 'display_name': 'Social Sciences'}, 'domain': {'id': 'https://openalex.org/domains/2', 'display_name': 'Social Sciences'}}, {'id': 'https://openalex.org/T10385', 'display_name': 'Evolution and Classification of Flowering Plants', 'count': 1293, 'subfield': {'id': 'https://openalex.org/subfields/1105', 'display_name': 'Ecology, Evolution, Behavior and Systematics'}, 'field': {'id': 'https://openalex.org/fields/11', 'display_name': 'Agricultural and Biological Sciences'}, 'domain': {'id': 'https://openalex.org/domains/1', 'display_name': 'Life Sciences'}}, {'id': 'https://openalex.org/T10141', 'display_name': 'Probiotics and Prebiotics', 'count': 1234, 'subfield': {'id': 'https://openalex.org/subfields/1106', 'display_name': 'Food Science'}, 'field': {'id': 'https://openalex.org/fields/11', 'display_name': 'Agricultural and Biological Sciences'}, 'domain': {'id': 'https://openalex.org/domains/1', 'display_name': 'Life Sciences'}}, {'id': 'https://openalex.org/T12636', 'display_name': 'Rural Territorial Development in Globalization Era', 'count': 1222, 'subfield': {'id': 'https://openalex.org/subfields/3303', 'display_name': 'Development'}, 'field': {'id': 'https://openalex.org/fields/33', 'display_name': 'Social Sciences'}, 'domain': {'id': 'https://openalex.org/domains/2', 'display_name': 'Social Sciences'}}]   \n",
            "\n",
            "                                                                                                                                                                                                                                                                                                                                                                                                                                                                                                                                                                                                                                                                                                                                                                                                                                                                                                                                                                                                                                                                                                                                                                                                                                                                                                                                                                                                                                                                                                                                                                                                                                                                                                                                                                                                                                                                                                                                                                                                                                                                                                                                                                                                                                                                                                                                                                                                                                                                                                                                                                                                                                                                                                                                                                                                                                                                                                                                                                                                                                                                                                                                                                                                                                                                                                                                                                                                                                                                                                                                                                                                                                                                                                                                                                                                                                                                                                                                                                                                                                                                                                                                                                                                                                                                                                                                                                                                                                                                                                                                                                                                                                                                                                                                                                                                                                                                                                                                                                                                                                                                                                                                                                                                                                                                                                                                                                                                                                                                                                                                                                                                                                                                                                                                                                                                                                                                                                                                                                                                                                                                                                                                                                                                                                                                                                                                                                                                                                                                                                                                                                                                                                                                                                                                                                                                                                                                                                                                                                                                                                                                                                                                                                                                                                                                                                                                                                                                                                                                                                                                                                                                                                                                                                                                                                                                                                                                                                                                                                                                                                                                                                                                                                                                                                                                                                                                                                                                                                                                                                                                                                                                                                                                                                                                                                                                                                                                                                                                                                                                                                                                                                                                                                                                                                                                                                                                                                                                                                                                                                                                                                                                                                                                                                                                                                                                                                                                                                                                                                                                                                                                                                                                                                                                                                                                                                                                                                                                          topic_share  \\\n",
            "0  [{'id': 'https://openalex.org/T12036', 'display_name': 'Cultural and Social History of Argentina', 'value': 0.088621, 'subfield': {'id': 'https://openalex.org/subfields/3316', 'display_name': 'Cultural Studies'}, 'field': {'id': 'https://openalex.org/fields/33', 'display_name': 'Social Sciences'}, 'domain': {'id': 'https://openalex.org/domains/2', 'display_name': 'Social Sciences'}}, {'id': 'https://openalex.org/T14284', 'display_name': 'Political Ecology in Latin America and Beyond', 'value': 0.0502141, 'subfield': {'id': 'https://openalex.org/subfields/3320', 'display_name': 'Political Science and International Relations'}, 'field': {'id': 'https://openalex.org/fields/33', 'display_name': 'Social Sciences'}, 'domain': {'id': 'https://openalex.org/domains/2', 'display_name': 'Social Sciences'}}, {'id': 'https://openalex.org/T13864', 'display_name': 'Indigenous Peoples at National Margins in Latin America', 'value': 0.0476105, 'subfield': {'id': 'https://openalex.org/subfields/3314', 'display_name': 'Anthropology'}, 'field': {'id': 'https://openalex.org/fields/33', 'display_name': 'Social Sciences'}, 'domain': {'id': 'https://openalex.org/domains/2', 'display_name': 'Social Sciences'}}, {'id': 'https://openalex.org/T12609', 'display_name': 'Social Movements and Political Change in Latin America', 'value': 0.041049, 'subfield': {'id': 'https://openalex.org/subfields/3312', 'display_name': 'Sociology and Political Science'}, 'field': {'id': 'https://openalex.org/fields/33', 'display_name': 'Social Sciences'}, 'domain': {'id': 'https://openalex.org/domains/2', 'display_name': 'Social Sciences'}}, {'id': 'https://openalex.org/T12493', 'display_name': 'Memory Studies and Social Trauma Analysis', 'value': 0.0296326, 'subfield': {'id': 'https://openalex.org/subfields/3207', 'display_name': 'Social Psychology'}, 'field': {'id': 'https://openalex.org/fields/32', 'display_name': 'Psychology'}, 'domain': {'id': 'https://openalex.org/domains/2', 'display_name': 'Social Sciences'}}, {'id': 'https://openalex.org/T13687', 'display_name': 'Social Inequities and Global Capitalism', 'value': 0.0241087, 'subfield': {'id': 'https://openalex.org/subfields/3312', 'display_name': 'Sociology and Political Science'}, 'field': {'id': 'https://openalex.org/fields/33', 'display_name': 'Social Sciences'}, 'domain': {'id': 'https://openalex.org/domains/2', 'display_name': 'Social Sciences'}}, {'id': 'https://openalex.org/T13390', 'display_name': 'Nutritional and Ecological Aspects of Mauritia Flexuosa', 'value': 0.0231809, 'subfield': {'id': 'https://openalex.org/subfields/1110', 'display_name': 'Plant Science'}, 'field': {'id': 'https://openalex.org/fields/11', 'display_name': 'Agricultural and Biological Sciences'}, 'domain': {'id': 'https://openalex.org/domains/1', 'display_name': 'Life Sciences'}}, {'id': 'https://openalex.org/T13011', 'display_name': 'Sustainability and Agriculture in Latin America', 'value': 0.0213424, 'subfield': {'id': 'https://openalex.org/subfields/1100', 'display_name': 'General Agricultural and Biological Sciences'}, 'field': {'id': 'https://openalex.org/fields/11', 'display_name': 'Agricultural and Biological Sciences'}, 'domain': {'id': 'https://openalex.org/domains/1', 'display_name': 'Life Sciences'}}, {'id': 'https://openalex.org/T14253', 'display_name': 'Social Movements and Cultural Change', 'value': 0.0204474, 'subfield': {'id': 'https://openalex.org/subfields/3312', 'display_name': 'Sociology and Political Science'}, 'field': {'id': 'https://openalex.org/fields/33', 'display_name': 'Social Sciences'}, 'domain': {'id': 'https://openalex.org/domains/2', 'display_name': 'Social Sciences'}}, {'id': 'https://openalex.org/T10955', 'display_name': 'Evolutionary History and Diversity of Dinosaurs', 'value': 0.0185636, 'subfield': {'id': 'https://openalex.org/subfields/1911', 'display_name': 'Paleontology'}, 'field': {'id': 'https://openalex.org/fields/19', 'display_name': 'Earth and Planetary Sciences'}, 'domain': {'id': 'https://openalex.org/domains/3', 'display_name': 'Physical Sciences'}}, {'id': 'https://openalex.org/T11354', 'display_name': 'Evolutionary Dynamics of Mammals and Their Ancestors', 'value': 0.0173975, 'subfield': {'id': 'https://openalex.org/subfields/1911', 'display_name': 'Paleontology'}, 'field': {'id': 'https://openalex.org/fields/19', 'display_name': 'Earth and Planetary Sciences'}, 'domain': {'id': 'https://openalex.org/domains/3', 'display_name': 'Physical Sciences'}}, {'id': 'https://openalex.org/T14439', 'display_name': 'Gender and Social Inequality Studies', 'value': 0.0143563, 'subfield': {'id': 'https://openalex.org/subfields/3318', 'display_name': 'Gender Studies'}, 'field': {'id': 'https://openalex.org/fields/33', 'display_name': 'Social Sciences'}, 'domain': {'id': 'https://openalex.org/domains/2', 'display_name': 'Social Sciences'}}, {'id': 'https://openalex.org/T13503', 'display_name': 'Intersectionality and Social Inequality', 'value': 0.0143468, 'subfield': {'id': 'https://openalex.org/subfields/3312', 'display_name': 'Sociology and Political Science'}, 'field': {'id': 'https://openalex.org/fields/33', 'display_name': 'Social Sciences'}, 'domain': {'id': 'https://openalex.org/domains/2', 'display_name': 'Social Sciences'}}, {'id': 'https://openalex.org/T13302', 'display_name': 'Historical Ecology of Amazonian Landscapes and Cultures', 'value': 0.0137835, 'subfield': {'id': 'https://openalex.org/subfields/1202', 'display_name': 'History'}, 'field': {'id': 'https://openalex.org/fields/12', 'display_name': 'Arts and Humanities'}, 'domain': {'id': 'https://openalex.org/domains/2', 'display_name': 'Social Sciences'}}, {'id': 'https://openalex.org/T13266', 'display_name': 'South American Cultural Studies', 'value': 0.0137139, 'subfield': {'id': 'https://openalex.org/subfields/3316', 'display_name': 'Cultural Studies'}, 'field': {'id': 'https://openalex.org/fields/33', 'display_name': 'Social Sciences'}, 'domain': {'id': 'https://openalex.org/domains/2', 'display_name': 'Social Sciences'}}, {'id': 'https://openalex.org/T10890', 'display_name': 'Epidemiology and Treatment of Chagas Disease', 'value': 0.013424, 'subfield': {'id': 'https://openalex.org/subfields/2713', 'display_name': 'Epidemiology'}, 'field': {'id': 'https://openalex.org/fields/27', 'display_name': 'Medicine'}, 'domain': {'id': 'https://openalex.org/domains/4', 'display_name': 'Health Sciences'}}, {'id': 'https://openalex.org/T12861', 'display_name': 'Challenges of Intercultural Education in Latin America', 'value': 0.0129011, 'subfield': {'id': 'https://openalex.org/subfields/3316', 'display_name': 'Cultural Studies'}, 'field': {'id': 'https://openalex.org/fields/33', 'display_name': 'Social Sciences'}, 'domain': {'id': 'https://openalex.org/domains/2', 'display_name': 'Social Sciences'}}, {'id': 'https://openalex.org/T10421', 'display_name': 'Human Evolution and Behavioral Modernity', 'value': 0.0125072, 'subfield': {'id': 'https://openalex.org/subfields/3314', 'display_name': 'Anthropology'}, 'field': {'id': 'https://openalex.org/fields/33', 'display_name': 'Social Sciences'}, 'domain': {'id': 'https://openalex.org/domains/2', 'display_name': 'Social Sciences'}}, {'id': 'https://openalex.org/T12273', 'display_name': 'Urban Segregation in Latin American Cities', 'value': 0.0121826, 'subfield': {'id': 'https://openalex.org/subfields/3322', 'display_name': 'Urban Studies'}, 'field': {'id': 'https://openalex.org/fields/33', 'display_name': 'Social Sciences'}, 'domain': {'id': 'https://openalex.org/domains/2', 'display_name': 'Social Sciences'}}, {'id': 'https://openalex.org/T12498', 'display_name': 'Coloniality of Power and Knowledge in Latin America', 'value': 0.012168, 'subfield': {'id': 'https://openalex.org/subfields/3314', 'display_name': 'Anthropology'}, 'field': {'id': 'https://openalex.org/fields/33', 'display_name': 'Social Sciences'}, 'domain': {'id': 'https://openalex.org/domains/2', 'display_name': 'Social Sciences'}}, {'id': 'https://openalex.org/T13078', 'display_name': 'Chilean History and Politics under Pinochet's Regime', 'value': 0.0118281, 'subfield': {'id': 'https://openalex.org/subfields/3312', 'display_name': 'Sociology and Political Science'}, 'field': {'id': 'https://openalex.org/fields/33', 'display_name': 'Social Sciences'}, 'domain': {'id': 'https://openalex.org/domains/2', 'display_name': 'Social Sciences'}}, {'id': 'https://openalex.org/T13043', 'display_name': 'Emergence of Youth Cultures and Strategies of Disenchantment', 'value': 0.0105498, 'subfield': {'id': 'https://openalex.org/subfields/3312', 'display_name': 'Sociology and Political Science'}, 'field': {'id': 'https://openalex.org/fields/33', 'display_name': 'Social Sciences'}, 'domain': {'id': 'https://openalex.org/domains/2', 'display_name': 'Social Sciences'}}, {'id': 'https://openalex.org/T10332', 'display_name': 'Global Amphibian Declines and Extinctions', 'value': 0.0102336, 'subfield': {'id': 'https://openalex.org/subfields/2306', 'display_name': 'Global and Planetary Change'}, 'field': {'id': 'https://openalex.org/fields/23', 'display_name': 'Environmental Science'}, 'domain': {'id': 'https://openalex.org/domains/3', 'display_name': 'Physical Sciences'}}, {'id': 'https://openalex.org/T11387', 'display_name': 'Conservation of Sharks and Rays', 'value': 0.010217, 'subfield': {'id': 'https://openalex.org/subfields/2309', 'display_name': 'Nature and Landscape Conservation'}, 'field': {'id': 'https://openalex.org/fields/23', 'display_name': 'Environmental Science'}, 'domain': {'id': 'https://openalex.org/domains/3', 'display_name': 'Physical Sciences'}}, {'id': 'https://openalex.org/T12275', 'display_name': 'Gender Studies and Social Inequality', 'value': 0.0099739, 'subfield': {'id': 'https://openalex.org/subfields/3318', 'display_name': 'Gender Studies'}, 'field': {'id': 'https://openalex.org/fields/33', 'display_name': 'Social Sciences'}, 'domain': {'id': 'https://openalex.org/domains/2', 'display_name': 'Social Sciences'}}]   \n",
            "\n",
            "                                                                                                                                                                                                                                                                                                                                                                                                                                                                                                                                                                                                                                                                                                                                                                                                                                                                                                                                                                                                                                                                                                                                                                                                                                                                                                                                                                                                                                                                                                                                                                                                                                                                                                                                                                                                                                                                                                                                                                                                                                                                                                                                                                                                                                                                                                                                                                                                                                                                                                                                                                                                                                                                  x_concepts  \\\n",
            "0  [{'id': 'https://openalex.org/C86803240', 'wikidata': 'https://www.wikidata.org/wiki/Q420', 'display_name': 'Biology', 'level': 0, 'score': 63.5}, {'id': 'https://openalex.org/C185592680', 'wikidata': 'https://www.wikidata.org/wiki/Q2329', 'display_name': 'Chemistry', 'level': 0, 'score': 47.1}, {'id': 'https://openalex.org/C121332964', 'wikidata': 'https://www.wikidata.org/wiki/Q413', 'display_name': 'Physics', 'level': 0, 'score': 41.7}, {'id': 'https://openalex.org/C71924100', 'wikidata': 'https://www.wikidata.org/wiki/Q11190', 'display_name': 'Medicine', 'level': 0, 'score': 34.0}, {'id': 'https://openalex.org/C55493867', 'wikidata': 'https://www.wikidata.org/wiki/Q7094', 'display_name': 'Biochemistry', 'level': 1, 'score': 32.4}, {'id': 'https://openalex.org/C127313418', 'wikidata': 'https://www.wikidata.org/wiki/Q1069', 'display_name': 'Geology', 'level': 0, 'score': 29.6}, {'id': 'https://openalex.org/C54355233', 'wikidata': 'https://www.wikidata.org/wiki/Q7162', 'display_name': 'Genetics', 'level': 1, 'score': 28.9}, {'id': 'https://openalex.org/C178790620', 'wikidata': 'https://www.wikidata.org/wiki/Q11351', 'display_name': 'Organic chemistry', 'level': 1, 'score': 28.2}, {'id': 'https://openalex.org/C138885662', 'wikidata': 'https://www.wikidata.org/wiki/Q5891', 'display_name': 'Philosophy', 'level': 0, 'score': 28.0}, {'id': 'https://openalex.org/C18903297', 'wikidata': 'https://www.wikidata.org/wiki/Q7150', 'display_name': 'Ecology', 'level': 1, 'score': 26.5}, {'id': 'https://openalex.org/C62520636', 'wikidata': 'https://www.wikidata.org/wiki/Q944', 'display_name': 'Quantum mechanics', 'level': 1, 'score': 25.6}, {'id': 'https://openalex.org/C127413603', 'wikidata': 'https://www.wikidata.org/wiki/Q11023', 'display_name': 'Engineering', 'level': 0, 'score': 25.2}, {'id': 'https://openalex.org/C205649164', 'wikidata': 'https://www.wikidata.org/wiki/Q1071', 'display_name': 'Geography', 'level': 0, 'score': 24.4}, {'id': 'https://openalex.org/C41008148', 'wikidata': 'https://www.wikidata.org/wiki/Q21198', 'display_name': 'Computer science', 'level': 0, 'score': 24.0}, {'id': 'https://openalex.org/C142362112', 'wikidata': 'https://www.wikidata.org/wiki/Q735', 'display_name': 'Art', 'level': 0, 'score': 23.2}, {'id': 'https://openalex.org/C151730666', 'wikidata': 'https://www.wikidata.org/wiki/Q7205', 'display_name': 'Paleontology', 'level': 1, 'score': 22.5}, {'id': 'https://openalex.org/C192562407', 'wikidata': 'https://www.wikidata.org/wiki/Q228736', 'display_name': 'Materials science', 'level': 0, 'score': 20.9}]   \n",
            "\n",
            "   is_super_system  \\\n",
            "0            False   \n",
            "\n",
            "                                                      works_api_url  \\\n",
            "0  https://api.openalex.org/works?filter=institutions.id:I151201029   \n",
            "\n",
            "                 updated_date created_date affiliation_id     ror_id  \n",
            "0  2024-12-01T15:29:09.796980   2016-06-24      151201029  03cqe8w59  \n"
          ]
        }
      ],
      "source": [
        "institutions_df['affiliation_id'] = institutions_df['id'].apply(lambda x: x.split(\"/\")[-1])\n",
        "institutions_df['affiliation_id']=institutions_df['affiliation_id'].apply(lambda x: x.split(\"I\")[-1])\n",
        "\n",
        "institutions_df['ror_id'] = institutions_df['ror'].apply(lambda x: x.split(\"/\")[-1])\n",
        "\n",
        "print(institutions_df.head(1))"
      ]
    },
    {
      "cell_type": "code",
      "source": [
        "institutions_df.columns"
      ],
      "metadata": {
        "id": "fKonaTPZdcjI",
        "colab": {
          "base_uri": "https://localhost:8080/"
        },
        "outputId": "8d85918b-3d97-4084-ce6b-7e1f7a2f4aa0"
      },
      "id": "fKonaTPZdcjI",
      "execution_count": null,
      "outputs": [
        {
          "output_type": "execute_result",
          "data": {
            "text/plain": [
              "Index(['id', 'ror', 'display_name', 'country_code', 'type', 'type_id',\n",
              "       'lineage', 'homepage_url', 'image_url', 'image_thumbnail_url',\n",
              "       'display_name_acronyms', 'display_name_alternatives', 'repositories',\n",
              "       'works_count', 'cited_by_count', 'summary_stats', 'ids', 'geo',\n",
              "       'international', 'associated_institutions', 'counts_by_year', 'roles',\n",
              "       'topics', 'topic_share', 'x_concepts', 'is_super_system',\n",
              "       'works_api_url', 'updated_date', 'created_date', 'affiliation_id',\n",
              "       'ror_id'],\n",
              "      dtype='object')"
            ]
          },
          "metadata": {},
          "execution_count": 15
        }
      ]
    },
    {
      "cell_type": "code",
      "source": [
        "institutions_df=institutions_df[['affiliation_id','display_name','ror_id']]\n",
        "print(institutions_df.head(2))"
      ],
      "metadata": {
        "id": "gLQlAmWGhhd9",
        "colab": {
          "base_uri": "https://localhost:8080/"
        },
        "outputId": "0dd84d1b-5f20-4788-bc46-3120aec98de6"
      },
      "id": "gLQlAmWGhhd9",
      "execution_count": null,
      "outputs": [
        {
          "output_type": "stream",
          "name": "stdout",
          "text": [
            "  affiliation_id                                                display_name  \\\n",
            "0      151201029  Consejo Nacional de Investigaciones Científicas y Técnicas   \n",
            "1       24354313                                  University of Buenos Aires   \n",
            "\n",
            "      ror_id  \n",
            "0  03cqe8w59  \n",
            "1  0081fs513  \n"
          ]
        }
      ]
    },
    {
      "cell_type": "code",
      "execution_count": null,
      "id": "df229664",
      "metadata": {
        "id": "df229664",
        "colab": {
          "base_uri": "https://localhost:8080/"
        },
        "outputId": "79c832f7-1f15-46d3-8c4a-d802cc451b77"
      },
      "outputs": [
        {
          "output_type": "stream",
          "name": "stdout",
          "text": [
            "                          id                 name        types  \\\n",
            "0  https://ror.org/04ttjf776      RMIT University  [Education]   \n",
            "1  https://ror.org/01rxfrp27  La Trobe University  [Education]   \n",
            "\n",
            "                          links  \\\n",
            "0    [https://www.rmit.edu.au/]   \n",
            "1  [http://www.latrobe.edu.au/]   \n",
            "\n",
            "                                                aliases acronyms  status  \\\n",
            "0  [Royal Melbourne Institute of Technology University]   [RMIT]  active   \n",
            "1                                                    []       []  active   \n",
            "\n",
            "                                      wikipedia_url labels email_address  \\\n",
            "0      http://en.wikipedia.org/wiki/RMIT_University     []          None   \n",
            "1  http://en.wikipedia.org/wiki/La_Trobe_University     []          None   \n",
            "\n",
            "  ip_addresses  established  \\\n",
            "0           []       1887.0   \n",
            "1           []       1964.0   \n",
            "\n",
            "                                               country  \\\n",
            "0  {'country_code': 'AU', 'country_name': 'Australia'}   \n",
            "1  {'country_code': 'AU', 'country_name': 'Australia'}   \n",
            "\n",
            "                                                                                                                                                                                                                                                                                                                                                                            relationships  \\\n",
            "0  [{'type': 'Related', 'label': 'Austin Hospital', 'id': 'https://ror.org/010mv7n52'}, {'type': 'Child', 'label': 'ARC Centre of Excellence for Automated Decision-Making and Society', 'id': 'https://ror.org/039p7nx39'}, {'type': 'Child', 'label': 'RMIT Europe', 'id': 'https://ror.org/03m3ca021'}, {'type': 'Child', 'label': 'RMIT Vietnam', 'id': 'https://ror.org/004axh929'}]   \n",
            "1                                                                                                                   [{'type': 'Related', 'label': 'Austin Hospital', 'id': 'https://ror.org/010mv7n52'}, {'type': 'Related', 'label': 'Box Hill Hospital', 'id': 'https://ror.org/0484pjq71'}, {'type': 'Related', 'label': 'Royal Women's Hospital', 'id': 'https://ror.org/03grnna41'}]   \n",
            "\n",
            "                                                                                                                                                                                                                                                                                                                                                                                                                                                                                                                                                                                                                                                                                                                                            addresses  \\\n",
            "0  [{'line': None, 'lat': -37.806748, 'lng': 144.962573, 'postcode': None, 'primary': False, 'city': 'Melbourne', 'state': 'Victoria', 'state_code': 'AU-VIC', 'country_geonames_id': 2077456, 'geonames_city': {'id': 2158177, 'city': 'Melbourne', 'nuts_level1': {'code': None, 'name': None}, 'nuts_level2': {'code': None, 'name': None}, 'nuts_level3': {'code': None, 'name': None}, 'geonames_admin1': {'id': 2145234, 'name': 'Victoria', 'ascii_name': 'Victoria', 'code': 'AU.07'}, 'geonames_admin2': {'id': 7839805, 'name': 'Melbourne', 'ascii_name': 'Melbourne', 'code': 'AU.07.24600'}, 'license': {'attribution': 'Data from geonames.org under a CC-BY 3.0 license', 'license': 'http://creativecommons.org/licenses/by/3.0/'}}}]   \n",
            "1   [{'line': None, 'lat': -37.72179, 'lng': 145.047909, 'postcode': None, 'primary': False, 'city': 'Melbourne', 'state': 'Victoria', 'state_code': 'AU-VIC', 'country_geonames_id': 2077456, 'geonames_city': {'id': 2158177, 'city': 'Melbourne', 'nuts_level1': {'code': None, 'name': None}, 'nuts_level2': {'code': None, 'name': None}, 'nuts_level3': {'code': None, 'name': None}, 'geonames_admin1': {'id': 2145234, 'name': 'Victoria', 'ascii_name': 'Victoria', 'code': 'AU.07'}, 'geonames_admin2': {'id': 7839805, 'name': 'Melbourne', 'ascii_name': 'Melbourne', 'code': 'AU.07.24600'}, 'license': {'attribution': 'Data from geonames.org under a CC-BY 3.0 license', 'license': 'http://creativecommons.org/licenses/by/3.0/'}}}]   \n",
            "\n",
            "                                                                                                                                                                                                                                                                                                                     external_ids  \n",
            "0  {'ISNI': {'preferred': None, 'all': ['0000 0001 2163 3550']}, 'FundRef': {'preferred': '501100001780', 'all': ['501100001780', '100008690', '100010552']}, 'OrgRef': {'preferred': None, 'all': ['509851']}, 'Wikidata': {'preferred': None, 'all': ['Q1057890']}, 'GRID': {'preferred': 'grid.1017.7', 'all': 'grid.1017.7'}}  \n",
            "1                                      {'ISNI': {'preferred': None, 'all': ['0000 0001 2342 0938']}, 'FundRef': {'preferred': None, 'all': ['501100001215']}, 'OrgRef': {'preferred': None, 'all': ['191584']}, 'Wikidata': {'preferred': None, 'all': ['Q1478723']}, 'GRID': {'preferred': 'grid.1018.8', 'all': 'grid.1018.8'}}  \n",
            "Index(['id', 'name', 'types', 'links', 'aliases', 'acronyms', 'status',\n",
            "       'wikipedia_url', 'labels', 'email_address', 'ip_addresses',\n",
            "       'established', 'country', 'relationships', 'addresses', 'external_ids'],\n",
            "      dtype='object')\n"
          ]
        }
      ],
      "source": [
        "##Carga de ror\n",
        "\n",
        "file_path = os.path.join(base_path, 'Crudos/v1.53-2024-10-14-ror-data.json')\n",
        "\n",
        "ror = pd.read_json(file_path)\n",
        "print(ror.head(2))\n",
        "print(ror.columns)"
      ]
    },
    {
      "cell_type": "code",
      "execution_count": null,
      "id": "c9a524c5",
      "metadata": {
        "id": "c9a524c5"
      },
      "outputs": [],
      "source": [
        "ror['address'] = ror['addresses'].apply(lambda x: x[0])\n",
        "ror['ror_id'] = ror['id'].apply(lambda x: x.split(\"/\")[-1])\n",
        "ror['ror_id']=ror['ror_id'].apply(lambda x: x.split(\"I\")[-1])\n",
        "ror['types'] = ror['types'].apply(lambda x: x[0] if len(x)>0 else \"\")"
      ]
    },
    {
      "cell_type": "code",
      "execution_count": null,
      "id": "04edf601",
      "metadata": {
        "id": "04edf601"
      },
      "outputs": [],
      "source": [
        "ror['country_code'] = ror['country'].apply(lambda x: x['country_code'])\n",
        "ror['country_name'] = ror['country'].apply(lambda x: x['country_name'])\n",
        "ror['city'] = ror['address'].apply(lambda x: x['city'])\n",
        "ror['state'] = ror['address'].apply(lambda x: x['state'])\n",
        "ror['region'] = ror['address'].apply(get_geoname_admin)"
      ]
    },
    {
      "cell_type": "code",
      "source": [
        "ror.columns"
      ],
      "metadata": {
        "id": "76SZlQ8meQOS",
        "colab": {
          "base_uri": "https://localhost:8080/"
        },
        "outputId": "252f2b47-f4a5-4548-bc1e-1a0cd8922bb3"
      },
      "id": "76SZlQ8meQOS",
      "execution_count": null,
      "outputs": [
        {
          "output_type": "execute_result",
          "data": {
            "text/plain": [
              "Index(['id', 'name', 'types', 'links', 'aliases', 'acronyms', 'status',\n",
              "       'wikipedia_url', 'labels', 'email_address', 'ip_addresses',\n",
              "       'established', 'country', 'relationships', 'addresses', 'external_ids',\n",
              "       'address', 'ror_id', 'country_code', 'country_name', 'city', 'state',\n",
              "       'region'],\n",
              "      dtype='object')"
            ]
          },
          "metadata": {},
          "execution_count": 20
        }
      ]
    },
    {
      "cell_type": "code",
      "execution_count": null,
      "id": "fced5152",
      "metadata": {
        "id": "fced5152"
      },
      "outputs": [],
      "source": [
        "ror_to_join = ror[['ror_id','name','status','types','aliases','acronyms','labels','city',\n",
        "                   'state','region','country_name']].copy()\n",
        "\n",
        "ror_to_join.columns = ['ror_id','name','status','types','aliases','acronyms','labels','city',\n",
        "                       'temp_state','temp_region','country']"
      ]
    },
    {
      "cell_type": "code",
      "execution_count": null,
      "id": "8926d655",
      "metadata": {
        "id": "8926d655",
        "colab": {
          "base_uri": "https://localhost:8080/"
        },
        "outputId": "d1c8dff6-e861-45bd-ac9c-f428a16d3259"
      },
      "outputs": [
        {
          "output_type": "stream",
          "name": "stdout",
          "text": [
            "      ror_id             name  status      types  \\\n",
            "0  04ttjf776  RMIT University  active  Education   \n",
            "\n",
            "                                                aliases acronyms labels  \\\n",
            "0  [Royal Melbourne Institute of Technology University]   [RMIT]     []   \n",
            "\n",
            "        city temp_state temp_region    country     state  \n",
            "0  Melbourne   Victoria    Victoria  Australia  Victoria  \n"
          ]
        }
      ],
      "source": [
        "ror_to_join['state'] = ror_to_join.apply(lambda x: get_final_region(x.temp_state, x.temp_region), axis=1)\n",
        "print(ror_to_join.head(1))"
      ]
    },
    {
      "cell_type": "code",
      "execution_count": null,
      "id": "577d4153",
      "metadata": {
        "id": "577d4153",
        "colab": {
          "base_uri": "https://localhost:8080/"
        },
        "outputId": "2a4581ef-c39c-47b0-86d6-53df6aa696b9"
      },
      "outputs": [
        {
          "output_type": "execute_result",
          "data": {
            "text/plain": [
              "(331, 14)"
            ]
          },
          "metadata": {},
          "execution_count": 23
        }
      ],
      "source": [
        "inst_ror = ror_to_join.merge(institutions_df[['ror_id','affiliation_id','display_name']],how='inner', on='ror_id')\n",
        "inst_ror.shape"
      ]
    },
    {
      "cell_type": "code",
      "source": [
        "print(inst_ror.head(n=3))"
      ],
      "metadata": {
        "id": "GbiplSWsuizF",
        "colab": {
          "base_uri": "https://localhost:8080/"
        },
        "outputId": "f0998036-4499-455c-a74a-c8937eb08156"
      },
      "id": "GbiplSWsuizF",
      "execution_count": null,
      "outputs": [
        {
          "output_type": "stream",
          "name": "stdout",
          "text": [
            "      ror_id                                 name  status      types aliases  \\\n",
            "0  00pt8r998  National University of the Littoral  active  Education      []   \n",
            "1  00htwgm11         National University of Salta  active  Education      []   \n",
            "2  01yjy8p80         National University of Luján  active  Education      []   \n",
            "\n",
            "  acronyms  \\\n",
            "0    [UNL]   \n",
            "1   [UNSa]   \n",
            "2       []   \n",
            "\n",
            "                                                                                                                           labels  \\\n",
            "0  [{'label': 'Universidad Nacional del Litoral', 'iso639': 'es'}, {'label': 'Université Nationale du Littoral', 'iso639': 'fr'}]   \n",
            "1                                                                    [{'label': 'Universidad Nacional de Salta', 'iso639': 'es'}]   \n",
            "2                                                                    [{'label': 'Universidad Nacional de Luján', 'iso639': 'es'}]   \n",
            "\n",
            "       city temp_state   temp_region    country         state affiliation_id  \\\n",
            "0  Santa Fe       None      Santa Fe  Argentina      Santa Fe     3121987637   \n",
            "1     Salta       None         Salta  Argentina         Salta       10108838   \n",
            "2     Luján       None  Buenos Aires  Argentina  Buenos Aires      168807105   \n",
            "\n",
            "                          display_name  \n",
            "0  National University of the Littoral  \n",
            "1         National University of Salta  \n",
            "2         National University of Luján  \n"
          ]
        }
      ]
    },
    {
      "cell_type": "markdown",
      "id": "f03e628c",
      "metadata": {
        "id": "f03e628c"
      },
      "source": [
        "#### Getting file of multi-institution names"
      ]
    },
    {
      "cell_type": "code",
      "execution_count": null,
      "id": "de54de85",
      "metadata": {
        "id": "de54de85"
      },
      "outputs": [],
      "source": [
        "multi_inst_names_df = ror_to_join[['ror_id','name']].merge(institutions_df[['ror_id','affiliation_id']],\n",
        "                                                        how='left', on='ror_id') \\\n",
        "['name'].value_counts().reset_index()"
      ]
    },
    {
      "cell_type": "code",
      "execution_count": null,
      "id": "ac4cc44d",
      "metadata": {
        "id": "ac4cc44d",
        "colab": {
          "base_uri": "https://localhost:8080/"
        },
        "outputId": "8e884598-f5cc-47e0-bcd7-5e0f35ce3479"
      },
      "outputs": [
        {
          "output_type": "stream",
          "name": "stdout",
          "text": [
            "                                                           name  count\n",
            "0                                            Ministry of Health     53\n",
            "1                                         Ministry of Education     23\n",
            "2                                             Argosy University     19\n",
            "3                                           Ministry of Justice     16\n",
            "4                                   Ministry of Foreign Affairs     16\n",
            "5                                           Ministry of Culture     13\n",
            "6                                    Government Medical College     13\n",
            "7                                           St. Luke's Hospital     12\n",
            "8               International Institute of Tropical Agriculture     11\n",
            "9                                           Ministry of Finance     11\n",
            "10                                     Médecins Sans Frontières     10\n",
            "11                                           St Mary's Hospital     10\n",
            "12                                          Ministry of Defence     10\n",
            "13                                      Ministry of Agriculture     10\n",
            "14                                         Arab Open University      8\n",
            "15                  Institut de Recherche pour le Développement      8\n",
            "16                              Stockholm Environment Institute      8\n",
            "17  National Institute of Pharmaceutical Education and Research      7\n",
            "18                                         Institute of Physics      7\n",
            "19                                     Queen Elizabeth Hospital      7\n",
            "20                                     Ministry of the Interior      7\n",
            "21                Facultad Latinoamericana de Ciencias Sociales      7\n",
            "22                                        Texas Tech University      7\n",
            "23                                    Ministry of Public Health      7\n",
            "24                          National Institute of Public Health      7\n"
          ]
        }
      ],
      "source": [
        "print(multi_inst_names_df.head(25))"
      ]
    },
    {
      "cell_type": "code",
      "execution_count": null,
      "id": "6a8ed7bd",
      "metadata": {
        "id": "6a8ed7bd"
      },
      "outputs": [],
      "source": [
        "multi_inst_names = multi_inst_names_df[multi_inst_names_df['count']>1]\n",
        "multi_inst_names\n",
        "multi_inst_names=multi_inst_names['name'].tolist()\n",
        "#multi_inst_names"
      ]
    },
    {
      "cell_type": "code",
      "execution_count": null,
      "id": "a4b26562",
      "metadata": {
        "id": "a4b26562"
      },
      "outputs": [],
      "source": [
        "## paso a entero a los ids antes de pasarlo a lista\n",
        "multi_inst_names_ids = inst_ror[inst_ror['name'].isin(multi_inst_names)]['affiliation_id'].astype(int).tolist()"
      ]
    },
    {
      "cell_type": "code",
      "execution_count": null,
      "id": "cb8a31d6",
      "metadata": {
        "id": "cb8a31d6"
      },
      "outputs": [],
      "source": [
        "with open(f\"{curr_model_artifacts_location}multi_inst_names_ids1.pkl\", \"wb\") as f:\n",
        "    pickle.dump(multi_inst_names_ids, f)"
      ]
    },
    {
      "cell_type": "code",
      "source": [
        "multi_inst_names_ids"
      ],
      "metadata": {
        "id": "Ilayr3oCXDSs",
        "colab": {
          "base_uri": "https://localhost:8080/"
        },
        "outputId": "c7c1683e-6b57-4515-da6e-0b75ac29dd15"
      },
      "id": "Ilayr3oCXDSs",
      "execution_count": null,
      "outputs": [
        {
          "output_type": "execute_result",
          "data": {
            "text/plain": [
              "[4210139084,\n",
              " 4210110275,\n",
              " 4210098121,\n",
              " 1333839041,\n",
              " 4210158077,\n",
              " 4210123859,\n",
              " 4210123736]"
            ]
          },
          "metadata": {},
          "execution_count": 30
        }
      ]
    },
    {
      "cell_type": "markdown",
      "id": "514951ad",
      "metadata": {
        "id": "514951ad"
      },
      "source": [
        "### Getting Mapping of Inactive Institutions"
      ]
    },
    {
      "cell_type": "markdown",
      "id": "a8eaf926",
      "metadata": {
        "id": "a8eaf926"
      },
      "source": [
        "There are institutions in ROR that are listed as \"Withdrawn\" or \"Inactive\". There was some thought to use the old data associated with these ROR IDs and apply them to successors but for this model, we decided to hold off on doing this because we were unsure if there would be a benefit to doing so. Therefore, the code is provided but this data was not used in building the model."
      ]
    },
    {
      "cell_type": "code",
      "execution_count": null,
      "id": "01e97850",
      "metadata": {
        "id": "01e97850"
      },
      "outputs": [],
      "source": [
        "def get_successors_from_relationships(relationships):\n",
        "    successors = []\n",
        "    parents = []\n",
        "    for relationship in relationships:\n",
        "        if relationship['type'] == 'Successor':\n",
        "            successors.append(relationship['id'].split(\"/\")[-1])\n",
        "        elif relationship['type'] == 'Parent':\n",
        "            parents.append(relationship['id'].split(\"/\")[-1])\n",
        "        else:\n",
        "            pass\n",
        "    return [successors, parents]"
      ]
    },
    {
      "cell_type": "code",
      "execution_count": null,
      "id": "cead5a33",
      "metadata": {
        "id": "cead5a33"
      },
      "outputs": [],
      "source": [
        "def get_extra_names(ror_id):\n",
        "    if ror_id in successor_dict.keys():\n",
        "        extra_names = []\n",
        "        for old_id in successor_dict[ror_id]['ror_id']:\n",
        "            extra_names += old_name_data[old_id]['successor_names']\n",
        "\n",
        "        extra_names = list(set(extra_names))\n",
        "    else:\n",
        "        extra_names = []\n",
        "\n",
        "    return extra_names"
      ]
    },
    {
      "cell_type": "code",
      "execution_count": null,
      "id": "ca19566a",
      "metadata": {
        "id": "ca19566a",
        "colab": {
          "base_uri": "https://localhost:8080/"
        },
        "outputId": "6a20e657-b4a0-4326-b338-9c6db9666f25"
      },
      "outputs": [
        {
          "output_type": "execute_result",
          "data": {
            "text/plain": [
              "(1973, 23)"
            ]
          },
          "metadata": {},
          "execution_count": 33
        }
      ],
      "source": [
        "withdrawn_or_inactive_df = ror[ror['status'].isin(['withdrawn','inactive'])].copy()\n",
        "withdrawn_or_inactive_df.shape"
      ]
    },
    {
      "cell_type": "code",
      "execution_count": null,
      "id": "bdadfc74",
      "metadata": {
        "id": "bdadfc74",
        "colab": {
          "base_uri": "https://localhost:8080/",
          "height": 572
        },
        "outputId": "fc9daf78-5cd5-470c-8ca8-3b31f1d74e73"
      },
      "outputs": [
        {
          "output_type": "error",
          "ename": "KeyError",
          "evalue": "'successors_parents'",
          "traceback": [
            "\u001b[0;31m---------------------------------------------------------------------------\u001b[0m",
            "\u001b[0;31mKeyError\u001b[0m                                  Traceback (most recent call last)",
            "\u001b[0;32m/usr/local/lib/python3.10/dist-packages/pandas/core/indexes/base.py\u001b[0m in \u001b[0;36mget_loc\u001b[0;34m(self, key)\u001b[0m\n\u001b[1;32m   3804\u001b[0m         \u001b[0;32mtry\u001b[0m\u001b[0;34m:\u001b[0m\u001b[0;34m\u001b[0m\u001b[0;34m\u001b[0m\u001b[0m\n\u001b[0;32m-> 3805\u001b[0;31m             \u001b[0;32mreturn\u001b[0m \u001b[0mself\u001b[0m\u001b[0;34m.\u001b[0m\u001b[0m_engine\u001b[0m\u001b[0;34m.\u001b[0m\u001b[0mget_loc\u001b[0m\u001b[0;34m(\u001b[0m\u001b[0mcasted_key\u001b[0m\u001b[0;34m)\u001b[0m\u001b[0;34m\u001b[0m\u001b[0;34m\u001b[0m\u001b[0m\n\u001b[0m\u001b[1;32m   3806\u001b[0m         \u001b[0;32mexcept\u001b[0m \u001b[0mKeyError\u001b[0m \u001b[0;32mas\u001b[0m \u001b[0merr\u001b[0m\u001b[0;34m:\u001b[0m\u001b[0;34m\u001b[0m\u001b[0;34m\u001b[0m\u001b[0m\n",
            "\u001b[0;32mindex.pyx\u001b[0m in \u001b[0;36mpandas._libs.index.IndexEngine.get_loc\u001b[0;34m()\u001b[0m\n",
            "\u001b[0;32mindex.pyx\u001b[0m in \u001b[0;36mpandas._libs.index.IndexEngine.get_loc\u001b[0;34m()\u001b[0m\n",
            "\u001b[0;32mpandas/_libs/hashtable_class_helper.pxi\u001b[0m in \u001b[0;36mpandas._libs.hashtable.PyObjectHashTable.get_item\u001b[0;34m()\u001b[0m\n",
            "\u001b[0;32mpandas/_libs/hashtable_class_helper.pxi\u001b[0m in \u001b[0;36mpandas._libs.hashtable.PyObjectHashTable.get_item\u001b[0;34m()\u001b[0m\n",
            "\u001b[0;31mKeyError\u001b[0m: 'successors_parents'",
            "\nThe above exception was the direct cause of the following exception:\n",
            "\u001b[0;31mKeyError\u001b[0m                                  Traceback (most recent call last)",
            "\u001b[0;32m<ipython-input-34-a1188fd11581>\u001b[0m in \u001b[0;36m<cell line: 1>\u001b[0;34m()\u001b[0m\n\u001b[0;32m----> 1\u001b[0;31m \u001b[0mwithdrawn_or_inactive_df\u001b[0m\u001b[0;34m[\u001b[0m\u001b[0;34m'successors'\u001b[0m\u001b[0;34m]\u001b[0m \u001b[0;34m=\u001b[0m \u001b[0mwithdrawn_or_inactive_df\u001b[0m\u001b[0;34m[\u001b[0m\u001b[0;34m'successors_parents'\u001b[0m\u001b[0;34m]\u001b[0m\u001b[0;34m.\u001b[0m\u001b[0mapply\u001b[0m\u001b[0;34m(\u001b[0m\u001b[0;32mlambda\u001b[0m \u001b[0mx\u001b[0m\u001b[0;34m:\u001b[0m \u001b[0mx\u001b[0m\u001b[0;34m[\u001b[0m\u001b[0;36m0\u001b[0m\u001b[0;34m]\u001b[0m\u001b[0;34m)\u001b[0m\u001b[0;34m\u001b[0m\u001b[0;34m\u001b[0m\u001b[0m\n\u001b[0m\u001b[1;32m      2\u001b[0m \u001b[0mwithdrawn_or_inactive_df\u001b[0m\u001b[0;34m[\u001b[0m\u001b[0;34m'parents'\u001b[0m\u001b[0;34m]\u001b[0m \u001b[0;34m=\u001b[0m \u001b[0mwithdrawn_or_inactive_df\u001b[0m\u001b[0;34m[\u001b[0m\u001b[0;34m'successors_parents'\u001b[0m\u001b[0;34m]\u001b[0m\u001b[0;34m.\u001b[0m\u001b[0mapply\u001b[0m\u001b[0;34m(\u001b[0m\u001b[0;32mlambda\u001b[0m \u001b[0mx\u001b[0m\u001b[0;34m:\u001b[0m \u001b[0mx\u001b[0m\u001b[0;34m[\u001b[0m\u001b[0;36m1\u001b[0m\u001b[0;34m]\u001b[0m\u001b[0;34m)\u001b[0m\u001b[0;34m\u001b[0m\u001b[0;34m\u001b[0m\u001b[0m\n",
            "\u001b[0;32m/usr/local/lib/python3.10/dist-packages/pandas/core/frame.py\u001b[0m in \u001b[0;36m__getitem__\u001b[0;34m(self, key)\u001b[0m\n\u001b[1;32m   4100\u001b[0m             \u001b[0;32mif\u001b[0m \u001b[0mself\u001b[0m\u001b[0;34m.\u001b[0m\u001b[0mcolumns\u001b[0m\u001b[0;34m.\u001b[0m\u001b[0mnlevels\u001b[0m \u001b[0;34m>\u001b[0m \u001b[0;36m1\u001b[0m\u001b[0;34m:\u001b[0m\u001b[0;34m\u001b[0m\u001b[0;34m\u001b[0m\u001b[0m\n\u001b[1;32m   4101\u001b[0m                 \u001b[0;32mreturn\u001b[0m \u001b[0mself\u001b[0m\u001b[0;34m.\u001b[0m\u001b[0m_getitem_multilevel\u001b[0m\u001b[0;34m(\u001b[0m\u001b[0mkey\u001b[0m\u001b[0;34m)\u001b[0m\u001b[0;34m\u001b[0m\u001b[0;34m\u001b[0m\u001b[0m\n\u001b[0;32m-> 4102\u001b[0;31m             \u001b[0mindexer\u001b[0m \u001b[0;34m=\u001b[0m \u001b[0mself\u001b[0m\u001b[0;34m.\u001b[0m\u001b[0mcolumns\u001b[0m\u001b[0;34m.\u001b[0m\u001b[0mget_loc\u001b[0m\u001b[0;34m(\u001b[0m\u001b[0mkey\u001b[0m\u001b[0;34m)\u001b[0m\u001b[0;34m\u001b[0m\u001b[0;34m\u001b[0m\u001b[0m\n\u001b[0m\u001b[1;32m   4103\u001b[0m             \u001b[0;32mif\u001b[0m \u001b[0mis_integer\u001b[0m\u001b[0;34m(\u001b[0m\u001b[0mindexer\u001b[0m\u001b[0;34m)\u001b[0m\u001b[0;34m:\u001b[0m\u001b[0;34m\u001b[0m\u001b[0;34m\u001b[0m\u001b[0m\n\u001b[1;32m   4104\u001b[0m                 \u001b[0mindexer\u001b[0m \u001b[0;34m=\u001b[0m \u001b[0;34m[\u001b[0m\u001b[0mindexer\u001b[0m\u001b[0;34m]\u001b[0m\u001b[0;34m\u001b[0m\u001b[0;34m\u001b[0m\u001b[0m\n",
            "\u001b[0;32m/usr/local/lib/python3.10/dist-packages/pandas/core/indexes/base.py\u001b[0m in \u001b[0;36mget_loc\u001b[0;34m(self, key)\u001b[0m\n\u001b[1;32m   3810\u001b[0m             ):\n\u001b[1;32m   3811\u001b[0m                 \u001b[0;32mraise\u001b[0m \u001b[0mInvalidIndexError\u001b[0m\u001b[0;34m(\u001b[0m\u001b[0mkey\u001b[0m\u001b[0;34m)\u001b[0m\u001b[0;34m\u001b[0m\u001b[0;34m\u001b[0m\u001b[0m\n\u001b[0;32m-> 3812\u001b[0;31m             \u001b[0;32mraise\u001b[0m \u001b[0mKeyError\u001b[0m\u001b[0;34m(\u001b[0m\u001b[0mkey\u001b[0m\u001b[0;34m)\u001b[0m \u001b[0;32mfrom\u001b[0m \u001b[0merr\u001b[0m\u001b[0;34m\u001b[0m\u001b[0;34m\u001b[0m\u001b[0m\n\u001b[0m\u001b[1;32m   3813\u001b[0m         \u001b[0;32mexcept\u001b[0m \u001b[0mTypeError\u001b[0m\u001b[0;34m:\u001b[0m\u001b[0;34m\u001b[0m\u001b[0;34m\u001b[0m\u001b[0m\n\u001b[1;32m   3814\u001b[0m             \u001b[0;31m# If we have a listlike key, _check_indexing_error will raise\u001b[0m\u001b[0;34m\u001b[0m\u001b[0;34m\u001b[0m\u001b[0m\n",
            "\u001b[0;31mKeyError\u001b[0m: 'successors_parents'"
          ]
        }
      ],
      "source": [
        "withdrawn_or_inactive_df['successors'] = withdrawn_or_inactive_df['successors_parents'].apply(lambda x: x[0])\n",
        "withdrawn_or_inactive_df['parents'] = withdrawn_or_inactive_df['successors_parents'].apply(lambda x: x[1])"
      ]
    },
    {
      "cell_type": "code",
      "execution_count": null,
      "id": "46623b5c",
      "metadata": {
        "id": "46623b5c"
      },
      "outputs": [],
      "source": [
        "withdrawn_or_inactive_df['successor_len'] = withdrawn_or_inactive_df['successors'].apply(len)"
      ]
    },
    {
      "cell_type": "code",
      "execution_count": null,
      "id": "c59d7901",
      "metadata": {
        "id": "c59d7901"
      },
      "outputs": [],
      "source": [
        "to_add_to_successors = withdrawn_or_inactive_df[withdrawn_or_inactive_df['successor_len']==1].copy()\n",
        "to_add_to_successors['successor'] = to_add_to_successors['successors'].apply(lambda x: x[0])\n",
        "to_add_to_successors.shape"
      ]
    },
    {
      "cell_type": "code",
      "execution_count": null,
      "id": "192b8697",
      "metadata": {
        "id": "192b8697"
      },
      "outputs": [],
      "source": [
        "to_add_to_successors['successor_names'] = to_add_to_successors.apply(lambda x: get_exact_names(x['name'],\n",
        "                                                                                               x.aliases,\n",
        "                                                                                               x.acronyms,\n",
        "                                                                                               x.labels),\n",
        "                                                                     axis=1)"
      ]
    },
    {
      "cell_type": "code",
      "execution_count": null,
      "id": "a084702a",
      "metadata": {
        "id": "a084702a"
      },
      "outputs": [],
      "source": [
        "old_name_data = to_add_to_successors.set_index('ror_id')[['successor_names']].to_dict(orient='index')"
      ]
    },
    {
      "cell_type": "code",
      "execution_count": null,
      "id": "37934f5f",
      "metadata": {
        "id": "37934f5f"
      },
      "outputs": [],
      "source": [
        "successor_dict = to_add_to_successors.groupby('successor')['ror_id'].apply(list).reset_index()\\\n",
        "    .set_index('successor').to_dict(orient='index')"
      ]
    },
    {
      "cell_type": "code",
      "source": [
        "## para agregar columna \"parent\" al ror\n",
        "ror['successors_parents'] = ror['relationships'].apply(get_successors_from_relationships)\n",
        "ror['parents'] = ror['successors_parents'].apply(lambda x: x[1])\n",
        "\n",
        "# Convert 'parents' column to string before creating DataFrame\n",
        "# ----> Convert list to string by joining with a delimiter (e.g., ',')\n",
        "relationships = pd.DataFrame(ror['parents'].apply(lambda x: ','.join(x) if isinstance(x, list) else x))\n",
        "print(relationships)\n",
        "print(relationships.shape)\n",
        "\n",
        "ror_corto = pd.DataFrame(ror[['id', 'name']])\n",
        "ror_corto['id'] = ror_corto['id'].apply(lambda x: x.split(\"/\")[-1])\n",
        "\n",
        "# Ensure 'id' column in ror_corto is also of string type if it contains lists\n",
        "ror_corto['id'] = ror_corto['id'].astype(str)\n",
        "\n",
        "# Merge using the string representation of 'parents'\n",
        "ror['parent_str']=relationships.merge(ror_corto, left_on=\"parents\", right_on=\"id\",how='left')['name']\n",
        "ror.head(5)\n",
        "\n",
        "inst_ror['parent_str']=ror['parent_str']\n",
        "\n",
        "inst_ror['parent_str']=inst_ror['parent_str'].fillna('')\n",
        "print(inst_ror.head(3))"
      ],
      "metadata": {
        "id": "fsq9KvQOYRor"
      },
      "id": "fsq9KvQOYRor",
      "execution_count": null,
      "outputs": []
    },
    {
      "cell_type": "markdown",
      "id": "45abfc2c",
      "metadata": {
        "id": "45abfc2c"
      },
      "source": [
        "### Getting ROR String Matching File and Affiliation Dictionary"
      ]
    },
    {
      "cell_type": "code",
      "execution_count": null,
      "id": "3564dce5",
      "metadata": {
        "id": "3564dce5"
      },
      "outputs": [],
      "source": [
        "inst_ror['extra_names'] = inst_ror['ror_id'].apply(get_extra_names)\n",
        "inst_ror['extra_names']\n"
      ]
    },
    {
      "cell_type": "code",
      "execution_count": null,
      "id": "d7dbd006-7fb0-42f2-9b81-1f2c28855861",
      "metadata": {
        "id": "d7dbd006-7fb0-42f2-9b81-1f2c28855861"
      },
      "outputs": [],
      "source": []
    },
    {
      "cell_type": "code",
      "source": [
        "inst_ror['name_cparent']=inst_ror['name'].astype(str)+\" \"+inst_ror['parent_str'].astype(str)\n",
        "inst_ror['name','name_cparent'].head(15)"
      ],
      "metadata": {
        "id": "R8HnwfCjYsE8"
      },
      "id": "R8HnwfCjYsE8",
      "execution_count": null,
      "outputs": []
    },
    {
      "cell_type": "code",
      "execution_count": null,
      "id": "99749672",
      "metadata": {
        "id": "99749672"
      },
      "outputs": [],
      "source": [
        "inst_ror['exact_names'] = (inst_ror.apply(lambda x: get_exact_names(x['name_cparent'], x.aliases,###cambie name por name_cparent\n",
        "                                                                         x.acronyms, x.labels), axis=1))\n",
        "\n",
        "##cómo se arma exact names?\n",
        "inst_ror.apply(lambda x: get_exact_names(x['name'], x.aliases,x.acronyms, x.labels), axis=1)"
      ]
    },
    {
      "cell_type": "code",
      "execution_count": null,
      "id": "4b3f3465",
      "metadata": {
        "id": "4b3f3465"
      },
      "outputs": [],
      "source": [
        "inst_ror['final_names'] = inst_ror.apply(lambda x: list_of_all_names(x.display_name, x.exact_names,\n",
        "                                                                     x.extra_names,\n",
        "                                                                     use_extra_names=False), axis=1)\n",
        "##cómo se arma final_names\n",
        "inst_ror.apply(lambda x: list_of_all_names(x.display_name, x.exact_names,\n",
        "                                                                     x.extra_names,\n",
        "                                                                     use_extra_names=False), axis=1)"
      ]
    },
    {
      "cell_type": "code",
      "source": [
        "## lo paso a entero antes de hacerlo indice\n",
        "inst_ror['affiliation_id']=inst_ror['affiliation_id'].astype(int)"
      ],
      "metadata": {
        "id": "R8FiajM-YQsH"
      },
      "id": "R8FiajM-YQsH",
      "execution_count": null,
      "outputs": []
    },
    {
      "cell_type": "code",
      "execution_count": null,
      "id": "b3d11044",
      "metadata": {
        "id": "b3d11044"
      },
      "outputs": [],
      "source": [
        "new_affiliation_dict = inst_ror.set_index('affiliation_id')[['display_name','city','state',\n",
        "                                                             'country','final_names','ror_id','types']] \\\n",
        ".to_dict(orient='index')"
      ]
    },
    {
      "cell_type": "code",
      "source": [
        "new_affiliation_dict"
      ],
      "metadata": {
        "id": "B_Gg0uEWeAlR"
      },
      "id": "B_Gg0uEWeAlR",
      "execution_count": null,
      "outputs": []
    },
    {
      "cell_type": "code",
      "execution_count": null,
      "id": "51455a6c",
      "metadata": {
        "id": "51455a6c"
      },
      "outputs": [],
      "source": [
        "with open(f\"{curr_model_artifacts_location}full_affiliation_dict1.pkl\", \"wb\") as f:\n",
        "    pickle.dump(new_affiliation_dict, f)"
      ]
    },
    {
      "cell_type": "code",
      "execution_count": null,
      "id": "116d227f",
      "metadata": {
        "id": "116d227f"
      },
      "outputs": [],
      "source": [
        "new_affiliation_dict"
      ]
    },
    {
      "cell_type": "markdown",
      "id": "14ab1cb0",
      "metadata": {
        "id": "14ab1cb0"
      },
      "source": [
        "### Updating the city/country file"
      ]
    },
    {
      "cell_type": "markdown",
      "id": "cc50efa2",
      "metadata": {
        "id": "cc50efa2"
      },
      "source": [
        "This file is used to check the affiliation string to make sure it doesn't exactly match up with a city/region/country combo with no additional information."
      ]
    },
    {
      "cell_type": "code",
      "execution_count": null,
      "id": "9828eab8",
      "metadata": {
        "id": "9828eab8"
      },
      "outputs": [],
      "source": [
        "city_region_country = inst_ror.drop_duplicates(subset=['city','country']).copy()\n",
        "city_region_country.shape"
      ]
    },
    {
      "cell_type": "code",
      "execution_count": null,
      "id": "2bcdc598",
      "metadata": {
        "id": "2bcdc598"
      },
      "outputs": [],
      "source": [
        "new_city_country_list = list(set([f\"{i}{j}\" for i,j in zip(city_region_country['city'].tolist(),\n",
        "                                   city_region_country['country'].tolist())] +\n",
        "         [f\"{i}{j}{k}\"for i,j,k in zip(city_region_country['city'].tolist(),\n",
        "                                             city_region_country['state'].tolist(),\n",
        "                                             city_region_country['country'].tolist()) if j ] +\n",
        "         [f\"{i}{j}\" for i,j in zip(city_region_country['state'].tolist(),\n",
        "                                   city_region_country['country'].tolist()) if i] +\n",
        "         [f\"{i}\" for i in city_region_country['country'].tolist()] +\n",
        "         [f\"{i}\" for i in city_region_country['state'].tolist() if i]))\n",
        "\n",
        "new_city_country_list = list(set([string_match_clean(x) for x in new_city_country_list]))"
      ]
    },
    {
      "cell_type": "code",
      "execution_count": null,
      "id": "2f5b3da4",
      "metadata": {
        "id": "2f5b3da4"
      },
      "outputs": [],
      "source": [
        "len(new_city_country_list)"
      ]
    },
    {
      "cell_type": "code",
      "execution_count": null,
      "id": "993877b2",
      "metadata": {
        "id": "993877b2"
      },
      "outputs": [],
      "source": [
        "with open(f\"{curr_model_artifacts_location}city_country_list1.pkl\", \"wb\") as f:\n",
        "    pickle.dump(new_city_country_list, f)"
      ]
    },
    {
      "cell_type": "markdown",
      "id": "09c98435",
      "metadata": {
        "id": "09c98435"
      },
      "source": [
        "### Flat country file is up to date"
      ]
    },
    {
      "cell_type": "markdown",
      "id": "a16d04e3",
      "metadata": {
        "id": "a16d04e3"
      },
      "source": [
        "Flat country file is needed to search for country in the string for the model."
      ]
    },
    {
      "cell_type": "code",
      "execution_count": null,
      "id": "3cc540d0",
      "metadata": {
        "id": "3cc540d0"
      },
      "outputs": [],
      "source": [
        "len(list(set(countries_list_flat)))"
      ]
    },
    {
      "cell_type": "code",
      "execution_count": null,
      "id": "44847d44",
      "metadata": {
        "id": "44847d44"
      },
      "outputs": [],
      "source": [
        "all_countries = []\n",
        "for i in countries_dict.values():\n",
        "    all_countries += i"
      ]
    },
    {
      "cell_type": "code",
      "execution_count": null,
      "id": "2189b26b",
      "metadata": {
        "id": "2189b26b"
      },
      "outputs": [],
      "source": [
        "len(list(set(all_countries)))"
      ]
    },
    {
      "cell_type": "code",
      "execution_count": null,
      "id": "f5c0501f",
      "metadata": {
        "id": "f5c0501f"
      },
      "outputs": [],
      "source": [
        "with open(f\"{curr_model_artifacts_location}countries_list_flat1.pkl\", \"wb\") as f:\n",
        "    pickle.dump(list(set(all_countries)), f)"
      ]
    },
    {
      "cell_type": "markdown",
      "id": "979a7409",
      "metadata": {
        "id": "979a7409"
      },
      "source": [
        "### Departments list update"
      ]
    },
    {
      "cell_type": "markdown",
      "id": "c6eb8b28",
      "metadata": {
        "id": "c6eb8b28"
      },
      "source": [
        "Takes the old department list and updates it with additional department names."
      ]
    },
    {
      "cell_type": "code",
      "execution_count": null,
      "id": "05aeff8e",
      "metadata": {
        "id": "05aeff8e"
      },
      "outputs": [],
      "source": [
        "file_path = os.path.join(base_path, 'V2/001_Exploration/ror_string_beginnings/Education_dept')\n",
        "with open(file_path, 'r') as f:\n",
        "    education_dept_begs = f.readlines()\n",
        "\n",
        "education_dept_begs = list(set([x.rstrip('\\n') for x in education_dept_begs]))"
      ]
    },
    {
      "cell_type": "code",
      "execution_count": null,
      "id": "69dccd71",
      "metadata": {
        "id": "69dccd71"
      },
      "outputs": [],
      "source": [
        "departments_list = ['Psychology','Nephrology','Other departments','Other Departments','Nursing & Midwifery',\n",
        "                    'Literature and Creative Writing','Neuroscience','Engineering','Computer Science',\n",
        "                    'Chemistry','Biology','Medicine']"
      ]
    },
    {
      "cell_type": "code",
      "execution_count": null,
      "id": "7a9fbb2a",
      "metadata": {
        "id": "7a9fbb2a"
      },
      "outputs": [],
      "source": [
        "new_departments_list = list(set(departments_list + education_dept_begs))"
      ]
    },
    {
      "cell_type": "code",
      "execution_count": null,
      "id": "d918c68b",
      "metadata": {
        "id": "d918c68b"
      },
      "outputs": [],
      "source": [
        "with open(f\"{curr_model_artifacts_location}departments_list1.pkl\", \"wb\") as f:\n",
        "    pickle.dump(new_departments_list, f)"
      ]
    },
    {
      "cell_type": "code",
      "execution_count": null,
      "id": "b1331282",
      "metadata": {
        "id": "b1331282"
      },
      "outputs": [],
      "source": []
    },
    {
      "cell_type": "markdown",
      "id": "e0d69a31",
      "metadata": {
        "id": "e0d69a31"
      },
      "source": [
        "### Make affiliation IDs integers"
      ]
    },
    {
      "cell_type": "code",
      "execution_count": null,
      "id": "dc442f94",
      "metadata": {
        "id": "dc442f94"
      },
      "outputs": [],
      "source": [
        "with open(f\"{curr_model_artifacts_location}affiliation_vocab.pkl\", \"rb\") as f:\n",
        "    affiliation_vocab_basic = pickle.load(f)\n",
        "\n",
        "print(affiliation_vocab_basic)\n",
        "print(\"Loaded affiliation vocab basic\")\n",
        "\n",
        "\n",
        "new_affiliation_vocab_basic = {int(i):int(j) for j,i in affiliation_vocab_basic.items()}\n",
        "print(new_affiliation_vocab_basic)\n",
        "print(\"New vocab basic\")\n"
      ]
    },
    {
      "cell_type": "code",
      "execution_count": null,
      "id": "cc4147d2",
      "metadata": {
        "id": "cc4147d2"
      },
      "outputs": [],
      "source": [
        "with open(f\"{curr_model_artifacts_location}new_affiliation_vocab1.pkl\", \"wb\") as f:\n",
        "    pickle.dump(new_affiliation_vocab_basic, f)"
      ]
    },
    {
      "cell_type": "code",
      "execution_count": null,
      "id": "12735c2b",
      "metadata": {
        "id": "12735c2b"
      },
      "outputs": [],
      "source": [
        "print(new_affiliation_vocab_basic)"
      ]
    },
    {
      "cell_type": "code",
      "source": [
        "##comentar siguiente línea en script\n",
        "###!colab-convert /content/drive/MyDrive/openalex-institution-parsing/V2/001_Exploration/Notebooks/002_Making_Model_Files_Fer.ipynb /content/drive/MyDrive/openalex-institution-parsing/V2/001_Exploration/Notebooks/002_Making_Model_Files_Fer.py"
      ],
      "metadata": {
        "id": "PZpKYoe2TCtJ"
      },
      "id": "PZpKYoe2TCtJ",
      "execution_count": null,
      "outputs": []
    }
  ],
  "metadata": {
    "kernelspec": {
      "display_name": "Python 3 (ipykernel)",
      "language": "python",
      "name": "python3"
    },
    "language_info": {
      "codemirror_mode": {
        "name": "ipython",
        "version": 3
      },
      "file_extension": ".py",
      "mimetype": "text/x-python",
      "name": "python",
      "nbconvert_exporter": "python",
      "pygments_lexer": "ipython3",
      "version": "3.12.4"
    },
    "colab": {
      "provenance": [],
      "include_colab_link": true
    }
  },
  "nbformat": 4,
  "nbformat_minor": 5
}